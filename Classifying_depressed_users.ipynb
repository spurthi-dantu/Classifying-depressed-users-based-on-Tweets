{
  "nbformat": 4,
  "nbformat_minor": 0,
  "metadata": {
    "colab": {
      "provenance": []
    },
    "kernelspec": {
      "name": "python3",
      "display_name": "Python 3"
    },
    "language_info": {
      "name": "python"
    }
  },
  "cells": [
    {
      "cell_type": "code",
      "metadata": {
        "id": "cn6b9uqgpvkx",
        "colab": {
          "base_uri": "https://localhost:8080/"
        },
        "outputId": "332849a5-b330-421d-ce4e-0287659db70c"
      },
      "source": [
        "#installing tweeter API\n",
        "!pip install tweepy"
      ],
      "execution_count": null,
      "outputs": [
        {
          "output_type": "stream",
          "name": "stdout",
          "text": [
            "Requirement already satisfied: tweepy in /usr/local/lib/python3.7/dist-packages (3.10.0)\n",
            "Requirement already satisfied: requests[socks]>=2.11.1 in /usr/local/lib/python3.7/dist-packages (from tweepy) (2.23.0)\n",
            "Requirement already satisfied: requests-oauthlib>=0.7.0 in /usr/local/lib/python3.7/dist-packages (from tweepy) (1.3.0)\n",
            "Requirement already satisfied: six>=1.10.0 in /usr/local/lib/python3.7/dist-packages (from tweepy) (1.15.0)\n",
            "Requirement already satisfied: oauthlib>=3.0.0 in /usr/local/lib/python3.7/dist-packages (from requests-oauthlib>=0.7.0->tweepy) (3.1.1)\n",
            "Requirement already satisfied: chardet<4,>=3.0.2 in /usr/local/lib/python3.7/dist-packages (from requests[socks]>=2.11.1->tweepy) (3.0.4)\n",
            "Requirement already satisfied: idna<3,>=2.5 in /usr/local/lib/python3.7/dist-packages (from requests[socks]>=2.11.1->tweepy) (2.10)\n",
            "Requirement already satisfied: certifi>=2017.4.17 in /usr/local/lib/python3.7/dist-packages (from requests[socks]>=2.11.1->tweepy) (2021.10.8)\n",
            "Requirement already satisfied: urllib3!=1.25.0,!=1.25.1,<1.26,>=1.21.1 in /usr/local/lib/python3.7/dist-packages (from requests[socks]>=2.11.1->tweepy) (1.24.3)\n",
            "Requirement already satisfied: PySocks!=1.5.7,>=1.5.6 in /usr/local/lib/python3.7/dist-packages (from requests[socks]>=2.11.1->tweepy) (1.7.1)\n"
          ]
        }
      ]
    },
    {
      "cell_type": "code",
      "metadata": {
        "colab": {
          "base_uri": "https://localhost:8080/"
        },
        "id": "nUlMCZltA6D5",
        "outputId": "3b50686e-cc30-494c-edd5-ca0fbc671cf8"
      },
      "source": [
        "!pip install nltk\n",
        "from collections import Counter\n",
        "from sklearn.datasets import make_classification\n",
        "from sklearn.model_selection import train_test_split\n",
        "from keras.models import Model, Sequential\n",
        "from keras.callbacks import EarlyStopping, ModelCheckpoint\n",
        "from keras.layers import Conv1D, Dense, Input, LSTM, Embedding, Dropout, Activation, MaxPooling1D\n",
        "from keras.preprocessing.text import Tokenizer\n",
        "from keras.preprocessing.sequence import pad_sequences"
      ],
      "execution_count": null,
      "outputs": [
        {
          "output_type": "stream",
          "name": "stdout",
          "text": [
            "Requirement already satisfied: nltk in /usr/local/lib/python3.7/dist-packages (3.2.5)\n",
            "Requirement already satisfied: six in /usr/local/lib/python3.7/dist-packages (from nltk) (1.15.0)\n"
          ]
        }
      ]
    },
    {
      "cell_type": "code",
      "metadata": {
        "colab": {
          "base_uri": "https://localhost:8080/"
        },
        "id": "g4olTBqdqEqJ",
        "outputId": "8bc36ecd-64b5-423a-ef7c-d0dd1af2be99"
      },
      "source": [
        "#imports\n",
        "import pandas as pd\n",
        "import numpy as np\n",
        "import tweepy\n",
        "import re\n",
        "import nltk\n",
        "nltk.download('words')\n",
        "words = set(nltk.corpus.words.words())\n",
        "nltk.download('stopwords')\n",
        "nltk.download('punkt')\n",
        "nltk.download('wordnet')\n",
        "\n",
        "from nltk.corpus import stopwords\n",
        "from nltk import PorterStemmer\n",
        "from nltk.stem import WordNetLemmatizer"
      ],
      "execution_count": null,
      "outputs": [
        {
          "output_type": "stream",
          "name": "stdout",
          "text": [
            "[nltk_data] Downloading package words to /root/nltk_data...\n",
            "[nltk_data]   Unzipping corpora/words.zip.\n",
            "[nltk_data] Downloading package stopwords to /root/nltk_data...\n",
            "[nltk_data]   Unzipping corpora/stopwords.zip.\n",
            "[nltk_data] Downloading package punkt to /root/nltk_data...\n",
            "[nltk_data]   Unzipping tokenizers/punkt.zip.\n",
            "[nltk_data] Downloading package wordnet to /root/nltk_data...\n",
            "[nltk_data]   Unzipping corpora/wordnet.zip.\n"
          ]
        }
      ]
    },
    {
      "cell_type": "code",
      "metadata": {
        "id": "d7dTKM-zqObI"
      },
      "source": [
        "from keras.preprocessing.text import Tokenizer\n",
        "from keras.preprocessing.sequence import pad_sequences\n",
        "from gensim.models import KeyedVectors\n",
        "from keras.layers import Conv1D, Dense, Input, LSTM, Embedding, Dropout, Activation, MaxPooling1D"
      ],
      "execution_count": null,
      "outputs": []
    },
    {
      "cell_type": "code",
      "metadata": {
        "id": "2G1gRLqgqXht"
      },
      "source": [
        "#declaring constants\n",
        "MAX_NB_WORDS = 20000\n",
        "MAX_SEQUENCE_LENGTH = 140 # Max tweet size\n",
        "EMBEDDING_DIM = 300 #best suitable\n",
        "EPOCHS= 10\n"
      ],
      "execution_count": null,
      "outputs": []
    },
    {
      "cell_type": "code",
      "metadata": {
        "colab": {
          "base_uri": "https://localhost:8080/"
        },
        "id": "7tdIou72-sHS",
        "outputId": "757188de-3a85-43fb-ff42-64dc10bc8491"
      },
      "source": [
        "!pip install ftfy\n",
        "import ftfy"
      ],
      "execution_count": null,
      "outputs": [
        {
          "output_type": "stream",
          "name": "stdout",
          "text": [
            "Collecting ftfy\n",
            "  Downloading ftfy-6.0.3.tar.gz (64 kB)\n",
            "\u001b[?25l\r\u001b[K     |█████                           | 10 kB 17.2 MB/s eta 0:00:01\r\u001b[K     |██████████▏                     | 20 kB 10.9 MB/s eta 0:00:01\r\u001b[K     |███████████████▎                | 30 kB 8.2 MB/s eta 0:00:01\r\u001b[K     |████████████████████▍           | 40 kB 7.5 MB/s eta 0:00:01\r\u001b[K     |█████████████████████████▌      | 51 kB 4.8 MB/s eta 0:00:01\r\u001b[K     |██████████████████████████████▋ | 61 kB 5.6 MB/s eta 0:00:01\r\u001b[K     |████████████████████████████████| 64 kB 1.5 MB/s \n",
            "\u001b[?25hRequirement already satisfied: wcwidth in /usr/local/lib/python3.7/dist-packages (from ftfy) (0.2.5)\n",
            "Building wheels for collected packages: ftfy\n",
            "  Building wheel for ftfy (setup.py) ... \u001b[?25l\u001b[?25hdone\n",
            "  Created wheel for ftfy: filename=ftfy-6.0.3-py3-none-any.whl size=41933 sha256=7aa3f4be4f50e6bcf66009643d4133834e6032fd03459db5ac5b9c31a98c61d0\n",
            "  Stored in directory: /root/.cache/pip/wheels/19/f5/38/273eb3b5e76dfd850619312f693716ac4518b498f5ffb6f56d\n",
            "Successfully built ftfy\n",
            "Installing collected packages: ftfy\n",
            "Successfully installed ftfy-6.0.3\n"
          ]
        }
      ]
    },
    {
      "cell_type": "code",
      "metadata": {
        "id": "x36VgpvtqUWt"
      },
      "source": [
        "#connecting to the api\n",
        "auth=tweepy.OAuthHandler(consumer_key,consumer_secret)\n",
        "auth.set_access_token(access_token,access_token_secret)\n",
        "api = tweepy.API(auth, wait_on_rate_limit=True)"
      ],
      "execution_count": null,
      "outputs": []
    },
    {
      "cell_type": "code",
      "metadata": {
        "colab": {
          "base_uri": "https://localhost:8080/"
        },
        "id": "Ey__ub88qa8a",
        "outputId": "bfcf5b7c-5811-4888-cee4-1ddb1b8f63d8"
      },
      "source": [
        "#mounting drive to avoid temporary storage\n",
        "from google.colab import drive\n",
        "drive.mount('/content/drive')"
      ],
      "execution_count": null,
      "outputs": [
        {
          "output_type": "stream",
          "name": "stdout",
          "text": [
            "Mounted at /content/drive\n"
          ]
        }
      ]
    },
    {
      "cell_type": "code",
      "metadata": {
        "id": "8XIQqRgDqsfd"
      },
      "source": [
        "#we say some invalid tweets from both 60 users as well as 100 users datasets\n",
        "#initally we are working on removing the invalid data in 60 users and store all the data into new file\n",
        "#code is as follows\n",
        "d=data\n",
        "for i in x:\n",
        "  try:\n",
        "    y=api.get_status(i).text\n",
        "\n",
        "  except tweepy.TweepError as tw:\n",
        "\n",
        "    k=data[data['id']==i].index.values\n",
        "    d=d.drop(index=k)\n"
      ],
      "execution_count": null,
      "outputs": []
    },
    {
      "cell_type": "code",
      "metadata": {
        "id": "ucDSFe5Rr7Ai"
      },
      "source": [
        "#copying data to file a\n",
        "d.to_csv('a.csv')"
      ],
      "execution_count": null,
      "outputs": []
    },
    {
      "cell_type": "code",
      "metadata": {
        "id": "Ri4UBwvbr_4Y"
      },
      "source": [
        "#similar operations are performed on 100 users to remove invalid data\n"
      ],
      "execution_count": null,
      "outputs": []
    },
    {
      "cell_type": "code",
      "metadata": {
        "id": "1sMuV1jAsLvI"
      },
      "source": [
        "#adding a new column to a.csv for text of tweets\n",
        "from csv import writer\n",
        "from csv import reader\n",
        "def add_column_in_csv(input_file, output_file, transform_row):\n",
        "    \"\"\" Append a column in existing csv using csv.reader / csv.writer classes\"\"\"\n",
        "    # Open the input_file in read mode and output_file in write mode\n",
        "    with open(input_file, 'r') as read_obj, \\\n",
        "            open(output_file, 'w', newline='') as write_obj:\n",
        "        # Create a csv.reader object from the input file object\n",
        "        csv_reader = reader(read_obj)\n",
        "        # Create a csv.writer object from the output file object\n",
        "        csv_writer = writer(write_obj)\n",
        "        # Read each row of the input csv file as list\n",
        "        for row in csv_reader:\n",
        "            # Pass the list / row in the transform function to add column text for this row\n",
        "            transform_row(row, csv_reader.line_num)\n",
        "            # Write the updated row / list to the output file\n",
        "            csv_writer.writerow(row)"
      ],
      "execution_count": null,
      "outputs": []
    },
    {
      "cell_type": "code",
      "metadata": {
        "id": "bSTjYHUBsgy4"
      },
      "source": [
        "input_file='/content/drive/MyDrive/valid.csv'\n",
        "output_file='/content/drive/MyDrive/outputfinal2.csv'\n",
        "\n",
        "header_of_new_col = 'Tweets'\n",
        "\n",
        "\n",
        "\n",
        "\n",
        "# Add the column in csv file with header\n",
        "add_column_in_csv(input_file,output_file,\n",
        "                    lambda row, line_num: row.append(header_of_new_col)\n",
        "                    if line_num == 1 else row.append(api.get_status(row[1]).text))"
      ],
      "execution_count": null,
      "outputs": []
    },
    {
      "cell_type": "markdown",
      "metadata": {
        "id": "VkDvSCB-tC5J"
      },
      "source": [
        "Preprocessing\n",
        "Preprocessing the tweets in order to:\n",
        "\n",
        "Remove links and images,\n",
        "Remove hashtags,\n",
        "Remove @ mentions,\n",
        "Remove emojis,\n",
        "Remove stop words,\n",
        "Remove punctuation,\n",
        "Get rid of stuff like \"what's\" and making it \"what is',\n",
        "Stem words so they are all the same tense (e.g. ran -> run)"
      ]
    },
    {
      "cell_type": "code",
      "metadata": {
        "id": "XeheGpYPtb_M"
      },
      "source": [
        "##expanding the contractions\n",
        "cList = {\n",
        "  \"ain't\": \"am not\",\n",
        "  \"aren't\": \"are not\",\n",
        "  \"can't\": \"cannot\",\n",
        "  \"can't've\": \"cannot have\",\n",
        "  \"'cause\": \"because\",\n",
        "  \"could've\": \"could have\",\n",
        "  \"couldn't\": \"could not\",\n",
        "  \"couldn't've\": \"could not have\",\n",
        "  \"didn't\": \"did not\",\n",
        "  \"doesn't\": \"does not\",\n",
        "  \"don't\": \"do not\",\n",
        "  \"hadn't\": \"had not\",\n",
        "  \"hadn't've\": \"had not have\",\n",
        "  \"hasn't\": \"has not\",\n",
        "  \"haven't\": \"have not\",\n",
        "  \"he'd\": \"he would\",\n",
        "  \"he'd've\": \"he would have\",\n",
        "  \"he'll\": \"he will\",\n",
        "  \"he'll've\": \"he will have\",\n",
        "  \"he's\": \"he is\",\n",
        "  \"how'd\": \"how did\",\n",
        "  \"how'd'y\": \"how do you\",\n",
        "  \"how'll\": \"how will\",\n",
        "  \"how's\": \"how is\",\n",
        "  \"I'd\": \"I would\",\n",
        "  \"I'd've\": \"I would have\",\n",
        "  \"I'll\": \"I will\",\n",
        "  \"I'll've\": \"I will have\",\n",
        "  \"I'm\": \"I am\",\n",
        "  \"I've\": \"I have\",\n",
        "  \"isn't\": \"is not\",\n",
        "  \"it'd\": \"it had\",\n",
        "  \"it'd've\": \"it would have\",\n",
        "  \"it'll\": \"it will\",\n",
        "  \"it'll've\": \"it will have\",\n",
        "  \"it's\": \"it is\",\n",
        "  \"let's\": \"let us\",\n",
        "  \"ma'am\": \"madam\",\n",
        "  \"mayn't\": \"may not\",\n",
        "  \"might've\": \"might have\",\n",
        "  \"mightn't\": \"might not\",\n",
        "  \"mightn't've\": \"might not have\",\n",
        "  \"must've\": \"must have\",\n",
        "  \"mustn't\": \"must not\",\n",
        "  \"mustn't've\": \"must not have\",\n",
        "  \"needn't\": \"need not\",\n",
        "  \"needn't've\": \"need not have\",\n",
        "  \"o'clock\": \"of the clock\",\n",
        "  \"oughtn't\": \"ought not\",\n",
        "  \"oughtn't've\": \"ought not have\",\n",
        "  \"shan't\": \"shall not\",\n",
        "  \"sha'n't\": \"shall not\",\n",
        "  \"shan't've\": \"shall not have\",\n",
        "  \"she'd\": \"she would\",\n",
        "  \"she'd've\": \"she would have\",\n",
        "  \"she'll\": \"she will\",\n",
        "  \"she'll've\": \"she will have\",\n",
        "  \"she's\": \"she is\",\n",
        "  \"should've\": \"should have\",\n",
        "  \"shouldn't\": \"should not\",\n",
        "  \"shouldn't've\": \"should not have\",\n",
        "  \"so've\": \"so have\",\n",
        "  \"so's\": \"so is\",\n",
        "  \"that'd\": \"that would\",\n",
        "  \"that'd've\": \"that would have\",\n",
        "  \"that's\": \"that is\",\n",
        "  \"there'd\": \"there had\",\n",
        "  \"there'd've\": \"there would have\",\n",
        "  \"there's\": \"there is\",\n",
        "  \"they'd\": \"they would\",\n",
        "  \"they'd've\": \"they would have\",\n",
        "  \"they'll\": \"they will\",\n",
        "  \"they'll've\": \"they will have\",\n",
        "  \"they're\": \"they are\",\n",
        "  \"they've\": \"they have\",\n",
        "  \"to've\": \"to have\",\n",
        "  \"wasn't\": \"was not\",\n",
        "  \"we'd\": \"we had\",\n",
        "  \"we'd've\": \"we would have\",\n",
        "  \"we'll\": \"we will\",\n",
        "  \"we'll've\": \"we will have\",\n",
        "  \"we're\": \"we are\",\n",
        "  \"we've\": \"we have\",\n",
        "  \"weren't\": \"were not\",\n",
        "  \"what'll\": \"what will\",\n",
        "  \"what'll've\": \"what will have\",\n",
        "  \"what're\": \"what are\",\n",
        "  \"what's\": \"what is\",\n",
        "  \"what've\": \"what have\",\n",
        "  \"when's\": \"when is\",\n",
        "  \"when've\": \"when have\",\n",
        "  \"where'd\": \"where did\",\n",
        "  \"where's\": \"where is\",\n",
        "  \"where've\": \"where have\",\n",
        "  \"who'll\": \"who will\",\n",
        "  \"who'll've\": \"who will have\",\n",
        "  \"who's\": \"who is\",\n",
        "  \"who've\": \"who have\",\n",
        "  \"why's\": \"why is\",\n",
        "  \"why've\": \"why have\",\n",
        "  \"will've\": \"will have\",\n",
        "  \"won't\": \"will not\",\n",
        "  \"won't've\": \"will not have\",\n",
        "  \"would've\": \"would have\",\n",
        "  \"wouldn't\": \"would not\",\n",
        "  \"wouldn't've\": \"would not have\",\n",
        "  \"y'all\": \"you all\",\n",
        "  \"y'alls\": \"you alls\",\n",
        "  \"y'all'd\": \"you all would\",\n",
        "  \"y'all'd've\": \"you all would have\",\n",
        "  \"y'all're\": \"you all are\",\n",
        "  \"y'all've\": \"you all have\",\n",
        "  \"you'd\": \"you had\",\n",
        "  \"you'd've\": \"you would have\",\n",
        "  \"you'll\": \"you you will\",\n",
        "  \"you'll've\": \"you you will have\",\n",
        "  \"you're\": \"you are\",\n",
        "  \"you've\": \"you have\",\n",
        "  \" u \" : \"you\",\n",
        "  \" ur \" :  \"your\",\n",
        "  \" n \" : \"and\"\n",
        "}"
      ],
      "execution_count": null,
      "outputs": []
    },
    {
      "cell_type": "code",
      "metadata": {
        "id": "v1rDf1M6t8gR",
        "colab": {
          "base_uri": "https://localhost:8080/",
          "height": 467
        },
        "outputId": "69715d64-d3d6-4c97-f97f-843c21d6c74f"
      },
      "source": [
        "final_data= pd.read_csv('/content/drive/MyDrive/Majorproject/final_output1.csv')\n",
        "final_data\n"
      ],
      "execution_count": null,
      "outputs": [
        {
          "output_type": "execute_result",
          "data": {
            "text/html": [
              "\n",
              "  <div id=\"df-a104797e-cc74-4f96-a469-a6de72cd53e6\">\n",
              "    <div class=\"colab-df-container\">\n",
              "      <div>\n",
              "<style scoped>\n",
              "    .dataframe tbody tr th:only-of-type {\n",
              "        vertical-align: middle;\n",
              "    }\n",
              "\n",
              "    .dataframe tbody tr th {\n",
              "        vertical-align: top;\n",
              "    }\n",
              "\n",
              "    .dataframe thead th {\n",
              "        text-align: right;\n",
              "    }\n",
              "</style>\n",
              "<table border=\"1\" class=\"dataframe\">\n",
              "  <thead>\n",
              "    <tr style=\"text-align: right;\">\n",
              "      <th></th>\n",
              "      <th>Unnamed: 0</th>\n",
              "      <th>id</th>\n",
              "      <th>node</th>\n",
              "      <th>annotator1</th>\n",
              "      <th>annotator2</th>\n",
              "      <th>Tweets</th>\n",
              "      <th>final label</th>\n",
              "    </tr>\n",
              "  </thead>\n",
              "  <tbody>\n",
              "    <tr>\n",
              "      <th>0</th>\n",
              "      <td>0</td>\n",
              "      <td>606626035476537344</td>\n",
              "      <td>821845</td>\n",
              "      <td>1</td>\n",
              "      <td>0</td>\n",
              "      <td>I've been a very lazy Tweeter lately.</td>\n",
              "      <td>1</td>\n",
              "    </tr>\n",
              "    <tr>\n",
              "      <th>1</th>\n",
              "      <td>1</td>\n",
              "      <td>594103782021189632</td>\n",
              "      <td>821845</td>\n",
              "      <td>0</td>\n",
              "      <td>0</td>\n",
              "      <td>Good morning, beautiful people!</td>\n",
              "      <td>0</td>\n",
              "    </tr>\n",
              "    <tr>\n",
              "      <th>2</th>\n",
              "      <td>3</td>\n",
              "      <td>616222679557910528</td>\n",
              "      <td>821845</td>\n",
              "      <td>0</td>\n",
              "      <td>0</td>\n",
              "      <td>Happy Canada Day, eh.</td>\n",
              "      <td>0</td>\n",
              "    </tr>\n",
              "    <tr>\n",
              "      <th>3</th>\n",
              "      <td>8</td>\n",
              "      <td>607680043112931328</td>\n",
              "      <td>821845</td>\n",
              "      <td>0</td>\n",
              "      <td>0</td>\n",
              "      <td>I just got added to a Twitter list called \"Twi...</td>\n",
              "      <td>0</td>\n",
              "    </tr>\n",
              "    <tr>\n",
              "      <th>4</th>\n",
              "      <td>11</td>\n",
              "      <td>606136869512953856</td>\n",
              "      <td>821845</td>\n",
              "      <td>0</td>\n",
              "      <td>0</td>\n",
              "      <td>There's a webinar for everything these days. I...</td>\n",
              "      <td>0</td>\n",
              "    </tr>\n",
              "    <tr>\n",
              "      <th>...</th>\n",
              "      <td>...</td>\n",
              "      <td>...</td>\n",
              "      <td>...</td>\n",
              "      <td>...</td>\n",
              "      <td>...</td>\n",
              "      <td>...</td>\n",
              "      <td>...</td>\n",
              "    </tr>\n",
              "    <tr>\n",
              "      <th>5519</th>\n",
              "      <td>8677</td>\n",
              "      <td>605464565753614336</td>\n",
              "      <td>2400925915</td>\n",
              "      <td>0</td>\n",
              "      <td>0</td>\n",
              "      <td>Ty is one happy guy rn</td>\n",
              "      <td>0</td>\n",
              "    </tr>\n",
              "    <tr>\n",
              "      <th>5520</th>\n",
              "      <td>8682</td>\n",
              "      <td>587428261308661760</td>\n",
              "      <td>2400925915</td>\n",
              "      <td>0</td>\n",
              "      <td>0</td>\n",
              "      <td>Great weekend 🔴🔵⚫️</td>\n",
              "      <td>0</td>\n",
              "    </tr>\n",
              "    <tr>\n",
              "      <th>5521</th>\n",
              "      <td>8683</td>\n",
              "      <td>577141727045144576</td>\n",
              "      <td>2400925915</td>\n",
              "      <td>0</td>\n",
              "      <td>0</td>\n",
              "      <td>Them NNS had some cute chirps</td>\n",
              "      <td>0</td>\n",
              "    </tr>\n",
              "    <tr>\n",
              "      <th>5522</th>\n",
              "      <td>8684</td>\n",
              "      <td>564113332597047296</td>\n",
              "      <td>2400925915</td>\n",
              "      <td>0</td>\n",
              "      <td>0</td>\n",
              "      <td>Good luck to the boys in cross lake tonight, G...</td>\n",
              "      <td>0</td>\n",
              "    </tr>\n",
              "    <tr>\n",
              "      <th>5523</th>\n",
              "      <td>8712</td>\n",
              "      <td>566367489567629312</td>\n",
              "      <td>2799014630</td>\n",
              "      <td>0</td>\n",
              "      <td>0</td>\n",
              "      <td>しかもしかもいつもより早い電車に乗らなきゃいけないとかなんなの……</td>\n",
              "      <td>0</td>\n",
              "    </tr>\n",
              "  </tbody>\n",
              "</table>\n",
              "<p>5524 rows × 7 columns</p>\n",
              "</div>\n",
              "      <button class=\"colab-df-convert\" onclick=\"convertToInteractive('df-a104797e-cc74-4f96-a469-a6de72cd53e6')\"\n",
              "              title=\"Convert this dataframe to an interactive table.\"\n",
              "              style=\"display:none;\">\n",
              "        \n",
              "  <svg xmlns=\"http://www.w3.org/2000/svg\" height=\"24px\"viewBox=\"0 0 24 24\"\n",
              "       width=\"24px\">\n",
              "    <path d=\"M0 0h24v24H0V0z\" fill=\"none\"/>\n",
              "    <path d=\"M18.56 5.44l.94 2.06.94-2.06 2.06-.94-2.06-.94-.94-2.06-.94 2.06-2.06.94zm-11 1L8.5 8.5l.94-2.06 2.06-.94-2.06-.94L8.5 2.5l-.94 2.06-2.06.94zm10 10l.94 2.06.94-2.06 2.06-.94-2.06-.94-.94-2.06-.94 2.06-2.06.94z\"/><path d=\"M17.41 7.96l-1.37-1.37c-.4-.4-.92-.59-1.43-.59-.52 0-1.04.2-1.43.59L10.3 9.45l-7.72 7.72c-.78.78-.78 2.05 0 2.83L4 21.41c.39.39.9.59 1.41.59.51 0 1.02-.2 1.41-.59l7.78-7.78 2.81-2.81c.8-.78.8-2.07 0-2.86zM5.41 20L4 18.59l7.72-7.72 1.47 1.35L5.41 20z\"/>\n",
              "  </svg>\n",
              "      </button>\n",
              "      \n",
              "  <style>\n",
              "    .colab-df-container {\n",
              "      display:flex;\n",
              "      flex-wrap:wrap;\n",
              "      gap: 12px;\n",
              "    }\n",
              "\n",
              "    .colab-df-convert {\n",
              "      background-color: #E8F0FE;\n",
              "      border: none;\n",
              "      border-radius: 50%;\n",
              "      cursor: pointer;\n",
              "      display: none;\n",
              "      fill: #1967D2;\n",
              "      height: 32px;\n",
              "      padding: 0 0 0 0;\n",
              "      width: 32px;\n",
              "    }\n",
              "\n",
              "    .colab-df-convert:hover {\n",
              "      background-color: #E2EBFA;\n",
              "      box-shadow: 0px 1px 2px rgba(60, 64, 67, 0.3), 0px 1px 3px 1px rgba(60, 64, 67, 0.15);\n",
              "      fill: #174EA6;\n",
              "    }\n",
              "\n",
              "    [theme=dark] .colab-df-convert {\n",
              "      background-color: #3B4455;\n",
              "      fill: #D2E3FC;\n",
              "    }\n",
              "\n",
              "    [theme=dark] .colab-df-convert:hover {\n",
              "      background-color: #434B5C;\n",
              "      box-shadow: 0px 1px 3px 1px rgba(0, 0, 0, 0.15);\n",
              "      filter: drop-shadow(0px 1px 2px rgba(0, 0, 0, 0.3));\n",
              "      fill: #FFFFFF;\n",
              "    }\n",
              "  </style>\n",
              "\n",
              "      <script>\n",
              "        const buttonEl =\n",
              "          document.querySelector('#df-a104797e-cc74-4f96-a469-a6de72cd53e6 button.colab-df-convert');\n",
              "        buttonEl.style.display =\n",
              "          google.colab.kernel.accessAllowed ? 'block' : 'none';\n",
              "\n",
              "        async function convertToInteractive(key) {\n",
              "          const element = document.querySelector('#df-a104797e-cc74-4f96-a469-a6de72cd53e6');\n",
              "          const dataTable =\n",
              "            await google.colab.kernel.invokeFunction('convertToInteractive',\n",
              "                                                     [key], {});\n",
              "          if (!dataTable) return;\n",
              "\n",
              "          const docLinkHtml = 'Like what you see? Visit the ' +\n",
              "            '<a target=\"_blank\" href=https://colab.research.google.com/notebooks/data_table.ipynb>data table notebook</a>'\n",
              "            + ' to learn more about interactive tables.';\n",
              "          element.innerHTML = '';\n",
              "          dataTable['output_type'] = 'display_data';\n",
              "          await google.colab.output.renderOutput(dataTable, element);\n",
              "          const docLink = document.createElement('div');\n",
              "          docLink.innerHTML = docLinkHtml;\n",
              "          element.appendChild(docLink);\n",
              "        }\n",
              "      </script>\n",
              "    </div>\n",
              "  </div>\n",
              "  "
            ],
            "text/plain": [
              "      Unnamed: 0  ...  final label\n",
              "0              0  ...            1\n",
              "1              1  ...            0\n",
              "2              3  ...            0\n",
              "3              8  ...            0\n",
              "4             11  ...            0\n",
              "...          ...  ...          ...\n",
              "5519        8677  ...            0\n",
              "5520        8682  ...            0\n",
              "5521        8683  ...            0\n",
              "5522        8684  ...            0\n",
              "5523        8712  ...            0\n",
              "\n",
              "[5524 rows x 7 columns]"
            ]
          },
          "metadata": {},
          "execution_count": 11
        }
      ]
    },
    {
      "cell_type": "code",
      "source": [
        "from google.colab import drive\n",
        "drive.mount('/content/drive')"
      ],
      "metadata": {
        "colab": {
          "base_uri": "https://localhost:8080/"
        },
        "id": "aoY61YzvvhfE",
        "outputId": "2a4943bf-bbdd-4525-d333-e0f6ea138f3c"
      },
      "execution_count": null,
      "outputs": [
        {
          "output_type": "stream",
          "name": "stdout",
          "text": [
            "Drive already mounted at /content/drive; to attempt to forcibly remount, call drive.mount(\"/content/drive\", force_remount=True).\n"
          ]
        }
      ]
    },
    {
      "cell_type": "code",
      "source": [],
      "metadata": {
        "id": "RW-XSxNkDwLq"
      },
      "execution_count": null,
      "outputs": []
    },
    {
      "cell_type": "code",
      "source": [],
      "metadata": {
        "id": "ihNuEyZrD7i_"
      },
      "execution_count": null,
      "outputs": []
    },
    {
      "cell_type": "code",
      "metadata": {
        "id": "tpNmQ0Yk2EHY"
      },
      "source": [
        "def expand(t):\n",
        "    if type(t) is str:\n",
        "      for key in contractions:\n",
        "        value=contractions[key]\n",
        "        t=t.replace(key,value)\n",
        "      print (t)\n",
        "    else:\n",
        "      print(t)"
      ],
      "execution_count": null,
      "outputs": []
    },
    {
      "cell_type": "code",
      "metadata": {
        "id": "e7c4K05Z_ji8"
      },
      "source": [
        "c_re = re.compile('(%s)' % '|'.join(cList.keys()))\n",
        "\n",
        "def expandContractions(text, c_re=c_re):\n",
        "    def replace(match):\n",
        "        return cList[match.group(0)]\n",
        "    return c_re.sub(replace, text)"
      ],
      "execution_count": null,
      "outputs": []
    },
    {
      "cell_type": "code",
      "metadata": {
        "id": "rPKcBL5_3KLN"
      },
      "source": [
        "def clean_tweets(tweets):\n",
        "    cleaned_tweets = []\n",
        "    for tweet in tweets:\n",
        "        tweet = str(tweet)\n",
        "        # if url links then dont append to avoid news articles\n",
        "        # also check tweet length, save those > 10 (length of word \"depression\")\n",
        "        #if re.match(\"(\\w+:\\/\\/\\S+)\", tweet) == None :#and len(tweet) > 10:\n",
        "            #remove hashtag, @mention, emoji and image URLs\n",
        "        tweet = ' '.join(re.sub(\"(@[A-Za-z0-9]+)|(\\#[A-Za-z0-9]+)|(<Emoji:.*>)|(pic\\.twitter\\.com\\/.*)\", \" \", tweet).split())\n",
        "\n",
        "            #fix weirdly encoded texts\n",
        "        tweet = ftfy.fix_text(tweet)\n",
        "\n",
        "            #expand contraction\n",
        "        tweet = expandContractions(tweet)\n",
        "\n",
        "            #remove punctuation\n",
        "        tweet = ' '.join(re.sub(\"([^0-9A-Za-z \\t])\", \" \", tweet).split())\n",
        "\n",
        "            #stop words\n",
        "        stop_words = set(stopwords.words('english'))\n",
        "        word_tokens = nltk.word_tokenize(tweet)\n",
        "        filtered_sentence = [w for w in word_tokens if not w in stop_words]\n",
        "        tweet = ' '.join(filtered_sentence)\n",
        "\n",
        "            #stemming words\n",
        "            #tweet = PorterStemmer().stem(tweet)\n",
        "        lemmatizer = WordNetLemmatizer()\n",
        "        tweet= lemmatizer.lemmatize(tweet)\n",
        "\n",
        "        cleaned_tweets.append(tweet)\n",
        "\n",
        "            #removing non english terms\n",
        "        tweet = \" \".join(w for w in nltk.wordpunct_tokenize(tweet) if w.lower() in words or not w.isalpha())\n",
        "\n",
        "    return cleaned_tweets\n"
      ],
      "execution_count": null,
      "outputs": []
    },
    {
      "cell_type": "code",
      "metadata": {
        "id": "tGp_1m_b5ii4",
        "colab": {
          "base_uri": "https://localhost:8080/",
          "height": 201
        },
        "outputId": "1b617045-c06e-4785-91a6-10eaf40bd428"
      },
      "source": [
        "users_tweets = [z for z in final_data.iloc[0:,5]]\n",
        "print(len(X_train))\n",
        "X_60 =clean_tweets(X_train)\n"
      ],
      "execution_count": null,
      "outputs": [
        {
          "output_type": "error",
          "ename": "NameError",
          "evalue": "ignored",
          "traceback": [
            "\u001b[0;31m---------------------------------------------------------------------------\u001b[0m",
            "\u001b[0;31mNameError\u001b[0m                                 Traceback (most recent call last)",
            "\u001b[0;32m<ipython-input-17-a9d594a6dd53>\u001b[0m in \u001b[0;36m<module>\u001b[0;34m()\u001b[0m\n\u001b[1;32m      1\u001b[0m \u001b[0;31m#users_tweets = [z for z in final_data.iloc[0:,5]]\u001b[0m\u001b[0;34m\u001b[0m\u001b[0;34m\u001b[0m\u001b[0;34m\u001b[0m\u001b[0m\n\u001b[0;32m----> 2\u001b[0;31m \u001b[0mprint\u001b[0m\u001b[0;34m(\u001b[0m\u001b[0mlen\u001b[0m\u001b[0;34m(\u001b[0m\u001b[0mX_train\u001b[0m\u001b[0;34m)\u001b[0m\u001b[0;34m)\u001b[0m\u001b[0;34m\u001b[0m\u001b[0;34m\u001b[0m\u001b[0m\n\u001b[0m\u001b[1;32m      3\u001b[0m \u001b[0mX_60\u001b[0m \u001b[0;34m=\u001b[0m\u001b[0mclean_tweets\u001b[0m\u001b[0;34m(\u001b[0m\u001b[0mX_train\u001b[0m\u001b[0;34m)\u001b[0m\u001b[0;34m\u001b[0m\u001b[0;34m\u001b[0m\u001b[0m\n",
            "\u001b[0;31mNameError\u001b[0m: name 'X_train' is not defined"
          ]
        }
      ]
    },
    {
      "cell_type": "code",
      "metadata": {
        "id": "HPOjHxbB8FtP",
        "colab": {
          "base_uri": "https://localhost:8080/"
        },
        "outputId": "31cb44b8-2f60-4a5f-8df0-06fa68e3ac96"
      },
      "source": [
        "print(len(X_60))\n"
      ],
      "execution_count": null,
      "outputs": [
        {
          "output_type": "stream",
          "name": "stdout",
          "text": [
            "2762\n"
          ]
        }
      ]
    },
    {
      "cell_type": "code",
      "source": [
        "X_60[0]"
      ],
      "metadata": {
        "colab": {
          "base_uri": "https://localhost:8080/",
          "height": 35
        },
        "id": "bz2VsxAWPjeU",
        "outputId": "c712503a-3d5a-4d77-f548-b1a7032c5398"
      },
      "execution_count": null,
      "outputs": [
        {
          "output_type": "execute_result",
          "data": {
            "application/vnd.google.colaboratory.intrinsic+json": {
              "type": "string"
            },
            "text/plain": [
              "'Welcome Vancouver'"
            ]
          },
          "metadata": {},
          "execution_count": 84
        }
      ]
    },
    {
      "cell_type": "markdown",
      "metadata": {
        "id": "vBbfEfIAowYp"
      },
      "source": [
        "Tokenizer.\n",
        "Using a Tokenizer to assign indices and filtering out unfrequent words. Tokenizer creates a map of every unique word and an assigned index to it. The parameter called num_words indicates that we only care about the top 20000 most frequent words.\n",
        "\n"
      ]
    },
    {
      "cell_type": "code",
      "metadata": {
        "id": "8QJcZkR_o561",
        "colab": {
          "base_uri": "https://localhost:8080/",
          "height": 183
        },
        "outputId": "215ba149-9035-4567-bbc9-59229d55c7ac"
      },
      "source": [
        "tokenizer = Tokenizer(num_words=MAX_NB_WORDS)\n",
        "tokenizer.fit_on_texts(X_60)"
      ],
      "execution_count": null,
      "outputs": [
        {
          "output_type": "error",
          "ename": "NameError",
          "evalue": "ignored",
          "traceback": [
            "\u001b[0;31m---------------------------------------------------------------------------\u001b[0m",
            "\u001b[0;31mNameError\u001b[0m                                 Traceback (most recent call last)",
            "\u001b[0;32m<ipython-input-18-b34b704e1eb0>\u001b[0m in \u001b[0;36m<module>\u001b[0;34m()\u001b[0m\n\u001b[1;32m      1\u001b[0m \u001b[0mtokenizer\u001b[0m \u001b[0;34m=\u001b[0m \u001b[0mTokenizer\u001b[0m\u001b[0;34m(\u001b[0m\u001b[0mnum_words\u001b[0m\u001b[0;34m=\u001b[0m\u001b[0mMAX_NB_WORDS\u001b[0m\u001b[0;34m)\u001b[0m\u001b[0;34m\u001b[0m\u001b[0;34m\u001b[0m\u001b[0m\n\u001b[0;32m----> 2\u001b[0;31m \u001b[0mtokenizer\u001b[0m\u001b[0;34m.\u001b[0m\u001b[0mfit_on_texts\u001b[0m\u001b[0;34m(\u001b[0m\u001b[0mX_60\u001b[0m\u001b[0;34m)\u001b[0m\u001b[0;34m\u001b[0m\u001b[0;34m\u001b[0m\u001b[0m\n\u001b[0m",
            "\u001b[0;31mNameError\u001b[0m: name 'X_60' is not defined"
          ]
        }
      ]
    },
    {
      "cell_type": "code",
      "metadata": {
        "id": "3-M-p8A8pGCO"
      },
      "source": [
        "#Applying the tokenizer to 60 users tweets.\n",
        "sequences_60 = tokenizer.texts_to_sequences(X_60)\n"
      ],
      "execution_count": null,
      "outputs": []
    },
    {
      "cell_type": "code",
      "metadata": {
        "colab": {
          "base_uri": "https://localhost:8080/"
        },
        "id": "twGuMsVipUd8",
        "outputId": "0f55e6a8-8bc8-495e-85be-0470ea12001d"
      },
      "source": [
        "#Number of unique words in tokenizer. Has to be <= 20,000\n",
        "word_index = tokenizer.word_index\n",
        "print(word_index)\n",
        "print('Found %s unique tokens' % len(word_index))"
      ],
      "execution_count": null,
      "outputs": [
        {
          "output_type": "stream",
          "name": "stdout",
          "text": [
            "{'i': 1, 'like': 2, 'the': 3, 'good': 4, 'people': 5, 'get': 6, 'one': 7, 'it': 8, 'today': 9, 'love': 10, 'day': 11, 'time': 12, 'know': 13, 'want': 14, 'would': 15, 'see': 16, 'go': 17, 'happy': 18, 'great': 19, 'co': 20, 'tonight': 21, 'new': 22, 'think': 23, 'you': 24, 'so': 25, 'if': 26, '2': 27, 'http': 28, 'going': 29, 'we': 30, 'right': 31, 'night': 32, 'need': 33, 'first': 34, '3': 35, 'best': 36, 'really': 37, 'much': 38, 'a': 39, 'life': 40, 'could': 41, 'ever': 42, 'my': 43, 'work': 44, 'us': 45, 'thanks': 46, 'someone': 47, 'way': 48, 'feel': 49, 'show': 50, 'and': 51, 'rt': 52, 'make': 53, 'morning': 54, 'last': 55, 'thing': 56, 'this': 57, 'got': 58, 'home': 59, '1': 60, 'better': 61, 'come': 62, 'game': 63, 'big': 64, 'back': 65, 'what': 66, 'just': 67, 'na': 68, 'things': 69, 'says': 70, 'anyone': 71, 'still': 72, 'year': 73, 'bad': 74, 'win': 75, 'getting': 76, 'watch': 77, 'hey': 78, 'tomorrow': 79, 'awesome': 80, 'also': 81, 'take': 82, 'say': 83, 'always': 84, 'never': 85, 'next': 86, 'real': 87, 'stop': 88, 'days': 89, 'that': 90, 'feeling': 91, 'watching': 92, 'another': 93, 'well': 94, 'looking': 95, 'keep': 96, 'thank': 97, 'done': 98, 'makes': 99, 'birthday': 100, 'two': 101, 'fun': 102, 'lol': 103, 'even': 104, 'hope': 105, '5': 106, 'made': 107, 'no': 108, 'week': 109, 'weekend': 110, 'when': 111, 'find': 112, 'fuck': 113, 'man': 114, 'nothing': 115, 'twitter': 116, 'free': 117, 'can': 118, '10': 119, 'how': 120, 'may': 121, 'look': 122, 'follow': 123, 'actually': 124, 'every': 125, 'don': 126, 'person': 127, 'news': 128, 'gon': 129, 'now': 130, 'not': 131, 'please': 132, 'bed': 133, 'else': 134, 'live': 135, 'sure': 136, 'everyone': 137, 'canada': 138, 'pretty': 139, 'beautiful': 140, 'help': 141, 'world': 142, 'start': 143, 'trying': 144, '4': 145, 'fucking': 146, 'de': 147, 'in': 148, 'something': 149, 'yes': 150, 'excited': 151, 'oh': 152, 'found': 153, 'long': 154, 'tell': 155, 'tv': 156, 'class': 157, 'lot': 158, 'let': 159, 'friend': 160, 'all': 161, 'tweet': 162, 'friends': 163, 'left': 164, 'shit': 165, 'house': 166, 'many': 167, 'years': 168, 'wow': 169, 'probably': 170, 'wish': 171, 'party': 172, 'hate': 173, 'friday': 174, 'coming': 175, 'red': 176, 'amazing': 177, 'car': 178, 'care': 179, 'read': 180, 'though': 181, 'gets': 182, 'guys': 183, 'talk': 184, 'little': 185, 'to': 186, 'old': 187, 'why': 188, '6': 189, 'there': 190, 'star': 191, 'w': 192, 'sorry': 193, 'place': 194, 'making': 195, 'working': 196, '7': 197, 'around': 198, 'super': 199, 'family': 200, 'money': 201, 'beer': 202, 'give': 203, 'full': 204, 'coffee': 205, 'part': 206, 'play': 207, 'anything': 208, 'but': 209, 'job': 210, 'try': 211, 'use': 212, 'hear': 213, 'weird': 214, 'tired': 215, 'support': 216, 'c': 217, 'congrats': 218, 'nice': 219, 'point': 220, 'god': 221, 'looks': 222, 'games': 223, 'away': 224, 'shows': 225, 'welcome': 226, 'of': 227, 'seeing': 228, 'playing': 229, 'must': 230, 'proud': 231, 'wait': 232, 'might': 233, 'seen': 234, '2015': 235, 'sometimes': 236, 'ago': 237, 'times': 238, 'enough': 239, 'guess': 240, 'internet': 241, 'que': 242, 'is': 243, 'hard': 244, 'room': 245, 'afternoon': 246, 'without': 247, 'sad': 248, 'forget': 249, 'guy': 250, 'd': 251, 'wan': 252, 'perfect': 253, 'head': 254, '20': 255, 'snow': 256, '0': 257, 'stay': 258, 'seriously': 259, 'wars': 260, 'already': 261, 'sucks': 262, 'music': 263, 'wants': 264, 'cool': 265, 'believe': 266, 'wrong': 267, 'he': 268, 'late': 269, 'leave': 270, 'become': 271, 'goes': 272, 'toronto': 273, 'hell': 274, 'kids': 275, 'city': 276, 'cause': 277, 'important': 278, 'hours': 279, '1st': 280, 'hit': 281, 'kind': 282, 'behind': 283, 'set': 284, 'public': 285, 'miss': 286, 'high': 287, 'change': 288, 'whole': 289, 'who': 290, 'art': 291, 'minutes': 292, 'season': 293, 'face': 294, 'huge': 295, 'lost': 296, 'they': 297, 'worth': 298, 'john': 299, 'less': 300, 'maybe': 301, 'check': 302, 'rain': 303, 'past': 304, 'end': 305, 'canadian': 306, 'as': 307, 'worst': 308, 'school': 309, 'saying': 310, 'rest': 311, 'sleep': 312, 'fan': 313, 'baby': 314, 'soon': 315, 'cute': 316, 'instead': 317, 'thought': 318, 'worse': 319, 'any': 320, 'hi': 321, 'call': 322, 'anxiety': 323, 'tweets': 324, 'media': 325, 'finally': 326, 'hot': 327, 'second': 328, 'walk': 329, 'turn': 330, 'mind': 331, 'fire': 332, 'open': 333, 'said': 334, 'story': 335, 'yet': 336, 'everything': 337, 'used': 338, 'stuff': 339, 'are': 340, 'missing': 341, 'for': 342, 'summer': 343, 'phone': 344, 'course': 345, '8': 346, 'kill': 347, 'name': 348, 'netflix': 349, 'due': 350, 'forward': 351, 'me': 352, '30': 353, 'fact': 354, 'u': 355, 'remember': 356, 'join': 357, 'cat': 358, 'understand': 359, 'with': 360, 'quite': 361, 'came': 362, 'line': 363, 'damn': 364, 'lots': 365, 'least': 366, 'food': 367, 'okay': 368, 'months': 369, 'series': 370, 'tickets': 371, 'idea': 372, 'early': 373, 'community': 374, 'fresh': 375, '9': 376, 'video': 377, 'stories': 378, 'sick': 379, 'listening': 380, 'office': 381, 'ndp': 382, 'film': 383, 'business': 384, 'wings': 385, 'went': 386, 'success': 387, 'takes': 388, 'month': 389, 'list': 390, 'since': 391, 'poor': 392, 'record': 393, 'started': 394, 'clear': 395, 'https': 396, 'likely': 397, 'eating': 398, 'thinking': 399, 'eye': 400, 'movie': 401, 'putting': 402, 'n': 403, 'favourite': 404, 'dear': 405, 'vote': 406, 'st': 407, 'missed': 408, 'hour': 409, 'library': 410, 'heart': 411, 'thoughts': 412, 'outside': 413, 'weather': 414, 'vs': 415, 'easy': 416, 'wear': 417, 'yesterday': 418, 'crazy': 419, 'meeting': 420, 'ice': 421, 'reason': 422, 'bring': 423, 'seems': 424, 'ya': 425, 'talking': 426, 'words': 427, 'road': 428, 'cut': 429, 'budget': 430, 'saturday': 431, 'later': 432, 'ok': 433, 'means': 434, 'saw': 435, 'feels': 436, 'on': 437, 'dead': 438, 'glad': 439, '12': 440, 'kinda': 441, 'staff': 442, 'listen': 443, 'able': 444, 'funny': 445, 'dance': 446, 'happen': 447, 'problem': 448, 'fight': 449, 'depression': 450, 'self': 451, 'gave': 452, 'loving': 453, 'la': 454, 'im': 455, 'word': 456, 'dream': 457, 'called': 458, 'ass': 459, 'put': 460, 'winner': 461, 'tried': 462, 'running': 463, 'hand': 464, 'slow': 465, 'hopefully': 466, 'drink': 467, 'award': 468, 'government': 469, 'sunday': 470, 'power': 471, 'kid': 472, 'sounds': 473, 'laugh': 474, 'waiting': 475, 'mean': 476, 'service': 477, 'luck': 478, 'girl': 479, 'photo': 480, 'alone': 481, 'ready': 482, 'social': 483, 'drive': 484, 'our': 485, 'drop': 486, 'en': 487, 'gone': 488, 'water': 489, 'girls': 490, 'either': 491, 'deserve': 492, 'yeah': 493, 'ask': 494, 'gold': 495, 'question': 496, 'drunk': 497, 'goal': 498, 'literally': 499, 'pizza': 500, 'vancouver': 501, 'light': 502, 'took': 503, 'trip': 504, 'stopped': 505, 'swear': 506, 'stuck': 507, 'radio': 508, 'far': 509, 'ugh': 510, 'failed': 511, 'enjoy': 512, 'street': 513, 'imagine': 514, 'have': 515, 'paper': 516, 'questions': 517, 'ca': 518, 'chicken': 519, 'congratulations': 520, 'national': 521, 'honestly': 522, 'mad': 523, 'p': 524, 'eyes': 525, 'broken': 526, 'sun': 527, 'election': 528, 'space': 529, 'taking': 530, 'more': 531, 'hockey': 532, 'shot': 533, 'cross': 534, 'experience': 535, 'at': 536, 'add': 537, 'warning': 538, 'president': 539, 'side': 540, 'piece': 541, 'trust': 542, 'el': 543, 'report': 544, 'close': 545, 'boy': 546, 'area': 547, 'walking': 548, 'wearing': 549, 'boys': 550, 'watched': 551, 'books': 552, 'traffic': 553, 'cry': 554, 'aka': 555, 'bunch': 556, 'angry': 557, 'sense': 558, 'loss': 559, 'comes': 560, 'wins': 561, 'post': 562, 'park': 563, 'loved': 564, 'giving': 565, 'turned': 566, 't': 567, 'song': 568, 'h': 569, 'afraid': 570, 'f': 571, 'strong': 572, 'process': 573, 'pleasure': 574, 'alright': 575, 'especially': 576, 'yorkton': 577, 'along': 578, 'bus': 579, 'action': 580, 'reading': 581, 'sit': 582, 'weeks': 583, 'stage': 584, 'omg': 585, 'forever': 586, 'according': 587, 'comfortable': 588, 'knowing': 589, 'safe': 590, 'share': 591, 'child': 592, 'bike': 593, 'had': 594, 'true': 595, 'online': 596, 'lunch': 597, 'almost': 598, 'played': 599, 'chance': 600, 'matter': 601, 'dress': 602, 'losing': 603, 'death': 604, 'george': 605, 'definitely': 606, 'text': 607, 'continue': 608, 'learning': 609, 'families': 610, 'positive': 611, 'smells': 612, 'rip': 613, 'others': 614, 'growing': 615, 'liked': 616, 'photos': 617, 'j': 618, 'warm': 619, 'interesting': 620, 'bit': 621, 'decided': 622, 'key': 623, 'sleeping': 624, 'parents': 625, 'eat': 626, 'north': 627, 'shout': 628, 'lose': 629, 'fantastic': 630, 'alberta': 631, 'pics': 632, 'album': 633, 'fall': 634, 'meet': 635, 'wonder': 636, 'calling': 637, 'die': 638, 'heard': 639, 'some': 640, 'straight': 641, 'pissed': 642, 'towards': 643, 'using': 644, 'updates': 645, 'sitting': 646, 'killing': 647, 'bill': 648, 'rights': 649, 'mom': 650, 'do': 651, '50': 652, 'trump': 653, 'joke': 654, 'picture': 655, 's': 656, 'too': 657, 'she': 658, 'book': 659, 'kanye': 660, 'together': 661, 'apparently': 662, 'jump': 663, 'fear': 664, 'gluten': 665, 'lucky': 666, 'order': 667, 'run': 668, 'realized': 669, 'sharing': 670, 'x': 671, 'telling': 672, 'struggling': 673, 'top': 674, 'hotel': 675, 'politicians': 676, 'snapchat': 677, 'tip': 678, 'campaign': 679, '15': 680, 'lie': 681, 'three': 682, 'small': 683, 'term': 684, 'clean': 685, 'email': 686, 'moment': 687, 'plus': 688, 'chocolate': 689, 'milk': 690, 'accidentally': 691, 'men': 692, 'needs': 693, 'sold': 694, 'shopping': 695, 'playoff': 696, 'calgary': 697, 'because': 698, 'delivery': 699, 'living': 700, 'page': 701, 'smart': 702, 'account': 703, 'opening': 704, 'confused': 705, 'smoke': 706, 'non': 707, 'role': 708, 'event': 709, 'industry': 710, 'cream': 711, 'entire': 712, 'cake': 713, 'breakfast': 714, 'then': 715, 'lady': 716, 'release': 717, 'reality': 718, 'vacation': 719, 'wine': 720, 'deal': 721, 'told': 722, 'expect': 723, 'spring': 724, 'folks': 725, 'mouth': 726, 'black': 727, 'whatever': 728, 'buy': 729, 'drinking': 730, 'hands': 731, 'moving': 732, 'died': 733, 'dinner': 734, 'amount': 735, 'brother': 736, 'choice': 737, 'bc': 738, '24': 739, 'case': 740, 'bird': 741, 'sale': 742, 'til': 743, 'cooking': 744, 'son': 745, 'test': 746, 'biggest': 747, 'cup': 748, 'design': 749, 'longer': 750, 'dogs': 751, 'leafs': 752, 'ta': 753, 'loud': 754, 'rock': 755, 'wake': 756, 'holy': 757, 'turns': 758, 'yo': 759, 'wind': 760, 'puck': 761, 'attack': 762, 'hold': 763, 'team': 764, 'harper': 765, 'bottle': 766, 'stream': 767, 'ppl': 768, 'gift': 769, 'blue': 770, 'shoutout': 771, 'truck': 772, 'serious': 773, 'figure': 774, 'b': 775, 'asking': 776, 'da': 777, 'after': 778, 'totally': 779, 'happiness': 780, 'sports': 781, 'destiny': 782, 'bitch': 783, 'inside': 784, 'debate': 785, 'pay': 786, 'speech': 787, 'e': 788, 'complain': 789, 'america': 790, 'affect': 791, 'hoping': 792, 'system': 793, 'cover': 794, 'singing': 795, 'williams': 796, 'awake': 797, 'battle': 798, 'mine': 799, '11': 800, 'different': 801, 'control': 802, 'plan': 803, 'pro': 804, 'suddenly': 805, 'expensive': 806, 'injury': 807, 'suicide': 808, 'reports': 809, 'lake': 810, 'episode': 811, 'pain': 812, 'smell': 813, 'halifax': 814, 'hearing': 815, 'progressive': 816, 'was': 817, 'following': 818, 'ed': 819, 'celebrating': 820, 'absolutely': 821, 'winter': 822, 'sign': 823, 'war': 824, 'terrible': 825, 'asked': 826, 'greatest': 827, 'moose': 828, 'broke': 829, 'supposed': 830, 'involved': 831, 'details': 832, 'closed': 833, 'bored': 834, 'hill': 835, 'brand': 836, 'sexual': 837, 'march': 838, 'brings': 839, 'given': 840, 'pic': 841, 'drugs': 842, 'kitchen': 843, 'building': 844, 'ad': 845, 'your': 846, 'facebook': 847, 'yrs': 848, 'doing': 849, 'mental': 850, 'exciting': 851, 'lives': 852, 'or': 853, 'thursday': 854, 'needed': 855, 'character': 856, 'off': 857, 'leading': 858, 'session': 859, 'sat': 860, 'dad': 861, 'weyburn': 862, 'equipment': 863, 'issued': 864, 'brilliant': 865, 'un': 866, 'plans': 867, 'trouble': 868, 'sound': 869, 'possible': 870, 'progress': 871, 'sk': 872, 'everywhere': 873, 'allowed': 874, 'suggest': 875, 'boyfriend': 876, 'state': 877, 'results': 878, 'such': 879, 'canadians': 880, '100': 881, 'shut': 882, 'five': 883, 'asks': 884, 'delicious': 885, 'happens': 886, 'advice': 887, 'did': 888, 'apartment': 889, 'waking': 890, 'visit': 891, 'wondering': 892, 'gives': 893, 'energy': 894, 'partner': 895, 'breaking': 896, 'dude': 897, '9am': 898, 'artist': 899, 'interview': 900, 'hurts': 901, 'enjoyed': 902, 'realize': 903, 'colour': 904, 'hair': 905, 'shirt': 906, 'bag': 907, 'pants': 908, 'genius': 909, 'rig': 910, 'panic': 911, 'am': 912, 'sens': 913, 'tweeting': 914, 'age': 915, 'round': 916, 'shades': 917, 'grey': 918, 'move': 919, 'meaning': 920, 'waste': 921, 'human': 922, 'throughout': 923, 'gop': 924, 'pink': 925, 'impressed': 926, 'teacher': 927, 'relationships': 928, 'brown': 929, 'very': 930, 'leaving': 931, 'half': 932, 'decisions': 933, 'anaya': 934, 'random': 935, 'humans': 936, 'card': 937, 'tea': 938, 'k': 939, 'hospital': 940, 'rather': 941, 'hurt': 942, 'across': 943, 'legs': 944, 'roll': 945, 'killed': 946, 'wonderful': 947, 'brain': 948, 'score': 949, 'deep': 950, 'update': 951, 'voice': 952, 'problems': 953, 'q': 954, 'pray': 955, 'gun': 956, 'indigenous': 957, 'near': 958, 'pls': 959, 'driving': 960, 'english': 961, 'often': 962, 'created': 963, 'thinks': 964, 'moon': 965, 'voters': 966, 'air': 967, 'fine': 968, 'brewery': 969, 'patients': 970, 'police': 971, 'lo': 972, 'low': 973, 'health': 974, 'pick': 975, 'lead': 976, 'train': 977, 'fix': 978, 'chat': 979, 'pop': 980, 'lights': 981, 'tyler': 982, 'migraine': 983, 'being': 984, 'players': 985, 'bought': 986, 'excuse': 987, 'crisis': 988, 'meat': 989, 'wtf': 990, 'spend': 991, 'french': 992, 'front': 993, 'swallow': 994, 'knows': 995, 'ottawa': 996, 'paid': 997, 'prize': 998, 'r': 999, 'answer': 1000, 'shop': 1001, 'fighting': 1002, 'claim': 1003, 'be': 1004, 'candidate': 1005, 'tune': 1006, 'odd': 1007, 'struggle': 1008, 'beat': 1009, 'bathroom': 1010, 'addiction': 1011, 'peeps': 1012, 'regular': 1013, 'questioning': 1014, 'windows': 1015, 'wide': 1016, 'downtown': 1017, 'feed': 1018, 'dog': 1019, 'accident': 1020, 'scene': 1021, 'race': 1022, 'hillary': 1023, 'vegan': 1024, 'planning': 1025, 'stressed': 1026, 'pint': 1027, 'via': 1028, 'le': 1029, 'known': 1030, 'stolen': 1031, 'fans': 1032, 'besides': 1033, 'somewhere': 1034, 'create': 1035, 'education': 1036, 'il': 1037, 'pas': 1038, 'reporting': 1039, 'blow': 1040, 'pages': 1041, 'number': 1042, 'choose': 1043, 'sadness': 1044, 'lovely': 1045, 'town': 1046, 'tix': 1047, 'mr': 1048, 'nap': 1049, 'sent': 1050, 'tap': 1051, 'whoever': 1052, 'personally': 1053, 'has': 1054, 'orange': 1055, 'born': 1056, 'immediately': 1057, 'sweet': 1058, 'woo': 1059, 'cbc': 1060, 'doc': 1061, 'certain': 1062, 'relationship': 1063, 'mcdonald': 1064, 'signed': 1065, 'local': 1066, 'peace': 1067, 'memory': 1068, 'scored': 1069, 'illness': 1070, 'buying': 1071, 'delivered': 1072, 'successful': 1073, 'carr': 1074, 'buddy': 1075, 'steal': 1076, 'ones': 1077, 'these': 1078, 'fake': 1079, 'retweet': 1080, 'recovery': 1081, 'stress': 1082, 'beginning': 1083, 'program': 1084, 'launch': 1085, 'opportunity': 1086, 'exactly': 1087, 'stewart': 1088, 'lying': 1089, 'cancelled': 1090, 'changed': 1091, 'shift': 1092, 'gaga': 1093, 'considering': 1094, 'mon': 1095, 'official': 1096, 'audio': 1097, 'dirty': 1098, 'tree': 1099, 'similar': 1100, 'ways': 1101, 'date': 1102, 'lately': 1103, 'likes': 1104, 'chest': 1105, 'mostly': 1106, 'heading': 1107, 'rn': 1108, 'treat': 1109, 'flag': 1110, 'comments': 1111, 'hall': 1112, 'pre': 1113, 'empty': 1114, 'exist': 1115, 'jesus': 1116, 'symbol': 1117, 'decent': 1118, 'disappointed': 1119, 'prince': 1120, 'screen': 1121, 'coverage': 1122, 'adelaide': 1123, 'richmond': 1124, 'works': 1125, 'anymore': 1126, 'noise': 1127, 'fucked': 1128, 'stars': 1129, 'app': 1130, 'waves': 1131, 'spending': 1132, 'touch': 1133, 'middle': 1134, 'screaming': 1135, 'level': 1136, 'goodness': 1137, 'seem': 1138, 'interested': 1139, 'society': 1140, 'cheers': 1141, 'glass': 1142, '14': 1143, 'attention': 1144, 'montreal': 1145, 'los': 1146, 'rink': 1147, 'tough': 1148, 'earlier': 1149, 'oil': 1150, 'attacks': 1151, 'wanted': 1152, 'grade': 1153, 'google': 1154, 'junior': 1155, 'stopping': 1156, 'american': 1157, 'soul': 1158, 'former': 1159, 'showing': 1160, 'champions': 1161, 'mi': 1162, 'respect': 1163, 'value': 1164, 'section': 1165, 'starbucks': 1166, 'version': 1167, 'about': 1168, 'mistakes': 1169, 'send': 1170, 'rainy': 1171, 'bernie': 1172, 'spent': 1173, 'starting': 1174, 'annoying': 1175, 'store': 1176, 'computer': 1177, 'finished': 1178, 'fit': 1179, 'playoffs': 1180, 'step': 1181, 'link': 1182, 'diy': 1183, 'ab': 1184, 'products': 1185, 'sometime': 1186, 'william': 1187, 'km': 1188, 'marke': 1189, 'garbage': 1190, 'bar': 1191, 'beach': 1192, 'whether': 1193, 'fair': 1194, 'birds': 1195, 'political': 1196, 'cheese': 1197, 'queen': 1198, 'dying': 1199, 'build': 1200, 'group': 1201, 'anyway': 1202, 'silence': 1203, 'helps': 1204, 'rcmp': 1205, 'women': 1206, 'keeps': 1207, 'trucks': 1208, 'common': 1209, 'note': 1210, 'exists': 1211, 'ending': 1212, 'pigeon': 1213, 'powerful': 1214, 'sing': 1215, 'catch': 1216, 'boston': 1217, 'youtube': 1218, 'lines': 1219, 'felt': 1220, 'teeth': 1221, 'truly': 1222, 'paying': 1223, 'lack': 1224, 'learned': 1225, 'tips': 1226, 'mum': 1227, 'risk': 1228, 'named': 1229, 'green': 1230, 'prayers': 1231, 'policy': 1232, 'centre': 1233, 'tax': 1234, 'focus': 1235, 'based': 1236, 'woman': 1237, 'patient': 1238, 'tom': 1239, 'monday': 1240, 'heat': 1241, 'stupid': 1242, 'jean': 1243, 'principles': 1244, 'pigeons': 1245, 'mail': 1246, 'floor': 1247, 'south': 1248, 'councillor': 1249, 'vehicle': 1250, 'cleaned': 1251, 'eu': 1252, 'sunscreen': 1253, 'decision': 1254, 'issues': 1255, 'regret': 1256, 'cold': 1257, 'niqab': 1258, 'worked': 1259, 'surprise': 1260, 'movies': 1261, 'culture': 1262, 'natural': 1263, 'except': 1264, 'migraines': 1265, 'higher': 1266, 'inspiration': 1267, 'goals': 1268, 'save': 1269, 'ontario': 1270, 'anti': 1271, 'cost': 1272, 'stand': 1273, 'clearly': 1274, 'notice': 1275, 'special': 1276, 'supporting': 1277, 'giant': 1278, 'accept': 1279, 'here': 1280, 'its': 1281, 'golf': 1282, 'field': 1283, 'tmrw': 1284, 'burger': 1285, 'sky': 1286, 'future': 1287, 'fly': 1288, 'cousin': 1289, 'easter': 1290, 'history': 1291, 'include': 1292, 'colleagues': 1293, 'deficits': 1294, 'released': 1295, 'politics': 1296, 'gta': 1297, 'winning': 1298, 'pair': 1299, 'return': 1300, 'thankful': 1301, 'humanity': 1302, 'una': 1303, '21': 1304, 'homework': 1305, 'enjoying': 1306, 'deserves': 1307, 'di': 1308, 'cheer': 1309, 'children': 1310, 'network': 1311, 'killer': 1312, 'providing': 1313, 'votes': 1314, 'athletes': 1315, 'endorse': 1316, 'max': 1317, 'embarrassed': 1318, 'characters': 1319, 'tbh': 1320, 'yay': 1321, 'sir': 1322, 'unless': 1323, 'sigh': 1324, 'career': 1325, 'bug': 1326, 'ronge': 1327, 'fest': 1328, 'albums': 1329, 'se': 1330, 'quiet': 1331, 'trudeau': 1332, 'justice': 1333, 'wednesday': 1334, 'earth': 1335, 'maria': 1336, 'ears': 1337, 'stole': 1338, 'artists': 1339, 'des': 1340, 'quotes': 1341, 'innovation': 1342, 'constantly': 1343, 'nyc': 1344, 'april': 1345, 'pitch': 1346, 'foot': 1347, 'shitty': 1348, 'calm': 1349, 'loser': 1350, '150': 1351, 'been': 1352, 'soup': 1353, 'edward': 1354, 'nights': 1355, 'kudos': 1356, 'vocal': 1357, 'supper': 1358, 'pump': 1359, 'budgets': 1360, 'including': 1361, 'stratford': 1362, 'gym': 1363, 'awe': 1364, 'fingers': 1365, 'finish': 1366, 'mantra': 1367, 'homemade': 1368, 'cookies': 1369, 'david': 1370, 'ideas': 1371, 'possibly': 1372, '3yo': 1373, 'favorite': 1374, 'doors': 1375, 'shoot': 1376, 'feelings': 1377, 'act': 1378, 'ate': 1379, 'painting': 1380, 'performing': 1381, 'digger': 1382, 'practice': 1383, 'comedy': 1384, 'measuring': 1385, 'cooler': 1386, 'window': 1387, 'severe': 1388, 'tan': 1389, 'boss': 1390, 'recommend': 1391, 'episodes': 1392, 'harder': 1393, 'cc': 1394, 'resign': 1395, 'survive': 1396, 'matinee': 1397, 'presentation': 1398, 'airport': 1399, 'four': 1400, 'marks': 1401, 'weight': 1402, 'law': 1403, 'cutting': 1404, 'block': 1405, 'oxford': 1406, '60': 1407, 'calls': 1408, 'sandwich': 1409, 'foreign': 1410, 'exams': 1411, 'xbox': 1412, 'fashion': 1413, 'homie': 1414, 'picking': 1415, 'load': 1416, 'standing': 1417, 'habs': 1418, 'outrage': 1419, 'cpc': 1420, '25': 1421, 'liberals': 1422, 'riley': 1423, 'opportunities': 1424, 'grad': 1425, 'country': 1426, 'pregnancy': 1427, 'status': 1428, 'woohoo': 1429, 'schedule': 1430, 'almond': 1431, 'pt': 1432, 'secure': 1433, 'appreciate': 1434, 'downloaded': 1435, 'helpful': 1436, 'shaking': 1437, 'lower': 1438, 'dang': 1439, 'ridiculous': 1440, 'quality': 1441, 'legal': 1442, 'impact': 1443, 'talks': 1444, 'suck': 1445, 'flute': 1446, 'bread': 1447, 'con': 1448, 'options': 1449, 'steve': 1450, 'touching': 1451, 'gorgeous': 1452, 'melt': 1453, 'purpose': 1454, 'mo': 1455, 'ball': 1456, 'frustrated': 1457, 'driver': 1458, 'solo': 1459, 'white': 1460, 'coalition': 1461, 'victory': 1462, 'ends': 1463, 'clips': 1464, 'project': 1465, 'bigger': 1466, 'bless': 1467, 'gotten': 1468, 'racist': 1469, 'stayed': 1470, '18': 1471, 'knock': 1472, 'third': 1473, 'horse': 1474, 'mode': 1475, 'eh': 1476, 'only': 1477, 'sunshine': 1478, 'crap': 1479, 'cats': 1480, 'kills': 1481, 'happening': 1482, 'central': 1483, 'research': 1484, 'musical': 1485, 'body': 1486, 'excellence': 1487, 'skill': 1488, 'attitude': 1489, 'prof': 1490, 'forced': 1491, 'clinton': 1492, 'sanders': 1493, 'storm': 1494, 'pressure': 1495, '2nd': 1496, 'worried': 1497, 'um': 1498, 'club': 1499, 'passes': 1500, 'access': 1501, 'fav': 1502, 'teach': 1503, 'crowd': 1504, 'pack': 1505, 'apple': 1506, 'horrible': 1507, 'difficult': 1508, 'onto': 1509, 'fought': 1510, 'effort': 1511, 'harm': 1512, 'dont': 1513, 'gas': 1514, 'swimming': 1515, 'july': 1516, 'yard': 1517, 'winds': 1518, 'suspended': 1519, 'speaking': 1520, 'highest': 1521, 'para': 1522, 'treasurer': 1523, 'drinks': 1524, 'swan': 1525, 'up': 1526, 'weak': 1527, 'final': 1528, 'nye': 1529, 'science': 1530, 'jenner': 1531, 'option': 1532, 'mary': 1533, 'teens': 1534, 'neighbours': 1535, 'ellie': 1536, 'donald': 1537, 'managed': 1538, 'harvest': 1539, 'performance': 1540, 'y': 1541, 'nations': 1542, 'megan': 1543, 'travel': 1544, 'door': 1545, 'theory': 1546, 'exam': 1547, 'stella': 1548, 'crying': 1549, 'completely': 1550, 'arm': 1551, 'standup': 1552, 'laughing': 1553, 'bullying': 1554, 'survived': 1555, 'mention': 1556, 'outta': 1557, 'pattern': 1558, 'wishes': 1559, 'original': 1560, 'bitches': 1561, 'mayor': 1562, 'hang': 1563, 'dreams': 1564, 'tech': 1565, 'pl': 1566, 'io': 1567, 'mulcair': 1568, 'shorts': 1569, 'learn': 1570, 'grand': 1571, 'tongue': 1572, 'discovered': 1573, 'avoid': 1574, 'follower': 1575, 'uk': 1576, 'si': 1577, 'dans': 1578, 'signs': 1579, 'depressed': 1580, 'throw': 1581, 'facts': 1582, 'benefit': 1583, 'hats': 1584, 'tempted': 1585, 'g': 1586, 'su': 1587, 'offensive': 1588, 'tour': 1589, 'busy': 1590, 'ticket': 1591, 'attacking': 1592, '10pm': 1593, 'merge': 1594, 'ooh': 1595, 'movement': 1596, 'bloody': 1597, 'juice': 1598, 'rogers': 1599, 'edmonton': 1600, 'hack': 1601, 'plenty': 1602, 'debates': 1603, 'physically': 1604, 'talent': 1605, 'opened': 1606, 'massive': 1607, 'development': 1608, 'savage': 1609, 'bath': 1610, 'randomly': 1611, 'timeline': 1612, 'major': 1613, 'schools': 1614, 'nearly': 1615, 'peter': 1616, 'doubt': 1617, 'scoop': 1618, 'breathe': 1619, 'karius': 1620, 'costs': 1621, 'colbert': 1622, 'huzzah': 1623, 'nintendo': 1624, 'university': 1625, 'positions': 1626, 'medication': 1627, 'responsible': 1628, 'announce': 1629, 'tuned': 1630, 'asshole': 1631, 'wishing': 1632, 'wisdom': 1633, 'quick': 1634, 'toast': 1635, 'values': 1636, 'van': 1637, 'woke': 1638, 'general': 1639, 'short': 1640, 'flash': 1641, 'stores': 1642, 'met': 1643, 'fabulous': 1644, 'com': 1645, 'adding': 1646, 'universe': 1647, 'boat': 1648, 'tweeter': 1649, '7pm': 1650, 'sec': 1651, 'land': 1652, 'sa': 1653, 'inspiring': 1654, 'entertainment': 1655, 'ads': 1656, 'kitchens': 1657, 'terms': 1658, 'form': 1659, 'west': 1660, 'remembered': 1661, 'hanging': 1662, 'outlets': 1663, 'douche': 1664, 'celebrity': 1665, 'those': 1666, 'happened': 1667, 'drops': 1668, 'costume': 1669, 'posting': 1670, 'personal': 1671, 'suffer': 1672, 'gunna': 1673, 'awkward': 1674, 'celebrate': 1675, 'direction': 1676, 'recent': 1677, 'nba': 1678, 'motivation': 1679, 'discover': 1680, 'discuss': 1681, 'remix': 1682, 'taste': 1683, 'physical': 1684, 'magic': 1685, 'taken': 1686, 'robert': 1687, 'apples': 1688, 'daily': 1689, 'considered': 1690, 'dumb': 1691, 'tears': 1692, 'm': 1693, 'signal': 1694, 'aside': 1695, 'erin': 1696, 'sister': 1697, 'mash': 1698, 'clinch': 1699, 'ride': 1700, 'medical': 1701, 'scared': 1702, 'challenge': 1703, 'behaviour': 1704, 'chipotle': 1705, 'mtl': 1706, 'melville': 1707, 'effect': 1708, 'overall': 1709, 'tomken': 1710, 'disorder': 1711, 'al': 1712, 'jacked': 1713, 'cole': 1714, 'flight': 1715, 'crash': 1716, 'couple': 1717, 'tub': 1718, 'surprised': 1719, 'category': 1720, 'robot': 1721, 'coach': 1722, 'fired': 1723, 'nhl': 1724, 'jam': 1725, 'main': 1726, 'toda': 1727, 'kendrick': 1728, 'officially': 1729, 'funding': 1730, 'racism': 1731, 'teen': 1732, 'regina': 1733, 'jose': 1734, 'bowl': 1735, 'landing': 1736, 'each': 1737, 'draw': 1738, 'reno': 1739, 'ups': 1740, 'winners': 1741, 'doctor': 1742, 'helping': 1743, 'carpet': 1744, 'tattoos': 1745, 'pillow': 1746, 'insurance': 1747, 'hits': 1748, 'effective': 1749, 'which': 1750, 'checked': 1751, 'review': 1752, 'lawyer': 1753, 'starts': 1754, '3pm': 1755, 'strategic': 1756, 'perry': 1757, 'scary': 1758, 'mt': 1759, 'creek': 1760, 'behave': 1761, 'difference': 1762, 'destroys': 1763, 'mac': 1764, 'dari': 1765, 'rush': 1766, 'arrow': 1767, 'am1190': 1768, '30am': 1769, 'tooth': 1770, 'tires': 1771, 'por': 1772, 'followed': 1773, 'passed': 1774, 'alcohol': 1775, 'sponsor': 1776, 'incredibly': 1777, 'pit': 1778, 'federal': 1779, 'rare': 1780, 'camera': 1781, 'million': 1782, 'lied': 1783, 'drake': 1784, 'freedom': 1785, 'bars': 1786, 'europe': 1787, 'wrestlemania': 1788, 'soooo': 1789, 'tattoo': 1790, 'patio': 1791, 'drew': 1792, 'boathouse': 1793, 'impressive': 1794, 'chevy': 1795, 'connect': 1796, 'wifi': 1797, 'iphone': 1798, 'esta': 1799, 'mayweather': 1800, 'imdb': 1801, 'takeover': 1802, 'product': 1803, 'pacioretty': 1804, 'popular': 1805, 'smelling': 1806, 'ooooh': 1807, 'fishing': 1808, 'lane': 1809, 'emergency': 1810, 'crews': 1811, 'route': 1812, 'cunt': 1813, 'adorable': 1814, 'stalking': 1815, 'meal': 1816, 'violent': 1817, 'overly': 1818, 'ale': 1819, 'headed': 1820, 'latest': 1821, 'begins': 1822, 'trail': 1823, 'lawn': 1824, 'math': 1825, 'grew': 1826, '2003': 1827, 'iraq': 1828, '2014': 1829, 'healing': 1830, 'tlc': 1831, 'rule': 1832, 'assisted': 1833, 'pens': 1834, 'bobby': 1835, '130': 1836, 'moncton': 1837, 'breathing': 1838, 'fairly': 1839, 'disagree': 1840, 'names': 1841, 'waterloo': 1842, 'jewellery': 1843, 'teachers': 1844, 'est': 1845, 'rail': 1846, 'cars': 1847, 'liquid': 1848, 'articles': 1849, '5th': 1850, 'potential': 1851, 'courage': 1852, 'hq': 1853, 'candidates': 1854, 'casino': 1855, 'a4': 1856, 'scammers': 1857, 'patrick': 1858, 'irish': 1859, 'stout': 1860, 'chronic': 1861, 'destroy': 1862, 'complete': 1863, '58': 1864, 'printer': 1865, 'cask': 1866, 'woah': 1867, 'crucible': 1868, 'chaos': 1869, 'goin': 1870, 'computers': 1871, 'harry': 1872, 'potter': 1873, 'socks': 1874, 'equal': 1875, 'brought': 1876, 'dislike': 1877, 'jobs': 1878, 'reddit': 1879, 'married': 1880, 'failure': 1881, 'message': 1882, 'article': 1883, 'nearby': 1884, 'restaurant': 1885, 'cnn': 1886, 'stephen': 1887, 'tweeps': 1888, 'msg': 1889, 'priorities': 1890, 'pat': 1891, 'hammond': 1892, 'target': 1893, 'became': 1894, 'daughter': 1895, 'settling': 1896, 'scores': 1897, 'rookie': 1898, 'seasons': 1899, 'changes': 1900, 'evil': 1901, 'coworker': 1902, 'nicely': 1903, 'table': 1904, 'badly': 1905, 'write': 1906, 'script': 1907, 'casually': 1908, 'notes': 1909, 'retweeted': 1910, 'dropped': 1911, 'bright': 1912, 'stomach': 1913, '4am': 1914, 'raises': 1915, 'earned': 1916, 'juno': 1917, 'awards': 1918, 'faculty': 1919, 'training': 1920, 'joint': 1921, 'senate': 1922, 'legendary': 1923, 'reminder': 1924, 'hartung': 1925, 'jon': 1926, 'feet': 1927, 'sore': 1928, 'throat': 1929, 'driveway': 1930, 'boost': 1931, 'noisy': 1932, 'construction': 1933, 'thunderstorm': 1934, 'torquay': 1935, 'oungre': 1936, 'sends': 1937, 'fascinating': 1938, 'example': 1939, 'discrimination': 1940, 'prizes': 1941, 'simple': 1942, 'groups': 1943, 'experiences': 1944, 'highly': 1945, 'six': 1946, 'hilarious': 1947, 'button': 1948, 'manage': 1949, 'senior': 1950, 'leadership': 1951, 'dr': 1952, 'wayne': 1953, 'dyer': 1954, 'sia': 1955, 'oscars': 1956, 'press': 1957, '2013': 1958, 'disaster': 1959, 'begin': 1960, 'yup': 1961, 'penalties': 1962, 'snowman': 1963, 'lyrics': 1964, 'xp': 1965, 'relevant': 1966, 'dispatch': 1967, 'gal': 1968, 'sending': 1969, 'laptop': 1970, 'pictures': 1971, 'hometown': 1972, 'hamilton': 1973, 'lpc': 1974, 'false': 1975, 'covering': 1976, 'corey': 1977, 'michael': 1978, 'barista': 1979, 'instagram': 1980, 'provides': 1981, 'documentary': 1982, 'towel': 1983, 'laundry': 1984, 'alive': 1985, 'confederate': 1986, 'oddly': 1987, 'cloud': 1988, 'programs': 1989, 'highway': 1990, 'sugar': 1991, 'tacs': 1992, 'received': 1993, 'mp': 1994, 'caucus': 1995, 'wb': 1996, 'hickie': 1997, 'moves': 1998, 'weed': 1999, 'built': 2000, 'tossed': 2001, 'childhood': 2002, 'trash': 2003, 'animal': 2004, '3ds': 2005, 'buys': 2006, 'frozen': 2007, 'retail': 2008, 'screeching': 2009, 'sexy': 2010, 'overtime': 2011, '10th': 2012, 'berth': 2013, 'company': 2014, 'mess': 2015, 'salespeople': 2016, 'useful': 2017, 'repeat': 2018, 'miserable': 2019, 'moms': 2020, 'attempting': 2021, 'tables': 2022, 'o': 2023, 'youth': 2024, 'insane': 2025, 'starving': 2026, 'profession': 2027, 'upset': 2028, 'soccer': 2029, 'productive': 2030, 'baked': 2031, 'cookie': 2032, 'tummy': 2033, 'duper': 2034, 'yummy': 2035, 'grant': 2036, 'king': 2037, 'gig': 2038, 'pen': 2039, 'minute': 2040, 'speaker': 2041, 'shipped': 2042, 'wall': 2043, 'wasted': 2044, 'shocking': 2045, 'brutal': 2046, 'laycock': 2047, 'butts': 2048, 'japanese': 2049, 'wrap': 2050, 'increased': 2051, 'reducing': 2052, 'owe': 2053, 'handle': 2054, 'blocking': 2055, 'lanes': 2056, 'chill': 2057, 'bojack': 2058, 'horseman': 2059, 'documentaries': 2060, 'bedtime': 2061, 'apologize': 2062, 'pumped': 2063, 'blizzard': 2064, 'temporary': 2065, 'issue': 2066, 'historic': 2067, 'momentum': 2068, 'kicks': 2069, 'devs': 2070, 'saskatoon': 2071, 'cavers': 2072, 'homeless': 2073, 'leonard': 2074, 'league': 2075, 'las': 2076, 'jumping': 2077, 'automatic': 2078, 'row': 2079, 'desire': 2080, 'races': 2081, '51': 2082, '61': 2083, 'followers': 2084, 'evening': 2085, 'shooter': 2086, 'employee': 2087, 'anger': 2088, 'lets': 2089, 'box': 2090, 'itunes': 2091, 'fixes': 2092, 'whatcha': 2093, 'fog': 2094, 'college': 2095, 'pressed': 2096, 'antman': 2097, 'uh': 2098, 'nicki': 2099, 'minaj': 2100, 'ms': 2101, 'funds': 2102, 'source': 2103, 'pinterest': 2104, 'furious': 2105, 'johnson': 2106, 'ashamed': 2107, 'ranked': 2108, '3rd': 2109, 'regulation': 2110, '1000': 2111, 'vip': 2112, 'concert': 2113, 'skin': 2114, 'ain': 2115, 'ref': 2116, 'bucket': 2117, 'undergrad': 2118, 'arms': 2119, 'contracts': 2120, 'ciel': 2121, '16': 2122, 'prospects': 2123, 'facing': 2124, 'wager': 2125, 'defensive': 2126, 'does': 2127, 'fifty': 2128, 'ability': 2129, 'consent': 2130, 'gw': 2131, 'sour': 2132, 'rules': 2133, 'albertans': 2134, 'suppose': 2135, 'christmas': 2136, 'metro': 2137, '70': 2138, 'expected': 2139, 'er': 2140, 'corinne': 2141, 'capital': 2142, 'football': 2143, 'foto': 2144, 're': 2145, 'currently': 2146, 'hungover': 2147, 'fox': 2148, 'most': 2149, 'opposition': 2150, 'heavy': 2151, 'massage': 2152, 'bruce': 2153, 'essentially': 2154, 'forgot': 2155, 'smoothie': 2156, 'boobs': 2157, 'viewing': 2158, 'parent': 2159, 'loves': 2160, 'dean': 2161, 'packed': 2162, 'obvious': 2163, 'confrontation': 2164, 'strength': 2165, 'perseverance': 2166, 'jackson': 2167, 'biz': 2168, 'helped': 2169, 'bite': 2170, 'garden': 2171, '730': 2172, 'females': 2173, 'united': 2174, 'states': 2175, 'awhile': 2176, 'draper': 2177, 'favor': 2178, 'circulation': 2179, 'conditions': 2180, 'wrote': 2181, 'crashed': 2182, 'equality': 2183, 'holiday': 2184, 'studio': 2185, 'shouldn': 2186, 'quit': 2187, 'stronger': 2188, 'tight': 2189, 'baird': 2190, 'related': 2191, 'lubezki': 2192, 'cinematographers': 2193, 'gap': 2194, 'hopes': 2195, 'numb': 2196, 'neck': 2197, 'witness': 2198, 'mature': 2199, 'appointment': 2200, 'decides': 2201, 'texture': 2202, 'toilet': 2203, 'committee': 2204, 'dinosaurs': 2205, 'bridge': 2206, 'population': 2207, 'angel': 2208, 'places': 2209, 'piss': 2210, 'todos': 2211, 'es': 2212, 'enjoyable': 2213, 'comment': 2214, 'down': 2215, 'market': 2216, 'pumpkin': 2217, 'anime': 2218, 'soundtrack': 2219, 'broadway': 2220, 'crush': 2221, 'lived': 2222, 'moved': 2223, 'wee': 2224, 'freelance': 2225, 'designers': 2226, 'portfolio': 2227, 'iron': 2228, 'banner': 2229, 'showed': 2230, 'listened': 2231, 'female': 2232, 'bottom': 2233, 'contributing': 2234, 'rim': 2235, 'relative': 2236, 'language': 2237, 'spoken': 2238, 'excitement': 2239, 'separate': 2240, 'dj': 2241, 'mais': 2242, 'bling': 2243, 'va': 2244, 'sort': 2245, 'package': 2246, 'idiot': 2247, 'parked': 2248, 'knew': 2249, 'gross': 2250, 'blankets': 2251, 'matt': 2252, 'recently': 2253, 'honest': 2254, 'snowy': 2255, 'surface': 2256, 'phones': 2257, 'consider': 2258, 'moore': 2259, 'sweetest': 2260, 'animator': 2261, 'deadline': 2262, 'crossed': 2263, 'wedding': 2264, 'videographer': 2265, 'previous': 2266, 'lord': 2267, 'journalists': 2268, 'memorial': 2269, 'admission': 2270, 'fri': 2271, 'continuing': 2272, 'struggled': 2273, 'lesson': 2274, 'skipped': 2275, 'entirely': 2276, 'strangers': 2277, 'l': 2278, 'nerds': 2279, 'species': 2280, 'kiss': 2281, 'somebody': 2282, 'eeh': 2283, 'freaked': 2284, 'slippery': 2285, 'grandpa': 2286, 'them': 2287, 'craving': 2288, 'yarn': 2289, 'iced': 2290, 'heaven': 2291, 'plants': 2292, 'unsure': 2293, 'gaming': 2294, 'concentrate': 2295, 'client': 2296, 'laing': 2297, 'track': 2298, 'hashtag': 2299, 'duty': 2300, 'leader': 2301, 'deserved': 2302, '1996': 2303, 'coconut': 2304, 'numbers': 2305, 'cohen': 2306, 'annoyed': 2307, 'memories': 2308, 'presents': 2309, 'dump': 2310, 'ethical': 2311, 'included': 2312, 'reply': 2313, 'appears': 2314, 'damages': 2315, 'removed': 2316, 'nest': 2317, 'own': 2318, 'ladies': 2319, 'stick': 2320, 'nationsl': 2321, 'scenes': 2322, 'snd': 2323, 'tbe': 2324, 'type': 2325, 'shore': 2326, 'island': 2327, 'retained': 2328, 'humour': 2329, 'pundit': 2330, 'laughs': 2331, 'visiting': 2332, 'somewhat': 2333, 'void': 2334, 'phrase': 2335, 'sabia': 2336, 'bueno': 2337, 'sets': 2338, 'offices': 2339, 'forums': 2340, 'targeted': 2341, 'tissues': 2342, 'atm': 2343, 'govt': 2344, 'peer': 2345, 'setting': 2346, 'bravo': 2347, 'touched': 2348, 'reference': 2349, 'youtubers': 2350, 'worrying': 2351, 'cameras': 2352, 'guest': 2353, 'caring': 2354, 'positively': 2355, 'suits': 2356, 'chase': 2357, 'badass': 2358, 'faith': 2359, 'shepherd': 2360, 'plz': 2361, 'haha': 2362, 'alice': 2363, 'easier': 2364, 'roy': 2365, 'models': 2366, 'boring': 2367, 'led': 2368, 'snl': 2369, 'danger': 2370, 'guardians': 2371, 'metre': 2372, 'meant': 2373, 'howling': 2374, 'depends': 2375, 'treats': 2376, 'labour': 2377, 'welp': 2378, 'sloppy': 2379, 'nowhere': 2380, 'sex': 2381, 'zeitgeist': 2382, 'upended': 2383, 'reaction': 2384, 'heck': 2385, 'shifts': 2386, 'shittier': 2387, 'birth': 2388, 'bryan': 2389, '300': 2390, 'expects': 2391, 'standard': 2392, 'anybody': 2393, 'henry': 2394, 'bae': 2395, 'xx': 2396, 'winding': 2397, 'view': 2398, 'costco': 2399, 'didnt': 2400, 'spider': 2401, 'spread': 2402, 'buckley': 2403, 'impression': 2404, 'companies': 2405, 'hart': 2406, 'naps': 2407, 'cabinet': 2408, 'available': 2409, 'oyster': 2410, 'player': 2411, 'heille': 2412, 'tu': 2413, 'favour': 2414, 'writing': 2415, 'videos': 2416, 'shared': 2417, 'easily': 2418, 'burn': 2419, 'board': 2420, 'linda': 2421, 'pra': 2422, 'vc': 2423, 'booth': 2424, 'basically': 2425, 'bear': 2426, 'result': 2427, 'pie': 2428, 'lee': 2429, 'liberal': 2430, 'prices': 2431, 'hurting': 2432, 'comfort': 2433, 'emily': 2434, 'fallout': 2435, 'entertaining': 2436, 'wife': 2437, 'complaining': 2438, 'single': 2439, 'doorstep': 2440, 'representative': 2441, 'kinds': 2442, 'muted': 2443, 'dick': 2444, 'holidays': 2445, 'careers': 2446, 'discussions': 2447, 'rape': 2448, 'brad': 2449, 'silly': 2450, 'vision': 2451, 'lactose': 2452, 'delight': 2453, 'assume': 2454, 'dragon': 2455, 'customer': 2456, 'actual': 2457, 'scarcity': 2458, 'bat': 2459, 'suffered': 2460, 'during': 2461, 'identity': 2462, 'kicking': 2463, 'period': 2464, 'bounce': 2465, 'advisory': 2466, 'statements': 2467, 'tuning': 2468, 'finals': 2469, 'puts': 2470, 'student': 2471, 'loan': 2472, 'zack': 2473, 'finger': 2474, 'fetch': 2475, 'falling': 2476, 'robbie': 2477, 'robin': 2478, 'shame': 2479, 'bipolar': 2480, 'recompensa': 2481, '000': 2482, 'eta': 2483, 'applause': 2484, '10am': 2485, 'twice': 2486, 'duceppe': 2487, 'connelly': 2488, 'closing': 2489, 'degrees': 2490, 'admit': 2491, 'arrive': 2492, 'allows': 2493, 'reach': 2494, 'thick': 2495, '500': 2496, 'quoi': 2497, 'brian': 2498, 'thompson': 2499, 'technology': 2500, 'proof': 2501, 'halloween': 2502, 'advantage': 2503, 'holding': 2504, 'gosh': 2505, 'goodridge': 2506, 'signing': 2507, 'mood': 2508, 'protected': 2509, 'paint': 2510, 'ran': 2511, 'fraser': 2512, 'decide': 2513, 'cheaper': 2514, 'digital': 2515, 'kitty': 2516, 'specialty': 2517, 'reaching': 2518, 'unfollowed': 2519, 'nasty': 2520, 'filling': 2521, 'noon': 2522, 'bullets': 2523, 'closely': 2524, '5am': 2525, 'lonely': 2526, 'bacon': 2527, 'suggested': 2528, 'ole': 2529, 'ep': 2530, 'feb': 2531, 'sos': 2532, 'spot': 2533, 'remi': 2534, 'sticking': 2535, 'abusive': 2536, 'blink': 2537, '23': 2538, 'carbon': 2539, 'ama': 2540, 'rich': 2541, 'em': 2542, 'pounding': 2543, 'ban': 2544, 'drank': 2545, 'nurses': 2546, 'chris': 2547, 'global': 2548, 'presented': 2549, 'concerned': 2550, 'cuts': 2551, 'bbq': 2552, 'tells': 2553, 'abilities': 2554, 'camping': 2555, 'remains': 2556, 'runs': 2557, 'pass': 2558, 'hunger': 2559, 'plane': 2560, 'approaching': 2561, 'rally': 2562, 'libraries': 2563, 'confusing': 2564, 'forest': 2565, 'damien': 2566, 'wheels': 2567, 'sidewalk': 2568, 'automatically': 2569, 'viterra': 2570, 'pets': 2571, 'interstellar': 2572, 'alarm': 2573, 'bean': 2574, 'slightly': 2575, 'delayed': 2576, 'worry': 2577, 'yahoo': 2578, 'hwy': 2579, 'east': 2580, 'rerouted': 2581, 'mother': 2582, 'launching': 2583, 'search': 2584, 'typical': 2585, 'judge': 2586, 'exhaust': 2587, 'splatoon': 2588, 'lessons': 2589, 'offering': 2590, 'should': 2591, 'sunrise': 2592, 'clothes': 2593, 'www': 2594, 'measures': 2595, 'capable': 2596, 'inconvenience': 2597, 'firing': 2598, 'parking': 2599, 'tengo': 2600, 'gildart': 2601, 'innovative': 2602, 'landlords': 2603, 'normand': 2604, 'brathwaite': 2605, 'lazy': 2606, 'transit': 2607, 'hr': 2608, 'dundas': 2609, 'unexpectedly': 2610, 'colours': 2611, 'cast': 2612, 'kept': 2613, 'brutality': 2614, 'mayo': 2615, 'napping': 2616, 'rangers': 2617, 'hounds': 2618, 'islanders': 2619, 'improve': 2620, 'cope': 2621, 'obama': 2622, 'rocks': 2623, 'rolling': 2624, '46th': 2625, 'anniversary': 2626, 'umbrella': 2627, 'conversation': 2628, 'cups': 2629, 'bex': 2630, 'pig': 2631, 'international': 2632, 'pool': 2633, 'joining': 2634, 'cleaners': 2635, '107': 2636, 'photoid': 2637, 'mmmmm': 2638, 'recommended': 2639, 'fueron': 2640, 'obviously': 2641, 'visa': 2642, 'includes': 2643, 'halfway': 2644, '35': 2645, 'adult': 2646, 'greater': 2647, 'imbeciles': 2648, 'happier': 2649, 'annual': 2650, 'respond': 2651, 'billionaires': 2652, 'pillows': 2653, 'punk': 2654, 'donuts': 2655, 'seconds': 2656, 'treasures': 2657, 'tries': 2658, 'amc': 2659, 'bbc': 2660, 'motion': 2661, 'wilson': 2662, 'voting': 2663, 'changing': 2664, 'colleague': 2665, 'forecast': 2666, 'onions': 2667, 'acceptance': 2668, 'carrying': 2669, 'promise': 2670, 'shirtless': 2671, 'ill': 2672, 'sea': 2673, 'min': 2674, 'usa': 2675, 'commission': 2676, 'reps': 2677, 'uncomfortable': 2678, 'assault': 2679, 'peak': 2680, 'journal': 2681, '26': 2682, 'accounts': 2683, 'ex': 2684, 'dollar': 2685, 'purchased': 2686, 'engram': 2687, 'weekly': 2688, 'strike': 2689, 'reward': 2690, 'interest': 2691, 'fights': 2692, 'lawsuit': 2693, 'skating': 2694, 'aku': 2695, 'jadi': 2696, 'rap': 2697, 'pal': 2698, 'entered': 2699, 'nova': 2700, 'bmi': 2701, 'someday': 2702, 'animals': 2703, 'everyday': 2704, 'prove': 2705, 'pokemon': 2706, 'master': 2707, 'turnout': 2708, 'presence': 2709, 'wanting': 2710, 'lands': 2711, 'furio': 2712, 'speak': 2713, 'ns': 2714, 'deus': 2715, 'purchasing': 2716, 'feminist': 2717, 'apply': 2718, 'shower': 2719, 'miles': 2720, 'eventually': 2721, 'younger': 2722, 'sean': 2723, 'coral': 2724, 'shade': 2725, 'fisher': 2726, 'promises': 2727, 'ako': 2728, 'decor': 2729, 'humboldt': 2730, 'title': 2731, 'porn': 2732, 'roads': 2733, 'curling': 2734, 'sales': 2735, 'agree': 2736, 'vegetarian': 2737, 'site': 2738, 'ui': 2739, 'upcycle': 2740, 'surprisingly': 2741, 'ah': 2742, 'leg': 2743, 'glitch': 2744, 'outage': 2745, 'goddamn': 2746, 'garotos': 2747, 'saddest': 2748, 'prospect': 2749, 'refuge': 2750, 'band': 2751, 'alta': 2752, 'newsworthy': 2753, 'prepared': 2754, 'soggy': 2755, 'penalty': 2756, 'reminding': 2757, 'mins': 2758, 'bo': 2759, 'understanding': 2760, 'affects': 2761, 'funniest': 2762, 'modifying': 2763, 'headline': 2764, 'leaders': 2765, '6am': 2766, 'london': 2767, 'electric': 2768, 'technically': 2769, 'classes': 2770, 'damaged': 2771, 'fist': 2772, 'careful': 2773, 'opposite': 2774, 'lazypants': 2775, 'hello': 2776, 'officer': 2777, 'dancing': 2778, 'gender': 2779, 'katy': 2780, 'lenny': 2781, 'kravitz': 2782, 'cheap': 2783, 'beers': 2784, 'hari': 2785, 'channel': 2786, 'turtles': 2787, 'beyonce': 2788, 'tag': 2789, 'engagement': 2790, 'supporters': 2791, 'shots': 2792, 'study': 2793, 'data': 2794, 'turning': 2795, 'outfit': 2796, 'fits': 2797, 'barely': 2798, 'qui': 2799, 'eve': 2800, '40': 2801, 'kick': 2802, 'sheep': 2803, 'immune': 2804, 'timer': 2805, 'eps': 2806, 'id': 2807, 'advanced': 2808, 'moral': 2809, 'vr': 2810, 'lens': 2811, 'inches': 2812, 'concern': 2813, 'worker': 2814, 'adam': 2815, 'sandler': 2816, 'teaming': 2817, 'nobody': 2818, 'euro': 2819, 'banks': 2820, 'burrows': 2821, 'oscar': 2822, 'quietly': 2823, 'cough': 2824, 'union': 2825, 'illegal': 2826, 'contact': 2827, 'pretend': 2828, 'enemies': 2829, '19': 2830, 'dreamt': 2831, 'lemonade': 2832, 'womp': 2833, 'where': 2834, 'answers': 2835, 'demand': 2836, 'beauty': 2837, 'partners': 2838, 'xanax': 2839, 'dat': 2840, 'greece': 2841, 'command': 2842, 'explore': 2843, 'unfollow': 2844, 'department': 2845, 'puked': 2846, 'hoop': 2847, 'wise': 2848, 'cattle': 2849, 'actions': 2850, 'survivor': 2851, 'memoriam': 2852, 'hbo': 2853, 'murray': 2854, 'liam': 2855, 'payne': 2856, 'colorado': 2857, 'beyond': 2858, 'correct': 2859, 'santa': 2860, 'toothbrush': 2861, 'carli': 2862, 'lloyd': 2863, 'proceed': 2864, 'macbook': 2865, '5s': 2866, 'squirrel': 2867, 'chipmunk': 2868, 'slapper': 2869, 'kentucky': 2870, 'uabzzqw1mw': 2871, 'geofeedia': 2872, 'neat': 2873, 'frase': 2874, 'duele': 2875, 'unpopular': 2876, 'creed': 2877, 'sponsoring': 2878, 'dark': 2879, 'knight': 2880, 'reject': 2881, 'bid': 2882, 'nirvana': 2883, 'mcdonadl': 2884, 'wayyyyyy': 2885, 'wondered': 2886, 'gear': 2887, 'british': 2888, 'columbia': 2889, 'bloopers': 2890, 'distant': 2891, 'reign': 2892, 'terror': 2893, 'westminster': 2894, 'bitccchhhh': 2895, 'reel': 2896, 'naked': 2897, 'sb': 2898, 'alternate': 2899, 'enters': 2900, 'indeed': 2901, 'inevitable': 2902, 'talked': 2903, 'roberto': 2904, 'carlos': 2905, 'facetime': 2906, 'sheeran': 2907, 'quitting': 2908, 'bff': 2909, 'jail': 2910, 'ps1': 2911, 'scotch': 2912, 'evacuees': 2913, 'roundhouse': 2914, 'craft': 2915, 'strategy': 2916, '1500': 2917, 'shares': 2918, 'tame': 2919, 'impala': 2920, 'ratatat': 2921, 'fast': 2922, 'binge': 2923, 'sonar': 2924, 'eyl': 2925, 'kadar': 2926, 'ilk': 2927, 'ara': 2928, 'rmas': 2929, 'tamamlayacak': 2930, 'kamuoyuyla': 2931, 'payla': 2932, 'acak': 2933, 'marchese': 2934, 'missyoupatates': 2935, 'isil': 2936, 'supported': 2937, 'chretien': 2938, 'nightly': 2939, 'pffffff': 2940, 'young': 2941, 'recovering': 2942, 'stressing': 2943, 'impede': 2944, 'ugh9vmhdng': 2945, 'hump': 2946, 'privatize': 2947, 'pbs': 2948, 'otherwise': 2949, 'reoccurring': 2950, 'follback': 2951, 'ka': 2952, 'lp6tl4f4fb': 2953, 'negativity': 2954, 'contagious': 2955, 'wire': 2956, 'uhh': 2957, 'quake': 2958, 'eeeek': 2959, 'lmao': 2960, 'uses': 2961, 'ds': 2962, 'pins': 2963, 'syrians': 2964, 'lebanon': 2965, 'kitchener': 2966, 'cambridge': 2967, 'tenor': 2968, 'clef': 2969, 'brooch': 2970, 'corp': 2971, 'qu': 2972, 'filles': 2973, 'comme': 2974, 'hommes': 2975, 'juste': 2976, 'tres': 2977, 'humains': 2978, 'gaux': 2979, 'cn': 2980, 'ebenezer': 2981, 'derailment': 2982, 'leaked': 2983, 'sulfur': 2984, 'slaps': 2985, 'purposeless': 2986, 'motivational': 2987, 'educational': 2988, 'uncover': 2989, 'limits': 2990, 'picabo': 2991, 'inviting': 2992, 'ridings': 2993, 'ughhhhhh': 2994, 'opted': 2995, 'innovating': 2996, 'herald': 2997, 'roasts': 2998, 'toasts': 2999, 'a8': 3000, 'trusted': 3001, 'rerouters': 3002, 'display': 3003, 'darkness': 3004, 'lies': 3005, 'myth': 3006, 'stew': 3007, 'sandwiches': 3008, 'glasses': 3009, 'treatment': 3010, 'couples': 3011, 'counseling': 3012, 'guilt': 3013, 'caribbean': 3014, 'dates': 3015, 'platter': 3016, 'buffalo': 3017, 'fajitas': 3018, 'reminds': 3019, 'appropriate': 3020, 'print': 3021, 'spelling': 3022, 'error': 3023, 'photoshop': 3024, 'spellcheck': 3025, 'marathoning': 3026, 'refresh': 3027, 'epi': 3028, 'stoked': 3029, 'laggiest': 3030, 'match': 3031, 'utter': 3032, 'airconditioning': 3033, 'grasp': 3034, 'reneging': 3035, 'howbouts': 3036, 'relying': 3037, 'yellow': 3038, 'ye': 3039, 'flames': 3040, 'jersey': 3041, 'breast': 3042, 'spices': 3043, 'bland': 3044, 'yoouuu': 3045, 'pleks': 3046, 'outwardly': 3047, 'stoic': 3048, 'lou': 3049, 'holtz': 3050, 'regardless': 3051, 'organization': 3052, 'hug': 3053, 'deed': 3054, 'abhishek': 3055, 'bachcchan': 3056, 'aishwary': 3057, 'tomato': 3058, 'pepper': 3059, 'pairs': 3060, 'frittata': 3061, 'whisk': 3062, 'defeat': 3063, 'failures': 3064, 'woodberry': 3065, 'hoffman': 3066, 'serving': 3067, 'trustee': 3068, 'unpaid': 3069, 'creation': 3070, 'participatory': 3071, 'traditional': 3072, 'stem': 3073, 'maker': 3074, 'overwhelmed': 3075, 'tragedy': 3076, 'blocka': 3077, 'riverside': 3078, 'stanton': 3079, 'impersonation': 3080, 'bdqkzwuwfs': 3081, 'beside': 3082, 'workplace': 3083, 'csa': 3084, 'veggies': 3085, 'unforgettable': 3086, 'imo': 3087, 'baseball': 3088, 'zerr': 3089, 'focused': 3090, 'brass': 3091, 'regional': 3092, 'numbered': 3093, 'quinn': 3094, 'clears': 3095, 'yessss': 3096, '81': 3097, 'chart': 3098, 'pkftpy7nox': 3099, 'depend': 3100, 'scarier': 3101, '67ptftnpht': 3102, 'monthly': 3103, 'donor': 3104, 'canvassers': 3105, 'icepocalypse': 3106, 'cycle': 3107, 'ygk': 3108, 'lombardi': 3109, 'drafting': 3110, 'subtle': 3111, 'reinstate': 3112, 'existing': 3113, 'interactivity': 3114, 'fitzgerald': 3115, 'martell': 3116, 'oven': 3117, 'cutest': 3118, 'adventurous': 3119, 'innerworkings': 3120, 'stink': 3121, 'stove': 3122, 'fussing': 3123, 'faceplanting': 3124, 'helmet': 3125, 'sourcing': 3126, 'mirrored': 3127, 'lighting': 3128, 'flooring': 3129, 'inspired': 3130, 'kate': 3131, 'cheerleader': 3132, 'forgets': 3133, 'trashthe': 3134, 'patience': 3135, 'inuyasha': 3136, 'added': 3137, 'vengeance': 3138, 'gritty': 3139, 'spy': 3140, 'ircv892gko': 3141, 'sephora': 3142, 'growling': 3143, 'loudly': 3144, 'cereal': 3145, 'protective': 3146, 'services': 3147, 'increase': 3148, 'doesnt': 3149, 'rainfall': 3150, 'western': 3151, 'confidence': 3152, 'sherman': 3153, 'guidelines': 3154, 'descriptions': 3155, 'nonetheless': 3156, 'langenburg': 3157, 'jeff': 3158, 'qualifier': 3159, 'puns': 3160, 'replace': 3161, 'capacity': 3162, 'cans': 3163, 'cubic': 3164, 'litres': 3165, 'realest': 3166, 'alldayerrrday': 3167, 'trickle': 3168, 'charger': 3169, 'push': 3170, 'eyed': 3171, 'vireo': 3172, 'areas': 3173, 'healthy': 3174, 'giesbrecht': 3175, 'biebs': 3176, 'phase': 3177, 'turing': 3178, 'lgbtq': 3179, 'persecution': 3180, 'horrifying': 3181, 'buena': 3182, 'onda': 3183, 'quiso': 3184, 'regalar': 3185, 'perro': 3186, 'employers': 3187, 'shuts': 3188, 'ally': 3189, 'marginalized': 3190, 'believing': 3191, 'catastrophe': 3192, 'shomi': 3193, 'blew': 3194, 'pressing': 3195, 'chancellor': 3196, 'trifecta': 3197, 'conflict': 3198, 'participation': 3199, 'weirdest': 3200, 'wellness': 3201, 'tribute': 3202, 'democrats': 3203, 'harsh': 3204, 'dose': 3205, 'kingdom': 3206, 'fuel': 3207, 'kd': 3208, 'dos': 3209, 'nots': 3210, 'pitching': 3211, 'projects': 3212, 'becoming': 3213, 'pok': 3214, 'trainer': 3215, 'soldier': 3216, 'northern': 3217, 'cider': 3218, 'describe': 3219, 'loading': 3220, 'timekeeper': 3221, 'experienced': 3222, 'referee': 3223, 'gospel': 3224, 'force': 3225, 'feat': 3226, 'eben': 3227, '16q0annkkx': 3228, 'aogbl2plpe': 3229, 'jk': 3230, 'simmons': 3231, 'kesler': 3232, 'rofl': 3233, 'causes': 3234, 'gain': 3235, 'protection': 3236, 'prevalence': 3237, 'descrimination': 3238, 'q5': 3239, 'maximize': 3240, 'sysadmin': 3241, 'ssh': 3242, 'config': 3243, 'organized': 3244, 'servers': 3245, 'hydro': 3246, 'till': 3247, 'knocked': 3248, 'liking': 3249, 'corpse': 3250, 'students': 3251, 'presentations': 3252, 'crime': 3253, 'subtitles': 3254, 'remaining': 3255, 'florals': 3256, 'parka': 3257, 'mto': 3258, 'regulations': 3259, 'passenger': 3260, 'gs': 3261, 'planner': 3262, 'horn': 3263, 'ot': 3264, 'murph': 3265, 'drought': 3266, 'ants': 3267, 'caterpillars': 3268, 'moths': 3269, 'chomping': 3270, 'grasshoppers': 3271, 'ugly': 3272, 'lethbridge': 3273, 'limousine': 3274, '1200': 3275, 'voiced': 3276, '2011': 3277, 'onatrio': 3278, '44': 3279, 'gains': 3280, 'were': 3281, 'bingo': 3282, 'tiring': 3283, 'rosset': 3284, 'receiving': 3285, 'brethour': 3286, 'jacqui': 3287, 'judges': 3288, 'pub': 3289, 'similarity': 3290, 'disability': 3291, 'diagnosis': 3292, 'korea': 3293, 'prepping': 3294, 'gastropocalypse': 3295, 'bedside': 3296, 'electrolytes': 3297, 'bowls': 3298, 'basket': 3299, 'sheets': 3300, 'handy': 3301, 'bathrooms': 3302, 'stocked': 3303, 'letting': 3304, 'wheel': 3305, 'irresponsible': 3306, 'raccoons': 3307, 'coolest': 3308, 'surpression': 3309, 'keeping': 3310, 'enslave': 3311, 'african': 3312, 'maps': 3313, 'patriotic': 3314, 'psychosis': 3315, 'avra': 3316, 'selick': 3317, 'spec': 3318, 'tswassassen': 3319, 'ferry': 3320, 'terminal': 3321, 'tic': 3322, 'op': 3323, 'tory': 3324, 'avail': 3325, 'hiding': 3326, 'lewis': 3327, 'delays': 3328, 'cleanup': 3329, 'surplus': 3330, 'supplies': 3331, 'instruction': 3332, 'manual': 3333, 'malms': 3334, 'bop': 3335, 'toy': 3336, 'shouts': 3337, 'crossing': 3338, 'dvd': 3339, '200485': 3340, 'previews': 3341, 'unintelligible': 3342, 'pekoe': 3343, 'vanilla': 3344, '1970s': 3345, 'commitment': 3346, 'pulls': 3347, 'cheque': 3348, 'vendors': 3349, 'bestfriend': 3350, 'aws': 3351, 'aww': 3352, 'tara': 3353, 'fab': 3354, 'jason': 3355, 'mraz': 3356, 'lungs': 3357, 'bleeding': 3358, 'rewind': 3359, 'biddy': 3360, 'busses': 3361, 'daycares': 3362, 'mujer': 3363, 'prueba': 3364, 'negro': 3365, 'vuelve': 3366, 'comer': 3367, 'blanquito': 3368, 'vbac': 3369, 'vba2c': 3370, 'ucc': 3371, 'levine': 3372, 'dartmouth': 3373, 'agent': 3374, 'trips': 3375, 'risers': 3376, 'calories': 3377, 'matters': 3378, 'yeesh': 3379, 'protect': 3380, 'preemptive': 3381, 'rory': 3382, 'grandfather': 3383, 'richard': 3384, 'gilmore': 3385, 'herrmann': 3386, 'v': 3387, 'mouths': 3388, 'constant': 3389, 'loneliness': 3390, 'father': 3391, 'raised': 3392, 'practised': 3393, 'pet': 3394, 'jimbo': 3395, 'frequently': 3396, 'poems': 3397, 'rhymes': 3398, 'keynote': 3399, 'hirdes': 3400, 'forms': 3401, 'pangs': 3402, 'homesickness': 3403, 'shooters': 3404, 'huron': 3405, 'shoppers': 3406, 'lab': 3407, 'lagarde': 3408, 'fmi': 3409, 'atragantan': 3410, 'desorbitados': 3411, 'sueldos': 3412, 'tiburones': 3413, 'clnrrwuxtr': 3414, 'examining': 3415, 'retirement': 3416, 'bday': 3417, 'n8': 3418, 'baggy': 3419, 'smiles': 3420, 'puddle': 3421, 'mint': 3422, 'fave': 3423, 'ahead': 3424, 'tuition': 3425, '227': 3426, 'corporate': 3427, 'taxes': 3428, 'increases': 3429, 'kat': 3430, 'murdoch': 3431, 'fiver': 3432, 'slo': 3433, 'shotgun': 3434, 'wells': 3435, 'graduating': 3436, 'acting': 3437, 'patriots': 3438, 'deflated': 3439, 'increasingly': 3440, 'taxis': 3441, 'violating': 3442, 'laws': 3443, 'root': 3444, 'cults': 3445, 'parenting': 3446, 'haircut': 3447, 'u2': 3448, 'wasting': 3449, 'adios': 3450, 'cst': 3451, 'woodall': 3452, 'sacrifice': 3453, 'ridiculously': 3454, 'searches': 3455, 'omnibar': 3456, 'chrome': 3457, 'infer': 3458, 'greet': 3459, 'effectively': 3460, 'endorsed': 3461, 'furry': 3462, 'snowing': 3463, 'johnny': 3464, 'drama': 3465, 'academy': 3466, 'ctrain': 3467, 'spins': 3468, 'lap': 3469, 'python': 3470, 'redis': 3471, 'posgresql': 3472, 'flask': 3473, 'sohcahtoa': 3474, '902': 3475, 'garage': 3476, 'sniper': 3477, 'poc': 3478, 'destroying': 3479, 'hero': 3480, 'both': 3481, 'performers': 3482, 'appalling': 3483, 'nimoy': 3484, 'spock': 3485, '83': 3486, 'guide': 3487, 'tie': 3488, 'breaker': 3489, 'replay': 3490, 'ita': 3491, 'excuses': 3492, 'rehydrate': 3493, 'listens': 3494, 'earl': 3495, 'sweatshirt': 3496, 'mama': 3497, 'pocas': 3498, 'harmonizers': 3499, 'votan': 3500, 'che': 3501, 'r5': 3502, 'personality': 3503, 'alteast': 3504, 'lavender': 3505, 'blindly': 3506, 'trusting': 3507, 'sources': 3508, 'bandwagon': 3509, 'quantifiable': 3510, 'noun': 3511, 'biscuits': 3512, 'meatloaf': 3513, 'scratch': 3514, 'revealed': 3515, 'varying': 3516, 'improved': 3517, 'claire': 3518, 'danes': 3519, 'makeup': 3520, 'blushes': 3521, 'surprises': 3522, 'recognizing': 3523, 'professions': 3524, 'skills': 3525, 'devaluing': 3526, 'christians': 3527, 'willing': 3528, '119': 3529, 'spaces': 3530, 'infinitely': 3531, 'flexible': 3532, 'tsn1': 3533, 'blackhawks': 3534, 'sunburn': 3535, 'degree': 3536, 'bittchhhh': 3537, 'dilemma': 3538, 'nachos': 3539, 'disgruntled': 3540, 'askew': 3541, 'skype': 3542, 'laggy': 3543, '90s': 3544, 'hotdamn': 3545, 'grass': 3546, 'topless': 3547, 'stain': 3548, 'slap': 3549, 'salon': 3550, 'fill': 3551, 'fiction': 3552, 'branch': 3553, 'comic': 3554, 'convention': 3555, '101': 3556, 'cosplay': 3557, 'naturally': 3558, 'vitamins': 3559, 'collapse': 3560, 'mystar': 3561, 'over': 3562, 'again': 3563, 'ralph': 3564, 'marston': 3565, 'enthusiastic': 3566, 'poop': 3567, 'waving': 3568, 'gawd': 3569, 'ps': 3570, 'instantly': 3571, 'heal': 3572, 'paranoid': 3573, 'vampires': 3574, 'thirsty': 3575, 'hahahahaha': 3576, 'sparkling': 3577, 'animation': 3578, 'hahahanooooo': 3579, 'cape': 3580, 'breton': 3581, 'marvel': 3582, 'scream': 3583, 'officials': 3584, 'volunteers': 3585, 'visitors': 3586, 'piggy': 3587, 'drenched': 3588, 'ooze': 3589, 'tmnt': 3590, 'sheeple': 3591, 'blames': 3592, 'thunder': 3593, 'phenomenon': 3594, 'barometric': 3595, 'ultimate': 3596, 'snowball': 3597, 'unknown': 3598, 'ash': 3599, 'rad': 3600, 'sweater': 3601, 'minds': 3602, 'gaboury': 3603, 'camper': 3604, 'curl': 3605, 'youngsters': 3606, 'recognized': 3607, 'ashley': 3608, 'avengers': 3609, 'woulda': 3610, 'joined': 3611, '19th': 3612, 'nationally': 3613, 'sjhl': 3614, 'unbeaten': 3615, 'rodeo': 3616, 'wash': 3617, 'poison': 3618, 'ongsr': 3619, 'rsrjqx4ntp': 3620, 'file': 3621, 'crescent': 3622, 'dylan': 3623, 'vacay': 3624, 'tillyoulove': 3625, 'entertained': 3626, 'prelims': 3627, 'undercards': 3628, 'oasis': 3629, 'sewww': 3630, 'interference': 3631, 'although': 3632, 'insists': 3633, 'saud': 3634, 'criminals': 3635, 'dependent': 3636, 'upon': 3637, 'rockefeller': 3638, 'suggestion': 3639, 'bronies': 3640, 'emails': 3641, 'brewfest': 3642, 'beertender': 3643, 'melissa': 3644, 'invited': 3645, 'beavers': 3646, 'wmbl': 3647, 'friendly': 3648, 'nadie': 3649, 'rellena': 3650, 'este': 3651, 'puto': 3652, 'vac': 3653, 'empanadas': 3654, 'meerkat': 3655, 'streaming': 3656, 'select': 3657, 'shoots': 3658, 'nay': 3659, 'bf': 3660, 'sequel': 3661, 'tort': 3662, 'bodily': 3663, 'sadar': 3664, 'diri': 3665, 'pengen': 3666, 'kita': 3667, 'jauh': 3668, 'dulu': 3669, 'patch': 3670, 'excellent': 3671, 'analysis': 3672, 'mths': 3673, 'permanently': 3674, 'jobless': 3675, 'stickers': 3676, 'unfortunately': 3677, 'beetle': 3678, 'fucks': 3679, 'clogging': 3680, 'feminine': 3681, 'hygiene': 3682, 'pst': 3683, 'exempt': 3684, 'saskatchewan': 3685, '1am': 3686, 'incorporates': 3687, 'byrd': 3688, 'ava': 3689, 'opera': 3690, 'singer': 3691, 'neoprene': 3692, 'bikini': 3693, 'arrived': 3694, 'blake': 3695, 'lively': 3696, 'preggo': 3697, 'youngblood': 3698, 'etait': 3699, 'bien': 3700, 'pitcher': 3701, 'aaron': 3702, 'sanchez': 3703, 'manager': 3704, 'gibbons': 3705, 'skirmish': 3706, 'blame': 3707, 'mutant': 3708, 'testing': 3709, 'collections': 3710, 'squished': 3711, 'grape': 3712, 'drain': 3713, 'bothered': 3714, 'ronaldo': 3715, 'messi': 3716, 'julian': 3717, 'guzman': 3718, 'levels': 3719, 'snapback': 3720, 'diversify': 3721, 'dreaming': 3722, 'response': 3723, 'alternative': 3724, 'mensajes': 3725, 'mande': 3726, 'pusieran': 3727, 'gusta': 3728, 'exploding': 3729, 'faces': 3730, 'continually': 3731, 'pushing': 3732, 'items': 3733, 'sru5zqlofg': 3734, 'debating': 3735, 'liars': 3736, 'hippy': 3737, 'predicting': 3738, 'minority': 3739, 'softly': 3740, 'objects': 3741, 'couches': 3742, 'improv': 3743, 'invite': 3744, 'bruised': 3745, 'hardcore': 3746, 'environmentalist': 3747, 'mission': 3748, 'accomplished': 3749, 'republican': 3750, 'trans': 3751, 'myopic': 3752, 'crotch': 3753, 'ignores': 3754, 'unelected': 3755, 'bureaucrats': 3756, 'current': 3757, 'legislative': 3758, 'interrupting': 3759, 'nora': 3760, 'daycare': 3761, 'ttc': 3762, 'lansdowne': 3763, 'bay': 3764, '26th': 3765, 'memo': 3766, 'baquet': 3767, 'collapsed': 3768, 'newsroom': 3769, 'champion': 3770, 'yoda': 3771, 'browns': 3772, 'actress': 3773, 'hopeful': 3774, 'optimistic': 3775, 'attracting': 3776, 'connections': 3777, 'stirfrys': 3778, 'tolerate': 3779, 'raven': 3780, 'toby': 3781, 'shell': 3782, 'insect': 3783, 'satire': 3784, 'break': 3785, 'dictionary': 3786, 'greens': 3787, 'planted': 3788, 'haul': 3789, 'dresser': 3790, 'flights': 3791, 'stairs': 3792, 'kijiji': 3793, 'bummer': 3794, 'mates': 3795, 'dudes': 3796, 'determination': 3797, 'posited': 3798, 'foundational': 3799, 'documents': 3800, 'limited': 3801, 'karma': 3802, 'september': 3803, 'supporter': 3804, 'staring': 3805, 'gd': 3806, 'nite': 3807, 'collossal': 3808, 'recents': 3809, 'attempts': 3810, 'barriers': 3811, 'aches': 3812, 'etc': 3813, 'heavenly': 3814, 'rural': 3815, 'recommending': 3816, 'highways': 3817, 'fined': 3818, 'smile': 3819, 'louder': 3820, 'benched': 3821, 'doug': 3822, 'martin': 3823, 'erik': 3824, 'karlsson': 3825, 'erikson': 3826, 'studies': 3827, 'lexi': 3828, 'gunner': 3829, 'couch': 3830, 'negatively': 3831, 'devoted': 3832, 'achieving': 3833, 'sexting': 3834, 'uhhhhhh': 3835, 'sparkle': 3836, 'honey': 3837, 'warmup': 3838, 'aces': 3839, 'cakeday': 3840, 'pals': 3841, '2mths': 3842, '4hrs': 3843, 'cramping': 3844, 'fyi': 3845, 'corners': 3846, 'homeowners': 3847, 'emmanuel': 3848, 'luncheon': 3849, 'ijiomzw5dp': 3850, 'rage': 3851, 'negative': 3852, 'campaigning': 3853, 'distasteful': 3854, 'circulating': 3855, 'lowest': 3856, 'abuse': 3857, 'expecting': 3858, 'remain': 3859, 'unaware': 3860, 'surroundings': 3861, 'benefits': 3862, 'mechanism': 3863, 'envisioned': 3864, 'rear': 3865, 'needles': 3866, 'pereira': 3867, 'hosting': 3868, 'insults': 3869, 'thir': 3870, '7000th': 3871, 'phil': 3872, 'counting': 3873, 'winnipeg': 3874, 'wild': 3875, 'muy': 3876, 'feliz': 3877, 'cumple': 3878, 'empezalo': 3879, 'barbaro': 3880, 'beso': 3881, 'lindaa': 3882, 'dentist': 3883, 'eventual': 3884, 'bones': 3885, 'ripped': 3886, 'impossible': 3887, 'roar': 3888, 'eaters': 3889, 'owners': 3890, 'encounter': 3891, 'defeats': 3892, 'defeated': 3893, 'maya': 3894, 'angelou': 3895, 'fuuuuck': 3896, 'sauron': 3897, 'aragorn': 3898, 'partida': 3899, 'esten': 3900, 'sistema': 3901, 'afp': 3902, 'chilenos': 3903, 'mal': 3904, 'tremendamente': 3905, 'injusto': 3906, 'obnoxious': 3907, 'takin': 3908, 'sushi': 3909, 'ketchup': 3910, 'chips': 3911, 'dealing': 3912, 'dictating': 3913, 'suspect': 3914, 'smiling': 3915, 'ballot': 3916, 'prosper': 3917, 'fakes': 3918, 'porter': 3919, 'bigrig': 3920, 'locations': 3921, 'drawn': 3922, 'dragonfly': 3923, 'furiosa': 3924, 'scully': 3925, '2001': 3926, 'wizard': 3927, 'hiring': 3928, 'isn': 3929, 'interpretation': 3930, 'kelowna': 3931, 'sunny': 3932, 'qualified': 3933, 'romantic': 3934, 'resort': 3935, 'sanuk': 3936, 'flip': 3937, 'flop': 3938, 'capris': 3939, 'pale': 3940, 'indian': 3941, 'muscles': 3942, 'station': 3943, 'visionary': 3944, 'brace': 3945, 'froze': 3946, 'eliminated': 3947, 'coachella': 3948, 'breaks': 3949, 'thin': 3950, 'taurus': 3951, '3pxbeplkgj': 3952, 'coping': 3953, 'technique': 3954, 'mindless': 3955, 'ha': 3956, 'bra': 3957, 'dag': 3958, 'nationwide': 3959, 'joked': 3960, 'vibe': 3961, 'complaints': 3962, 'rank': 3963, 'buzz': 3964, 'macdonalds': 3965, 'cab': 3966, 'fare': 3967, 'cracked': 3968, 'mob': 3969, 'painful': 3970, 'hooting': 3971, 'hollering': 3972, 'mid': 3973, 'methinks': 3974, 'reschedule': 3975, 'photoshoots': 3976, 'stops': 3977, 'raining': 3978, 'vie': 3979, 'zayn': 3980, 'lance': 3981, 'une': 3982, 'carri': 3983, 'avec': 3984, 'meufs': 3985, 'poil': 3986, 'tre': 3987, 'cr': 3988, 'dible': 3989, 'msk': 3990, 'bundesliga': 3991, 'shown': 3992, 'sideline': 3993, 'matense': 3994, 'actualization': 3995, 'realising': 3996, 'hippie': 3997, 'praising': 3998, 'ikrjsk9k1y': 3999, 'suspicious': 4000, 'employer': 4001, 'praying': 4002, 'repurpose': 4003, 'pbec': 4004, 'secondary': 4005, 'bathtub': 4006, 'renos': 4007, 'underway': 4008, 'cash': 4009, 'content': 4010, 'creators': 4011, 'huddle': 4012, 'weasels': 4013, 'dunno': 4014, 'quoted': 4015, 'roof': 4016, 'napped': 4017, 'masters': 4018, 'touches': 4019, 'chatty': 4020, 'spots': 4021, 'angels': 4022, 'inner': 4023, 'permission': 4024, 'julius': 4025, 'brutus': 4026, 'aaaaand': 4027, 'untouched': 4028, 'messages': 4029, 'landline': 4030, 'furnace': 4031, 'campbell': 4032, 'loblaw': 4033, 'extras': 4034, 'internal': 4035, 'polls': 4036, 'pollster': 4037, 'shill': 4038, 'dam': 4039, 'hendisine': 4040, 'hakk': 4041, 'olan5000kadro': 4042, 'iki': 4043, 'sey': 4044, 'birbirine': 4045, 'benzeyebilir': 4046, 'aci': 4047, 'berraktir': 4048, 'tatli': 4049, 'peas': 4050, 'guacamole': 4051, 'julianne': 4052, 'brb': 4053, 'squeaked': 4054, 'divorce': 4055, 'relentless': 4056, 'juvenile': 4057, 'relent': 4058, 'fhritp': 4059, 'journalist': 4060, 'asinine': 4061, 'immigration': 4062, 'silently': 4063, 'stigma': 4064, 'carries': 4065, 'kim': 4066, 'davis': 4067, 'churches': 4068, 'riders': 4069, 'traded': 4070, 'ricky': 4071, 'glory': 4072, 'shea': 4073, 'emry': 4074, 'taught': 4075, 'hidden': 4076, 'confront': 4077, 'reveal': 4078, 'capabilities': 4079, 'apoorve': 4080, 'dubey': 4081, 'qb': 4082, 'nwyo': 4083, '6x1yt3bva6': 4084, 'tg': 4085, 'avlhmm': 4086, 'runnin': 4087, 'correcting': 4088, 'grammar': 4089, 'pi': 4090, 'lean': 4091, 'wal': 4092, 'mart': 4093, 'elisa': 4094, 'lam': 4095, 'elevator': 4096, 'unpacking': 4097, 'crawl': 4098, 'perrier': 4099, 'muscle': 4100, 'relaxant': 4101, 'slope': 4102, 'bud': 4103, 'jr': 4104, 'juniors': 4105, 'perform': 4106, 'llap': 4107, 'nns': 4108, 'chirps': 4109, 'characteristics': 4110, 'enlightenment': 4111, 'pragmatism': 4112, 'optimism': 4113, 'relaxing': 4114, 'woodland': 4115, 'destroyer': 4116, 'yoshis': 4117, 'boxes': 4118, 'bah': 4119, 'issures': 4120, 'relief': 4121, 'conference': 4122, 'mact': 4123, 'lowe': 4124, 'validate': 4125, 'managers': 4126, 'engage': 4127, 'expertise': 4128, 'ambient': 4129, 'peed': 4130, 'auschwitz': 4131, 'spare': 4132, 'code': 4133, 'kickstart': 4134, '94': 4135, 'gemalto': 4136, 'cutiemarks': 4137, 'flank': 4138, 'speculative': 4139, 'concluding': 4140, 'sections': 4141, 'mights': 4142, 'coulds': 4143, 'truer': 4144, 'souls': 4145, 'ratchet': 4146, 'eyebrows': 4147, 'france': 4148, 'bwahahahahahahah': 4149, 'dirtiest': 4150, 'froome': 4151, 'liquify': 4152, 'delightful': 4153, 'josh': 4154, 'smoky': 4155, 'skies': 4156, 'goblet': 4157, 'attitudes': 4158, 'peoples': 4159, 'impediments': 4160, 'noble': 4161, 'meets': 4162, 'fontaine': 4163, 'speights': 4164, 'xoxo': 4165, 'drooling': 4166, 'clocks': 4167, 'protest': 4168, 'counter': 4169, 'intuitive': 4170, 'hyper': 4171, 'addict': 4172, 'compulso': 4173, 'nonsense': 4174, 'argh': 4175, 'nopes': 4176, 'ensure': 4177, 'policies': 4178, 'practices': 4179, 'paisley': 4180, 'normani': 4181, 'loveyou': 4182, 'x14': 4183, 'jaw': 4184, 'easiest': 4185, 'annoy': 4186, '13': 4187, 'curmudgeon': 4188, 'asset': 4189, 'darkskyparadise': 4190, 'consulting': 4191, 'cows': 4192, 'barking': 4193, 'ngl': 4194, 'plunge': 4195, 'alan': 4196, 'watts': 4197, 'yawnnn': 4198, 'thrill': 4199, 'heartless': 4200, 'ahahaha': 4201, 'upkeep': 4202, 'satirical': 4203, 'conservative': 4204, 'boutique': 4205, 'micro': 4206, 'believes': 4207, 'neighbour': 4208, 'rakes': 4209, 'storage': 4210, 'deadly': 4211, 'momento': 4212, 'gscrwlyzpa': 4213, '53': 4214, 'thorn': 4215, 'bounty': 4216, 'peanuts': 4217, 'monkeys': 4218, 'scrimmage': 4219, 'dropping': 4220, 'kenya': 4221, '147': 4222, 'gunmen': 4223, 'singling': 4224, 'muslims': 4225, 'per': 4226, 'authorities': 4227, 'apreciar': 4228, 'largely': 4229, 'noobies': 4230, 'cont': 4231, 'rehearsal': 4232, 'premiums': 4233, 'reintroduced': 4234, 'strained': 4235, 'dept': 4236, 'linking': 4237, 'palm': 4238, 'jakielo': 4239, 'aft': 4240, 'awful': 4241, 'nt': 4242, 'nuuu': 4243, '4r3d7x7w0n': 4244, 'flamers': 4245, 'bullshit': 4246, 'anim': 4247, 'folder': 4248, 'brave': 4249, 'boxers': 4250, 'styles': 4251, 'hopeyourgreat': 4252, 'wouldyoumind': 4253, '1155': 4254, 'meetings': 4255, 'reunion': 4256, 'evander': 4257, 'kane': 4258, 'fallen': 4259, 'actors': 4260, 'carry': 4261, 'jimmy': 4262, 'listed': 4263, 'rlly': 4264, 'giddy': 4265, 'grateful': 4266, 'supportive': 4267, 'attending': 4268, 'seminar': 4269, 'starring': 4270, '40am': 4271, 'moustache': 4272, 'timing': 4273, 'ben': 4274, 'hilts': 4275, 'jack': 4276, 'burgart': 4277, 'verot': 4278, 'hartigan': 4279, 'warcraft': 4280, 'picky': 4281, 'palate': 4282, 'achievement': 4283, 'sdwjd6pyex': 4284, 'retweets': 4285, 'displaying': 4286, 'triangl': 4287, 'bathing': 4288, 'bye': 4289, 'performences': 4290, 'gained': 4291, 'wouldnt': 4292, 'hijacking': 4293, 'baroque': 4294, 'galloping': 4295, 'freeway': 4296, 'transportation': 4297, 'leap': 4298, 'margaret': 4299, 'mariota': 4300, 'investigate': 4301, 'backed': 4302, 'crossings': 4303, 'info': 4304, 'xl': 4305, 'forgive': 4306, 'knee': 4307, 'garlic': 4308, 'amigo': 4309, 'pero': 4310, 'vuela': 4311, 'aaaaaaaaaaaaaaaaaaaaaa': 4312, 'demands': 4313, 'denies': 4314, 'grow': 4315, 'walker': 4316, 'warmed': 4317, 'journey': 4318, 'becomes': 4319, 'disney': 4320, 'morrison': 4321, 'despite': 4322, 'hardship': 4323, 'journalism': 4324, 'impressions': 4325, 'films': 4326, 'nutella': 4327, 'scariest': 4328, 'swore': 4329, 'asthma': 4330, 'odin': 4331, 'judging': 4332, 'pythagorean': 4333, 'theorem': 4334, 'metres': 4335, 'chances': 4336, 'decade': 4337, 'atcha': 4338, 'sirens': 4339, 'coyotes': 4340, '7a99': 4341, 'clothing': 4342, 'oppressive': 4343, 'january': 4344, '6th': 4345, 'shape': 4346, 'tween': 4347, 'rejoice': 4348, 'joes': 4349, 'hamburgers': 4350, 'incompetent': 4351, 'bummed': 4352, 'redbox': 4353, 'rental': 4354, 'blu': 4355, 'rays': 4356, 'seeyouagain': 4357, 'awesomeness': 4358, 'rom': 4359, 'macho': 4360, 'randy': 4361, 'inducted': 4362, 'fame': 4363, 'mason': 4364, 'jar': 4365, 'nudity': 4366, 'simba': 4367, 'eric': 4368, 'mock': 4369, 'riddle': 4370, 'pointless': 4371, 'dominant': 4372, 'arguably': 4373, 'idyllic': 4374, 'upcoming': 4375, 'sportsmen': 4376, 'hermana': 4377, 'reyes': 4378, 'habla': 4379, 'sobre': 4380, 'detenci': 4381, 'arbitraria': 4382, 'b0cjxfvr0f': 4383, 'arabella': 4384, 'laying': 4385, 'charlie': 4386, 'ethan': 4387, 'dirt': 4388, 'banning': 4389, 'bandaid': 4390, 'solution': 4391, 'quo': 4392, 'uhm': 4393, 'php': 4394, 'meds': 4395, 'fuq': 4396, 'lk6fb6cxyn': 4397, 'oliver': 4398, 'shoes': 4399, 'delivering': 4400, 'junos': 4401, 'advertisements': 4402, 'ward': 4403, 'beecher': 4404, 'quarter': 4405, 'shuttered': 4406, 'trails': 4407, 'crooked': 4408, 'lonesome': 4409, 'dangerous': 4410, 'abbey': 4411, 'valdes': 4412, 'mothballs': 4413, 'beet': 4414, 'ginger': 4415, 'delish': 4416, 'same': 4417, 'upjwluwiwm': 4418, 'gentlemen': 4419, 'mornings': 4420, 'consist': 4421, 'dim': 4422, 'sum': 4423, 'insects': 4424, 'dry': 4425, 'wither': 4426, 'trophies': 4427, 'carey': 4428, '11am': 4429, 'sam': 4430, 'smith': 4431, 'ycz5smg6yi': 4432, 'picked': 4433, 'politico': 4434, 'absent': 4435, 'shores': 4436, 'helpline': 4437, '800': 4438, '263': 4439, '2679': 4440, 'walks': 4441, 'shucker': 4442, 'southern': 4443, 'scientists': 4444, 'caveat': 4445, 'ater': 4446, 'albeit': 4447, 'briny': 4448, 'flowing': 4449, 'mars': 4450, 'scooby': 4451, 'doo': 4452, 'warms': 4453, 'perogies': 4454, 'asparagus': 4455, 'fat': 4456, 'private': 4457, 'gbrooks': 4458, 'akira': 4459, '250': 4460, 'jim': 4461, 'rohn': 4462, 'alcoholics': 4463, 'reek': 4464, 'booze': 4465, 'les': 4466, 'francos': 4467, 'et': 4468, 'du': 4469, 'fran': 4470, 'ais': 4471, '3e': 4472, 'ann': 4473, 'maitrises': 4474, 'precisely': 4475, 'sook': 4476, 'cuddles': 4477, 'sickness': 4478, 'sores': 4479, 'quickly': 4480, '2300': 4481, 'naaaaaaao': 4482, 'kk': 4483, 'inimiga': 4484, 'chora': 4485, 'recalque': 4486, 'era': 4487, 'relembrar': 4488, 'diva': 4489, 'elas': 4490, 'querem': 4491, 'copiar': 4492, 'bold': 4493, 'camry': 4494, 'hired': 4495, 'playground': 4496, 'backyard': 4497, 'interpret': 4498, 'psychically': 4499, 'bayshore': 4500, 'fellas': 4501, 'doe': 4502, 'christopher': 4503, 'legacy': 4504, 'sjw': 4505, 'tend': 4506, 'catchphrases': 4507, 'riskier': 4508, 'emotions': 4509, 'comics': 4510, 'wpg': 4511, 'recover': 4512, 'wpgvsana': 4513, 'leads': 4514, 'majorities': 4515, 'principled': 4516, 'pr': 4517, 'substantive': 4518, 'discussion': 4519, 'ted': 4520, 'cruz': 4521, 'calmly': 4522, 'chastised': 4523, 'audience': 4524, 'booing': 4525, 'rescue': 4526, 'loughborough': 4527, 'announcement': 4528, 'stumble': 4529, 'kimbrough': 4530, 'tactics': 4531, 'surveillance': 4532, 'taxpayer': 4533, 'upgrading': 4534, 'cctv': 4535, 'determined': 4536, 'dayyy': 4537, 'cloned': 4538, 'grief': 4539, 't3': 4540, 'pointed': 4541, 'chubby': 4542, 'pa': 4543, 'farther': 4544, 'deserving': 4545, 'pampering': 4546, 'gladys': 4547, 'loooved': 4548, 'shrooms': 4549, 'overheard': 4550, 'institutions': 4551, 'represent': 4552, 'diversity': 4553, 'haired': 4554, 'tapper': 4555, 'bash': 4556, 'figures': 4557, 'ovi': 4558, 'provoking': 4559, 'looked': 4560, 'eff': 4561, 'bringing': 4562, 'halt': 4563, 'sells': 4564, 'bagels': 4565, 'perfectly': 4566, 'described': 4567, 'homewrk': 4568, 'organizations': 4569, 'hbbzir0spn': 4570, 'assholery': 4571, 'shitweasel': 4572, 'maximus': 4573, 'spaniard': 4574, 'russell': 4575, 'crowe': 4576, 'badassmofo': 4577, 'gladiator': 4578, 'bleeds': 4579, 'buzzfeed': 4580, 'quizzes': 4581, 'embarrassingly': 4582, 'serial': 4583, 'quiz': 4584, 'periscope': 4585, 'ruin': 4586, 'marijan': 4587, 'gubina': 4588, 'svojih': 4589, '260': 4590, 'dana': 4591, 'zw5tewg33p': 4592, 'connection': 4593, 'mbps': 4594, 'gb': 4595, 'comedians': 4596, 'panel': 4597, 'compelling': 4598, 'fluff': 4599, 'thrones': 4600, 'gather': 4601, 'hobbits': 4602, 'ei': 4603, 'rent': 4604, 'satisfied': 4605, 'pleeaassee': 4606, 'markets': 4607, 'farmers': 4608, 'stinks': 4609, 'laps': 4610, 'paternalistic': 4611, 'spike': 4612, 'bet': 4613, 'hahaha': 4614, 'nuggets': 4615, 'whenever': 4616, 'deodorant': 4617, 'anatomy': 4618, 'heeeyyy': 4619, 'th': 4620, 'naawww': 4621, 'kidding': 4622, 'sre': 4623, 'ee': 4624, 'launder': 4625, 'irrelevant': 4626, 'saltiest': 4627, '1920s': 4628, 'batting': 4629, 'artsy': 4630, 'cacti': 4631, 'materials': 4632, 'plastic': 4633, 'bottles': 4634, 'merch': 4635, 'freaking': 4636, 'redmond': 4637, 'entitled': 4638, 'uninterrupted': 4639, 'position': 4640, 'andrew': 4641, 'affs': 4642, 'tao': 4643, 'tx3t1nwyy0': 4644, 'yugioh': 4645, 'abridged': 4646, 'resolve': 4647, 'blues': 4648, 'jets': 4649, 'isles': 4650, 'bandwagons': 4651, 'mend': 4652, 'leafy': 4653, 'tim': 4654, 'hortons': 4655, 'umpires': 4656, 'angered': 4657, 'wield': 4658, 'member': 4659, 'quits': 4660, 'desperate': 4661, 'narrative': 4662, 'pronouncing': 4663, 'bouts': 4664, 'philosophy': 4665, 'responsibility': 4666, 'kiosks': 4667, 'remotely': 4668, 'plate': 4669, 'participating': 4670, 'interactive': 4671, 'colder': 4672, 'gigs': 4673, 'periodically': 4674, 'directioners': 4675, 'hbotw': 4676, 'acronym': 4677, 'earn': 4678, 'stupidest': 4679, 'fweakin': 4680, 'exhausted': 4681, 'newsletter': 4682, 'oxfam': 4683, 'burst': 4684, 'demanded': 4685, 'newborn': 4686, '10min': 4687, 'arguing': 4688, 'stings': 4689, 'asap': 4690, 'jann': 4691, 'arden': 4692, 'bothers': 4693, 'battlefords': 4694, 'blueberries': 4695, 'squashing': 4696, 'belly': 4697, 'nerdy': 4698, 'tico': 4699, 'ouch': 4700, 'grammys': 4701, '1direction': 4702, 'splitting': 4703, 'experiencing': 4704, '90': 4705, 'athletics': 4706, 'classic': 4707, 'guysborough': 4708, 'ww': 4709, 'supervisors': 4710, 'everybody': 4711, 'whyyy': 4712, 'clan': 4713, 'cannibals': 4714, 'crear': 4715, 'conciencia': 4716, 'tiene': 4717, 'fomenta': 4718, 'consumo': 4719, 'responsable': 4720, 'cqxhbizpfe': 4721, 'justizia': 4722, 'erreparazioa': 4723, 'hiru': 4724, 'urte': 4725, 'luze': 4726, 'ahaztua': 4727, 'ukatua': 4728, 'gaur': 4729, 'cabasi': 4730, 'bilbon': 4731, 'omenaldia': 4732, 'ga7drg1pl4': 4733, 'winnings': 4734, 'raising': 4735, 'literacy': 4736, 'childrens': 4737, 'fdn': 4738, 'slacklining': 4739, 'daredevil': 4740, 'spencer': 4741, 'seabrooke': 4742, 'chief': 4743, 'killeen': 4744, 'percolation': 4745, 'circ': 4746, 'trained': 4747, 'baristas': 4748, 'autocorrect': 4749, 'ignoring': 4750, 'distract': 4751, 'weep': 4752, 'scc': 4753, 'bank': 4754, 'lucianaaa1': 4755, 'buen': 4756, 'diaaa': 4757, 'parks': 4758, 'rec': 4759, 'ralphio': 4760, 'tying': 4761, 'flashing': 4762, 'sponge': 4763, 'eggnog': 4764, 'plugging': 4765, 'spoiling': 4766, 'solid': 4767, 'blasting': 4768, 'balmy': 4769, '27': 4770, 'website': 4771, '8pm': 4772, 'seat': 4773, 'pulled': 4774, 'owes': 4775, 'meters': 4776, 'visibility': 4777, 'clairement': 4778, 'ter': 4779, 'cables': 4780, 'behati': 4781, 'straightforward': 4782, 'fruits': 4783, 'software': 4784, 'developers': 4785, 'furniture': 4786, 'restrain': 4787, 'hitting': 4788, 'colourblind': 4789, 'rehearsing': 4790, 'evasive': 4791, 'marva': 4792, 'collins': 4793, 'orgs': 4794, 'other': 4795, 'goldeyes': 4796, 'notifications': 4797, 'blowing': 4798, 'darn': 4799, 'tighty': 4800, 'whities': 4801, '120': 4802, '00': 4803, 'refinery': 4804, 'clockmaker': 4805, 'mister': 4806, 'legit': 4807, 'camps': 4808, 'dairy': 4809, 'grilled': 4810, 'bossman': 4811, 'ordered': 4812, 'crunch': 4813, 'staying': 4814, 'fries': 4815, 'thunderstorms': 4816, 'decaffeinated': 4817, 'hooker': 4818, 'cuddle': 4819, 'lock': 4820, 'spearmint': 4821, 'types': 4822, 'peppers': 4823, 'beery': 4824, 'twist': 4825, 'magical': 4826, 'richly': 4827, 'pigmented': 4828, 'butter': 4829, 'mmmm': 4830, 'empathizing': 4831, 'user': 4832, 'lasting': 4833, 'england': 4834, 'theatre': 4835, 'noses': 4836, 'pulitzer': 4837, 'arsehole': 4838, '58ejjex6q8': 4839, '75': 4840, 'spit': 4841, 'mindfulness': 4842, 'however': 4843, 'squeeze': 4844, 'pope': 4845, 'greenwich': 4846, 'village': 4847, 'cigar': 4848, 'abe': 4849, 'inn': 4850, 'rfhnr4vluz': 4851, 'amy': 4852, 'schumer': 4853, 'patton': 4854, 'ratio': 4855, 'offence': 4856, 'reciprocate': 4857, '1990s': 4858, 'fiscal': 4859, 'reform': 4860, 'professionals': 4861, 'infrastructure': 4862, 'bargaining': 4863, 'aware': 4864, 'triggers': 4865, 'overcome': 4866, 'whew': 4867, 'dodged': 4868, 'tassimo': 4869, 'makers': 4870, 'hooplah': 4871, 'cried': 4872, 'aaaaasssss': 4873, 'weeknd': 4874, 'caramel': 4875, 'chopped': 4876, 'tonite': 4877, 'noo': 4878, 'penguin': 4879, 'smoking': 4880, 'cigarette': 4881, 'paz': 4882, 'amor': 4883, 'quero': 4884, 'muito': 4885, 'istg': 4886, 'clip': 4887, 'professor': 4888, 'wheelchair': 4889, 'slash': 4890, 'resident': 4891, 'wes': 4892, 'anderson': 4893, 'arlibido': 4894, 'mlp': 4895, 'animated': 4896, 'fanfic': 4897, '15th': 4898, 'potato': 4899, 'potatoes': 4900, 'abusing': 4901, 'sized': 4902, 'pine': 4903, 'nuts': 4904, 'penny': 4905, 'boil': 4906, 'won': 4907, 'citiz': 4908, 'puncturing': 4909, 'capsules': 4910, 'fixable': 4911, 'gotchu': 4912, 'boo': 4913, 'accomplishing': 4914, 'rioting': 4915, 'giftcard': 4916, 'meine': 4917, 'fitbit': 4918, '04': 4919, '846': 4920, 'schritte': 4921, 'und': 4922, 'zur': 4923, 'ckgelegt': 4924, 'qtk76jv6qa': 4925, 'truth': 4926, 'possibility': 4927, 'tis': 4928, 'steven': 4929, 'fry': 4930, 'ahhh': 4931, 'capture': 4932, 'canvas': 4933, 'doctors': 4934, 'labs': 4935, 'poopless': 4936, 'mlas': 4937, 'hyohyo': 4938, 'prank': 4939, 'justification': 4940, 'klourt': 4941, 'casks': 4942, 'tasty': 4943, 'worthless': 4944, 'affairs': 4945, 'minister': 4946, '17': 4947, 'contributions': 4948, 'basis': 4949, 'remarkable': 4950, 'suspected': 4951, 'puking': 4952, 'soo': 4953, 'filming': 4954, 'blooper': 4955, 'vroom': 4956, 'motorcycle': 4957, 'printed': 4958, 'bastards': 4959, 'firecracker': 4960, 'montana': 4961, 'coalitions': 4962, 'slice': 4963, 'polity': 4964, 'rant': 4965, 'denied': 4966, 'entry': 4967, 'invest': 4968, 'initiatives': 4969, 'treating': 4970, 'ironic': 4971, 'spelled': 4972, 'colouring': 4973, 'figured': 4974, '12noon': 4975, 'sweaty': 4976, 'changin': 4977, 'grants': 4978, 'blindside': 4979, 'gillam': 4980, 'snowlake': 4981, 'zones': 4982, 'consuming': 4983, 'snowfall': 4984, 'steaks': 4985, 'subscriber': 4986, 'count': 4987, 'gp': 4988, 'recreate': 4989, 'campfire': 4990, 'funnel': 4991, 'taco': 4992, 'sarah': 4993, 'palin': 4994, 'material': 4995, 'favs': 4996, 'ivf': 4997, '20k': 4998, 'attempt': 4999, 'flags': 5000, 'rhodesia': 5001, 'apartheid': 5002, 'africa': 5003, 'terrorist': 5004, 'robbed': 5005, 'subsequently': 5006, 'tracking': 5007, 'gps': 5008, 'mondays': 5009, 'pikachu': 5010, 'pika': 5011, 'peril': 5012, 'cardinals': 5013, 'sask': 5014, 'division': 5015, 'crashes': 5016, 'balcony': 5017, 'ledge': 5018, 'coz': 5019, 'drove': 5020, 'transfer': 5021, 'miracle': 5022, 'nomination': 5023, 'reserve': 5024, 'zone': 5025, 'powerade': 5026, 'plot': 5027, 'idiocracy': 5028, 'associated': 5029, 'outdoor': 5030, 'produced': 5031, 'producer': 5032, 'resume': 5033, 'librarians': 5034, 'active': 5035, 'participants': 5036, 'shaping': 5037, 'faced': 5038, 'adversity': 5039, 'wenyoutake': 5040, 'butt': 5041, 'dun': 5042, 'dem': 5043, 'pissing': 5044, 'hap': 5045, 'substantial': 5046, 'breakdowns': 5047, 'honeycrisp': 5048, 'indecisive': 5049, 'adulterers': 5050, 'dysfunction': 5051, 'crab': 5052, 'hoo': 5053, 'brisket': 5054, 'perquis': 5055, 'tfc': 5056, 'seguimos': 5057, 'votando': 5058, 'llegue': 5059, 'puesto': 5060, 'analyzing': 5061, 'taylor': 5062, 'swift': 5063, 'referencing': 5064, 'mayer': 5065, 'ifyouhave': 5066, 'keane': 5067, 'therapist': 5068, 'ties': 5069, 'impending': 5070, 'blood': 5071, 'snaky': 5072, 'reeling': 5073, 'toward': 5074, 'squishy': 5075, 'faux': 5076, 'centrist': 5077, 'skew': 5078, 'johnetta': 5079, 'betsch': 5080, 'advocating': 5081, 'plant': 5082, 'ordering': 5083, 'reasonable': 5084, 'turnt': 5085, 'mannnnn': 5086, 'friendship': 5087, 'finishing': 5088, 'himym': 5089, 'yipppppeeeee': 5090, 'same2u': 5091, 'insinger': 5092, 'witnesses': 5093, 'wwww': 5094, 'mirror': 5095, 'galfinakis': 5096, 'beards': 5097, 'skirt': 5098, 'windy': 5099, 'worn': 5100, 'cuter': 5101, 'underpants': 5102, 'duck': 5103, 'philips': 5104, 'creepy': 5105, 'munchkin': 5106, 'mitchell': 5107, 'largest': 5108, 'mankind': 5109, 'valentinesdayeve': 5110, 'friday13th': 5111, 'publicly': 5112, 'explaining': 5113, 'react': 5114, 'percentage': 5115, 'teenager': 5116, 'airs': 5117, 'carting': 5118, 'bother': 5119, 'contemporaries': 5120, 'predecessors': 5121, 'faulkner': 5122, '5pm': 5123, 'zla7cfmuzo': 5124, 'lacrimosa': 5125, 'judy': 5126, 'douchy': 5127, 'nemesis': 5128, 'brisbane': 5129, 'lissssse': 5130, 'joel': 5131, 'legendre': 5132, 'flagellation': 5133, 'madness': 5134, 'combo': 5135, 'brownies': 5136, 'tmha': 5137, 'exhausting': 5138, 'compassionate': 5139, 'empathetic': 5140, 'intelligent': 5141, 'feedback': 5142, 'clinical': 5143, 'foolishly': 5144, 'caught': 5145, 'present': 5146, 'theres': 5147, 'decreased': 5148, 'verbal': 5149, 'fluency': 5150, 'slackbot': 5151, 'sleeps': 5152, 'birthdays': 5153, 'hbd': 5154, 'welcoming': 5155, 'amend': 5156, 'spectre': 5157, 'aerial': 5158, 'photography': 5159, 'digitally': 5160, 'arri': 5161, 'alexa': 5162, 'xt': 5163, 'successfully': 5164, 'packaged': 5165, '1999': 5166, 'salsa': 5167, 'veg': 5168, 'perseid': 5169, 'meteor': 5170, 'showers': 5171, 'peaking': 5172, 'biologic': 5173, 'kimmy': 5174, 'xan': 5175, '2090': 5176, 'snapbacks': 5177, 'poofy': 5178, 'cameron': 5179, 'wraps': 5180, 'indicating': 5181, 'steps': 5182, 'plain': 5183, 'timbits': 5184, 'dozen': 5185, 'exaggerating': 5186, 'prerender': 5187, 'phantomjs': 5188, 'offer': 5189, 'webinars': 5190, 'videoconferencing': 5191, 'bisbi9ewmy': 5192, 'reserves': 5193, 'balanced': 5194, 'pest': 5195, 'situation': 5196, 'ham': 5197, 'defender': 5198, 'doneil': 5199, '5m': 5200, 'kanata': 5201, 'unexpected': 5202, 'repairs': 5203, 'reactions': 5204, 'videogame': 5205, 'commentators': 5206, 'sport': 5207, 'grown': 5208, 'apart': 5209, 'ne': 5210, 'mcknight': 5211, '58th': 5212, 'washrooms': 5213, 'musicians': 5214, 'rehearsals': 5215, 'odio': 5216, 'infinito': 5217, 'persona': 5218, 'diga': 5219, 'hacer': 5220, 'forevercopied': 5221, 'snap': 5222, 'crota': 5223, 'wasn': 5224, 'digging': 5225, 'damon': 5226, 'fictional': 5227, 'maurice': 5228, 'hip': 5229, 'hop': 5230, 'drummer': 5231, 'logic': 5232, 'attribute': 5233, 'plated': 5234, 'bestest': 5235, 'stats': 5236, 'unfollowers': 5237, 'nbrwpj6f7c': 5238, 'nevermind': 5239, 'mississauga': 5240, 'courtney': 5241, 'traveling': 5242, 'streelasky': 5243, 'emotional': 5244, 'companion': 5245, 'crew': 5246, 'jefe': 5247, 'fastest': 5248, 'reproducing': 5249, 'anna': 5250, 'spirit': 5251, 'ended': 5252, 'scrubland': 5253, 'rapper': 5254, 'meek': 5255, 'mill': 5256, 'ybid': 5257, 'committing': 5258, 'installation': 5259, 'graham': 5260, 'teaches': 5261, 'normal': 5262, 'memorable': 5263, 'kidnapped': 5264, 'snuck': 5265, 'huskies': 5266, 'todo': 5267, 'laurier': 5268, 'soylent': 5269, 'troll': 5270, 'overzealous': 5271, 'cops': 5272, 'bloggers': 5273, 'writer': 5274, 'wherein': 5275, 'keyboard': 5276, 'effing': 5277, 'ty': 5278, 'earll': 5279, 'ur': 5280, 'wrister': 5281, 'stepan': 5282, 'salary': 5283, 'rice': 5284, 'gonzalez': 5285, 'citizen': 5286, 'sufjan': 5287, 'stevens': 5288, 'festivals': 5289, 'notti155030': 5290, 'relish': 5291, 'hotdog': 5292, 'lookie': 5293, 'diseased': 5294, 'genitals': 5295, 'vivid': 5296, 'yaaaaay': 5297, 'saves': 5298, 'drafts': 5299, 'sober': 5300, 'finds': 5301, 'council': 5302, 'andyouget': 5303, 'banned': 5304, '1230pm': 5305, 'writ': 5306, 'funnest': 5307, 'truther': 5308, 'conspiracies': 5309, 'proposed': 5310, 'hike': 5311, 'translates': 5312, 'roughly': 5313, '30k': 5314, 'lumbersexual': 5315, 'boon': 5316, 'razor': 5317, 'handsome': 5318, 'groom': 5319, 'urjpusbsd6': 5320, 'wakes': 5321, 'hammer': 5322, '9pm': 5323, 'strangely': 5324, 'knocks': 5325, 'iris': 5326, '11pm': 5327, 'register': 5328, 'login': 5329, 'awarded': 5330, 'profile': 5331, 'olympics': 5332, 'panam': 5333, 'guardare': 5334, 'chicle': 5335, 'papelito': 5336, 'mas': 5337, 'alrato': 5338, 'naco': 5339, 'karate': 5340, 'risadas': 5341, 'kkkkkkkk': 5342, 'charging': 5343, 'hunters': 5344, 'justin': 5345, 'eliminate': 5346, 'tremors': 5347, 'happiest': 5348, 'moments': 5349, 'joeffer': 5350, 'caoc': 5351, 'sample': 5352, 'ship': 5353, 'booked': 5354, 'stairwell': 5355, '3bdrms': 5356, 'seaweed': 5357, 'dragged': 5358, 'ken': 5359, 'purchase': 5360, 'tonne': 5361, 'suffice': 5362, 'ndaher': 5363, 'eyg': 5364, 'zel': 5365, 'erini': 5366, 'bilene': 5367, '30w': 5368, 'august': 5369, 'atomization': 5370, 'viscosity': 5371, 'eclipse': 5372, 'hn1rynm2ru': 5373, 'engaged': 5374, 'imposes': 5375, 'ey': 5376, 'luke': 5377, 'hemmings': 5378, '5sos': 5379, 'tiger': 5380, 'grr': 5381, 'meow': 5382, 'ily': 5383, 'x25': 5384, '473': 5385, 'juntandose': 5386, 'valor': 5387, 'subban': 5388, 'covered': 5389, 'soft': 5390, 'conscience': 5391, 'proverb': 5392, 'introduce': 5393, 'extremo': 5394, 'tzowvdt0f6': 5395, 'qmpr4pzz69': 5396, 'shyguys': 5397, 'halp': 5398, 'denial': 5399, 'larry': 5400, 'wilmore': 5401, 'format': 5402, 'trimmed': 5403, 'beard': 5404, '65mm': 5405, 'opposed': 5406, 'grab': 5407, 'objective': 5408, 'equity': 5409, 'workers': 5410, 'guaranteed': 5411, '22mins': 5412, 'dammit': 5413, 'secrets': 5414, 'alanis': 5415, 'countries': 5416, 'required': 5417, 'canuck': 5418, 'loathsome': 5419, 'ralphing': 5420, 'witnessed': 5421, 'stealing': 5422, 'lcbo': 5423, 'carlton': 5424, 'woxj9n9qrc': 5425, 'vegas': 5426, 'researching': 5427, '70k': 5428, 'bunker': 5429, '1955': 5430, 'gah': 5431, 'bild': 5432, 'habitat': 5433, 'watches': 5434, 'adele': 5435, 'legitimate': 5436, 'purposes': 5437, 'punishment': 5438, 'mobs': 5439, 'responding': 5440, 'an': 5441, 'deterrent': 5442, 'disproportionate': 5443, 'smaller': 5444, 'auntie': 5445, 'mortgage': 5446, 'condo': 5447, 'msw': 5448, '32': 5449, 'ideologue': 5450, 'historically': 5451, 'vary': 5452, 'widely': 5453, 'influenced': 5454, 'shooting': 5455, 'approve': 5456, 'jrdrrab8fs': 5457, 'somehow': 5458, 'liver': 5459, '09': 5460, 'marc': 5461, 'trestman': 5462, 'accessories': 5463, 'transform': 5464, 'jeremy': 5465, 'susana': 5466, 'manu': 5467, 'cfu51hpkjz': 5468, 'hubert': 5469, 'accompaniment': 5470, 'curriculum': 5471, 'fustrated': 5472, 'silent': 5473, 'dummy': 5474, 'engagment': 5475, 'voicemail': 5476, 'coworkers': 5477, 'genia': 5478, 'paro': 5479, 'reirme': 5480, 'jaja': 5481, 'fe4hwnwfvo': 5482, 'yearbook': 5483, 'confessions': 5484, 'canyoubelieve': 5485, '1130': 5486, 'particular': 5487, 'toddlers': 5488, 'proves': 5489, 'expenditures': 5490, 'closes': 5491, 'duh': 5492, 'sundance': 5493, 'ifc': 5494, 'latimes': 5495, 'completing': 5496, 'carte': 5497, 'identit': 5498, 'convocation': 5499, 'stylo': 5500, 'eau': 5501, 'bouffe': 5502, 'ministers': 5503, 'oreck': 5504, 'raybould': 5505, 'evidence': 5506, 'sites': 5507, 'orders': 5508, 'lawyers': 5509, 'bundle': 5510, 'ketty': 5511, 'canadiens': 5512, 'oopsy': 5513, 'ctv': 5514, 'wade': 5515, 'raiz': 5516, 'dame': 5517, 'luna': 5518, 'mucho': 5519, 'viento': 5520, 'refuse': 5521, 'nope': 5522, 'saggy': 5523, 'grampa': 5524, 'promoting': 5525, 'disappointing': 5526, 'observed': 5527, 'flock': 5528, 'johns': 5529, 'skeets': 5530, 'patricia': 5531, 'arquette': 5532, 'author': 5533, 'sid': 5534, 'designed': 5535, 'scenario': 5536, 'payback': 5537, 'whos': 5538, 'cus': 5539, 'bullied': 5540, 'shaped': 5541, 'chocolates': 5542, 'stunning': 5543, 'fell': 5544, 'wreaking': 5545, 'havoc': 5546, 'usually': 5547, 'abscondment': 5548, 'refusal': 5549, 'spectacular': 5550, 'lizards': 5551, 'adel': 5552, 'fahmy': 5553, 'tweeted': 5554, 'mohamed': 5555, 'bail': 5556, 'rivbcij09x': 5557, 'nbgvpupjil': 5558, 'bethesda': 5559, 'thx': 5560, 'albert': 5561, 'einstein': 5562, 'edgeworth': 5563, 'pheonix': 5564, 'wright': 5565, 'gasping': 5566, 'belief': 5567, 'individual': 5568, 'brittany': 5569, 'vgl': 5570, 'koyczan': 5571, 'shannon': 5572, 'schitt': 5573, 'brigitte': 5574, 'husband': 5575, 'holocaust': 5576, 'jokes': 5577, 'retire': 5578, 'partisan': 5579, 'sauce': 5580, 'volt': 5581, 'shuttle': 5582, 'jerk': 5583, 'holt': 5584, 'chunk': 5585, 'saleem18': 5586, 'torture': 5587, 'ttown': 5588, 'freelancers': 5589, 'internationally': 5590, 'specifically': 5591, 'je': 5592, 'environment': 5593, 'whatyouwant': 5594, 'modelz': 5595, 'pushy': 5596, 'rehtaeh': 5597, 'parsons': 5598, 'slut': 5599, 'shaming': 5600, 'victims': 5601, 'burnt': 5602, 'bcs': 5603, 'bury': 5604, 'mourning': 5605, 'tornado': 5606, 'extended': 5607, 'redvers': 5608, 'antler': 5609, 'wauchope': 5610, 'carlyle': 5611, 'alameda': 5612, 'alida': 5613, 'manor': 5614, 'sneak': 5615, 'bonneville': 5616, 'gyal': 5617, 'canucks': 5618, 'cj': 5619, 'mosley': 5620, 'snub': 5621, 'ck': 5622, 'frankly': 5623, 'disqualified': 5624, 'dq': 5625, 'justified': 5626, 'imho': 5627, 'announcer': 5628, 'soooooooo': 5629, '38': 5630, '43': 5631, 'quebec': 5632, 'pickering': 5633, 'implemented': 5634, 'opp': 5635, 'tsn': 5636, '1040': 5637, 'glenn': 5638, 'healy': 5639, 'deadmau5': 5640, 'nin': 5641, 'contacted': 5642, 'donut': 5643, 'detox': 5644, 'java': 5645, 'assignment': 5646, 'android': 5647, 'published': 5648, 'bookshelves': 5649, 'gald': 5650, 'boom': 5651, 'birdman': 5652, 'yourself': 5653, 'jones': 5654, 'cormier': 5655, 'pacquiao': 5656, 'guardian': 5657, 'sriracha': 5658, 'cory': 5659, 'topanga': 5660, 'redundant': 5661, 'editors': 5662, 'buffoons': 5663, 'nissan': 5664, 'cube': 5665, 'sleeved': 5666, 'paulo': 5667, 'miranda': 5668, 'vou': 5669, 'ali': 5670, 'rezar': 5671, 'uma': 5672, 'novena': 5673, 'originally': 5674, 'titled': 5675, 'trippin': 5676, 'pianists': 5677, 'strings': 5678, 'instruments': 5679, 'percussion': 5680, 'grammy': 5681, 'jika': 5682, 'bsa': 5683, 'bagian': 5684, 'dirimu': 5685, 'mau': 5686, 'airmatamu': 5687, 'yg': 5688, 'trsimpan': 5689, 'hatimu': 5690, 'lahir': 5691, 'matamu': 5692, 'hidup': 5693, 'pipimu': 5694, 'adrenaline': 5695, 'finding': 5696, 'eight': 5697, 'mexican': 5698, '88': 5699, 'witnessing': 5700, 'blown': 5701, 'underappreciated': 5702, 'coincidently': 5703, 'decoded': 5704, 'arrives': 5705, 'contents': 5706, 'rasheed': 5707, 'ogunlaru': 5708, 'mamas': 5709, 'nesquik': 5710, 'cosby': 5711, 'charged': 5712, '2004': 5713, 'pennsylvania': 5714, 'katrina': 5715, 'voil': 5716, 'avais': 5717, 'dit': 5718, 'hardware': 5719, 'experts': 5720, 'sweepstakes': 5721, 'enter': 5722, 'hhexperts': 5723, 'scotian': 5724, 'whiplash': 5725, 'overweight': 5726, 'longest': 5727, 'chant': 5728, 'pulling': 5729, 'podcast': 5730, 'diet': 5731, 'joe': 5732, 'rogan': 5733, '105': 5734, 'norm': 5735, 'inspires': 5736, 'awes': 5737, 'stirs': 5738, 'mansbridge': 5739, 'cards': 5740, 'graphics': 5741, 'frickin': 5742, 'usable': 5743, 'bits': 5744, 'goats': 5745, 'klippers': 5746, 'pregame': 5747, 'newly': 5748, 'addicted': 5749, 'rise': 5750, 'hedley': 5751, 'accepts': 5752, 'bands': 5753, 'disservice': 5754, 'squad': 5755, 'consumed': 5756, 'runners': 5757, 'hydrostation': 5758, 'awareness': 5759, 'explains': 5760, 'refs': 5761, 'congratualtions': 5762, 'outreach': 5763, 'swag': 5764, 'venue': 5765, 'miyazaki': 5766, 'honorary': 5767, 'governors': 5768, 'recognition': 5769, 'shawn': 5770, 'mendes': 5771, 'picturing': 5772, 'bald': 5773, 'gazeta': 5774, 'egagteut4j': 5775, '9y9e9toydr': 5776, 'shards': 5777, 'holes': 5778, 'arena': 5779, 'cheering': 5780, 'anthem': 5781, 'ob': 5782, 'dollars': 5783, 'bedroom': 5784, 'noticed': 5785, 'raindrops': 5786, 'rainbow': 5787, 'crystals': 5788, 'flu': 5789, 'appetite': 5790, 'gjally': 5791, 'out': 5792, 'purple': 5793, 'rahool': 5794, 'fuuckin': 5795, 'yea': 5796, 'oiga': 5797, 'hablan': 5798, 'pc0mt3ryfc': 5799, 'toil': 5800, 'ruskin': 5801, 'extra': 5802, 'larger': 5803, 'voter': 5804, 'pronounce': 5805, 'camille': 5806, 'noooo': 5807, 'nooooooo': 5808, 'mooseheads': 5809, 'attendance': 5810, 'avocado': 5811, 'wheeeeeeee': 5812, 'semester': 5813, 'tracker': 5814, 'drobo': 5815, 'responders': 5816, 'ckmxjc75s9': 5817, 'fml': 5818, 'driveeeeeee': 5819, 'om': 5820, 'settlers': 5821, 'exploit': 5822, 'resources': 5823, 'replacement': 5824, 'afford': 5825, 'bobs': 5826, 'burgers': 5827, '25th': 5828, 'volunteering': 5829, 'fond': 5830, 'kia': 5831, 'guelph': 5832, '2006': 5833, 'everytime': 5834, 'explosions': 5835, 'calmed': 5836, 'sah': 5837, 'suh': 5838, 'completed': 5839, 'hotline': 5840, 'miami': 5841, 'began': 5842, 'axiom': 5843, 'verge': 5844, 'indie': 5845, 'owning': 5846, 'confirm': 5847, 'mercy': 5848, 'flick': 5849, 'license': 5850, 'switched': 5851, 'srry': 5852, 'yer': 5853, 'isso': 5854, 'falo': 5855, 'erra': 5856, 'ao': 5857, 'colocar': 5858, 'pessoas': 5859, 'nossas': 5860, 'vidas': 5861, 'ele': 5862, 'iria': 5863, 'precisar': 5864, 'tudo': 5865, 'booknic': 5866, 'sooo': 5867, 'astounded': 5868, 'directed': 5869, 'judeline': 5870, 'innocent': 5871, 'leasing': 5872, 'feminism': 5873, 'rude': 5874, 'tipsy': 5875, 'viens': 5876, 'atchoumer': 5877, 'cran': 5878, 'web': 5879, 'checking': 5880, 'teller': 5881, 'penn': 5882, 'anaconda': 5883, 'sounded': 5884, 'youngest': 5885, 'caller': 5886, 'landed': 5887, 'noises': 5888, 'midnight': 5889, 'knowledge': 5890, 'challenges': 5891, 'blush': 5892, 'dab': 5893, 'brush': 5894, 'blend': 5895, 'btw': 5896, 'unanimously': 5897, 'hootsuite': 5898, 'oops': 5899, 'pdf': 5900, 'legalization': 5901, '34': 5902, 'judicial': 5903, 'feds': 5904, 'provs': 5905, 'woes': 5906, 'spetten': 5907, 'gelir': 5908, 'ba': 5909, 'dattan': 5910, 'zevk': 5911, 'almaya': 5912, 'bak': 5913, 'arakukara': 5914, 'astound': 5915, 'thomas': 5916, 'edison': 5917, 'wisely': 5918, 'nut': 5919, 'blog': 5920, 'smelled': 5921, 'disgusting': 5922, 'ensuring': 5923, 'madaling': 5924, 'sabihin': 5925, 'ayos': 5926, 'lang': 5927, 'kaso': 5928, 'minsan': 5929, 'ang': 5930, 'hirap': 5931, 'panindigan': 5932, 'kasi': 5933, 'naman': 5934, 'totoo': 5935, '20am': 5936, 'duo': 5937, 'broncos': 5938, '30p': 5939, 'punch': 5940, 'streak': 5941, 'parade': 5942, 'presenters': 5943, 'hunny': 5944, 'weathernetwork': 5945, 'refreshed': 5946, '20cm': 5947, 'significantly': 5948, 'untrustworthy': 5949, 'hospitals': 5950, 'nose': 5951, 'festivities': 5952, 'groceries': 5953, 'slog': 5954, 'defending': 5955, 'psv': 5956, 'strolled': 5957, 'owen': 5958, 'amelia': 5959, 'tool': 5960, 'preform': 5961, 'sackville': 5962, 'sunglasses': 5963, 'cloudy': 5964, 'beret': 5965, 'fanny': 5966, 'purse': 5967, 'committed': 5968, 'genuine': 5969, 'inconvenient': 5970, 'overholt': 5971, 'staytuned': 5972, '4th': 5973, '28': 5974, 'uplift': 5975, 'whose': 5976, 'forth': 5977, 'epictetus': 5978, 'shaw': 5979, 'nippy': 5980, 'existential': 5981, 'usual': 5982, 'wonders': 5983, 'hrs': 5984, 'celebration': 5985, 'bombing': 5986, 'iraqi': 5987, 'prolly': 5988, 'jc': 5989, 'convinced': 5990, 'upgrade': 5991, 'alley': 5992, 'pleasant': 5993, 'emerging': 5994, 'trends': 5995, 'reflect': 5996, 'timed': 5997, 'remote': 5998, 'closest': 5999, 'remotes': 6000, 'minha': 6001, 'escola': 6002, 'outras': 6003, 'escolas': 6004, 'kkk': 6005, 'qkb02simlz': 6006, '1ejdfkyzr4': 6007, 'a5': 6008, 'sketch': 6009, 'nb': 6010, 'candidacy': 6011, 'rabid': 6012, 'sexism': 6013, 'greenleaf': 6014, 'whittier': 6015, 'zo': 6016, 'ontzettend': 6017, 'blij': 6018, 'trots': 6019, 'alle': 6020, 'vier': 6021, 'leerlingen': 6022, 'creatie': 6023, 'meededen': 6024, 'aan': 6025, 'eindauditie': 6026, 'bij': 6027, 'kc': 6028, 'p4barcranl': 6029, 'agency': 6030, '18th': 6031, 'describing': 6032, 'experiments': 6033, 'mapping': 6034, 'suggestions': 6035, 'hyoga': 6036, 'balancing': 6037, 'hmm': 6038, 'gov': 6039, 'jindal': 6040, 'alternating': 6041, 'sorrow': 6042, 'intense': 6043, 'profound': 6044, 'devotion': 6045, 'nra': 6046, 'accts': 6047, 'gettin': 6048, 'poke': 6049, 'bi': 6050, 'sketching': 6051, 'provide': 6052, 'achieve': 6053, 'emission': 6054, 'reductions': 6055, 'nyrb': 6056, 'passion': 6057, 'bulls': 6058, 'herself': 6059, 'questioned': 6060, 'dwell': 6061, 'grain': 6062, 'terminals': 6063, 'hermosa': 6064, 'hay': 6065, 'ese': 6066, 'titans': 6067, 'hanley': 6068, 'blank': 6069, 'bryden': 6070, 'generous': 6071, 'relaxed': 6072, 'buidling': 6073, 'interiors': 6074, 'generate': 6075, 'cleaner': 6076, 'phew': 6077, 'upstairs': 6078, 'jamming': 6079, 'sync': 6080, 'jams': 6081, 'spreecommerce': 6082, 'wombat': 6083, 'exclusive': 6084, 'information': 6085, 'parece': 6086, 'mis': 6087, 'amigos': 6088, 'compa': 6089, 'eros': 6090, 'del': 6091, 'secundario': 6092, 'palmaron': 6093, 'porq': 6094, 'hace': 6095, 'como': 6096, 'horas': 6097, 'rompen': 6098, 'bolas': 6099, 'wp': 6100, 'dejaron': 6101, 'dormir': 6102, 'rato': 6103, 'specific': 6104, 'legally': 6105, 'anywhere': 6106, 'warmer': 6107, 'kit': 6108, 'samples': 6109, 'loblaws': 6110, 'kanarya88': 6111, 'ztarifsiz': 6112, 'fenerbah': 6113, 'soy': 6114, 'substitute': 6115, 'upgraded': 6116, 'latte': 6117, 'offered': 6118, 'lego': 6119, 'julie': 6120, 'andrews': 6121, 'avoided': 6122, 'nuclear': 6123, 'snapped': 6124, 'planet': 6125, 'billion': 6126, 'vinyl': 6127, 'shameful': 6128, 'cdns': 6129, 'gods': 6130, 'jlo': 6131, 'wardrobe': 6132, 'malfunction': 6133, 'held': 6134, 'ppd': 6135, 'calendars': 6136, 'hoar': 6137, 'whore': 6138, 'dining': 6139, 'rooms': 6140, 'clarity': 6141, 'stabbing': 6142, 'occurred': 6143, 'duke': 6144, 'emotion': 6145, 'hmmm': 6146, 'hashtags': 6147, 'junk': 6148, 'oy': 6149, 'disclosure': 6150, 'beingyoucomfortable': 6151, 'mike': 6152, 'cosentino': 6153, 'affecting': 6154, 'aliens': 6155, 'focusing': 6156, 'behaviours': 6157, 'desarae': 6158, 'located': 6159, 'lawsuits': 6160, 'couldn': 6161, 'prouder': 6162, 'bro': 6163, 'authority': 6164, 'axe': 6165, 'edge': 6166, 'fitter': 6167, 'bruise': 6168, 'polish': 6169, 'anne': 6170, 'bradstreet': 6171, 'sell': 6172, 'puppy': 6173, 'respiratory': 6174, 'basic': 6175, 'abuses': 6176, 'fucken': 6177, 'trade': 6178, 'briere': 6179, 'brier': 6180, 'feud': 6181, 'tch': 6182, 'screams': 6183, 'smack': 6184, 'wing': 6185, 'spin': 6186, 'nos': 6187, 'mandanentos': 6188, 'hiccups': 6189, 'waltzing': 6190, 'borrow': 6191, 'mannequin': 6192, 'environmental': 6193, 'edgewise': 6194, 'viet': 6195, 'cong': 6196, 'bass': 6197, 'syrian': 6198, 'refugees': 6199, 'cinnamon': 6200, 'buns': 6201, 'keith': 6202, 'her': 6203, 'seductiveness': 6204, 'daesh': 6205, 'igloofest': 6206, 'lobo': 6207, 'clouds': 6208, 'hunter': 6209, 'majestic': 6210, 'liner': 6211, 'style': 6212, 'photographer': 6213, 'ratajkowski': 6214, 'twins': 6215, 'mile': 6216, 'climax': 6217, 'muffin': 6218, 'efforts': 6219, 'alex': 6220, 'usted': 6221, 'parla': 6222, 'mato': 6223, 'external': 6224, 'vid': 6225, '2009': 6226, 'shakes': 6227, 'ruled': 6228, 'perimeters': 6229, 'lifted': 6230, 'smartest': 6231, 'parties': 6232, 'regions': 6233, 'competition': 6234, 'trap': 6235, 'nails': 6236, 'intended': 6237, 'injure': 6238, 'directions': 6239, 'giveaways': 6240, 'contest': 6241, 'practical': 6242, 'pragmatic': 6243, 'approach': 6244, 'emissions': 6245, '21st': 6246, 'century': 6247, 'sheeeeeyyyt': 6248, 'nilalandi': 6249, 'ni': 6250, 'bading': 6251, 'gearing': 6252, 'eligible': 6253, 'timmies': 6254, 'osx': 6255, 'vms': 6256, 'borophyll': 6257, 'primary': 6258, 'swing': 6259, 'jazz': 6260, 'square': 6261, '1pm': 6262, 'passionate': 6263, 'profits': 6264, 'advocates': 6265, 'dedicated': 6266, 'oakville': 6267, 'mocha': 6268, 'av4ajroogy': 6269, 'feelin': 6270, 'discouraged': 6271, 'dressed': 6272, 'eggs': 6273, 'mound': 6274, 'g7qt2mukfh': 6275, 'okzbmdze45': 6276, 'obese': 6277, 'illnesses': 6278, 'cardiovascular': 6279, 'disease': 6280, 'adults': 6281, 'legion': 6282, 'wk': 6283, 'cologne': 6284, 'guuyyyssss': 6285, 'sandflies': 6286, 'tunes': 6287, '00am': 6288, 'stat': 6289, 'jolt': 6290, 'disgusted': 6291, 'bradley': 6292, 'beal': 6293, 'disrespectful': 6294, 'hashbrowns': 6295, 'medium': 6296, 'referring': 6297, 'glue': 6298, 'dinosaur': 6299, 'exhibit': 6300, 'museum': 6301, 'sculpture': 6302, 'petted': 6303, 'vanityfair': 6304, 'sportscenter': 6305, 'stereotype': 6306, 'serve': 6307, 'location': 6308, 'individuals': 6309, '30pm': 6310, 'tvs': 6311, 'ini': 6312, 'senin': 6313, 'tanggal': 6314, 'bulan': 6315, 'maret': 6316, 'tahun': 6317, '05': 6318, 'timeyour': 6319, 'puppies': 6320, 'kitties': 6321, 'flat': 6322, 'asses': 6323, 'sensitive': 6324, 'tennessee': 6325, 'indefinite': 6326, 'estuve': 6327, 'hora': 6328, 'buscando': 6329, 'icons': 6330, 'image': 6331, 'kissing': 6332, 'sees': 6333, 'babe': 6334, 'ruth': 6335, 'tall': 6336, 'appreciation': 6337, 'height': 6338, 'improvement': 6339, 'subs': 6340, 'foam': 6341, 'respective': 6342, 'fields': 6343, 'poured': 6344, 'pinot': 6345, 'noir': 6346, 'onsite': 6347, 'fellow': 6348, 'rider': 6349, 'elbow': 6350, 'prizing': 6351, 'participate': 6352, 'tattooing': 6353, 'sucked': 6354, 'tomorow': 6355, 'messy': 6356, 'model': 6357, 'bock': 6358, 'gently': 6359, 'copperbock': 6360, 'balls': 6361, 'snowed': 6362, 'shitton': 6363, 'melted': 6364, 'shelter': 6365, 'heartbeat': 6366, 'feather': 6367, 'stroked': 6368, 'floored': 6369, 'censors': 6370, 'vaxxers': 6371, 'bigots': 6372, 'busking': 6373, '1991': 6374, 'busked': 6375, 'horsin': 6376, 'rough': 6377, 'hoisting': 6378, 'lesnar': 6379, 'suplex': 6380, 'motherfuckers': 6381, 'sooky': 6382, 'skl': 6383, 'their': 6384, 'remark': 6385, 'brotha': 6386, 'texting': 6387, 'hugging': 6388, 'policenl': 6389, 'perspective': 6390, 'heh': 6391, 'blocked': 6392, 'derp': 6393, 'assist': 6394, 'thata': 6395, 'meanwhile': 6396, 'net': 6397, 'cuz': 6398, 'ari': 6399, 'rita': 6400, 'ora': 6401, 'christian': 6402, 'greys': 6403, 'evans': 6404, 'satoru': 6405, 'iwata': 6406, '55': 6407, 'signalling': 6408, 'itinerary': 6409, 'surprising': 6410, 'deer': 6411, 'nauseating': 6412, 'pakaian': 6413, 'astronot': 6414, 'terdiri': 6415, 'lapisan': 6416, 'serat': 6417, 'sintetis': 6418, 'zeds': 6419, 'minor': 6420, 'obstacle': 6421, 'compartes': 6422, 'locura': 6423, 'me0yy6typx': 6424, 'nerd': 6425, 'sentence': 6426, 'heated': 6427, 'monopoly': 6428, 'midst': 6429, 'fourth': 6430, 'mini': 6431, 'saya': 6432, 'mengirim': 6433, 'dalam': 6434, 'testymoni': 6435, 'fc8cixamjg': 6436, 'compliant': 6437, 'yr': 6438, 'guidance': 6439, 'counselor': 6440, 'briefly': 6441, 'imprint': 6442, 'kaimeni': 6443, 'anxious': 6444, 'rocket': 6445, 'silver': 6446, '7th': 6447, 'between': 6448, 'rhianna': 6449, 'paul': 6450, 'mccartney': 6451, 'calvin': 6452, 'harris': 6453, 'obsession': 6454, 'independence': 6455, 'parachuted': 6456, 'significant': 6457, 'shory': 6458, 'obhrai': 6459, 'remarks': 6460, 'bouncy': 6461, 'castles': 6462, 'operational': 6463, 'fm': 6464, 'rising': 6465, 'showcase': 6466, 'ignore': 6467, 'icecream': 6468, 'soften': 6469, 'distracted': 6470, 'reporter': 6471, 'hahah': 6472, 'bu7y6aqg0x': 6473, 'pineapple': 6474, '1yr': 6475, 'subscription': 6476, 'doesn': 6477, 'odds': 6478, 'court': 6479, 'wore': 6480, 'lockdown': 6481, '3t': 6482, 'obstetric': 6483, 'ultrasound': 6484, 'bpp': 6485, 'poochie': 6486, 'thompsonn': 6487, 'interviewed': 6488, 'hadfield': 6489, 'baptiste': 6490, 'vez': 6491, 'decid': 6492, 'ser': 6493, 'puta': 6494, 'cinco': 6495, 'minutos': 6496, 'aburridos': 6497, 'vida': 6498, 'truman': 6499, 'profiles': 6500, 'endless': 6501, 'topic': 6502, 'elections': 6503, 'complacent': 6504, 'lil': 6505, 'mindset': 6506, 'wassup': 6507, 'pv6ymqvfzq': 6508, 'attraction': 6509, 'multi': 6510, 'contract': 6511, 'mistimed': 6512, 'reg': 6513, 'chew': 6514, 'none': 6515, 'demetrius': 6516, 'bankrupt': 6517, 'existence': 6518, 'intention': 6519, 'heritage': 6520, 'walsh': 6521, 'nikon': 6522, 'offers': 6523, 'firmware': 6524, 'nikkor': 6525, '300mm': 6526, '4e': 6527, 'pf': 6528, 'vja036pdqw': 6529, 'corner': 6530, 'mute': 6531, 'bucks': 6532, 'wave': 6533, 'relapse': 6534, 'valkyries': 6535, 'cable': 6536, 'def': 6537, 'frightening': 6538, 'mammoth': 6539, 'designs': 6540, 'shirts': 6541, 'cdn': 6542, 'anyways': 6543, 'poo': 6544, 'tangy': 6545, 'zangys': 6546, 'podcamp': 6547, 'safety': 6548, 'smacks': 6549, 'goodnight': 6550, 'tims': 6551, 'imax': 6552, 'cancelling': 6553, 'thang': 6554, 'travesty': 6555, '8th': 6556, 'fairness': 6557, 'defensively': 6558, 'galatico': 6559, '2008': 6560, 'mvp': 6561, 'viscerally': 6562, 'disrupt': 6563, 'smallest': 6564, 'ocean': 6565, 'suspension': 6566, 'instigator': 6567, 'lotsa': 6568, 'bark': 6569, 'mista': 6570, 'introducing': 6571, 'incredible': 6572, 'parl': 6573, 'finance': 6574, 'boogaloo': 6575, 'giggles': 6576, 'psychic': 6577, 'powers': 6578, 'mutter': 6579, 'macklemore': 6580, 'ranks': 6581, 'grinding': 6582, 'chipotles': 6583, 'spice': 6584, 'grinder': 6585, 'advise': 6586, 'inhaling': 6587, 'resulting': 6588, 'powder': 6589, 'slump': 6590, 'tags': 6591, 'prediction': 6592, 'tear': 6593, 'shreds': 6594, 'comeback': 6595, 'assistant': 6596, 'description': 6597, 'edu': 6598, 'requirement': 6599, 'hire': 6600, 'mlis': 6601, 'pound': 6602, 'mix': 6603, 'cell': 6604, 'mattmastersmusic': 6605, 'adore': 6606, 'pouring': 6607, 'branded': 6608, 'exercise': 6609, 'inconsistency': 6610, 'wrestling': 6611, 'bonne': 6612, 'gros': 6613, 'having': 6614, 'liev': 6615, 'scheiber': 6616, 'beliefs': 6617, 'oxygen': 6618, 'quantity': 6619, 'atmosphere': 6620, 'cells': 6621, 'stood': 6622, 'winston': 6623, 'churchill': 6624, 'abc': 6625, 'photographed': 6626, 'woken': 6627, 'blizz': 6628, 'heavier': 6629, 'kidnap': 6630, 'steam': 6631, 'spill': 6632, 'aerospray': 6633, 'abundance': 6634, 'mosquitoes': 6635, 'arguments': 6636, 'argument': 6637, 'cutbacks': 6638, 'brandon': 6639, 'slurpee': 6640, 'clue': 6641, 'mbci': 6642, 'vomit': 6643, 'insomnia': 6644, 'calendar': 6645, 'gathering': 6646, 'trivia': 6647, 'crack': 6648, 'dumbest': 6649, 'his': 6650, 'depressants': 6651, 'deaths': 6652, 'typically': 6653, 'fridge': 6654, 'strengthening': 6655, 'sweetie': 6656, 'tacos': 6657, 'kayne': 6658, 'announced': 6659, '2020': 6660, 'nominee': 6661, 'qa': 6662, 'holla': 6663, 'donations': 6664, 'depot': 6665, 'premier': 6666, 'showgirls': 6667, 'ketchuping': 6668, 'november': 6669, 'vigilant': 6670, 'granted': 6671, 'searching': 6672, 'hahahahah': 6673, 'barrington': 6674, 'drivable': 6675, 'mmorrg': 6676, '590915': 6677, 'ph87csh9sq': 6678, 'ast': 6679, 'winterfest': 6680, 'electable': 6681, 'kasich': 6682, 'bonkers': 6683, 'crazier': 6684, 'archives': 6685, 'aveeno': 6686, 'radiant': 6687, 'tinted': 6688, 'moisturizer': 6689, 'swatches': 6690, 'cyoava02st': 6691, 'smooches': 6692, 'saudi': 6693, 'arabia': 6694, 'terrorism': 6695, 'radical': 6696, 'islam': 6697, 'laser': 6698, 'surgery': 6699, 'chiropractor': 6700, 'adjusts': 6701, 'owl': 6702, 'ahora': 6703, 'casi': 6704, 'prensa': 6705, 'pertenece': 6706, 'presidente': 6707, 'bregar': 6708, 'acceso': 6709, 'informaci': 6710, 'blica': 6711, 'hoarders': 6712, 'esque': 6713, 'mouthed': 6714, 'native': 6715, 'gypsy': 6716, 'triforce': 6717, 'heroes': 6718, 'flickr': 6719, 'hundreds': 6720, 'buses': 6721, 'convergence': 6722, 'comedian': 6723, 'before': 6724, 'spirited': 6725, 'snipe': 6726, 'teenage': 6727, 'existent': 6728, 'herbal': 6729, 'remedy': 6730, 'ingredients': 6731, 'decades': 6732, '5000': 6733, 'concerning': 6734, 'lazar': 6735, 'arbitrarily': 6736, 'raise': 6737, 'rents': 6738, 'blurry': 6739, 'chelsea': 6740, 'wenyousleepy': 6741, 'butyouwant': 6742, 'hangout': 6743, 'wit': 6744, 'wishyoucould': 6745, 'neighbor': 6746, 'wiping': 6747, 'refill': 6748, 'tp': 6749, 'customers': 6750, 'relieved': 6751, 'overhear': 6752, 'conversations': 6753, 'convo': 6754, 'tape': 6755, 'ecg': 6756, 'inflammation': 6757, 'imaginary': 6758, 'seeds': 6759, 'scheduled': 6760, 'ack': 6761, '45am': 6762, 'alicia': 6763, 'didn': 6764, 'correctly': 6765, 'softest': 6766, 'attacker': 6767, 'aid': 6768, 'highlighted': 6769, 'furbies': 6770, 'bruins': 6771, 'henrietta': 6772, 'gifted': 6773, 'pocky': 6774, 'rocky': 6775, 'leaves': 6776, 'hesitance': 6777, 'direct': 6778, 'vaccines': 6779, '1988': 6780, 'thailand': 6781, 'porntip': 6782, 'motivate': 6783, '22': 6784, 'cant': 6785, 'fack': 6786, 'thumb': 6787, 'cathy': 6788, 'commenting': 6789, 'prep': 6790, 'marketing': 6791, 'consultations': 6792, 'reasons': 6793, 'fail': 6794, 'angelcasimiro': 6795, 'smiley': 6796, 'xepf4ec4hf': 6797, 'pablo': 6798, 'picasso': 6799, 'ou': 6800, 'fuckin': 6801, 'outfiiiiit': 6802, 'popularity': 6803, 'anonymous': 6804, 'asshats': 6805, 'neato': 6806, 'perverts': 6807, 'sip': 6808, 'soda': 6809, 'straps': 6810, 'slawsss': 6811, 'rc': 6812, 'unhappy': 6813, 'raffi': 6814, 'montador': 6815, 'brazilian': 6816, 'strengthen': 6817, 'savour': 6818, 'aboutyou': 6819, 'luu': 6820, 'bookmobile': 6821, 'mobile': 6822, 'examples': 6823, 'missoula': 6824, 'valley': 6825, 'dauphin': 6826, 'humidex': 6827, 'fam': 6828, 'joker': 6829, 'cruel': 6830, 'platform': 6831, 'rethink': 6832, 'etiquette': 6833, 'arkell': 6834, 'reaaal': 6835, 'gino': 6836, 'hamburgle': 6837, 'nina': 6838, 'simone': 6839, 'subject': 6840, 'alert': 6841, 'elected': 6842, '365': 6843, 'uphold': 6844, 'province': 6845, 'naivety': 6846, 'fumes': 6847, 'pittsburgh': 6848, 'somethings': 6849, 'cellphones': 6850, 'television': 6851, 'zumba': 6852, 'bills': 6853, 'props': 6854, 'jonathan': 6855, '66': 6856, 'converting': 6857, '65': 6858, 'oprah': 6859, 'winfrey': 6860, 'summit': 6861, 'tbd': 6862, 'lesser': 6863, 'nation': 6864, 'reconcile': 6865, 'metis': 6866, 'europeans': 6867, 'christ': 6868, 'columnist': 6869, 'chicago': 6870, 'kathy': 6871, 'bates': 6872, 'aunt': 6873, 'threw': 6874, 'belongings': 6875, 'goodnights': 6876, 'gooooood': 6877, 'hypothetical': 6878, 'nightmares': 6879, 'director': 6880, 'fincher': 6881, 'bunny': 6882, 'redo': 6883, 'skip': 6884, 'emptiness': 6885, 'heaviest': 6886, 'soaker': 6887, 'americans': 6888, 'guns': 6889, 'speakers': 6890, 'demeaning': 6891, 'comfortably': 6892, 'candle': 6893, 'chimneys': 6894, 'orleans': 6895, 'i4y94jmoid': 6896, 'lefty': 6897, 'releasing': 6898, 'basketball': 6899, 'paige': 6900, 'unc': 6901, 'condemn': 6902, 'inappropriate': 6903, 'workout': 6904, 'selfie': 6905, 'loewen': 6906, 'ids0lndqcd': 6907, 'steep': 6908, 'embankment': 6909, 'shock': 6910, 'absorbers': 6911, 'nature': 6912, 'bent': 6913, 'knees': 6914, 'sincere': 6915, 'condolences': 6916, 'adverse': 6917, 'effects': 6918, 'therapeutic': 6919, 'stimulation': 6920, 'shove': 6921, 'seagulls': 6922, 'revised': 6923, 'simon': 6924, 'colt': 6925, 'gordon': 6926, 'nn': 6927, 'shuttering': 6928, 'editorial': 6929, 'layoffs': 6930, 'screwed': 6931, '8cm': 6932, 'freezing': 6933, 'perhaps': 6934, 'goodbye': 6935, 'hitched': 6936, 'loose': 6937, 'drivers': 6938, 'travelling': 6939, 'alhaffah': 6940, 'ix7byfefie': 6941, 'contradictory': 6942, 'region': 6943, 'cases': 6944, 'whooping': 6945, 'diagnosed': 6946, 'baad': 6947, 'fianc': 6948, 'sadly': 6949, 'majora': 6950, 'mask': 6951, 'scott': 6952, 'helmen': 6953, 'kiddos': 6954, 'swim': 6955, 'headache': 6956, 'mossbank': 6957, 'tragically': 6958, 'christina': 6959, 'canvass': 6960, 'color': 6961, 'backup': 6962, '37': 6963, 'homes': 6964, 'worldwide': 6965, 'naval': 6966, 'hymn': 6967, 'socal': 6968, 'twt': 6969, 'duzhl0hqo9': 6970, '1000th': 6971, 'celebrations': 6972, 'address': 6973, 'accountability': 6974, 'legitimacy': 6975, 'integrity': 6976, 'barfy': 6977, 'egg': 6978, 'unreal': 6979, 'moderate': 6980, 'flea': 6981, '29': 6982, 'slack': 6983, 'giphy': 6984, 'peridot': 6985, 'pearl': 6986, 'bracelet': 6987, 'jewelry': 6988, 'gemstone': 6989, 'strawberry': 6990, 'gyhx6yxve0': 6991, 'engines': 6992, 'uselessly': 6993, 'rubbing': 6994, 'yelling': 6995, 'declared': 6996, 'gparents': 6997, 'approached': 6998, 'attacked': 6999, 'yonge': 7000, 'sting': 7001, 'rafters': 7002, 'produces': 7003, 'sleeve': 7004, 'umps': 7005, 'a2': 7006, 'raking': 7007, 'seeding': 7008, 'lj': 7009, 'sneakerhead': 7010, 'classy': 7011, 'respectful': 7012, 'portraits': 7013, 'faint': 7014, 'asleep': 7015, '200': 7016, 'climbed': 7017, 'sass': 7018, 'surpass': 7019, 'orchestra': 7020, 'gemstones': 7021, 'crystal': 7022, 'grid': 7023, 'hinting': 7024, 'biked': 7025, 'chiro': 7026, 'mistake': 7027, 'backpack': 7028, 'coat': 7029, 'vente': 7030, 'madrid': 7031, '4fj6ylm3pv': 7032, 'elaborate': 7033, 'cun': 7034, 'royal': 7035, 'obesity': 7036, 'exaggerated': 7037, 'problematic': 7038, 'compared': 7039, 'crashing': 7040, 'brilliantly': 7041, 'embracing': 7042, 'large': 7043, 'rewarding': 7044, 'arnold': 7045, 'palmer': 7046, 'ataparty': 7047, 'eu0t1k2qh6': 7048, 'crimson': 7049, 'hiddleston': 7050, 'outweighs': 7051, 'absolute': 7052, 'terrifyingness': 7053, 'golaso': 7054, 'san': 7055, 'earthquakes': 7056, 'papa': 7057, 'regularly': 7058, 'equally': 7059, 'vitriol': 7060, 'urgente': 7061, 'z8wymqqmml': 7062, 'recommendation': 7063, 'lookin': 7064, 'devil': 7065, 'studying': 7066, 'medal': 7067, 'lottery': 7068, 'misremembered': 7069, 'suprise': 7070, 'viewers': 7071, 'menu': 7072, 'ffffffffff': 7073, 'nexus': 7074, 'lte': 7075, 'segment': 7076, 'contributed': 7077, 'shake': 7078, 'stance': 7079, 'ft': 7080, 'fb': 7081, 'unwork': 7082, 'letterman': 7083, 'paraphrase': 7084, 'appearance': 7085, 'msnbc': 7086, 'scotia': 7087, 'continued': 7088, 'several': 7089, 'shovels': 7090, 'env': 7091, '15cm': 7092, 'bitter': 7093, 'criticism': 7094, 'feverishly': 7095, 'searched': 7096, 'linkedin': 7097, 'healthcare': 7098, 'hosers': 7099, 'accomplishes': 7100, 'accountant': 7101, 'ish': 7102, 'num': 7103, 'caf': 7104, 'chegou': 7105, 'rosto': 7106, 'igual': 7107, 'nestor': 7108, 'cerver': 7109, 'qq': 7110, 'acontecendo': 7111, 'surto': 7112, 'landscape': 7113, 'preference': 7114, 'pats': 7115, 'ryan': 7116, 'miller': 7117, 'olympic': 7118, 'latin': 7119, 'terra': 7120, 'nullius': 7121, 'miyamoto': 7122, 'triage': 7123, 'nurse': 7124, 'whippersnappers': 7125, 'incl': 7126, 'chapter': 7127, 'thus': 7128, 'livetweeting': 7129, 'concluded': 7130, 'offs': 7131, 'peppermint': 7132, 'halo': 7133, 'conditioned': 7134, 'alumni': 7135, 'barn': 7136, 'chfkids': 7137, '30333': 7138, 'donate': 7139, '844': 7140, '550': 7141, '5437': 7142, 'meta': 7143, 'ist': 7144, 'capilano': 7145, 'campuses': 7146, 'squamish': 7147, 'coast': 7148, 'seemed': 7149, 'jo4d9nnui2': 7150, 'tgif': 7151, 'nerding': 7152, 'ninja': 7153, 'squid': 7154, 'hoodie': 7155, 'splatfest': 7156, 'tee': 7157, 'posted': 7158, 'rig7sfrhgg': 7159, 'freddy': 7160, 'playthroughs': 7161, 'undecided': 7162, 'chekov': 7163, 'sulu': 7164, 'nominated': 7165, 'csi': 7166, 'afternoons': 7167, 'ez4cyakssc': 7168, 'loveyoux16': 7169, 'praise': 7170, 'handles': 7171, 'filled': 7172, 'trick': 7173, 'ray': 7174, 'bradbury': 7175, 'shenanigans': 7176, 'e8rfdmblmg': 7177, 'v10': 7178, 'smartphone': 7179, 'smartwatch': 7180, '01njau6ynq': 7181, 'keystone': 7182, 'approved': 7183, '45': 7184, 'assessment': 7185, 'teams': 7186, 'universal': 7187, 'enforcement': 7188, 'governments': 7189, 'recreation': 7190, 'operating': 7191, 'deficit': 7192, 'locking': 7193, 'songs': 7194, 'bagot': 7195, 'fury': 7196, 'floro': 7197, 'dill': 7198, 'pickle': 7199, 'spitz': 7200, 'files': 7201, 'accomplish': 7202, '5yo': 7203, 'dada': 7204, 'decoration': 7205, 'foggy': 7206, 'weenie': 7207, 'residents': 7208, 'fatigue': 7209, 'by': 7210, 'wuss': 7211, 'wussy': 7212, 'discriminate': 7213, 'selling': 7214, 'farmer': 7215, 'discovery': 7216, 'mastodon': 7217, 'archaeological': 7218, 'dig': 7219, 'columbus': 7220, 'l6ds0p3kkx': 7221, 'minus': 7222, 'windchill': 7223, 'hoola': 7224, 'matches': 7225, 'gedyk': 7226, 'jacobson': 7227, 'heidt': 7228, 'responds': 7229, 'hints': 7230, 'tricks': 7231, 'recs': 7232, 'spoopy': 7233, 'allergy': 7234, 'altering': 7235, 'pollen': 7236, 'dandy': 7237, 'beauties': 7238, 'concussion': 7239, 'aucoin': 7240, 'merry': 7241, 'corrupt': 7242, 'dion': 7243, 'iggy': 7244, 'uncle': 7245, 'sketches': 7246, 'aspects': 7247, 'complicated': 7248, 'bras': 7249, 'valentines': 7250, 'hahahaha': 7251, 'accreditation': 7252, 'tsnarnaev': 7253, 'guilty': 7254, 'charges': 7255, 'recipe': 7256, 'lover': 7257, 'imagination': 7258, 'mckee': 7259, '10k': 7260, 'mugged': 7261, 'suicidal': 7262, 'murderer': 7263, 'base': 7264, 'cpp': 7265, 'host': 7266, 'nd': 7267, 'rbc': 7268, 'handing': 7269, 'thundersticks': 7270, 'lobby': 7271, 'symbolizes': 7272, 'materialized': 7273, 'inequality': 7274, 'auto': 7275, 'sisters': 7276, 'arab': 7277, 'commercial': 7278, 'marker': 7279, 'whiter': 7280, 'solved': 7281, 'solve': 7282, 'beck': 7283, 'trending': 7284, 'malleable': 7285, 'lineup': 7286, 'corporations': 7287, 'horoscope': 7288, 'discussed': 7289, 'dwntwn': 7290, 'employees': 7291, 'valeu': 7292, 'temptation': 7293, 'consumer': 7294, 'heads': 7295, 'forcing': 7296, 'bogus': 7297, 'kindersley': 7298, 'flin': 7299, 'flon': 7300, 'loses': 7301, 'cmon': 7302, 'warned': 7303, 'campground': 7304, 'bears': 7305, 'lassy': 7306, 'properly': 7307, 'af': 7308, 'seven': 7309, 'vehicles': 7310, 'batteries': 7311, 'shifting': 7312, 'centred': 7313, 'activities': 7314, 'management': 7315, 'download': 7316, 'mario': 7317, 'wiiu': 7318, 'approval': 7319, 'gsas': 7320, 'provincially': 7321, 'funded': 7322, 'steph': 7323, 'curry': 7324, 'boi': 7325, 'insert': 7326, 'scrubbing': 7327, 'grout': 7328, 'taxpayers': 7329}\n",
            "Found 7329 unique tokens\n"
          ]
        }
      ]
    },
    {
      "cell_type": "code",
      "source": [
        "format(sequences_60)"
      ],
      "metadata": {
        "colab": {
          "base_uri": "https://localhost:8080/",
          "height": 174
        },
        "id": "XuwTZV-fOrRd",
        "outputId": "5fb6239a-94c1-4eda-ff9c-a886f6b79c9b"
      },
      "execution_count": null,
      "outputs": [
        {
          "output_type": "execute_result",
          "data": {
            "application/vnd.google.colaboratory.intrinsic+json": {
              "type": "string"
            },
            "text/plain": [
              "'[[226, 501], [71, 134, 329, 1010, 502, 261, 2864, 211, 330, 502, 103], [585, 1, 10], [503, 504, 395, 331, 104, 296], [78, 71, 49, 2, 672, 2865, 804, 805, 1796, 1797, 1311, 1798, 2866, 448], [2867, 1312, 2868, 2869, 1, 505, 32, 2870, 79, 396, 20, 2871], [90, 2872, 56, 199, 2873, 1, 91, 81, 199, 806], [1799, 2874, 2875], [57, 1800, 449, 2876, 2877, 2878], [1, 1313, 105, 141, 5, 673, 450, 1011, 451, 807, 808], [1, 506, 2879, 2880, 586, 507, 674, 106, 1801, 119, 1314, 5, 452, 34, 362], [587, 809, 397, 2881, 1802, 2882], [810, 227, 332, 2883], [1315, 1316, 1803, 212, 1, 15, 10, 16, 1317, 1804, 398, 2884, 125, 11], [1, 2885, 16, 1012, 105, 6, 588, 675, 245], [26, 42, 2886, 674, 2887, 1805, 50, 142, 21, 811, 2888, 2889, 4, 143], [1, 2, 228, 1013, 5, 6, 1318, 1, 10, 228, 676, 6, 1318, 297, 229, 1319, 2890], [1, 399, 92, 1320, 104, 589, 115, 1, 261, 1014, 812, 298], [1015, 1016, 333, 453, 104, 2891, 813, 332, 1, 1806, 332, 1017, 814], [2892, 2893, 1807, 1321, 35], [3, 677, 135, 1018, 7, 61, 69, 62, 90, 2894, 1019, 50], [181, 53, 136, 82, 12, 155, 163, 200, 38, 10, 181, 10, 815], [58, 4, 56, 29, 74, 2895], [2896, 1808, 508, 678, 11, 126, 17, 1808, 2897], [1020, 31, 2898, 1809, 1322, 299, 39, 1810, 1811, 1021, 82, 2899, 1812], [90, 334, 1323, 93, 816, 2900, 1022, 87, 201, 1023, 2901, 2902], [67, 2903, 36, 164, 65, 12, 2904, 2905, 2906, 590, 83, 107, 11], [817, 818, 96, 400, 1324, 38, 1813], [81, 26, 1, 213, 7, 1814, 335, 819, 2907, 1, 2908, 40, 1815, 1325], [820, 1024, 1816, 1817, 401, 2909], [97, 116, 402, 2910, 336, 1, 509, 98], [1818, 1025, 69, 84, 99, 49, 61, 1, 821, 337, 1, 33, 363, 79, 1, 49, 300, 1026], [364, 31, 1, 92, 39, 1326, 40, 1, 338, 63, 401, 2911, 301, 214, 165], [34, 127, 112, 182, 117, 1027, 2912, 1819], [454, 1327, 2913, 1820, 59, 6, 1821, 246, 128], [51, 8, 1822, 62, 302, 45, 2914, 822, 2915, 202, 1328, 365, 202, 591], [8, 4, 11, 679, 1823, 22, 1824, 823, 2916, 182, 2917, 2918, 1028], [57, 303, 262, 366, 22, 2919, 2920, 2921, 1329, 80, 9, 263, 2922, 367, 156, 401, 2923], [52, 2924, 680, 2925, 1029, 2926, 2927, 1330, 455, 2928, 2929, 403, 2930, 2931, 2932, 2933], [1, 129, 68, 681, 1, 203, 37, 4, 144], [1825, 157, 1331, 247, 183, 2934, 456, 2935], [2936, 1826, 1827, 824, 1828, 2937, 2938, 31, 1827, 1332, 31, 1829, 680, 145, 145], [368, 1, 452, 682, 369, 3, 2939, 50, 825], [2940, 683, 592, 826, 45, 173, 2941, 1333], [2942, 807, 2943, 807, 2944, 1830, 28, 20, 2945], [4, 54, 1334, 81, 1030, 2946, 11, 1, 13, 158, 5, 173, 684], [30, 2947, 2948, 1831, 70, 2949], [1, 2950, 457, 593, 182, 1031, 1, 593], [2951, 2952, 98, 28, 20, 2953], [3, 2954, 2955, 9, 159, 184, 18, 339, 156, 827, 370, 42, 3, 2956, 510, 2957, 404, 1335, 2958, 42, 2959], [1832, 1833, 808, 174], [2960, 1336, 2961, 2962, 1834, 685, 1337, 1835, 2963], [25, 215, 76, 1836, 54, 1837, 25, 298, 55, 32, 828, 192, 828, 1032], [3, 146, 2964, 829, 166, 2965, 1338, 156], [1033, 1838, 4, 181, 1, 1839, 136, 41, 112, 47, 1034, 15, 1840], [405, 116, 1, 33, 1841, 2966, 1842, 2967, 1843, 1339, 41, 1035, 2968, 2969, 2970, 17], [340, 1844, 72, 830, 686, 511, 157, 24, 13, 160, 264, 13], [2971, 46, 216, 1036], [52, 217, 1845, 2972, 1037, 403, 1038, 147, 2973, 2974, 1037, 403, 1038, 2975, 2976, 1340, 2977, 2978, 2979], [27], [594, 80, 12, 21, 46, 137, 362], [2980, 1846, 1039, 60, 1847, 831, 2981, 2982, 2983, 1848, 2984, 832, 175, 128], [26, 512, 185, 33, 2, 40], [1, 2985, 1, 49, 2986], [3, 1341, 2987, 1849, 2988, 18, 1850, 46], [186, 2989, 595, 1851, 230, 34, 112, 2990, 1852, 1040, 304, 2991, 513], [118, 514, 167, 1853, 1854, 2992, 2993, 406], [24, 13, 69, 74, 833, 1855], [25, 834, 2994], [835, 1342, 1342, 687, 12, 265, 182, 20, 2995, 515, 1343, 2996], [341, 1041, 596, 516, 9, 2997, 108, 2998, 2999, 1041, 1856, 3000], [836, 138, 3001, 836, 142], [120, 88, 1042, 338, 3002, 1857, 35, 5, 83, 1042, 3003, 688, 458], [30, 1043, 449, 3004, 1044, 449, 517, 3005, 3006, 341], [18, 407, 1858, 11, 30, 58, 1859, 3007, 3008, 597, 3009, 1859, 176, 689, 690, 1860], [98, 98, 46, 1045], [342, 1861, 3010, 121, 3011, 3012, 837, 3013], [1, 408, 116, 1, 3014], [43, 185, 5, 144, 1862, 246], [46, 518, 184, 1046, 184, 77, 343], [1324, 408, 371, 130, 504, 1344, 305, 838, 1863, 301, 1, 6, 1345, 3015], [52, 30, 14, 69, 84, 17, 48, 96, 84, 331], [47, 591, 3016, 3017, 519, 3018], [90, 3019, 1, 156, 372, 1, 1346, 48], [520, 106, 1047, 521, 59, 50, 218], [1048, 1, 1864, 168, 187, 34, 12, 1, 522, 83, 1, 231, 306], [691, 362, 44, 409, 373, 15, 3020, 82, 1049], [598, 1050, 119, 1347, 3021, 1865, 3022, 3023, 188, 3024, 3025, 103], [3026, 523, 692, 203, 3027, 12, 22, 3028, 232, 8], [11, 60, 19, 3029, 11, 27, 30, 121, 104, 1051, 1866, 246, 303], [1867, 90, 3030, 459, 3031, 1, 42, 599, 1868, 8, 3032, 1869, 524], [525, 122, 2, 1870, 59], [3, 3033, 44, 526, 42, 245, 204, 1871, 5, 13, 38, 262], [78, 1872, 1873, 458, 264, 1874, 65], [3034, 693, 98, 1052, 839, 840, 1875, 600, 601, 1053, 266, 1876], [3035, 602, 184, 3036, 112, 602, 694, 88, 3037, 1348, 1818, 3038, 344, 841, 3039], [18, 174], [1054, 47, 107, 1055, 3040, 3041, 336], [2, 107, 519, 3042, 460, 3043, 227, 345, 3044, 267, 3045], [1, 10, 3046, 182, 3047, 18, 268, 1349, 3048, 12], [10, 842], [24, 1056, 461, 1056, 1350, 24, 53, 3049, 3050], [307, 38, 121, 1877, 527, 128, 1351, 5, 1057, 603, 1878, 825, 3051, 128, 3052], [], [193, 1879, 3053, 604], [52, 148, 3054, 1352, 1880, 3055, 3056, 346, 168, 401, 233, 62, 269, 73, 1, 23, 234, 3057], [3058, 1058, 176, 3059, 1353, 9, 3060, 94, 176, 176], [836, 22, 3061, 232, 53, 181, 329, 843, 2, 3062, 17], [3063, 308, 3064, 131, 462, 595, 1881, 605, 1354, 3065], [1059], [47, 606, 1882, 607, 149, 150, 15, 219], [3066, 70, 608, 3067, 309, 3068, 82, 3069, 270, 528, 679, 1060, 1883], [22, 844, 3070, 845, 3071, 609, 3072, 410, 1884, 3073, 3074, 529, 1885], [1, 1839, 3075, 3076, 374, 269], [18, 100, 3077, 105, 1355, 61, 3078, 1328], [92, 1886, 37, 4, 1061, 81, 1356, 1887, 3079, 37, 4, 1357, 3080], [510, 113], [24, 13, 1062, 220, 1063, 17, 610, 166, 1358, 247], [52, 9, 308, 11, 42, 28, 20, 3081], [43, 525, 2, 411, 2], [26, 42, 248, 77, 677, 335], [23, 611, 412], [161, 1, 310, 85, 14, 271, 174, 32, 1013, 1064, 3082, 3083, 336, 1], [8, 612, 25, 4, 413], [67, 1065, 235, 3084, 591, 118, 232, 375, 1066, 3085], [139, 3086, 3087, 1, 1359, 16, 101, 404, 3088, 1888, 3089], [37, 248, 16, 167, 3090, 395, 1889, 1060, 3091, 3092, 1890], [613, 677, 36, 163], [52], [89, 164, 156, 128, 3093, 614, 61, 615, 1360, 530], [311, 1067, 1891, 3094, 846, 1068, 135, 586], [51, 1, 230, 312, 79, 1, 230, 161, 3, 69, 1361, 504, 1362, 1, 105, 414, 3095], [1892, 169], [40, 262, 236, 48, 272], [47, 847, 334, 616, 695, 1893, 531, 189], [696, 532, 21, 3096, 118, 232, 77, 697, 501, 347], [52, 376, 848, 237, 9, 1069, 3097, 415, 273, 30, 58, 617, 377, 533, 3098, 28, 20, 3099, 28], [51, 378, 463, 849, 508, 344, 79], [589, 1, 15, 3100, 5, 1, 41, 3101, 850, 1070], [28, 20, 3102], [1, 1894, 3103, 3104, 176, 534, 1, 83, 3105], [97, 221], [3106], [8, 4, 6, 65, 1363, 34, 11, 84, 274], [19, 535, 618, 618, 3107, 9, 1071, 1895, 34, 87, 593, 97, 3108], [222, 2, 1896, 1897, 3109, 416, 64, 313, 3110, 5, 1898, 1899], [118, 1900, 104, 3111, 3112, 91, 1364, 3113, 844, 150, 70, 99, 23, 3114], [510, 1, 37, 17, 1901, 194, 9], [698, 1, 14, 1365, 1, 1366, 1367, 843, 23, 2, 3115, 3116], [27, 1368, 1369, 72, 619, 3117, 464, 1072, 27, 3118, 699, 275, 42], [137, 700, 620, 1073, 851, 3119, 102, 18, 852, 853, 170], [17, 77, 701, 7, 620, 122, 3120, 238, 1370, 1074], [71, 1371, 155, 1902, 3121, 195, 311, 45, 379, 813, 1372, 1903], [19, 143, 854, 54, 1, 31, 138], [536, 366, 1, 702, 239, 330, 3122, 314, 3123, 1373, 3124, 205, 1904], [78, 129, 68, 10, 814, 1075, 1374, 276, 126, 249, 211], [186, 1052, 1338, 593, 105, 37, 855, 1905, 1076, 277, 1, 616, 56, 53, 136, 417, 3125], [3126, 1010, 843, 3127, 1375, 3128, 3129, 3130, 16, 163, 195, 22, 1077], [151, 16, 3131, 3132, 1376], [1078, 412, 1377, 347], [272, 1906, 1907, 1908, 3133, 278, 856, 348, 65, 1909], [188, 15, 1910, 1079, 703, 3134, 1080, 13, 1079], [39, 3135, 12, 1911, 47, 418, 131, 74, 74, 35], [3136, 3137, 306, 349, 221, 87], [52, 156], [52, 1378, 3138, 34, 3139, 22, 3140, 370, 28, 20, 3141], [857, 3142, 1912, 373, 704], [43, 1913, 3143, 3144, 1914, 314, 29, 419, 1, 58, 1379, 3145, 94], [], [1081, 465, 606, 76, 61, 466, 1, 6, 65, 1380, 339, 315], [206, 3146, 3147, 3148, 350, 1915], [25, 215], [12, 3149, 88, 233, 94, 149, 185, 621, 6], [368, 1916, 1381, 3, 235, 1917, 1918, 838, 680], [1382, 622, 537, 1082, 380, 316], [1, 72, 705, 3150, 538], [858, 1919, 1920, 859, 54], [95, 351, 3, 539, 250, 41, 467, 202, 3, 539, 250, 41, 706, 1921], [3151, 1922, 420, 707, 3152, 406, 1083, 315, 123, 1923, 1821], [169, 3153], [395, 1383, 3154, 708, 3155, 81, 623, 1073, 216, 1084], [3156, 218, 1073, 1085], [97, 177, 1086], [1924, 3157, 3158, 1925, 34, 3159, 39, 709, 207, 860, 32], [131, 1087, 1384, 1323, 2, 861, 3160, 402, 406, 3161, 1926, 1088], [1052, 622, 143, 1385, 1386, 3162, 3163, 317, 3164, 1927, 3165, 3166, 127, 1386, 710], [688, 540, 1928, 1929, 398, 421, 711, 3167], [71, 862, 3168, 3169, 212, 178, 507, 1930, 3170, 1931], [69, 1, 213, 381, 1387, 31, 1932, 1933, 863, 176, 3171, 3172], [1388, 1934, 538, 864, 1935, 1936, 3173], [352, 1, 398, 3174, 109, 3175, 1937, 712, 713, 44, 352, 368, 7, 541], [126, 542, 5, 83, 618, 3176, 3177, 1089], [3178, 865, 1938, 114, 81, 1939, 3179, 1940, 3180, 3181], [], [58, 117, 714, 54, 46, 318, 15, 1941, 152, 94], [543, 1389, 3182, 3183, 3184, 3185, 866, 3186], [18, 100, 251], [1, 23, 3187, 179, 14, 13, 850, 1070, 1, 462, 184, 1390, 3188], [39, 1942, 278, 206, 3189, 3190, 1943, 380, 3191, 184, 1944], [1, 1945, 1391, 3192, 153, 3193, 21, 3194, 1946, 1947, 1392], [34, 867, 182, 1090, 21, 157, 182, 1091, 1092, 182, 1090], [62, 624, 158, 1393, 3195, 1948, 868, 624, 1394], [26, 3196, 1949, 6, 868, 1395, 1950, 1951, 3197, 235], [3198, 1396, 247, 3199, 1952, 1953, 1954], [16, 21, 30, 229, 715, 79, 65, 1397], [51, 468, 3200, 1398, 272, 1955], [3, 422, 1, 9, 3201, 61, 149, 102], [3, 36, 206, 1956, 509, 716, 1093, 3202, 3, 869, 263, 606, 7, 404, 69], [22, 3203, 266, 61, 84, 870, 382, 1957, 717, 469, 121, 3204, 3205, 718], [719, 871, 544, 72, 1399, 830, 164, 1400, 279, 237, 43, 3206, 3207, 1359], [41, 9, 545, 382, 1951, 1958], [270, 113, 3208, 1959], [609, 3209, 3210, 3211, 383, 3212], [76, 4, 1401, 72, 1094, 3213, 3214, 1095, 3215], [809, 3216, 341, 3217, 872], [1, 423, 720, 3218, 103, 721], [1026, 104, 1960, 3219, 31], [1961, 159, 45, 143, 3220, 138, 1962, 3, 280, 38, 319], [95, 1096, 3221, 1963, 709, 470, 1054, 47, 3222, 2, 3223, 13, 71], [1097, 3224, 3225, 108, 7, 1964, 3226, 3227, 28, 20, 3228, 28, 20, 3229], [1, 72, 13, 183, 1, 372, 71, 134, 166], [3230, 3231, 625, 873, 10], [118, 266, 815, 3232, 1098, 281], [3233, 1, 722, 1, 874, 626, 398, 367, 3234, 3235, 1402, 152, 546, 240, 1, 29, 17, 1099, 1965], [190, 3236, 1403, 1940, 1402, 181, 1100, 3237, 3238, 1022], [3239, 66, 23, 36, 1101, 3240, 683, 529], [3241, 163, 96, 3242, 3243, 1102, 1966, 3244, 48, 167, 3245], [3246, 1967, 471, 547, 3247, 366, 119, 353, 1099, 1404, 44, 1405, 627, 1406, 424, 3248], [24, 140], [715, 1, 91, 208, 1, 1103, 425, 17], [102, 354, 3249, 263, 1407, 262, 7, 134, 13, 1104, 38, 853, 2, 187], [471, 1968, 46, 1322], [169, 124, 7, 308, 1408], [24, 548, 426, 3250, 36, 1, 506, 1, 41, 232, 6, 1105], [19, 11, 196, 1409, 3251, 95, 351, 228, 19, 3252, 79], [349, 26, 29, 875, 1, 77, 1106, 1410, 3253, 1061, 1, 875, 24, 537, 3254], [340, 336], [3, 422, 1, 193, 48, 1, 49, 5, 723, 5, 13, 83], [1969, 876, 21, 719, 1, 507, 89, 1411], [1, 14, 207, 1412], [46, 282, 427, 163, 3, 1970, 1031, 3255, 1971, 861, 472, 712, 384], [1107, 184, 724, 1413, 171, 1, 41, 549, 375, 3256, 317, 3257, 1108], [18, 100, 64, 1414, 512, 1075], [1415, 34, 75, 32, 1972, 550, 76, 1972, 10, 1973, 21], [78, 725, 97, 3258, 3259, 877, 60, 35, 3260, 1416, 1417, 283, 363, 3261], [39, 628, 37, 865, 33, 709, 3262, 268, 114], [3263, 473, 1820, 3264, 3265, 1418, 629, 1, 29, 474, 355], [3266, 706, 3267, 3268, 3269, 3270, 3271, 303, 627, 132], [188, 23, 139, 1, 13, 131, 239, 5, 672, 3272], [67, 551, 3273, 3274, 428, 429, 3275, 5, 144, 270], [3, 241, 3276, 1419, 152, 241], [148, 3277, 3278, 878, 1420, 3279, 145, 382, 1421, 189, 1974, 1421, 35, 25, 1422, 284, 53, 64, 3280], [66, 630, 1398, 631, 97, 38, 879, 177, 1109], [3281, 341, 64, 461, 21], [3, 602, 1975, 1110], [3282, 1111, 1976, 276, 1112, 3283, 102, 218, 1977], [475, 262], [29, 59, 110, 876, 99, 49, 18, 35], [150, 880, 77], [520, 1978, 3284, 3285, 1423, 3286, 468, 218, 1978], [19, 3287, 518], [19, 143], [10, 881, 168, 845, 96, 525, 333, 726, 882], [1, 37, 105, 7, 3288, 3289, 1113, 1404, 367, 2, 1, 883, 1, 33, 464, 117, 1, 180], [36, 56, 196, 1979, 117, 205, 308, 56, 196, 1979, 117, 205, 32], [302, 45, 1980, 75, 27, 117, 1047, 694, 174], [3, 3290, 3291, 1981, 1424, 534, 3292, 216], [1, 91, 248, 318, 77, 1982, 627, 3293, 66, 267], [3294, 3295, 3296, 3297, 3298, 516, 1983, 1114, 1984, 3299, 685, 3300, 3301, 3302, 3303], [1847, 104, 1115, 1116, 1985, 3304, 82, 3305, 15, 185, 3306, 206], [3307, 139, 38, 3308, 42], [3, 1986, 1110, 1117, 3309, 3310, 338, 3311, 5, 3312, 1118], [25, 1119, 1425, 632], [633, 72, 601, 2, 552, 727, 852, 1329, 72, 601, 1120], [25, 705, 38], [414, 3313, 1987, 3314, 1, 6, 1426, 1121, 366, 50, 45, 1988, 1122], [216, 623, 373, 3315, 1989, 70, 3316, 3317], [43, 523, 1317, 3318, 1907, 284, 1990, 3319, 3320, 3321, 343, 154, 110], [111, 1991, 166, 398, 3322, 1992], [67, 1993, 3323, 819, 631, 3324, 1994, 820, 200, 11, 872, 24, 476, 7, 872, 1995, 3325], [1, 512, 367], [1427, 1428, 3326, 275, 398, 421, 711, 1109], [46, 3327, 80, 477, 21], [1, 107, 59, 1362, 1429], [1406, 1996, 465, 304, 1123, 139, 136, 3328, 17, 48, 1124, 553], [1997, 1998, 1999, 3329, 430, 284, 429, 268, 884, 285, 1125, 70, 3330, 3331], [728, 131, 629, 3332, 3333, 4, 478, 479, 1, 2000, 167, 3334, 11], [67, 2001, 2002, 3335, 2003, 1, 286, 419, 3336], [431, 3337, 80, 1012], [1, 96, 29, 729, 2004, 3338, 2005, 1, 88, 356, 38, 1, 10, 312], [130, 1, 356, 7, 2006, 3339, 1126, 3340, 3341, 432, 2007], [405, 2008, 3342, 2009, 1127, 46], [43, 312, 1430, 1128], [145, 353, 54, 1, 730, 1055, 3343, 3344, 1431, 690, 1, 23, 1108, 2010, 3345], [176, 385, 634, 2011, 27, 60, 1129, 60, 1432, 454, 1327, 2012, 60, 220, 855, 1433, 696, 2013, 27, 223, 164], [1, 240, 1, 310, 1, 1434, 3, 3346, 154, 63], [1, 1435, 1130, 1, 91, 524, 4, 1108], [1417, 540, 428, 480, 1376, 178, 3347, 1131, 731, 3348, 96, 4, 44, 70], [25, 151, 885, 3349, 357, 45, 73], [433, 93, 732, 2014, 2015, 434, 1, 1132, 7, 32, 276], [605, 386, 133, 252, 68, 467, 481, 277, 248, 239, 467, 481, 622, 720, 3350], [3351, 2016, 300, 2017, 1436, 2016, 1, 42, 1133, 8, 2, 14, 201], [3352, 46, 3353, 84, 3354, 635, 453], [8, 554, 185, 474, 1134, 107, 3355, 3356], [115, 4, 886, 27], [43, 3357, 1135, 411, 3358, 1, 10, 91, 25, 3359, 2018], [57, 99, 49, 2, 2019, 187, 3360, 1, 84, 3361, 3362], [3363, 242, 3364, 3365, 3366, 3367, 3368], [320, 2020, 387, 3369, 1, 2021, 3370, 33, 887], [4, 54, 140, 5, 66, 1437, 34, 174, 235], [5, 37, 144, 1076, 2022, 1438, 1136, 3371, 1439], [1, 482, 287, 309, 1440, 194, 103], [2023, 1137, 3372], [30, 386, 3373, 246, 34, 55, 12, 3374, 1138, 1139, 3375, 189, 369], [8, 177, 815, 2024, 520, 373, 3376], [114, 1, 14, 77, 63, 473, 2025], [18, 100, 7, 253, 127, 555, 105, 177, 11], [19, 11, 556, 19, 5], [72, 1437, 254, 1, 96, 672, 1441, 367, 3377, 626, 3378, 2026, 629, 3379], [3, 1442, 2027, 1443, 1140, 1444, 33, 3380, 483, 1333], [79, 54, 484, 29, 1445, 158, 57, 3381, 557, 162], [67, 153, 3382, 3383, 3384, 3385, 1354, 3386, 733, 55, 73, 1, 3387, 2028], [1373, 159, 1141, 3388], [90, 3389, 91, 3390, 1044], [81, 18, 3391, 11, 24, 7, 3392, 45, 10, 2029], [2030, 11, 429, 1142, 694, 1446, 2031, 1447, 107, 734, 3393, 263, 556, 339], [2032, 358, 3394, 2033, 2032, 358, 199, 2034, 2035], [218, 2036, 1, 435, 541, 2037, 513, 55, 109, 318, 140], [78, 83, 321, 3395, 888, 2038, 1143, 168, 237, 187], [402, 2039, 516, 3396, 211, 53, 558, 436, 4, 108, 3397, 3398, 427], [4, 128, 285, 410, 106, 2040, 329, 22, 889, 74, 128], [226, 34, 3399, 2041, 11, 3400, 70, 3401], [91, 34, 3402, 3403], [1144, 383, 3404, 1123, 3405, 3406, 383, 166, 388, 197, 119, 89, 2042, 1145, 3407], [3408, 543, 3409, 1330, 3410, 1448, 1146, 3411, 3412, 147, 1146, 3413, 147, 2043, 513, 28, 20, 3414], [3, 735, 12, 2044, 157, 2045], [], [2046, 322, 114, 62, 437], [131, 438, 67, 3415, 1449, 3416], [1450, 2047, 1147, 95, 330, 198, 1148, 559, 1925, 1149, 9], [485, 2048, 1451, 1, 14, 1133, 586], [18, 3417, 3418, 286, 736], [1, 153, 3419, 197, 288, 245, 113, 150, 251, 251], [4, 221, 1452, 111, 3420, 1, 1453, 185, 621, 24, 155, 3421], [], [1454, 737, 434, 455, 144, 53, 51, 144, 1073, 40, 33], [2049, 3422, 1150, 22, 36, 160], [323, 1151, 366, 3423, 56], [4, 54, 138, 738, 890, 288, 54, 204, 2050, 122, 3424], [3425, 2051, 3426, 40, 469, 172, 429, 3427, 3428, 247, 2052, 3429], [46, 891, 3430], [95, 4, 3431, 1, 154, 350, 2053, 739, 344, 322, 3432, 105, 3433, 1455, 3434, 7, 315], [150, 740, 71, 134, 892, 24, 479, 3, 152, 3435, 3, 116, 2054, 1091], [1, 23, 1, 42, 1152, 17, 133, 373, 1905], [297, 3436, 1153, 376, 3437, 2, 255], [1, 289, 3438, 3439, 1456, 56, 290, 893, 165], [3440, 1457, 3441, 2055, 2056, 593, 2056, 3442, 3443, 67, 435, 1458, 344], [1, 636, 3444, 91, 9], [1, 136, 349, 2057, 15, 17, 1094, 1, 2, 77, 2058, 2059, 2060, 3445], [1107, 34, 1459, 3446, 2061, 35, 275, 171, 478], [1, 2062, 256, 1382, 37, 33, 3447], [4, 54, 18, 174, 1, 2063, 3448, 21, 71, 134, 29, 66, 867, 110], [1460, 741, 2064, 518, 881, 1391], [25, 215, 3449, 894, 2065, 5, 3450], [311, 416, 3451, 3452, 97, 477, 3453], [8, 388, 3454, 154, 12, 1416, 1154, 3455, 1028, 3456, 3457, 71, 2066], [1, 637, 1395, 264, 3458, 220, 311, 324], [111, 358, 560, 245, 595, 10], [111, 47, 884, 635, 3459], [189, 26, 1155, 895, 1461, 3460, 3461, 1950, 895, 1461, 469], [25, 272, 896, 285, 542, 272], [129, 68, 638, 2067, 3462, 428], [25, 274, 2007, 8, 3463, 697], [39, 75, 228, 3464, 3465, 75, 3466, 468, 7, 32, 7, 456, 1462], [897, 3467, 1417, 1156, 2068, 2069, 3468, 1463, 3469], [320, 3470, 2070, 95, 44, 95, 1012, 3471, 3472, 3473, 535, 1394], [52, 3474], [433, 2071, 5, 3475, 2072, 407, 3476, 742, 898, 14, 58], [92, 1464, 1157, 3477, 1465, 3478, 383, 1158, 3479, 1320, 290, 41, 122, 114, 16, 3480], [219, 16, 530, 59, 561, 3481, 1159, 3482], [209, 1, 112, 3483, 5, 23, 166, 2073, 186, 1466, 335], [2074, 3484, 555, 3485, 438, 3486], [25, 3487, 70, 1160, 3488, 3489, 3490, 418, 118, 3491, 63], [108, 3492, 3493, 92, 1161, 2075], [743, 3494, 3495, 3496, 170, 7, 36, 69, 1, 42, 639], [221, 1467, 1162, 3497, 744], [745, 3498, 2076, 3499, 242, 3500, 3501, 1, 406, 3502], [115, 70, 1, 1163, 19, 3503, 2, 27, 607], [1, 1468, 291, 98, 3504, 98, 158, 166, 44, 524, 30, 81, 615, 3505, 343], [301, 317, 3506, 3507, 847, 1849, 122, 3508, 2077, 1469, 3509], [137, 17, 180, 324, 470], [188, 1, 49, 2, 165, 523, 1317, 11, 8, 129, 68, 80, 257], [80, 3510, 3511], [4, 32, 21, 380, 1, 266], [27, 27, 15, 364, 231, 3512, 3513, 3514, 31], [1113, 562, 746, 3515, 3516, 878, 640, 1897, 3517, 614, 124, 1069, 1438, 614, 1470], [585, 122, 2, 3518, 3519, 3520, 899, 3521, 1, 49, 139], [1059, 1, 10, 3522], [1, 23, 3523, 1164, 3524, 3525, 2078, 3526], [118, 1, 747, 313], [66, 3527, 1030, 420, 5, 517, 3528, 635, 5, 812], [169, 1165, 3529, 2079, 1471, 132, 75, 45, 63, 431], [2080, 53, 3530, 3531, 3532, 476, 167, 69, 1472, 208, 563], [1473, 12, 900, 1474, 2081, 346, 2082, 68, 748, 3533, 72, 262], [186, 215, 44], [29, 133, 1, 136, 47, 75], [2083, 1, 13, 31, 302, 95, 483, 384, 1475, 103, 564], [273, 1], [47, 62, 82, 1166, 43, 254, 901, 309, 262], [3, 245, 453, 5, 50, 439, 902], [4, 143, 3534, 1476], [1080, 1477, 26, 24, 14, 22, 2084], [12, 388, 329, 59, 44, 1421, 292, 12, 388, 6, 3535, 353, 3536, 1478, 119, 292, 1479], [1, 42, 1870, 88, 453, 3537], [4, 2085, 226, 749, 3538, 116, 172], [202, 3539, 828, 63, 79, 33, 894, 638, 63], [], [26, 2086, 3540, 2087, 272, 50, 38, 2088, 3541, 718], [3542, 3543, 21, 2, 3544, 3545], [890, 903, 312, 750, 36, 91, 42], [510, 751, 1480, 84, 384, 1824, 1481, 3546], [26, 42, 23, 78, 2089, 904, 905, 3547, 1, 3548, 906, 3549, 17, 3550], [565, 64, 619, 174, 628, 22, 226, 116, 203, 123, 1012, 591, 10], [1069, 177, 552, 742, 54, 3551, 907, 3552, 119, 1482, 9, 1483, 3553], [57, 110, 1, 386, 34, 3554, 3555, 1484, 1485, 46, 1436, 3556, 3557], [1, 379, 3558, 1, 626, 289, 2090, 1369, 597, 698, 1486, 693, 3559], [18, 100], [1, 566, 752, 63, 77, 3560], [58, 59, 19, 12, 46, 3561, 617, 175, 315, 439, 902], [243, 3562, 226, 186, 273, 1044, 243, 224, 342, 130, 3563], [1487, 1488, 8, 1489, 3564, 3565], [43, 22, 1490, 48, 3566], [1, 37, 105, 22, 1167, 2091, 175, 305, 389, 2092, 640, 2015, 2091], [751, 624, 1927, 1, 139, 136, 7, 165, 908, 51, 417, 908, 233, 3567, 7], [1168, 22, 210, 57, 194, 80], [103, 127, 3568, 731, 97, 3569, 1476, 612, 61, 716, 103, 3570, 2093, 23, 2094], [243, 48, 3571, 3572, 1, 88, 3573], [58, 753, 77, 3574, 3575, 103, 3576, 3577, 86], [95, 3578, 107, 2095, 2, 3579], [7, 11, 1, 47, 162, 1, 1491, 213, 1169, 754, 1, 2096, 1170], [3580, 3581, 296, 1143, 641, 814], [67, 2, 37, 482, 288, 348, 1858, 191, 135, 755], [2097, 1171, 246, 3582, 99, 69, 61], [26, 1, 16, 93, 845, 401, 1, 92, 1, 3583], [226, 1315, 3584, 3585, 3586, 223, 159, 223, 1960], [1, 522, 173, 241, 271, 99, 252, 68, 6, 483, 325], [2098, 152, 1, 91, 9, 77], [2099, 2100, 2101, 3587, 3588, 3589, 3590, 756, 3591], [1023, 1492, 415, 1172, 1493, 62, 94, 1023, 1079, 816], [8, 424, 2, 137, 1444, 201, 3592, 47, 2, 2102, 336, 1, 85, 37, 1173, 201], [757, 274, 1, 33, 3593, 1494, 414, 3594, 1915, 3595, 1495], [1, 13, 170, 14, 17, 413, 3596, 3597, 1963, 256], [26, 122, 611, 69, 40, 112, 2103, 3598], [81, 1, 33, 13, 3599, 58, 3600, 3601], [1496, 11, 272, 909, 3602, 283, 3603, 4, 5, 19, 836], [230, 16, 25, 18, 1, 435], [34, 32, 59, 3604, 1, 14, 3605, 751, 2104, 133], [340, 482, 1026, 1497, 79, 1], [39, 100, 172, 440, 3606, 1, 16, 2105, 197, 1, 642], [1, 10, 1, 3607, 3608, 2106, 3, 3609, 1, 435], [1498, 77, 3610, 219, 77, 223], [1, 2107, 83, 1, 3611, 313, 1499], [375, 2108, 3612, 3613, 2108, 2109, 3614, 385, 3615, 2110, 509, 293], [26, 758, 567, 2111, 1, 310, 1, 458], [75, 2112, 1500, 110, 1361, 204, 3616, 2113, 1501, 67, 162, 45, 1502, 64, 910, 202], [759, 760, 113, 857], [3617, 3618, 2114, 1503, 289], [3619], [52, 24, 417, 906, 2, 125, 11, 28, 20, 3620], [1504, 1174, 3621, 3622, 220, 194, 255, 292, 761, 486, 159, 1505, 1147], [3623, 146, 1175], [205, 54, 1865, 526, 1924, 3624, 336], [1506, 1176, 504, 79, 238, 1507, 1177, 868], [62, 307, 307, 1, 14], [2115, 85, 129, 68, 18, 3625], [386, 323, 911, 762, 350, 1504, 387], [912, 1, 830, 3626, 3627, 475, 449, 3628, 37, 4], [3629, 3630, 4], [46, 2116, 3631, 30, 82, 145, 257], [3632, 1, 913, 313, 92, 63, 2117, 390], [227, 345, 55, 109, 2118, 15, 7, 1508, 6], [307, 154, 3633, 763, 1509, 3634, 200, 2119, 2120, 195, 824, 3635, 45], [3, 387, 3636, 3637, 387, 299, 251, 3638], [78, 487, 2121, 1, 1178, 293, 7, 21, 46, 199, 3639], [96, 914], [3640, 37, 244, 1341], [78, 1, 15, 2, 123, 1045, 5, 96, 1969, 3641, 875, 159], [16, 822, 3642, 21, 162, 45, 36, 202, 632, 83, 321, 3643, 3644], [425, 193, 3645], [236, 249, 455, 2122, 1126, 356, 488, 165, 915, 14, 65], [1168, 22, 210, 1, 23, 1, 129, 68, 1179, 441, 5], [25, 391, 2123, 2124, 3646, 704, 916, 3647, 1180, 3648, 2125], [244, 1510, 63, 764, 19, 2126, 1511, 39, 220, 93, 1181, 643, 14, 1504, 630, 97], [3649, 3650, 3651, 3652, 3653], [1, 29, 96, 398, 1369, 3654, 98], [243, 71, 644, 3655, 30, 399, 135, 3656, 3657, 480, 3658, 343, 66, 183, 23, 1321, 3659], [43, 3660, 1050, 1182, 2104, 1183, 1, 85, 231, 10], [416, 17, 247, 116], [2127, 2128, 917, 918, 3661, 721, 479, 3662, 740, 2129, 2130, 3663, 1512, 1, 15, 180], [2131, 3664, 3665, 2131, 3666, 3667, 3668, 3669], [2132, 3670, 275, 898, 1, 1513, 179, 1168, 846, 2133], [51, 1822, 257, 60], [1184, 3671, 3672, 1150, 1514, 261, 488, 189, 3673, 237, 26, 919, 465, 365, 2134, 3674, 3675], [67, 58, 289, 556, 22, 3676, 3677, 1057, 1031, 159, 13, 16], [95, 282, 3678, 265], [1515, 3679], [368, 1, 98, 193, 3680, 1018], [3681, 3682, 1185, 3683, 3684, 3685, 1516, 280], [25, 159, 45, 83, 1474, 47, 1517, 3686, 15, 14, 322, 155], [1, 2135, 1, 82, 2136, 1099, 1186, 315], [144, 1906, 568, 3687, 1187, 3688, 1167, 3689, 1336, 698, 1, 49, 2, 3690, 3691, 9], [39, 3692, 3693, 33, 14, 343, 235], [3, 3694, 920, 1, 750, 33, 554, 95, 617, 3695, 3696, 3697], [921, 12], [92, 3698, 99, 14, 6, 65, 421], [760, 538, 864, 2137, 501, 1518, 2138, 1188, 569, 2139, 432, 54, 77, 1189], [217, 3699, 3700], [3701, 3702, 3703, 1519, 35, 223, 3704, 299, 3705, 182, 60, 63, 470, 3706], [4, 54, 140, 205, 2140, 1, 476, 5], [30, 284, 1485, 235, 3707, 3708, 3709, 765], [2141, 835, 1520, 1092, 844, 3710, 844, 922, 2142], [1, 3711, 3712, 3713, 1, 41, 3714, 329, 1190], [275, 14, 2, 3715, 3716, 2, 3717, 147, 3718, 1521, 3719, 804, 2143], [1, 645, 923, 21, 63], [46, 678, 205, 19], [35, 5, 1191, 549, 3720, 1, 12, 3721, 4, 56, 1, 646, 3722, 22, 1185], [676, 33, 88, 570, 310, 1, 13, 159, 6, 65, 8, 38, 61, 3723, 3724], [52, 2111, 147, 3725, 3726, 1522, 242, 1029, 3727, 352, 3728, 454, 2144], [69, 3729, 3730, 70, 1523, 2145, 3731, 3732, 65, 3733, 430, 430], [28, 20, 3734], [1192, 332, 1524, 253, 32, 19, 163], [2146, 3735, 1193, 17, 16, 2105, 197, 2147], [817, 219, 228], [1, 77, 139, 185, 3736], [181, 1194, 1, 72, 23, 2148, 3, 1525, 560, 674, 2149, 571, 819, 1526, 718, 225, 42, 390], [1, 1062, 1, 3737, 93, 40], [3738, 1527, 1420, 3739, 572, 1974, 1096, 2150, 120, 545], [647, 3740], [1, 37, 33, 88, 76, 281, 726, 2151, 3741, 2, 3742], [1, 34, 3743, 157, 79, 757, 1, 3744, 183, 1528, 50], [24, 13, 2152, 4, 3745], [648, 1529, 648, 1529, 1530, 250, 1126, 2, 648, 1529, 3746, 3747], [3748, 3749], [1, 10, 2153, 1531, 3750, 41, 2154, 347, 101, 1195, 7, 900, 871, 3751, 649, 3752, 924], [2155, 489, 766, 59, 54, 925, 2156, 2157, 3753, 1, 173, 11], [51, 3754, 708, 599, 3755, 1196, 442, 3756, 3757, 3758, 573, 106, 119], [131, 926, 896, 128, 3759, 2158, 574], [628, 650, 64, 141], [536, 34, 2159, 927, 720, 1197, 483, 3760, 3761, 55, 32, 153, 7, 927, 2160, 207, 275], [273, 5, 1, 14, 82, 3762, 1198, 3763, 6, 1198, 3764, 898, 174, 3765, 36, 1532], [3766, 864, 442, 2161, 3767, 70, 1074, 733, 805, 3768, 3769, 268, 747, 3770, 70], [651, 211, 3771], [57, 2162, 1, 42, 234, 1533, 3772, 137, 1199, 64, 1533], [1, 105, 561, 36, 3773, 277, 2163, 592, 107, 474, 554, 89], [111, 16, 382, 762, 9, 356, 453, 3774, 3775], [652, 917, 1128], [542, 928, 623, 3776, 1534, 410, 1200, 928, 192, 5, 3777, 1534], [1, 76, 4, 195, 3778], [148, 2164, 767, 755, 767, 84, 561, 2165, 2166, 569, 2167, 929], [368, 882, 443, 754, 1535, 3779], [39, 64, 199, 2034, 1066, 2168], [930, 926, 3780, 1470, 245, 768, 683, 1201, 3781, 1536, 2169, 62, 3782], [575, 728, 3783, 931, 2170, 1401, 55, 89, 1, 13, 146], [1537, 653, 1538, 53, 3784, 87, 40, 243, 870, 888, 3785, 3786, 651, 33, 22, 456], [67, 1379, 3787, 2171, 43, 34, 1539, 1, 465, 76, 339, 3788, 724, 1202, 885, 251], [594, 3789, 3790, 682, 3791, 3792, 250, 3793, 408, 932, 1540, 3794], [197, 2172, 197, 2172], [52, 1541, 249, 53, 392, 933, 1043, 3795, 207, 223, 2173, 51, 3796], [451, 3797, 3798, 922, 31, 3799, 3800, 2174, 1542, 3801, 2175, 934], [159, 3802, 82, 179, 227, 8], [3, 34, 127, 1, 16, 162, 756, 352, 1526, 111, 3803, 1463, 654, 76, 1065, 653, 3804], [1, 215, 3805, 3806, 602, 3807, 116], [1, 10, 1543, 1, 23, 1, 2176, 126, 2177, 3808, 459], [43, 406, 576, 3809, 3810, 1203, 395, 3811, 33, 526], [651, 2178, 725, 6, 2152, 1204, 1082, 3812, 2179, 3813, 51, 436, 3814], [577, 3815, 1205, 3816, 1544, 578, 547, 3817, 350, 392, 414, 428, 2180], [1, 914, 1, 6, 3818], [935, 936, 763, 1545, 333, 3819], [111, 142, 182, 754, 1, 6, 3820], [37, 439, 3821, 3822, 3823, 109, 87, 439], [1, 2181, 3824, 3825, 1546, 317, 3826, 1546, 200, 3827, 1547, 1, 23, 1, 511], [364, 1093, 1, 29, 417, 79], [3828, 1548, 3829, 2182, 3830, 198], [1, 49, 193, 490, 928, 183, 49, 3831, 11, 3832, 820, 1206, 3833, 2183], [1324, 478, 76, 371, 504, 34, 109, 1345], [8, 164, 625, 1503, 339, 78, 650, 3834, 3835], [405, 141, 3836, 2184, 293, 1351, 769, 937], [1, 14, 53, 938, 1, 3837], [92, 3838, 2185, 80, 3839], [2186, 125, 11], [152, 1879, 3840, 197, 168], [594, 19, 12, 228, 187, 3841, 110, 67, 2, 187, 238, 10, 183], [152, 9, 129, 68, 19, 67, 153, 93, 127, 2187, 194, 1, 2187, 106, 768, 3842, 103], [3843, 641, 3844, 76, 2188, 26, 1207, 1, 23, 314, 79], [3845, 699, 1208, 64, 33, 245, 300, 2189, 3846, 44, 65, 212, 1209, 558, 428], [41, 2190, 1107], [151, 646, 3847, 246], [437, 2191, 1210, 3848, 2192, 7, 827, 196, 2193, 383, 9], [66, 267, 5], [536, 3849, 28, 20, 3850], [25, 770, 925, 905, 37, 839, 176, 294, 146, 3851, 1549, 1], [1, 112, 3852, 3853, 3854, 3855, 655, 185, 546, 571, 939, 765, 2159, 3856, 3857], [1205, 1021, 3858, 717, 315], [771, 5, 608, 3859, 1550, 3860, 3861, 579], [39, 1484, 2194, 1211, 181, 13, 3862, 13, 3863, 580], [67, 3864, 3865, 1212, 772, 502, 2195, 421, 711, 15, 634, 178, 83, 1, 96], [90, 825, 687, 13, 511, 746, 438, 773], [30, 124, 17, 940, 164, 1551, 386, 2196, 164, 540, 294, 2197, 1, 6, 3866, 141], [160, 3867, 1381, 3868, 1552, 34, 12, 21, 151, 16, 2198, 637], [305, 3869, 348, 637, 1553, 283, 3870, 65, 1554, 159, 2199, 10, 7, 93], [3871, 162, 272, 530, 165, 325, 9, 48, 17, 3872], [3873, 228, 34, 63, 79, 3874, 17, 3875, 17], [3876, 3877, 3878, 3879, 3880, 866, 3881, 3882], [152, 1, 1555, 3883, 888, 1, 1556, 130, 1396, 3884, 940, 2200, 6, 3885, 3886, 1557, 294], [25, 2201, 1558, 182, 2202, 2203, 516, 190, 58, 753, 2204, 90, 214, 210], [2061, 581, 3887, 101, 550, 180, 449, 3888, 2, 2205], [217, 1095, 13, 2206, 1881, 44, 683, 1201, 604, 3889], [120, 577, 384, 3890, 721, 615, 1213, 2207, 112, 79, 54], [97, 2208], [30, 121, 3891, 167, 3892, 230, 3893, 3894, 3895], [3896, 165, 419, 120, 1, 551, 401, 48], [55, 11, 814, 2209, 1, 286], [221, 364, 3897, 830, 1214, 336, 182, 35, 281, 3898, 66, 2210], [147, 3899, 242, 3900, 487, 543, 3901, 147, 3902, 147, 2211, 1146, 3903, 1799, 3904, 2212, 3905, 3906], [1559, 137, 2213, 590], [277, 1, 601, 31, 31], [4, 54, 140, 5], [71, 134, 112, 22, 537, 2214, 1080, 3907, 6, 1560, 162], [277, 24, 594, 39, 74, 11, 24, 2145, 3908, 7, 2215, 24, 1215, 39, 248, 568, 67, 186, 330, 8, 198, 24, 83, 24, 126, 567, 13, 24, 463, 245], [2, 1, 522, 14, 3909, 3910, 3911], [138, 37, 1216, 289, 45, 3912, 1999, 56, 143, 3913, 2216, 2133, 90, 15, 74, 137], [188, 1, 3914, 125, 3915, 34, 3916, 878], [135, 154, 3917, 1561], [71, 134, 106, 189, 73, 187, 3918, 379, 69, 144, 774, 87, 87, 76, 187], [485, 177, 2217, 3919, 1051, 3920, 3921, 130, 17, 6, 2217], [111, 95, 349, 941, 77, 896, 74, 16, 2218, 1165, 316, 490, 3922, 2049, 692], [514, 1562, 1217, 108, 725, 256, 1453, 1563, 2189, 1, 136, 38, 430, 491], [380, 2219, 53, 32, 81, 942, 2220, 1381, 1564], [], [151, 144, 93, 22, 1885, 479, 3923], [25, 1, 2221, 3924], [102, 354, 1, 2222, 943, 513, 3925, 1, 34, 2223, 3926], [30, 16, 3927, 94, 124, 355, 656, 1565, 466, 444, 112, 2224, 7, 764, 770, 925], [111, 1908, 83, 146, 672, 335, 861], [67, 252, 68, 582, 443, 22, 633, 657, 74, 309, 530, 40], [2225, 2226, 686, 2227, 1, 3928, 1566, 1567], [3929, 36, 3930, 1568, 335, 433, 44, 172, 1090, 3931, 521, 592, 179], [66, 140, 3932, 11, 413, 12, 17, 2228, 2229, 35], [1218], [585, 658, 2230, 377, 1, 35, 2141, 835], [118, 312, 247, 156, 349, 241], [139, 4, 54, 3933, 117, 714, 600, 17, 3934, 3935, 264, 62], [309, 79, 29, 604], [1, 3936, 3937, 3938, 3939, 1569, 1389, 1219, 944, 2, 652, 917, 3940, 3941], [1555, 101, 89, 1570, 2079, 110, 1, 305, 1515, 1571, 1928, 3942, 181], [4, 184], [1, 10, 3943, 2231, 1400, 279, 9, 44, 1, 23, 639, 101, 2232, 1339, 490, 755], [188, 113, 104, 211], [520, 3944, 468, 24, 821, 492], [43, 2233, 3945, 2206, 829, 1572, 1220, 65, 1221, 34, 12, 197, 346, 168, 8, 1222, 140, 91], [1, 2234, 945, 2235, 154, 12, 1, 23, 1, 492, 117, 178], [243, 9, 256, 823, 274, 3946, 1418, 3947, 913], [445], [3, 3948, 363, 165], [9, 7, 89, 337, 3949], [39, 2236, 160, 233, 1326, 38, 9, 3950, 531, 3951, 28, 20, 3952], [39, 22, 3953, 3954, 1, 1573, 609, 22, 2237, 8, 416, 3955, 3956, 487, 3957, 3958], [307, 38, 3959, 845, 3960, 1, 6, 3961, 3962, 3963, 114, 946, 3964], [758, 1, 232, 101, 279, 3965, 1574, 1223, 3966, 350, 1224, 579, 3967, 775, 548, 59, 303], [4, 54, 105, 902, 154, 110, 130, 6, 133, 6, 65, 44, 330], [209, 775, 363, 1812, 72, 3968, 526, 193, 1562, 3969, 2238], [51, 582, 3970, 2239, 2, 311, 45, 232, 311], [81, 101, 2240, 185, 550, 463, 198, 3971, 3972, 2, 3973, 246, 3974, 433], [947, 80, 5], [111, 3975, 3976, 303, 51, 3977, 3978], [76, 1575, 1148, 1, 96, 76, 603, 60, 27, 715, 1, 356, 366, 652, 5, 23, 1, 1576, 2241], [52, 2242, 454, 3979, 1577, 3980, 1037, 1330, 3981, 1578, 3982, 3983, 2243, 2243, 3984, 1340, 3985, 3986, 2244, 1038, 3987, 3988, 3989, 3990, 1037, 2245], [19, 16, 3991, 3992, 341, 2148, 3993], [3994, 2211], [451, 3995, 163, 3996, 3997, 2003, 3998], [396, 20, 3999], [67, 1225, 4000, 2246, 164, 283, 1159, 4001, 4002, 137, 368], [1342, 806, 67, 33, 375, 525, 4003, 69, 261], [342, 1413, 1226, 302, 389], [1227, 14, 17, 16, 63, 86, 109, 352, 493, 1227, 657, 74, 1, 41, 6, 371, 352], [455, 64, 146, 2247], [1579, 1208, 4004, 2248, 220, 918, 4005], [362, 59, 4006, 1010, 1387, 1, 23, 4007, 4008], [216, 69, 2, 87, 4009, 39, 158, 45, 6, 338, 1223, 4010, 4011, 33, 216, 96], [1, 2249, 175, 72, 99, 557], [8, 473, 2250, 651, 1, 258, 44, 1228, 471, 29, 1, 17, 59, 4012, 2251], [364, 946, 21, 251], [948, 4013, 1445, 588, 48, 310, 1, 91, 139, 1580, 9, 4014, 456], [585, 4015, 859, 43, 949, 4016], [1, 4017, 35, 279, 1, 49, 61, 130, 626, 1358, 17, 133, 12], [1, 15, 2, 226, 22, 2084, 23, 1, 1576, 950, 166, 2241, 348, 2252, 4018], [402, 1528, 4019, 9, 951, 1, 91, 4020, 1, 129, 68, 1581, 935, 1582], [24, 296, 527, 4021, 4022], [595, 138, 592, 1583, 893, 610, 33, 366, 24, 23, 162], [1, 2, 776, 180, 2253, 16, 1077, 10, 180, 502, 184], [4023, 276], [80], [125, 12, 2254, 335, 125, 12, 494, 141, 893, 47, 134, 4024], [9, 74, 11, 1229, 4025, 36, 160, 1229, 4026], [4027, 1, 417, 267, 906, 44, 8, 129, 68, 441, 11], [24, 253, 1169], [125, 4028, 2255, 2256, 222, 2, 41, 421, 1147], [8, 235, 26, 282, 127, 72, 1937, 607, 4029, 4030, 2257, 33, 88, 259, 429, 165], [1584, 36, 293, 234, 154, 12, 4, 478, 86, 916], [515, 566, 4031, 9, 1, 199, 1585], [567, 567], [4032, 1353, 742, 4033, 2258, 1415, 4034, 93, 374, 1084], [340, 37, 1039, 382, 4035, 4036, 128, 307, 4037, 382, 4038, 74, 239], [1586, 4039, 4040, 4041, 4042, 4043, 4044, 4045, 4046, 4047, 1587, 777, 4048, 4049, 1587, 777], [1537, 653, 334, 158, 1588, 69, 2253, 1588, 56, 1, 234, 109, 1230, 4050, 4051], [97, 565, 40, 97, 565, 59, 4052, 2259, 4053, 1199], [613, 2260, 114, 1, 193, 559, 200, 1231, 10, 1563], [1, 33, 717, 93, 633, 1, 16, 1589, 879, 140, 952], [426, 187, 2261, 160, 84, 214, 903, 1590, 2238, 2, 376, 369], [4054, 2262, 6, 1591, 1365, 2263], [2264, 2265, 108, 97, 209, 1, 4055, 2265], [1210, 1, 334, 2266, 324, 4056, 4057, 476, 1, 4058, 2199], [340, 259, 5, 23, 4059, 1384, 495, 4, 2267], [320, 4060, 1592, 1014, 653, 4061, 4062, 1232, 87, 2268], [30, 50, 110, 2269, 1233, 563, 117, 2270, 2271, 106, 1593, 860, 440, 119, 527, 440, 189], [24, 96, 87, 87, 1207, 87, 43, 1490, 2272, 80], [1, 4063, 2273, 450, 255, 168, 4064, 4065], [25, 4066, 4067, 12, 1234, 4068], [3, 4069, 4070, 4071, 4072, 4073, 4074, 169, 67, 169], [7, 89, 758, 7, 583, 113, 86, 7, 369], [243, 137, 4075, 1594, 2, 2247, 120, 186, 1594, 2274, 2275, 1458, 819, 2276], [30, 2277, 4076, 1851, 4077, 953, 4078, 4079, 4080, 4081], [4082, 4083, 4084, 954, 355, 4085, 2278, 4086], [4087, 106, 2279, 4088, 4089, 609, 22, 427, 955, 4090, 17, 586, 114, 955, 22, 2280, 1195], [1, 29, 83, 399, 1040, 2281, 332, 956, 161, 33, 2282, 4091, 2283, 1595, 2283, 1595], [43, 276, 1386, 276], [4092, 4093, 561], [1, 73, 269, 551, 4094, 4095, 4096, 377, 1, 359, 5, 58, 2284], [297, 6, 151, 86, 56, 629, 1235, 34, 56], [778, 1471, 409, 11, 732, 4097, 436, 4, 326, 4098, 133, 766, 4099, 659, 4100, 4101], [8, 2285, 4102, 4103, 143, 196, 275, 244, 88, 86, 633, 4104, 4105], [152, 114, 4, 66, 278, 149, 1, 636, 1339, 2, 660, 83, 4106], [4107, 241, 2286, 24, 408], [2287, 4108, 316, 4109], [3, 278, 4110, 957, 649, 1596, 4111, 4112, 4113, 934], [1, 15, 10, 284, 156, 1412, 31, 958, 1192, 8, 15, 1597, 4114, 380, 1131, 35], [2288, 4115], [10], [4116, 386, 409, 750, 284, 946], [3, 146, 2289, 4117, 340, 146, 316, 1, 14, 255, 959], [76, 2290, 938, 1598, 4118, 597, 2, 2291], [452, 2292, 64, 467, 54, 8, 29, 327, 89], [1599, 146, 262], [1, 121, 124, 507, 133, 109, 4119, 536, 366, 411, 4120, 90, 4121], [265, 4122, 72, 2293, 4123, 4124, 1179, 240, 1, 232, 89, 112], [81, 289, 155, 112, 56, 779, 99, 558, 241, 198], [118, 249, 2294, 1414], [51, 589, 1053, 359, 1944, 266, 4125], [532, 8], [357, 64, 910, 86, 110, 75, 110, 1500, 914, 45, 1502, 64, 910, 202], [30, 33, 4126, 2295, 1511, 263, 1127, 4127, 5, 1035, 941, 882, 1127], [7, 682, 17], [1, 29, 2125, 1236, 480, 4128, 602, 727, 149, 1100, 770, 222, 495, 277, 4129, 502], [150, 250, 4130, 748, 150, 1237, 13, 4131], [81, 55, 162, 1, 4132, 4133, 47, 134, 211, 4134, 14, 281], [236, 2296, 1238, 14, 200, 831, 831], [3, 122, 53, 27, 257, 370, 21, 294, 1600, 1239, 2297, 563, 64, 75, 55, 32], [1, 435, 47, 960, 267, 48, 7, 48, 513, 1, 240, 1240, 41, 29, 319], [4135, 961, 113, 142], [126, 37, 208, 162, 1, 562, 48, 537], [1, 636, 436, 289, 4136, 1601], [3, 4137, 962, 4138, 170, 61, 413, 1117, 2298, 61], [4139, 541, 1039, 1, 42, 180, 3, 4140, 4141, 145, 4142, 35, 4143, 121], [102, 2299, 4144, 15], [562, 412, 120, 1215, 287, 122, 316, 12], [2098, 152], [1602, 5, 286, 591, 780, 85, 153, 88, 512, 1187], [3, 461, 322, 2300, 8, 1603, 278, 8, 1, 1604, 49, 1318, 92, 2301, 1603], [101, 4145, 236, 963, 661, 10, 1056], [436, 4, 326, 4146, 4147, 98], [243, 1589, 147, 4148, 685, 336, 4149], [94, 2302, 1239, 534, 87, 4, 44, 383], [152, 221, 12, 488], [1, 153, 55, 32, 246, 1, 213, 508, 19, 306, 1605, 302], [356, 2303], [461, 964, 1315, 492, 1163, 4150, 781, 709, 4151, 113], [1241, 566, 369, 1015, 1606, 822, 72, 889, 619, 239, 4152, 2304, 1150], [123], [594, 1045, 597, 1216, 4153, 9, 95, 351, 86, 12, 1045, 716], [113, 5, 5, 1242], [587, 25, 29, 274, 662, 1, 960, 103], [126, 13, 3, 659, 2305, 4154, 2306, 909, 1607, 1448, 210, 651, 13, 1, 2307], [66, 140, 305, 253, 204, 965, 4155, 4156, 488, 395, 32, 2308, 2024], [92, 1872, 1873, 4157, 332, 865, 1, 2160, 621], [3, 747, 448, 483, 4158, 643, 957, 4159, 234, 4160, 1608, 4161, 1609, 934], [39, 127, 962, 4162, 782, 428, 503, 1574, 1243, 147, 454, 4163], [4164, 783], [97, 24, 38, 4165, 574, 297, 122, 885, 1, 4166], [269, 263, 1610, 277, 113, 759, 4167], [1, 359, 816, 1596, 15, 4168, 87, 816, 2, 1172, 1493, 8, 4169, 4170], [357, 45, 135, 162, 93, 2309, 837, 4171, 4172, 4173, 4174, 123], [52, 111, 40, 29, 654, 496], [4175, 236, 1611, 663, 65, 279, 1612, 1, 144, 180], [462, 17, 484, 55, 32, 90, 2310, 772, 204, 4176], [326, 195, 1346, 172, 105, 635, 556, 1888, 21], [3, 1613, 708, 4177, 2311, 1244, 2312, 4178, 4179], [78, 4180, 515, 19, 12, 229], [52, 78, 4181, 355, 1374, 355, 36, 355, 1198, 123, 1, 4182, 4183], [4184], [2313, 161, 4185, 48, 4186, 4187, 5], [120, 6, 497, 898, 207, 1, 472, 85, 833, 1614, 116, 730, 63, 467, 4188], [8, 2314, 2315, 2316, 518, 8, 248, 11], [161, 36, 1077], [4, 54, 140, 5], [346, 26, 1422, 1461, 53, 966, 588, 382, 469, 90, 664, 2067, 4189], [1245, 2317, 1615, 208, 104, 921], [25, 38, 263, 9, 485, 2318, 166, 4190, 313, 313], [615, 1616, 31], [3, 552, 1246, 2319], [108, 1617, 4191, 343, 29, 851], [78, 1548, 4192, 4193, 346, 292, 237], [70, 1241, 41, 2320, 198, 577, 110, 209, 4, 128, 303, 121, 48], [342, 784, 1618, 1226, 632, 645, 123, 235, 2321, 59, 50, 283, 2322, 2323, 2324, 50, 1247], [4194, 1, 53, 165, 1557, 115, 1, 91, 2325, 48], [118, 467, 489, 1248, 2326, 1619, 967, 2327], [594, 19, 12, 420, 968, 725, 518, 304, 109], [3, 48, 53, 558, 288, 4195, 919, 357, 446, 4196, 4197], [55, 32, 131, 4, 32, 312, 25, 215, 51, 1, 2038, 21, 4198], [879, 4199, 1215, 578, 55, 32], [4200, 1, 10, 4201, 286, 355], [1, 96, 341, 223, 1242, 1430, 118, 53, 2, 125, 431, 149], [19, 44], [1249, 1620, 70, 276, 2006, 1250, 629, 1250, 350, 1621, 4202], [4, 54, 140, 5], [1, 35, 16, 55, 1080], [18, 16, 1622, 2328, 1100, 558, 2329, 3, 269, 50, 206, 72, 264, 4203, 4204, 2330], [1, 903, 170, 4, 56, 885, 4205, 665, 117, 4206, 969, 1884], [9, 2331, 36, 785, 7, 4207, 4208, 4209, 289, 285, 1192, 745, 2332, 1251, 4210, 280, 12, 680, 848], [495, 525, 63, 139, 4211], [52, 1252, 4212, 28, 20, 4213], [1, 151, 1, 2333, 1118, 1868, 1623, 251, 51, 4214, 164, 4215, 4216, 2334, 1481], [1624, 48, 1814], [26, 786, 4217, 6, 4218, 1, 212, 2335, 158, 8, 595], [1590, 11, 9, 226, 4219, 1456, 63, 970, 971, 4220, 761], [97, 97, 65, 425], [52, 4, 221, 1625, 762, 4221, 4222, 5, 946, 4223, 4224, 707, 4225, 4226, 4227, 28], [1198, 1577, 242, 2336, 4228, 972, 2337], [1, 234, 2338, 1, 234, 2339, 1, 234, 596, 2340, 4229, 2341, 643, 4230, 973, 1136, 1626], [4231, 1627, 90, 6, 721, 2, 137, 134], [1, 15, 10, 112, 19, 1253, 813, 2, 1253], [1, 91, 1, 33, 289, 158, 2342], [51, 1242, 239, 494, 29, 942, 170, 1628, 239, 195, 1254], [691, 2182, 446, 4232, 48, 2343], [974, 179, 4233, 4234, 15, 281, 261, 4235, 1036, 2344, 4236, 1360, 350, 2120], [243, 71, 134, 1255, 4237, 617, 701, 57, 34, 12, 1, 42, 448], [536, 4238, 470, 36, 100], [357, 45, 315, 135, 162, 86, 859, 195, 2345, 216, 44, 940, 2346, 123, 578], [3, 278, 56, 40, 589, 278, 69, 40, 1370, 571, 4239], [151, 326, 1629, 895, 432, 4240, 258, 1630], [30, 17, 185, 523, 236], [21, 154, 4241, 23, 12, 211, 133], [1, 14, 71, 18], [301, 217, 4242, 484, 2, 1631], [4243, 396, 20, 4244], [111, 36, 160, 839, 1166], [78, 4245, 1032, 13, 124, 4246, 354, 1468, 1962, 463, 1224], [1178, 2347, 1322, 846, 55, 157, 787, 2348, 411], [72, 91, 214, 402, 339, 1, 4247, 2349, 4248, 2, 1, 575, 1, 2, 533, 72, 436, 214], [25, 231, 7, 404, 2350, 4249, 572, 1632, 36, 780], [8, 64, 32, 198, 975, 495, 1581, 666, 4250, 29, 419, 7], [321, 4251, 4252, 24, 492, 36, 142, 4253, 82, 328, 123, 959, 161, 10, 4254], [84, 19, 4255, 1, 10, 1201, 8, 36], [1, 13, 129, 68, 968, 88, 2351, 76, 1633, 1221, 86, 109], [1, 171, 225, 4256, 811, 125, 119, 168], [4257, 4258, 4259, 31], [3, 4260, 4261, 2352, 1, 14, 16, 863, 156, 1811, 549], [51, 4262, 750, 4263, 2353, 191], [155, 149, 4, 50, 149, 61], [1, 4264, 4265, 9, 58, 753, 6, 65, 44], [4266, 2354, 4267, 702, 163, 666, 5, 1443, 40, 2355], [4268, 4269, 4270], [150, 197, 4271, 79, 51, 58, 4272, 19, 4273], [4274, 4275, 219, 498, 562, 304, 4276, 4277, 764, 4278, 60, 498, 976, 764, 4279], [52, 142, 227, 4280, 4281, 4282, 4283, 396, 20, 4284, 4285, 52], [1634, 496, 1592, 4286, 1209, 558, 1489], [689, 690, 132], [1, 261, 1256, 667, 4287, 4288, 2356, 4289], [771, 80, 4290, 55, 32, 24, 4291, 22, 313, 136], [57, 178, 2357, 2358, 4292, 2, 4293, 1474, 380, 27, 4294, 263, 4295, 4296], [236, 4297, 4298, 2359, 4299, 2360], [1507, 1179, 4300], [971, 2272, 4301, 83, 977, 4302, 1123, 2055, 4303, 531, 4304, 62], [241, 141, 2361, 904, 22, 2005, 4305, 1, 6, 176, 727], [97, 123, 94, 1, 2062, 324, 180, 103, 4306, 355, 2362], [4307, 901, 365], [4308, 1635], [76, 40, 667, 104, 1481, 129, 68, 347], [1541, 2337, 4309, 4310, 4311, 4312], [108, 127, 160, 4313, 1203, 4314, 31, 4315, 2363, 4316], [150, 1257, 413, 4317, 589, 610, 141, 125, 11, 1238, 4318, 46], [111, 1636, 395, 195, 933, 4319, 2364, 2365, 788, 4320], [39, 185, 1637, 4321], [4322, 4323, 269, 72, 7, 282, 142, 4324, 1, 231, 322, 7, 708, 2366], [39, 2367, 256, 11, 2368, 195, 1097, 952, 1464, 4325, 1319, 3, 381], [169, 16, 175, 4, 207], [1638, 312, 149, 419], [10, 39, 19, 48, 49, 4, 31, 56, 141], [37, 1175, 31, 1501, 1, 156, 77, 208, 134], [124, 1639, 2369, 1640, 4326, 827, 69, 42], [4327, 10, 766, 978, 598, 448], [3, 4328, 56, 91, 4329, 15, 159, 49], [161, 1375, 1015, 333, 51, 1, 4330, 1, 474, 294, 2370], [2371, 1805, 56, 235], [108, 472, 49, 564, 100, 18, 100, 4331], [973, 623, 122, 2, 662], [4332, 4333, 4334, 101, 4335, 943, 2372, 2373, 1, 4, 4336, 195, 1, 476, 1, 154, 663, 4337, 237], [46, 1048, 65, 4338], [8, 1932, 413, 365, 4339, 4340, 2374], [1, 14, 484, 4341], [39, 1258, 541, 4342, 4343, 2375, 1140, 1258, 2376, 1206], [25, 1, 139, 136, 2377], [2378, 1517, 44, 129, 68], [9, 4344, 4345, 4346, 4347, 1641, 124, 1259, 4348], [2379, 4349, 4350, 107, 4351, 5], [131, 29, 681, 1, 441, 4352, 1, 616, 4353, 108, 377, 4354, 1642, 958, 166, 4355, 4356, 61, 1441, 767], [67, 1643, 1644, 66, 947, 979, 205, 97, 38, 4357, 315], [36, 1260, 11, 4, 160, 1, 234, 2176, 1611, 980, 2380, 879, 4358, 251], [114, 1, 564, 22, 401, 154, 135, 4359, 1645], [25, 18, 4360, 114, 4361, 1609, 76, 4362, 1112, 4363], [1646, 1183, 4364, 4365, 981, 381, 841, 132], [1, 85, 639, 71, 789, 4366, 2381, 156, 225, 1261, 982], [94, 26, 1, 875, 208, 174, 32, 1513, 6, 497, 77, 2382, 133], [295, 100, 628, 4367], [1, 462, 196, 204, 12, 7, 109, 168, 237, 8, 4368, 4369, 116, 703], [575, 116, 1647, 4370, 188, 167, 5, 212, 8, 424, 2, 4371, 921, 12], [515, 102, 171, 1, 41], [3, 4372, 1262, 790, 2383, 1407, 4373, 1263, 2384, 4374, 681, 652], [2385, 150], [3, 457, 1638, 1128, 103], [81, 346, 409, 2386, 53, 944, 942, 265], [1, 506, 11, 76, 2387, 2387], [1, 1585, 135, 162, 4375, 2388, 1264, 1, 2, 506, 427, 39, 158], [1, 14, 17, 1648, 4376, 50], [52, 52, 4377, 147, 2389, 4378, 4379, 4380, 1587, 4381, 403, 4382, 28, 20, 4383], [605, 270, 245, 83, 321, 4384, 4385, 1105], [660, 386, 437, 584, 360, 4386, 76, 48, 151, 31], [78, 4387, 4388, 493, 433, 8, 434, 1, 114], [104, 4389, 1986, 1110, 15, 4390, 4391, 31, 15, 1109, 295, 203, 715, 1428, 4392], [1463, 76, 13, 1649, 859, 105, 102], [4393, 1, 170, 1383, 4394, 124], [1223, 983, 4395, 499, 203, 1265, 2, 777, 4396, 2390], [28, 20, 4397], [984, 224, 200, 262], [1, 23, 1155, 985, 1632, 599, 293], [1, 636, 4398, 986, 463, 4399, 2391, 668, 1135, 245, 1057, 4400], [259, 1, 23, 127, 1604, 4401, 21], [4, 54, 140, 5], [1, 1083, 173, 127, 1, 271], [18, 22, 73, 2279], [95, 4, 5, 85, 1242], [159, 6, 364, 2143, 63, 317, 4402], [763, 1628, 1266, 2392, 2393, 2391, 85, 987, 2394, 4403, 4404], [18, 100, 7, 140, 404, 2350, 24, 1267, 87, 2395, 1268, 2396], [514, 4405, 376, 32, 128, 560, 44, 4406, 106, 86, 54], [121, 4407, 4408, 2397, 4409, 4410, 858, 177, 2398, 1354, 4411], [66, 1269, 4412], [47, 579, 612, 2, 4413], [153, 375, 2096, 4414, 4415, 1598, 2399, 4416], [52, 1, 2400, 52, 57, 499, 3, 4417, 2401, 817, 437, 43, 133, 132, 2402, 3, 456, 28, 20, 4418], [2319, 4419, 204, 363, 50, 21, 2403, 1375, 1650], [3, 36, 470, 4420, 4421, 624, 4422, 4423, 9, 1, 6], [1, 84, 6, 2404, 516, 1071, 2405, 2, 4424, 347, 2292, 1445, 516, 4425, 270, 4426], [51, 2406, 25, 35, 4427, 4428, 21, 94, 98], [1, 2026, 1, 398, 597, 4429, 115], [4430, 4431, 99, 18], [673, 112, 461, 373, 2081, 188, 302, 204, 390, 2407, 28, 20, 4432], [26, 474, 133, 47, 170, 4433, 267, 47], [186, 45, 4434, 163, 13, 2408, 1651, 4435], [515, 988, 2305, 2409, 855, 1270, 4436, 988, 4437, 60, 4438, 4439, 4440], [4441, 198, 2410, 4442, 88, 214, 4443, 631], [1, 10, 4444, 4445, 295, 128, 192, 4446, 4447, 4448, 4449, 9, 2256, 4450], [1810, 290, 2092, 43, 393, 2411, 505, 196], [1, 356, 961, 927, 722, 4451, 4452, 50, 842, 1, 72, 892, 1, 408, 1579], [115, 4453, 361, 2, 1257, 202], [4, 737, 78, 159, 13, 175, 59, 528, 41, 212, 216], [4454, 4455, 490, 1065, 4456, 1652, 989, 1], [335, 40, 104, 6, 394, 12, 1, 691, 566, 4457, 172, 192, 4458], [52, 4459], [38, 1, 49, 10, 9], [30, 107, 8, 186, 4460, 131, 851, 137, 1, 107, 35, 89, 498, 1102], [203, 728, 1052, 769, 1144, 4461, 4462], [987, 4463, 959, 582, 86, 579, 4464, 4465], [2412, 4466, 4467, 4468, 1653, 217, 1845, 4469, 4470, 4471, 147, 4472, 4473, 788, 1577, 2413, 4474, 1038, 1262, 2414, 88, 2415], [115, 61, 2416, 1654, 5, 53, 85, 318, 1, 15, 791, 47, 48], [1, 669, 1271, 956, 324, 1, 98, 2417, 288, 4475, 115, 12, 133], [1, 85, 669, 64, 4476, 1], [33, 4477, 244], [510, 343, 2, 1, 6, 1241, 4478, 37, 2418, 527, 893, 1265, 185, 4479, 1, 2419, 4480], [226, 116, 701, 1575, 1042, 4481, 439, 2420], [4482, 4483, 753, 2421, 4484, 4485, 147, 4486, 4487, 2422, 4488, 954, 2423, 4489, 954, 4490, 4491, 4492], [746, 484, 4493, 22, 4494, 521, 59, 50, 16, 22, 2424], [457, 55, 32, 1, 76, 4495, 2425, 2426, 4496, 4497, 71, 4498], [4, 54, 47, 2031, 713, 222, 2, 314, 1120, 605, 8, 80, 302], [1, 252, 68, 486, 337, 17, 695, 4499, 986, 4500], [67, 69, 41, 6, 319, 297], [244, 194, 1544, 6, 2427, 94, 98, 4501], [1157, 2428, 259, 36, 401, 4502], [25, 248, 213, 4503, 2429, 66, 4504, 164, 283, 1655, 710, 1, 85, 249, 1214, 952], [52, 791, 111, 768, 83, 1, 338, 4505, 4506, 476, 1, 338, 726, 2430, 4507, 1272, 208], [177, 239, 180, 213, 180, 952, 99, 960, 621, 4508, 4509], [193, 1273, 4510, 135, 914, 785, 445], [1867, 64, 281, 118, 4511, 4512, 4513], [34, 304, 562, 4514, 1975, 4515, 466, 4516, 203, 45, 4517], [1150, 2431, 22, 853, 422, 104, 601, 189, 369, 237, 119, 1041, 210, 1656, 57, 109, 35, 1656, 610, 2432], [52, 24, 58, 289, 142, 148, 731], [18, 11], [1622, 4518, 4519, 4520, 4521, 4522, 4523, 4524, 4525, 1, 779, 694, 22, 269, 50], [792, 332, 4526, 4527, 810, 1648, 1085, 1920], [321, 4528, 126, 16, 701], [356, 4529, 125, 7, 45, 90, 2433, 17, 464, 464, 2434, 4530], [19, 212, 529, 10, 1657, 1657, 226, 65, 273, 634, 59, 50], [126, 2177, 40, 81, 2383, 923, 1407, 362, 1658, 681, 253, 114, 652], [18, 16, 34, 101, 2435, 223, 2435, 4531, 742], [120, 62, 4532, 841, 973, 1441, 47, 789, 276, 1173, 4533, 4534, 1017, 4535, 793], [4536, 549, 1569, 305, 389], [79, 129, 68, 2436, 4537], [4538, 4, 4539, 27], [120, 27, 4540, 107, 88, 2432, 257], [236, 1, 14, 83, 337, 239, 427, 961, 2237, 1659, 1087, 1, 49], [43, 2437, 487, 2121, 4541, 197, 109, 187, 745, 222, 158, 2, 4542, 314], [43, 1105, 901, 706, 932, 74, 4543, 4544, 627, 258, 590, 163], [25, 151, 30, 565, 4545, 650, 54, 4546, 30, 635, 4547, 86], [108, 7, 41, 1269], [41, 564, 4548], [8, 170, 115, 1220, 2, 142], [3, 48, 241, 2438, 23, 660, 1660, 1053, 503, 2310, 125, 2439, 2440, 273], [169, 139, 4, 1825, 654, 897, 4549, 4550], [81, 2441, 4551, 2, 2408, 13, 124, 4552, 2442, 4553], [290, 1460, 4554, 1813, 646, 4555, 4556], [4557, 4558, 182, 146, 487], [], [1, 2443, 259, 57, 323, 4559], [171, 1, 15, 1661, 82, 344, 1019, 329, 4560, 2, 1217, 102, 1662, 45], [115, 70, 4561, 425, 8, 343, 174, 2, 1977, 2406, 4562, 69, 2009, 4563, 508], [2127, 71, 13, 367, 1663, 4564, 665, 117, 4565], [911, 1151, 125, 11, 38, 102], [326, 435, 21, 268, 4566, 4567, 422, 2400, 1366, 4568, 9, 190, 167, 1480, 48], [26, 899, 2124, 988, 33, 141, 302, 27, 19, 4569], [984, 1588, 56, 25, 90, 53, 300, 2444], [227, 345, 1, 15, 6, 379, 1411, 719, 343, 2445, 46, 1647], [52, 618, 130, 1815, 46, 28, 20, 4570], [17, 1664, 1034, 134, 2361, 1, 12, 4571, 4572], [148, 86, 40, 1, 322, 4573, 555, 3, 4574, 555, 4575, 4576, 555, 4577, 4578, 3, 250, 4579, 265], [849, 4580, 4581, 1, 4582, 4, 1665, 4583, 1312, 4584], [368, 1, 462, 4585, 424, 2, 93, 48, 5, 4586, 2446, 67, 551, 156, 191, 642, 497], [25, 1, 240, 174, 50, 55], [4587, 4588, 4589, 4590, 4591, 28, 20, 4592, 1028], [536, 213, 867, 615, 741, 2207], [273, 48, 167, 241, 4593, 1449, 1, 13, 167, 4594, 4595, 1455, 1, 14, 104, 33], [15, 2436, 429, 4596, 4597, 297, 962, 429, 4598, 2447, 4599], [497, 790], [1, 85, 551, 63, 4600, 1, 4601, 4602, 10, 2448, 1394, 2449], [4603, 132, 1170, 201, 4604, 560], [47, 693, 53, 26, 24, 581, 57, 1, 4605, 360, 43, 179, 794, 4606], [3, 36, 2442, 4607, 4608], [94, 282, 4609, 1666, 2450, 1462, 4610, 204, 345, 1416], [473, 4611, 990, 231, 2347, 1623], [2083, 103, 636, 4612, 1667, 1, 4613, 4614], [231, 306], [1, 107, 519, 4615, 1914, 2020, 642, 1274, 359, 291, 886, 4616, 886], [1, 542, 208, 596, 9, 1, 37, 14, 32, 2451, 400, 1668, 87], [1, 249, 460, 4617, 170, 2, 109], [349, 554, 77, 918, 4618], [1, 10, 2452, 117, 690, 1913, 72, 687, 4619, 1, 139, 136, 1, 129, 68, 642, 4620, 4621, 4622], [161, 1, 942, 5, 1, 179], [188, 4623, 4624, 497, 500, 2453], [4625, 69, 1264, 201, 74], [1, 1434, 1511, 108, 601, 683, 2450, 4626], [26, 266, 1, 72, 266], [57, 4627, 64, 1533, 40], [25, 1, 646, 675, 1191, 4628, 1669, 7, 4629, 400], [42, 16, 4630, 533, 556, 4631, 107, 153, 4632, 2, 4633, 4634, 2454, 74, 2455, 4635], [57, 760, 4636, 258, 590], [66, 449], [1, 14, 635, 4637, 74], [67, 180, 210, 1670, 26, 49, 4638, 4639, 1671, 12, 397, 4640], [230, 83, 1, 199, 926, 4641, 2278, 2456, 477, 199, 1436], [4642, 4643, 2421, 28, 20, 4644], [92, 4645, 4646, 434, 1, 85, 444, 77, 2457, 50, 1, 368], [190, 2458, 1086, 53, 700, 10, 2458, 4647, 53, 447, 1953, 1954], [606, 2077, 4648, 4649, 4650, 4651, 1180, 141, 4652, 4653, 1044], [4654, 4655, 699, 477, 215, 6], [3, 4656, 908, 805, 566, 929, 228, 4657, 114, 4658, 2459, 2], [8, 128, 172, 4659, 4660, 172, 285, 1882, 847, 47, 4661, 96, 4662, 1985], [43, 160, 927, 581, 548, 59, 157, 868, 4663, 427, 320, 887], [1, 2460, 323, 712, 40, 2461, 773, 4664, 323, 81, 1672, 450], [341, 1081, 4665, 105, 2462, 920, 4666, 780], [67, 58, 211, 7, 1064, 667, 4667, 1, 1673, 681, 139, 1058], [1674, 964, 433, 62, 4668, 958, 1425, 1904, 399, 2333, 1152], [522, 323, 2463, 165, 1103], [75, 1092, 75, 2464, 75, 495], [188, 15, 82, 472, 1613, 2075, 63, 582, 2465, 283, 59, 4669, 66, 1, 1275, 603], [4670, 4671, 325, 749, 2466, 2204, 420], [30, 29, 135, 30, 29, 1396, 9, 1675, 11], [292, 1276, 414, 2467, 864, 110, 2467, 180, 538, 24, 135, 148, 138], [7, 89, 810, 6, 4672, 7, 89], [78, 394, 1976, 743, 11, 638, 55, 101, 4673, 83, 321], [15, 4, 372, 162, 135, 767, 1182, 4674, 5, 2468, 233, 13], [7, 1676, 4675], [4676, 319, 301, 1, 44, 4677], [606, 7, 851, 63, 60, 1677, 1678, 2469], [292, 752, 4678, 328, 75, 389, 90, 2470, 393, 14, 13], [2471, 2472, 4679, 541, 165, 42, 2135, 2472, 109, 237], [4680, 4681], [2473, 1876, 1246, 1, 4682, 4683, 1, 233, 2053, 469, 201, 1536, 58, 1246, 4, 127], [106, 73, 187, 4684, 245, 1134, 32, 4685, 16, 4686, 778, 4687, 4688, 386, 65, 133], [116, 89], [307, 38, 960, 419, 228, 617, 1612, 4689, 300, 228, 1679, 6, 4690], [4691, 4692, 4693, 1013, 735, 1, 460, 2474], [677, 1680, 2, 2475, 88, 144, 53, 2475, 447], [47, 62, 82, 1166, 328, 748, 132], [39, 204, 166, 79, 32, 3, 4694, 627, 1129, 62, 1046, 17, 154, 48, 1277, 176, 385], [1427, 1428, 144, 1216, 2476, 4695, 691, 4696, 1278, 4697], [380, 1681, 4698, 69, 99, 49, 61, 337, 301, 10, 1211, 4, 69, 447], [448, 4699, 1682], [422, 91, 187, 9, 1, 444, 83, 342, 34, 12, 255, 168, 4700], [405, 1535, 193, 84, 795, 1135, 114, 2374, 291, 1, 506], [97, 38, 896, 411, 277, 58, 145, 4701], [1896, 1112, 16, 19, 704, 284], [4702, 4703, 2, 4704, 4705], [561, 4706, 468, 34, 12, 391, 2, 1153, 106, 1279, 4707, 2477], [47, 959, 6, 641, 1557, 4708], [159, 629, 93, 909, 2, 2478, 796, 2479, 149, 48, 1209], [4709], [935, 162, 532], [1, 1388, 2480, 450], [57, 328, 12, 109, 4710, 2, 500, 269, 32, 500, 1280, 500], [24, 2010, 140, 4711, 264, 1683, 90, 4712, 1, 33, 270, 4713, 4714], [4715, 4716, 4717, 2481, 487, 454, 2481, 2212, 147, 2390, 2482, 4718, 543, 4719, 4720, 28, 20, 4721], [4722, 2483, 4723, 4724, 4725, 4726, 4727, 2483, 4728, 4729, 4730, 4731, 4732, 28, 20, 4733], [1, 41, 212, 1049, 1415, 4734, 473, 2, 102], [1, 153, 10, 474], [39, 64, 916, 2484, 55, 32, 4735, 64, 2102, 850, 974, 4736, 1184, 4737, 940, 4738], [536, 197, 2485, 1, 979, 4739, 4740, 4741, 4742, 375, 393, 329, 943, 3, 4743, 598, 733, 2486], [8, 84, 102, 6, 4744], [1, 4, 624], [662, 265, 56, 21], [37, 199, 1580, 589, 1, 6, 16], [2179, 4745, 4746, 442, 4747, 4748, 1, 779, 6, 283], [1281, 1684, 1659, 364, 4749], [90, 4750, 295, 517, 2487, 765, 4751, 45, 1258, 496, 499, 99, 4752], [520, 71, 134, 831, 9, 4753, 1254], [290, 264, 141, 6, 178, 256, 4754], [1685, 1917, 203, 45, 161, 227, 3, 1121, 12, 21], [108, 7, 1559, 187, 600, 1686, 224, 1687, 569, 2488], [52, 4755, 4756, 4757], [126, 49, 74, 1, 249, 348, 1, 1343, 249, 348, 404, 856, 4758, 4759, 1243, 4760], [1250, 4761, 1996, 553, 1406, 1124, 148, 1134, 1809, 981, 4762, 553], [1, 4763, 535], [1, 10, 744, 8, 104, 61, 5, 10, 251, 1, 326, 58, 991, 12, 650, 107, 4764, 992, 1635], [10, 1171, 634, 89], [505, 92, 1, 669, 1, 1173, 932, 12, 4765, 1337, 2489, 525, 1574, 4766, 225], [778, 101, 4767, 279, 4768, 39, 217, 1, 1538, 265, 889, 4769, 4770, 2490], [1, 2491, 1282, 102], [1457, 2492, 112, 833, 4771, 70, 4772], [102, 32, 1033, 2001, 993, 4773, 772, 65], [4774, 541, 1142, 2474, 397, 389, 57, 56, 4775, 1514, 201], [483, 325, 2493, 45, 2494, 317, 330, 224, 962, 300, 2479, 670, 378], [2094, 2495, 175, 44, 54, 1039, 300, 2496, 4776, 4777, 189, 353], [147, 2497, 4778, 524, 4779, 1340, 4780], [1548, 96, 944], [4781, 1956], [176, 885, 1688, 3, 4782, 1229, 4783], [817, 92, 55, 32, 1689, 50, 1088, 1444, 2498, 796, 796, 339, 362], [218, 299, 192, 2499, 7, 858, 4784, 4785, 461, 1487, 2500, 384], [78, 2371, 190, 782, 313, 291, 1, 94, 1, 390, 372, 35], [26, 919, 4786, 198, 1534], [3, 354, 1, 4787, 4788, 5, 882, 54, 2501, 221, 1211], [87, 184, 50, 602, 47, 555, 4789, 77, 1672, 1684, 812, 144, 774], [18, 100, 114, 106], [25, 151, 143, 4790, 229, 365, 225, 51, 717, 263, 51, 975, 2502, 1669], [994, 70, 1245, 1690, 4791, 2280], [94, 62, 59, 1283, 2503, 2496, 393, 293], [1, 14, 207, 1691, 1177, 223, 876, 261], [387, 62, 17, 4792, 4793], [1, 252, 68, 44, 1, 33, 201, 74, 1, 41, 554], [1194, 239, 1, 33, 23, 188, 4794, 49, 33, 17, 413, 2027, 4795], [113, 1625], [90, 250, 561, 393, 2504, 304, 229, 757, 1479], [19, 210, 4796, 63], [43, 116, 4797, 4798, 57, 2505, 4799, 851, 251], [97, 1137, 666, 4800, 4801], [574, 97, 123, 94], [296, 4802, 4803, 418, 2506], [169, 218, 19, 128, 2507], [43, 2508, 6, 319, 1108], [62, 4804, 512, 60, 55, 225, 110, 4805], [4806, 995, 53, 49, 38, 61, 4807, 598, 1692, 409, 344, 455, 368], [148, 4808, 46, 95, 351, 22, 293], [437, 93, 1210, 1955, 4], [80, 439, 902], [2021, 53, 665, 117, 4809, 117, 4810, 1197, 1409, 1, 91, 1, 29, 133, 1119], [3, 4811, 4812, 45, 500, 4813, 4814, 199, 269, 81, 296, 409, 246], [375, 1064, 4815, 1564, 37, 107], [1, 286, 303, 4816], [4817, 205, 2, 4818, 264, 4819], [5, 13, 1646, 4820, 1117, 116, 348, 124, 53, 703, 2509, 31, 31], [90, 80, 19, 16, 996, 202, 10, 2402, 509, 1016], [150, 1, 92, 10, 124, 1, 203, 113, 995], [1866, 1284, 1860, 375, 4821, 35, 4822, 327, 4823, 485, 4824, 4825, 327, 689], [990, 29], [1, 231], [1, 33, 112, 4826, 2510, 1, 58, 2095, 8, 2511, 1, 33, 112, 8, 2, 4827, 4828, 4829, 35, 4830], [865], [1378, 646, 1943, 4831, 305, 4832, 154, 4833, 1164], [433, 132, 155, 2219, 175, 21], [188, 2449, 2512, 347, 352, 130, 4834, 306, 4835, 146, 1656, 6, 4836, 4837, 4838], [1678, 985, 675, 1, 258, 115, 36, 28, 20, 4839], [26, 1621, 4840, 73, 1, 2513, 4841, 298, 8, 72, 2514], [4842, 434, 1223, 1144, 69, 840, 687, 4843, 941, 14, 1693], [130, 1, 4844, 2515, 291, 1, 87, 18, 2516], [4845, 227, 4846, 4847, 2517, 4848, 963, 160, 4849, 706, 4850, 28, 20, 4851], [10, 89, 2], [81, 1, 315, 2518, 739, 279, 641, 797], [784, 4852, 4853, 4, 25, 4, 25, 4, 25, 4, 4, 25, 4], [387, 287, 2465, 281, 2233, 605, 656, 4854], [43, 1694, 1127, 4855, 973, 1, 2519, 5, 1, 85, 1643, 831, 1403, 108, 4856, 4857], [4858, 1184, 4859, 4860, 4861, 164, 4862, 284, 1695, 2344, 997, 2087, 4863, 2520, 255, 168, 432, 60, 27], [1662, 54, 2521, 2522], [8, 1689, 798, 4864, 4865, 1377, 38, 2364, 4866], [4867, 4868, 2523, 4869, 4870, 228, 1271, 939, 748, 4871], [2524, 92, 878, 1, 135, 645, 31, 1570, 878, 2485], [1696, 2389, 1341, 107, 474, 1, 4872], [2525, 2526], [208, 2527, 4], [493, 493, 493, 43, 1697, 326, 116], [1, 49, 2, 4873], [152, 1058, 113], [108, 7, 42, 444, 359, 38, 1, 10, 4874], [4875, 1], [1, 564, 10, 1, 452], [39, 160, 799, 2528, 1, 77, 4876, 138, 4877, 334, 47, 995, 662, 327, 7, 103], [], [152, 4878, 1536, 2, 4879, 4880, 4881, 8, 194], [43, 498, 29, 65, 1363, 122, 2], [52, 777, 4882, 788, 4883, 1252, 4884, 4885, 2242], [4886, 685, 4887, 1, 444, 112, 4888, 671, 4889, 29, 4890, 377], [4891, 1901, 27, 1, 23], [67, 1178, 92, 280, 383, 18, 544, 1, 564, 280, 4892, 4893], [1, 10, 3, 1855], [2505, 1, 15, 213, 4, 2529, 4894], [139, 136, 2530, 4895, 4896, 4897], [243, 2531, 4898, 336, 25, 313], [647, 31], [2532, 1698, 4899, 2288, 87, 132, 62, 1698, 4900, 134], [161, 1, 14, 100, 1699, 696, 2533], [755, 2534, 80, 420, 21, 84, 1, 10, 196, 160, 154, 121, 608], [3, 4, 56, 40, 2029, 74, 238, 2065, 97, 1032, 2535, 45, 30, 33], [38, 2444, 124, 823, 1902, 29, 224, 937], [115, 2, 76, 281, 254, 761, 63], [5, 636, 490, 258, 2536, 928, 776, 692, 4901], [4, 478, 137], [3, 2399, 4902, 907, 4903, 4904, 298, 125, 4905], [1520, 1, 257, 60, 509, 132, 207], [1638, 327, 489, 144, 4906, 239, 489, 82, 1610], [1616, 188, 4907, 567, 24, 2537], [485, 4908, 4909, 4910, 993, 131, 136, 4911, 320, 1371], [52, 4912, 4913, 35], [4914, 158, 4915], [446, 157, 54, 172, 446, 2185, 246, 585, 1, 271, 446, 650, 290, 912, 1], [1571, 998, 21, 881, 4916, 138, 96, 517, 175], [4917, 4918, 147, 147, 571, 999, 2538, 4919, 235, 800, 4920, 4921, 4922, 346, 35, 1188, 4923, 4924, 28, 20, 4925], [1, 457, 55, 32, 1, 386, 2377, 835, 4926, 2254, 4927], [206, 995, 1, 17, 133, 206, 81, 14, 6, 330, 981], [232], [4928, 595, 4929, 4930, 70, 4931, 94, 1, 266, 103], [320, 412, 2539, 4932, 1565, 872], [57, 4933, 1, 2540, 2510, 1, 14], [76, 1700, 317, 548, 303, 84, 4, 372], [510, 8, 1691, 1019, 1648, 568], [92, 483, 871, 2175, 282, 2, 228, 2541, 217, 2471, 1000, 496, 31], [103, 183, 1561], [88, 486, 882, 2542, 333, 1001], [254, 2543, 133, 458, 150], [1, 991, 38, 12, 4934, 2339, 1701, 4935, 1, 29, 4, 187], [120, 167, 1854, 1702, 4936, 21, 640, 95, 87, 1878, 614, 805, 4937, 1196, 535], [78, 1, 29, 16, 2113, 273, 86, 109], [248, 294, 5, 72, 2544, 1703, 552, 180], [4938], [1892, 175, 295], [8, 4939, 662, 22, 17, 4940, 1348, 1704], [1, 23, 4941, 949, 386, 1, 2545, 675, 205, 243, 870], [360, 75, 21, 2437, 1, 29, 133, 18, 21], [101, 4942, 1072, 88, 4943, 1027], [8, 7, 56, 47, 23, 4944, 361, 93, 2282, 134, 155], [759, 781, 978, 1018, 1404, 63], [1410, 4945, 4946, 299, 2190, 1395], [30, 820, 121, 800, 4947, 3, 4948, 2546, 53, 970, 610, 1689, 4949, 4950], [1, 23, 34, 12, 1219, 685, 124, 448], [35, 89, 395, 4951, 2033, 1326, 64, 472, 4952], [4953, 283, 4954, 109, 179, 1, 1026, 1411, 85, 664, 181, 98, 1334], [43, 404, 4955, 509, 37, 1331, 140, 699, 1219, 4956, 152, 43, 221, 190, 656, 39, 4957], [309, 1871, 297, 13, 157, 883, 292, 37, 33, 149, 4958, 4959], [57, 1705, 4960, 1285, 4961, 41, 361, 1372, 36, 1285, 1, 42], [440, 25, 1260, 1316, 1316, 4962, 840, 791, 4963, 4964, 4965], [25, 159, 6, 641, 194, 528, 322, 996], [1, 1313, 105, 141, 5, 673, 450, 1011, 451, 807, 808], [2547, 929, 4966, 4967, 138, 207, 225, 186, 1706, 688, 540, 70, 65, 343], [8, 81, 4968, 2548, 1333, 4969], [849, 219, 69, 5, 4970, 53, 219, 127, 8, 99, 2536, 459], [120, 4971, 1, 4972, 909, 267, 240, 1, 909], [171, 1, 106, 2351, 208, 4973, 1, 81, 171, 1, 353, 40, 4974], [357, 1665, 584, 2549, 4975, 9], [19, 12, 76, 199, 4976], [990, 243, 1482], [1, 255, 292, 157, 1, 15, 2, 270], [1, 23, 284, 390, 143, 3, 238, 4977], [1620, 2550, 2551, 374, 4978, 4979, 374], [4980, 4981, 670, 245, 4982, 86, 89, 230, 1674], [111, 122, 351, 196, 317, 4983, 47, 134, 963, 1655, 170, 31, 1283], [30, 98, 391, 34, 4984, 21, 129, 68, 2552, 4985, 734], [605, 1435, 977, 2455, 27, 36, 32, 42], [8, 1640, 44, 109, 4, 65, 44, 38, 855, 719], [387, 1236, 4986, 4987], [26, 83, 1020, 317, 1020, 170, 107, 1020], [1, 136, 434, 94, 4988, 2553, 417, 300, 1253, 1, 143, 496, 2554], [424, 26, 1, 41, 4989, 1024, 665, 117, 4990, 2376, 110, 2555, 504, 843], [96, 400, 1286, 577, 1707, 3, 222, 2, 4991, 1988, 2466, 2556, 1708], [93, 11, 93, 4992, 57, 12, 1027], [26, 4993, 4994, 2557, 539, 1, 6, 773, 1552, 657, 38, 117, 4995, 2558], [92, 523, 692, 1, 232, 328, 932, 1528, 293, 62, 7, 4996], [372, 4997, 336, 1, 997, 93, 4998, 503, 101, 583, 93, 511, 4999], [655, 250, 549, 5000, 5001, 5002, 1248, 5003, 150, 1196, 150, 5004], [485, 59, 5005, 55, 32, 2257, 465, 5006, 80, 30, 5007, 1031, 344, 192, 5008], [58, 74, 740, 5009, 9, 131, 19, 143], [5010, 87, 5011, 5012], [3, 56, 1153, 800, 440, 992, 98, 6, 2063, 86, 2559, 223, 401], [39, 5013, 559, 75, 99, 1685, 1042, 1699, 5014, 5015, 145, 515, 533, 280, 1709, 800, 223, 164], [437, 553, 246, 9, 1590, 7, 544, 5016, 428, 2180, 553], [8, 15, 37, 265, 15, 717, 1, 443, 2560, 79], [30, 1497, 358, 234, 548, 5017, 5018, 1471, 378, 287, 1, 544], [78, 155, 1710, 2082, 1458, 1, 23, 1631, 5019, 5020, 224, 1, 2561, 579, 5021], [24, 6, 654, 1281, 146, 5022], [290, 2430, 5023], [1422, 826, 5024, 2112, 176, 5025, 1591, 2562, 5026, 1233, 57, 206, 5027, 5028], [321, 2424, 46, 123, 19, 16, 418], [90, 80, 93, 422, 1, 10, 12, 73, 231, 5029, 192, 827, 5030, 50, 1335], [], [1, 5031, 149, 93, 899, 9, 1, 402, 5032, 5033, 3, 205, 1001, 710, 926], [2563, 1966, 42, 5034, 278, 5035, 5036, 5037, 1287, 2563], [26, 631, 2134, 41, 1949, 201, 4, 238, 5038, 5039], [5040, 4, 5041, 632, 5042, 13, 1170, 5043], [57, 602, 56, 243, 5044, 352, 857, 698, 1, 16, 1460, 51, 495, 51, 1, 1513, 13, 188], [1429], [1, 462, 511, 532, 21], [1, 1288, 1, 1288, 1, 1288, 1, 636, 1, 42, 5045], [2074, 2306, 138, 265, 2286], [285, 1125, 70, 261, 5046, 5047, 235], [24, 491, 2, 5048, 1688, 267], [1, 230, 2564, 5049, 127, 42], [1861, 5050, 397, 1711, 397, 544, 837, 5051], [94, 18, 1260], [34, 204, 1092, 5052, 51, 1555], [1, 296, 158, 2359, 241, 9], [1059, 5053], [118, 7, 706, 5054, 2565, 332], [131, 694, 2566, 5055, 250, 5056, 640, 623, 1169, 293], [1, 359, 1890, 15, 6, 295, 1931, 216, 1357, 1212, 824, 842], [52, 5057, 5058, 1522, 242, 5059, 1712, 5060, 60], [111, 756, 127, 1089, 86, 5061, 5062, 5063, 1964, 534, 5064, 2340, 299, 5065], [5066, 1713, 727, 772, 192, 27, 2567, 2248, 2568, 27, 428, 1, 29, 2569, 2454, 295, 1664], [26, 14, 36, 6, 48], [169, 2477, 5067, 88, 1098, 1019], [991, 168, 95, 326, 112, 7, 846, 253, 5068], [39, 75, 21, 862, 5069, 34, 2570], [1289, 2480, 1711, 572], [3, 5070, 5071, 965, 2314, 195, 2571, 361, 5072, 853, 301, 1, 5073, 74, 2572], [18, 100], [307, 254, 5074, 521, 631, 457, 96, 400, 5075, 5076, 5077, 1957, 5078, 128], [218, 1952, 5079, 5080, 1714, 1487, 1036, 468], [111, 195, 933, 1238, 179, 278, 1235, 1244, 5081, 1238, 649], [1, 231, 1022, 668, 218, 463, 630, 679], [120, 167, 292, 232, 763], [745, 783, 332, 2573, 37], [66, 19, 372, 596, 5082, 5083, 699, 697, 547, 666, 477, 222, 5084], [2574, 5085, 5086], [2575, 570, 471, 17, 1, 330, 217], [536, 1399, 227, 345, 1715, 2576], [5087, 3, 328, 319, 56, 40, 31, 31, 283, 5088, 5089, 1473, 12], [1, 220, 11, 1, 83, 113], [126, 2577, 175, 63, 27, 51, 106], [103, 445, 10, 5090, 18, 1290, 2578, 5091], [1, 10, 1706], [30, 76, 809, 1716, 578, 2579, 2122, 2580, 5092, 475, 832, 1205, 5093, 83, 553, 2581], [5094], [1, 58, 650, 2582, 11, 937, 655, 716, 730, 1278, 1142, 720, 8, 2, 95, 5095], [1, 457, 1, 163, 2473, 5096, 161, 626, 519, 385, 184, 5097], [640, 1355, 171, 41, 17, 65, 40, 131, 288, 165, 67, 49, 1717, 69, 2486], [5098, 5099, 11, 170, 5100, 5101, 5102], [1098, 184, 5103, 5104, 5105, 42], [1116, 760, 129, 68, 166, 1686, 5106, 1652, 1034], [64, 18, 100, 29, 4, 160, 5107], [51, 2583, 5108, 11, 1291, 5109], [18, 174, 5110, 5111, 11, 728, 24, 14, 67, 288, 18, 206], [26, 74, 535, 47, 5112, 637, 1841, 247, 5113, 1667, 170, 308, 48, 5114], [1, 506, 1, 213, 1213, 1, 16, 7], [1154, 2584, 5115, 5, 2, 2304, 489], [14, 915, 14, 2585, 5116, 40], [252, 68, 50, 5, 339, 1, 222, 265, 1, 136, 1, 1877, 12, 5117, 31, 10], [17, 5118, 102, 9], [126, 5119, 61, 5120, 5121, 211, 61, 1187, 5122], [1, 252, 68, 13, 312, 1, 14, 50], [25, 151, 135, 521, 59, 50, 9, 60, 5123, 28, 20, 5124], [15, 1064, 442, 6, 2307, 1, 394, 795, 5125], [67, 669, 1, 860, 1610, 1718, 2545, 766, 720, 391, 309, 505], [2586, 5126, 1609, 2057], [57, 233, 1260, 1, 313, 1, 1719, 1473, 498, 874], [1, 392, 5, 338, 17, 625, 115], [5127, 1713, 1208, 1040, 2495, 727, 2587, 333, 1387, 502, 492, 1716, 24, 271, 22, 5128], [52, 64, 50, 9, 5129, 118, 232, 16], [217, 5130, 5131, 5132, 6, 146, 523, 239, 360, 3, 285, 451, 5133], [130, 1, 65, 1, 15, 2, 875, 93, 1918, 1720], [174, 32, 7, 2588, 5134], [22, 5135, 21, 202, 5136, 74, 23], [5137, 61, 159, 211, 110, 113], [5, 5138, 6, 2281, 5139, 5140, 5141, 546, 125, 11, 666], [215, 113], [2589, 1225, 2590, 216, 1084, 1292, 380, 5142, 2345, 442, 374, 5143, 1293], [1, 5144, 622, 77, 370, 1083, 1, 5145, 5146, 1392, 336, 5147, 108, 12], [26, 588, 615], [154, 684, 212, 2427, 392, 1068, 5148, 5149, 5150, 609, 1294], [5151, 85, 5152], [5153, 214, 738, 1, 756, 83, 5154, 93, 922, 1056, 11, 127], [46, 5155, 764, 143, 2447, 206], [2591, 5156, 5157, 1106, 533, 383, 5158, 5159, 98, 5160, 644, 5161, 5162, 5163, 1693, 2352], [1048, 1721, 61, 319, 5164, 5165, 2382, 5166, 156, 370], [4, 54, 140, 5], [195, 5167, 519, 66, 282, 5168, 272], [5169, 5170, 5171, 5172, 86, 89, 36, 12, 77, 2224, 54, 279, 2592], [37, 620, 46, 670, 16, 365, 970, 596, 776, 5173, 737, 164], [78, 5174, 2303, 458, 8, 264, 2593, 65, 78, 5175, 5176, 458, 24, 438, 2044, 12, 1335], [771, 80, 5177, 805, 1295, 1, 417, 1278, 254, 5178, 905], [46, 1543, 5179, 5180, 1398, 5181, 86, 5182, 1292, 970, 670, 378], [161, 164, 554, 388, 38, 894, 1], [1, 153, 22, 10, 5183, 5184], [120, 82, 92, 811, 366, 5185, 238, 1275, 259, 5186, 170, 1266], [71, 644, 5187, 1567, 5188, 412], [118, 85, 258, 18], [190, 801, 1101, 1796, 5189, 216, 2, 5190, 5191], [2594, 2594, 28, 20, 5192], [1523, 1119, 201, 5193, 587, 430, 5194], [994, 29, 5195, 802, 2595, 477, 1981, 2596, 196, 1615, 5196], [721, 98, 1660, 5197, 2174, 1065, 306, 1483, 5198, 5199, 2394, 60, 5200, 2103, 1286, 781, 64, 12], [3, 5201, 969, 833, 9, 350, 5202, 5203, 30, 723, 65, 333, 1284, 25, 193, 2597], [67, 96, 196, 41, 562, 1296, 1325, 1532], [244, 16, 5, 5204, 1722, 182, 1723, 120, 15, 2, 2598, 285, 97, 13, 200], [1724, 781, 5205, 5206, 1378, 2, 34, 12, 551, 5207], [4, 532, 30, 5208, 5209, 4, 160, 1376, 1889, 1186], [1725, 529, 1086, 5210, 5211, 5212, 1726, 1247, 5213, 2599, 320, 5214, 95, 529, 2085, 5215], [5216, 5217, 1727, 5218, 242, 5219, 972, 242, 2600, 242, 5220, 972, 242, 27], [5221, 103, 701, 5222], [12, 667, 291, 782, 659, 5223, 305, 906, 109, 1148, 46, 2601, 2309, 35], [5224, 37, 5225, 2572, 2252, 5226, 2230], [437, 970, 670, 1081, 378, 24, 1654, 442, 2602, 44], [1, 5227, 1063, 5228, 5229, 5230, 5231, 5232, 804, 671, 30, 18, 661], [1, 179, 300, 377, 223, 1, 42, 131, 136, 5233], [187, 178, 488, 22, 178, 5234, 76, 482, 786, 65, 5235, 2603, 42], [9, 5236, 7, 1575, 108, 5237, 1028, 28, 20, 5238], [5239, 2604, 2605, 94], [66, 183, 1051, 969, 110, 95, 351, 1156], [1, 2606, 1649, 1103], [990, 29, 5240, 2607, 60, 2608, 5241, 563, 1710, 2609, 1710, 51, 35, 5242, 1676], [1562, 5243, 264, 16, 276, 1021], [94, 43, 1446, 694, 1, 91, 2610, 5244, 8, 1485, 5245, 680, 168], [241, 225, 69, 85, 249, 2611, 142, 2398, 586], [1356, 2612, 5246, 32, 700, 438, 1361, 5247, 1599, 19, 50, 55, 32], [994, 70, 1245, 5248, 5249, 741], [39, 19], [5250, 1728, 5251, 2004], [16, 71, 2613, 324, 418, 1, 282, 58, 296, 548, 59, 5252, 620, 5253], [1, 463, 145, 279, 312, 125, 32, 1946, 369, 2, 104, 789, 215], [1, 1729, 61, 5254, 5255, 5256], [5257, 70, 5258, 1730, 5259, 741, 802, 2595], [328, 36, 787, 32, 272, 5260, 2259, 5261, 275, 214, 124, 5262], [162, 45, 66, 5263, 4, 853, 74, 30, 105, 591, 378], [191, 260, 191, 260, 191, 260, 191, 260, 191, 260, 191, 260, 191, 260, 191, 260, 191, 260, 191, 260, 191, 260, 191, 260, 191, 260, 191, 260], [3, 2523, 647, 1731, 971, 2614, 647, 852], [], [405, 39, 192, 1705, 1732, 1285, 39, 1732, 1285, 1705, 2615, 317, 1013, 2615, 24, 226], [66, 36, 500, 194, 667, 6, 1072, 44], [334, 48, 59, 101, 279, 237, 1, 318, 58, 5264, 149, 5265, 304, 2616], [63, 11, 84, 4, 11, 1733, 2617, 2618, 534, 810, 2619, 5266], [437, 5267, 390, 17, 5268, 563, 740, 202, 766, 5269, 5270, 113, 5271, 5272], [1, 439, 5273, 29, 2234, 1508, 238], [358, 33, 184, 1540, 291, 541, 5274, 1405, 5275, 499, 1405, 2415, 6, 5276], [18, 100], [8, 239, 2620, 30, 33, 2620, 179, 70], [682, 89, 1, 834, 331, 935, 1397, 792, 63], [1, 29, 122, 5277, 80, 79, 103], [518, 640, 19, 116, 725, 5278, 5279, 5280], [219, 5281, 5282, 158, 1495, 1834, 60, 257, 2617], [71, 14, 203, 905, 429], [1, 171, 1, 58, 1724, 985, 5283], [169, 2566, 5284, 1734, 5285, 5286, 2621, 5287, 5288, 389, 290, 693, 5289], [121, 205, 572, 1240, 1640], [5290, 567, 567], [26, 460, 5291, 5292, 214, 135, 40, 267], [7, 56, 97, 2128, 917, 918, 419, 10, 1682], [26, 416, 298, 26, 298, 416], [18, 154, 110, 137], [78, 5293, 539, 2622, 900, 152, 122, 5294, 5295, 5296, 904, 97], [43, 574, 17, 5297, 8, 2623, 2, 45], [497, 1696, 5298, 199, 445, 324, 5299, 5300, 1696, 5301, 519, 1170, 87, 142], [5302, 98, 65, 1, 17, 21, 498, 59, 133, 119, 353, 171, 478], [], [26, 1, 2511, 1176, 1338, 1, 15, 2544, 8, 384, 670, 968, 209, 1076, 5303, 5304], [51, 47, 70, 14, 2214, 96, 776, 517], [78, 1, 858, 121, 280, 1212, 2440, 2591, 2624, 198, 5305], [66, 867, 154, 110, 475, 16, 1668, 5306, 5307, 206, 210, 143], [423, 65, 1447, 1735], [9, 2625, 2626, 965, 1736, 79, 2625, 2626, 45, 379, 965, 5308, 5309], [1737, 429, 1234, 5310, 1234, 5311, 5312, 5313, 5314], [1, 173, 1840, 1, 23, 5315, 1596, 5316, 5317, 2405, 1666, 5318, 692, 2, 5319], [28, 20, 5320], [111, 1697, 5321, 35, 203, 2627, 844, 301, 332, 2627, 784], [144, 356, 11, 1738, 244], [340, 482, 30, 62, 357, 1739, 2628, 116, 172, 5322, 464, 357, 45, 346, 5323], [148, 1671, 535, 1, 2222, 185, 73, 336, 16, 1213], [52], [5324, 440, 60, 2232, 899, 51, 1, 23, 5325, 563], [3, 969, 833, 1284, 193, 2597, 2008, 202, 2409, 5326, 5327, 72], [391, 1740, 5328, 5329, 2298, 2246], [26, 1023, 1492, 264, 416, 75, 693, 1076, 1172, 1493, 1626], [354, 161, 1741, 81, 5330, 1190, 907, 204, 945, 1526, 3, 2235, 2629, 746, 478, 432], [120, 49, 208, 1, 13, 209, 163, 200, 141], [46, 123, 2630, 257, 574, 46, 65, 425, 251], [685, 287, 5331, 781, 6, 842, 1, 172, 5332, 5333], [51, 830, 4], [5334, 1162, 5335, 487, 866, 5336, 1522, 5337, 5338, 866, 5339], [3, 2631, 1, 13, 995, 5340, 425], [5341, 5342], [62, 258, 619, 1297, 59, 1739, 50, 30, 333, 743, 189, 9, 2632, 1233], [5343, 77, 436, 214], [2357, 1564, 5], [1, 231, 83, 1, 166, 5344, 2632, 243, 5345, 1332, 482, 729, 166, 1290, 2327], [47, 62, 207, 2633, 179, 1298], [72, 456], [25, 1742, 334, 54, 1743, 1615, 5346, 5347, 7, 5348, 1701, 5349, 1677, 168, 219], [1, 105, 2634, 45, 21, 87, 217, 192, 172, 360, 2403], [1, 2042, 5350, 5351, 5352, 742, 273, 566, 64, 27, 27], [585, 3, 550, 88, 1002, 1, 482, 5353], [78, 1744, 2635, 5354, 183, 511, 50, 9, 33, 47, 5355, 683, 1736, 5356, 287, 553], [43, 160, 2348, 5357, 58, 5358, 489, 268, 733, 1633, 189, 73, 187], [1249, 5359, 1620, 264, 1110, 5360, 101, 35, 145, 5361, 1208, 884, 7, 41, 5362], [218, 24, 1299, 371, 62, 325, 381, 2636, 1003, 371, 423, 2637], [5363, 5364, 5365, 2540, 147, 5366, 5367], [2638, 453, 1, 58, 5368], [5369, 29, 4, 7], [531, 5370, 1266, 5371, 5372, 370, 2639, 28, 20, 5373], [31, 40, 5374, 1403, 877, 580, 5375, 604, 2051, 1228, 604, 127], [321, 5376, 5377, 5378, 5379, 1004, 5380, 5381, 1, 358, 5382, 118, 123, 5383, 5384, 5385], [2640, 5386, 2600, 543, 5387], [130, 514, 17, 1804, 5388, 229], [1, 499, 14, 5389, 1745, 2641, 129, 68, 1272, 158, 201], [190, 1746, 5390, 395, 5391, 992, 5392], [1550, 997, 2642, 58, 433, 1747, 1300, 44, 107, 867, 5393, 160, 1281, 19, 11], [543, 5394, 28, 20, 5395, 28, 20, 5396], [2289, 5397, 113, 657, 38, 316, 5398], [90, 2643, 676], [4, 34, 109, 72, 5399, 1622, 1212, 5400, 5401, 1207, 801, 5402], [40, 140, 419, 3, 220, 1998, 351, 53, 136, 84, 732, 351], [1, 23, 250, 1149, 5403, 5404], [233, 72, 44, 624, 244, 79, 8, 219, 135, 2644, 943, 276, 1494, 1748], [170, 601, 1, 10, 354, 22, 191, 260, 533, 383, 2645, 5405, 5406, 2515], [236, 1, 23, 1, 2646, 236, 1, 5407, 1509, 876, 944, 270, 889, 17, 1589, 247], [4, 372, 112, 93, 48, 6, 44], [4, 478, 550, 29, 1525, 466, 16, 923, 293, 1358, 1733, 5408, 33, 98], [190, 33, 2647, 5409, 1164, 216, 5410, 297, 5411, 997, 300, 1293], [25, 35, 73, 187, 566, 35, 470, 261, 300, 102], [169, 2456, 477, 262, 1, 763, 5412], [155, 45, 531, 1168, 12, 1544, 5413, 1742, 290, 1054, 25, 167, 5414, 155, 2287, 161, 186, 45, 5415], [1886, 120, 122, 1410, 5416, 108, 2330, 5417, 5418, 70, 122, 2, 2648], [108, 869, 361, 5419, 358, 5420], [1, 139, 136, 1, 5421, 2073, 114, 5422, 5423, 5424, 1729, 91, 2], [1301, 625, 247, 1, 15, 1, 9, 1, 9], [28, 20, 5425], [2610, 19, 118, 232, 5426], [5427, 1066, 1291, 174, 13, 5428, 1257, 824, 5429, 2000, 1282, 345, 5430], [5431, 501, 1439, 779, 15, 564, 16], [115, 99, 2649, 163, 349], [4, 238, 19, 277, 5432, 1297, 2650, 2552, 216, 5433, 342, 1302, 1297], [18, 100, 515, 4, 7], [218, 790], [5434, 248, 377, 284, 5435, 2624, 950, 5436, 309, 5437], [307, 1232, 931, 5438, 241, 5439, 121, 392, 48, 5440, 5441, 1749, 5442, 136, 5443], [148, 40, 84, 6, 14, 209, 2651, 225, 856, 60, 27], [218, 24, 1299, 371, 62, 325, 381, 2636, 1003, 371, 423, 2637], [200, 182, 185, 5444, 311, 416, 5445, 2363], [19, 210, 10, 40, 118, 1269, 350, 5446, 5447, 5448, 571, 5449], [433, 1695, 752, 748, 75, 209, 62, 159, 45, 87], [653, 308, 924, 1005, 268, 5450, 5451, 1626, 5452, 5453, 268, 5454, 966, 2652], [258, 1630, 9, 900, 426], [112, 1508, 49, 588, 5, 5455, 545, 166, 576, 281, 304], [594, 19, 1086, 1472, 1545, 418, 105, 1472], [19, 1122, 1, 23, 87, 335, 974, 138, 503, 25, 154, 5456, 842], [173, 379], [12, 207, 1750, 245, 305, 396, 20, 5457], [30, 1002, 31, 11, 1115], [860, 2181, 1006, 55, 32, 599, 5458, 153, 795, 74, 5459, 39, 526, 411], [5460], [226, 5461, 5462], [55, 12, 1, 1751, 141, 5, 179, 723, 208, 1300, 26, 179, 1300, 2178, 1942], [1856, 1581, 2653, 5463, 19, 1272, 1749, 48, 5464, 529, 570, 904, 2202, 1558], [5465, 843, 426, 2654, 755, 2655, 2654, 410, 27, 145], [52, 5466, 5467, 396, 20, 5468], [148, 1145, 398, 407, 5469, 275, 288, 114], [67, 425, 13, 263, 253, 5470, 345, 5471, 1752], [24, 5472, 1457, 34, 999, 5473, 5474], [1, 91, 139, 611, 883, 2656], [2215, 540, 374, 5475, 573, 2370, 603, 2068, 1465, 2576], [81, 1467, 887, 9, 445, 453, 5476, 5477, 164, 431, 32], [24, 491, 542, 47, 738, 13, 738], [2532, 1303, 5478, 5479, 5480, 5481, 28, 20, 5482], [1, 402, 348, 125, 2149, 397, 186, 5483, 49, 117, 406], [78, 302, 659, 593], [124, 2, 5484], [18, 22, 73, 5485, 133, 5486, 103, 199, 215], [2060, 5487, 158, 620, 649, 1255, 1204, 1753, 2420, 1623], [306, 544, 8, 333, 45, 956, 802, 785, 115, 42, 447, 39, 949, 438, 5488, 5489], [365, 4, 367, 110], [5, 33, 302, 2072, 407, 2657, 9], [24, 85, 481, 184, 160, 200, 47, 542, 85, 766, 277, 812, 85, 17, 224], [1249, 2498, 1997, 1014, 285, 1125, 2142, 5490, 22, 2140, 863], [2658, 17, 157, 1171, 11, 309, 5491], [2659, 1311, 2227, 2643, 2659, 5492, 30, 156, 2660, 790, 5493, 156, 5494, 587, 5495], [95, 351, 5496, 189, 279, 584, 1304, 2464, 263, 1754, 1755], [43, 2517, 76, 497, 911, 1151, 993, 5, 1, 1643], [52, 5497, 5498, 5499, 5500, 5501, 5502, 999, 2451], [1, 280, 5503, 420, 209, 62, 172, 37, 298, 1132, 2150, 2661], [406, 5504, 2662, 5505, 1420, 1005, 1, 18, 16, 5506, 1756, 2663, 5507, 1691], [1, 1259, 210, 101, 583, 1390, 452, 100, 769, 1, 230, 4, 530, 1409, 5508, 5509], [1, 499, 5510, 1082, 1, 173], [24, 288, 331, 2, 479, 2664, 2593, 5511, 1757], [126, 6, 1450, 426, 3, 5512, 103, 5513], [67, 1225, 1159, 2665, 799, 5514, 733, 613, 5515], [52, 5516, 5517, 5518, 5519, 5520], [1, 5521, 266, 2666, 1408, 256, 79, 126, 266, 131, 29, 447, 5522], [1104, 5523, 2667], [78, 5524, 258, 2642, 786, 799], [5525, 1], [282, 5526], [67, 5527, 5528, 407, 5529, 5530, 545, 1116, 33, 146, 852], [66, 19, 2668, 787, 5531, 5532], [3, 5533, 1274, 85, 8, 99, 18, 16, 151, 275, 891, 410], [10, 92, 5534, 3, 472, 6, 731, 1098], [1, 15, 49, 74, 790, 5535, 5536, 5537, 129, 68, 783], [1336, 7, 5538, 549, 925, 157, 5539, 455, 7, 182, 5540, 103], [67, 669, 1, 548, 513, 2669, 2342, 411, 5541, 2090, 5542, 103], [25, 1715, 1, 58, 2581, 1145, 1, 259, 105, 53, 1344, 9, 110, 504, 248], [41, 5543], [26, 5544, 2565, 15, 2393, 213], [1518, 5545, 5546, 862, 471, 363, 1662, 1099, 993, 166], [338, 5547, 1817, 1704, 451, 1512, 5548, 5549, 82, 1627], [1612, 9, 17, 203, 123, 1, 2670, 1256], [1595, 546, 1, 19, 2228, 2229, 983, 130, 1, 361, 5550, 1965, 72, 102, 181], [188, 5, 1282, 2671, 1282, 906, 1389, 1219, 15, 1115, 142, 15, 61, 194], [5551, 340, 1758], [640, 4, 128, 1759, 5552, 5553, 736, 5554, 5555, 1295, 5556], [28, 20, 5557], [3, 457, 396, 20, 5558], [1, 10, 5559, 35], [1, 16, 936, 1302], [5560, 818, 18, 174, 65, 425], [211, 271, 114, 387, 941, 211, 271, 114, 1164, 5561, 5562], [222, 16, 2518, 655, 5563, 5564, 5565, 1177, 5566, 185], [190, 233, 81, 5567, 216, 44, 1228, 5568, 2590, 121, 6, 2672], [1, 365, 339, 315, 1, 2155, 5569, 1491, 568, 2673, 86, 109, 5570, 86, 389, 5571, 5572], [114, 1, 15, 10, 358, 2616, 314, 15, 149, 358, 1049], [71, 134, 92, 5573, 1760, 349], [], [5574, 1154, 2584, 445, 1101, 347, 5575], [51, 370, 5576, 5577, 1, 23, 12, 5578, 116, 32], [221, 141, 1, 42, 1894, 5579, 31, 1, 673, 2468, 229, 322, 2300], [327, 5580, 2, 327, 731], [80, 16, 644, 5581, 5582, 1250], [43, 241, 5583], [3, 574, 799, 1, 95, 351, 228, 289, 158, 175, 583], [1, 74, 1153, 376, 119, 1363, 1, 1220, 2, 1, 2669], [2604, 2605, 1895, 658, 1442, 31], [3, 595, 746, 856, 38, 13, 1761, 13, 299, 5584], [26, 1, 6, 4, 5585, 1305, 581, 98, 1, 233, 1109, 782, 291, 391, 525, 49, 61, 251], [520, 586, 177, 5586, 1298, 53, 1762, 468, 492, 337], [119, 2674, 164, 57, 5587], [65, 4, 2529, 5588, 1284], [320, 1066, 5589, 384, 5590, 5591, 2675, 58, 517, 5592, 1566, 46], [148, 55, 1182, 1556, 56, 458, 1269, 485, 473, 1, 23, 15, 37, 4, 143, 138], [3, 580, 647, 727, 5, 1222, 225, 5, 1185, 5593], [355, 84, 6, 5594], [618, 1714, 108, 708, 5595, 145, 40], [1, 505, 695, 1287, 1001, 154, 12, 237, 888, 2, 5596, 2676, 2677], [1, 49, 2678, 581, 1554, 5597, 5598, 458, 5599, 5600, 131, 31, 684, 5601, 837, 2679], [24, 282, 146, 1664], [25, 5602, 104, 445], [24, 570, 155, 5, 49, 5603, 1862, 5604, 950, 784, 1763], [955, 1231, 1228, 5605], [5606, 538, 5607, 1292, 5608, 5609, 5610, 72, 1708, 5611, 5612, 5613, 5614], [78, 443, 9, 8, 80], [6, 5615, 2680, 457, 59, 521, 59, 50, 1006, 197, 353, 2226, 5616], [243, 5617, 702, 5618], [124, 37, 642, 5619, 5620, 75, 2126, 1898, 73, 295, 5621, 571, 5622], [5623, 1704, 562, 76, 5624, 225, 5625, 5626, 5627], [151, 21, 5628], [431, 66, 291, 2681, 1, 23, 5629], [255, 31, 1706, 2682, 21, 5630, 5631, 873, 134, 5632], [376, 209, 382, 75, 75, 26, 1155, 895, 81, 76, 5, 338, 372, 382, 469], [5633, 410, 5634, 749, 399, 1756, 1025, 573, 39, 158, 333, 573], [1356, 167, 5635, 116, 2683, 297, 1646, 324, 553, 645], [25, 379, 5636, 5637], [912, 1, 7, 2, 5638, 5639], [585, 1909, 645, 253], [296, 894, 1679, 2080, 608, 446], [354, 22, 5640, 339, 441, 473, 2, 5641, 1719, 1118], [43, 2684, 5642, 1, 386, 1017, 986, 1400, 2685, 5643, 2686, 389, 298, 5644, 938, 596], [24, 13, 1, 15, 77, 1, 23, 4], [9, 4, 11, 43, 5645, 5646, 175, 578, 1903, 1, 599, 19, 5], [25, 215, 518, 1130, 196, 1, 173, 5647, 106], [51, 1, 58, 1923, 2687, 2688, 2689, 2690], [657, 1702, 159, 47, 13, 270, 5, 84, 146, 270], [3, 544, 5648, 306, 5649, 432, 389], [365, 2602, 1185, 5650, 1306], [1306, 328, 1024, 64, 1764], [5651, 5652, 2192, 7, 36, 196, 2193, 384], [266, 148, 5653, 698, 24, 340, 39, 947, 922, 984, 90, 1307, 186, 135, 51, 535, 177, 69], [2461, 615, 2691, 1002, 101, 64, 2692, 1, 234, 5654, 415, 5655, 1800, 415, 5656, 131, 4, 143], [66, 19, 11, 17, 178, 695, 159, 16, 2054, 256], [118, 232, 3, 55, 5657, 3, 2239, 87], [66, 746, 1558], [1197, 5658, 5659, 5660, 726], [157, 580, 2693, 5661, 39, 2693, 580, 5662, 873, 310, 157, 580, 580, 2, 5663], [3, 5664, 5665, 222, 2, 7, 5666, 774, 2694, 1669], [67, 801, 1614, 476, 53, 2210, 1553, 1134, 157], [5667, 5668, 5669, 5670, 5671, 5672, 5673], [488, 479, 5674, 5675, 1561, 5676, 759], [5677, 5678, 135, 5679, 5680, 66, 274, 441, 5681, 50], [52, 524, 5682, 2695, 5683, 2696, 5684, 1765, 5685, 2695, 5686, 2696, 5687, 5688, 5689, 1308, 5690, 5691, 1765, 5692, 5693, 1308, 5694], [460, 5695, 1766, 5696, 2401, 1746, 5697, 54, 1720, 308, 1101, 756], [78, 18, 13, 5698, 719, 1857, 2223, 1, 722, 1734, 1, 5699], [778, 5700, 1717, 89, 798, 2697, 1, 5701, 224, 1605, 39, 1222, 5702, 291, 1659], [1, 266, 1, 310, 31, 1731, 1883], [], [78, 4, 2698, 2553, 95, 5703, 1, 5704, 143, 95], [1067, 331, 5705, 687, 62, 1067, 5706, 331, 5707, 5708], [221, 1467, 1162, 5709, 744], [152, 114, 1, 14, 5710, 421, 711], [648, 5711, 5712, 837, 2679, 5713, 5714, 740], [921, 32], [18, 100, 947, 5715], [52, 5716, 618, 5717, 5718, 2497], [1, 2699, 5719, 1183, 5720, 5721, 600, 75, 119, 2482, 1465, 5722, 5723, 518], [565, 628, 2700, 5724, 1968, 286, 425, 321], [93, 75, 5725], [951, 2097, 80], [5, 5726, 1720, 587, 2701, 135, 5727, 70], [188, 2418, 6, 17, 828, 17, 5728, 1837, 436, 2, 5729, 1221, 6, 59], [1, 41, 170, 135, 5730, 508, 5731, 5732, 5733, 535, 471, 5734, 60, 3, 714, 1499], [118, 723, 465, 1314, 22, 5735, 132, 83, 150, 8, 99, 210, 102], [96, 1277], [2702, 1, 105, 1035, 223, 288, 141, 5, 149, 5736, 5737, 5738, 1267, 457, 266], [405, 1, 10, 46, 19, 50, 21], [120, 74, 1060, 430, 2551, 1616, 5739, 644, 1641, 5740, 317, 5741], [150, 1767], [1597, 1265, 757, 5742, 274, 57, 76, 1440, 1, 29, 5743, 948, 5744, 164, 1207, 29, 656], [1, 92, 358, 2416, 11, 1, 379, 751, 5745, 161, 3, 2703], [18, 138, 11, 1476], [255, 292, 761, 486, 176, 385, 33, 60, 1432, 415, 5746, 1699, 696, 2533, 5747, 1768, 119, 292], [930, 269, 172, 1, 5748, 5749, 253, 597, 409, 2158], [5, 1703, 1617, 2704, 230, 572, 5750, 2705, 267, 576, 363, 44], [5751, 561, 468, 7, 1279, 1674, 1203, 2161, 5752, 317, 1, 368], [227, 345, 390, 204, 80, 5753, 209, 45, 5754, 144, 149], [5755, 76, 1519, 60, 60], [783, 459], [26, 5756, 173, 296, 412, 296, 412, 228, 718], [1, 557, 797, 1, 129, 68, 53, 316, 2706, 449, 604, 17, 312], [475, 55, 5757, 1309, 5758], [662, 9, 1631, 5759, 11, 90, 5760, 5761, 63], [118, 88, 1553, 377], [4, 54, 26, 581, 106, 1769, 54, 127, 5762, 3, 142, 2410], [52, 257], [5763, 1621, 1797, 5764, 442, 863, 552, 2375, 5765, 1454, 980], [771, 5766, 76, 5767, 5768, 468, 5769, 1307], [57, 5770, 5771, 1, 5772, 1713, 5773, 897, 290, 274, 1, 399], [52, 5774, 28, 20, 5775, 28, 20, 5776], [25, 1, 139, 136, 1717, 5777, 1770, 164, 5778], [85, 639, 5779, 754, 5780, 521, 5781, 1007], [2672, 270, 481], [5782, 891, 54, 5783, 2655, 14, 1430, 217, 1165], [66, 645, 1, 14, 207], [1, 44, 2395, 59, 1380, 5784, 91], [1054, 71, 5785, 5786, 344, 1121, 271, 140, 5787, 5788, 81, 233, 287, 5789, 1627], [54, 2630, 54, 1478], [46, 3, 373, 89, 679, 29, 37, 94, 190, 87, 5790, 288, 1046], [227, 345, 15, 447, 99, 11, 319], [1, 67, 58, 39, 146, 5791, 5792, 227, 39, 5793, 2687, 757, 165, 2707, 5794, 5795, 5796], [9, 189, 168, 395, 1286, 508, 1, 10, 18, 185, 508, 200, 35], [43, 358, 36, 160, 1, 15, 48], [5797, 1029, 5798, 28, 20, 5799], [3, 1521, 2690, 127, 5800, 6, 271, 299, 5801], [3, 7, 56, 880, 105, 5802, 528, 679, 12, 5803, 5804, 2708], [1, 153, 5805, 5806, 961, 5807, 5808, 1, 129, 68, 180, 992, 254, 46], [1684, 2709, 12, 988, 1214, 769, 203, 47, 10], [18, 100], [145, 26, 23, 1155, 895, 99, 558], [1, 282, 171, 1, 1831, 77, 290, 651, 24, 23, 24, 340, 230, 112, 432], [], [3, 803, 72, 53, 5809, 63, 21, 101, 223, 253, 5810, 293], [1, 2710, 211, 5811, 25, 1, 986, 7, 9, 130, 120, 626, 69], [5812], [236, 1, 1256, 565, 416, 55, 5813, 2367], [1, 77, 1346, 253, 48, 38], [259, 1048, 219, 711, 1, 1199, 301, 1200, 367, 772, 5814], [5815, 204], [1607, 178, 1716, 31, 194, 802, 4, 210, 280, 5816], [360, 545, 160, 28, 20, 5817], [890, 72, 91, 497, 103, 5818], [67, 252, 68, 6, 178, 5819], [5820, 3, 372, 871, 2368, 5821, 919, 957, 2711, 5822, 5823, 270], [820, 106, 168, 391, 817, 298, 1374, 1068, 162, 45], [193, 86, 73], [360, 1022, 125, 1157, 334, 1, 406, 2, 676, 750, 987], [1479, 145, 1771, 33, 5824, 5825, 27, 31], [103, 5826, 5827], [360, 559, 21, 996, 15, 486, 5828, 1709, 1724, 283, 273, 222, 2, 14, 674, 101, 975], [97, 2267, 600, 207, 39, 220, 220, 643, 1466, 498, 244, 1510, 183], [4, 11, 148, 300, 409, 324, 357, 614, 198, 142], [984, 81, 99, 286, 5829, 5830, 2308, 5831, 748, 5832, 5833], [162, 45, 120, 6, 664, 285, 1520], [5834, 5835, 5836, 1, 2613, 815, 254, 8, 2712, 5837, 2712, 5838], [912, 1, 34, 127, 1275, 1506, 1598, 1688, 1683, 115, 2], [63, 2713, 5839, 177, 5840, 5841, 27, 5842, 509, 2213, 5843, 5844, 5845, 2294, 5846, 1655], [1, 5847, 1, 326, 380], [148, 128, 10, 5848, 222, 2, 87, 4, 5849], [375, 1120, 274, 493], [240, 58, 5850, 178, 5851, 2714, 8, 1272, 158, 201, 931, 5852, 2714, 5853, 507], [97, 94, 193, 1, 13, 116], [78, 1, 23, 183, 298, 123], [1772, 5854, 242, 1252, 5855, 242, 2715, 403, 5856, 5857, 5858, 5859, 2542, 5860, 5861, 5862, 2336, 242, 1252, 5863, 5864, 147, 2423, 2422, 5865], [118, 132, 155, 5866, 286, 251, 792, 713, 209, 84, 2195, 713], [1, 129, 68, 2030, 56, 9, 178, 361, 507, 421, 256, 5867, 1, 240], [1, 5868, 735, 5869, 5870, 5871], [1249, 2662, 2634, 1014, 2716, 1933, 863, 2716, 415, 5872], [1, 1277, 5873, 167, 768, 1003, 2717, 5874, 643, 2173], [700, 481, 144, 2718, 1253, 65, 1008, 87], [1459, 446, 172, 2719, 5875, 486, 2, 327], [618, 5876, 5877, 1578, 1095, 5878], [30, 142, 5, 1826, 5879, 1296, 354, 5880, 87, 12, 30, 13, 1089], [1, 1119, 2720, 5881, 2721, 207, 2722, 1167, 2723, 5882, 383], [2099, 2100, 377, 5883, 1009, 1728, 575, 1, 330, 156], [57, 1167, 716, 1093, 821, 177, 132, 96, 29, 1676], [362, 2628, 19, 12, 268, 5884, 2, 5885, 5886, 42], [2284, 113, 5887, 294, 394, 1437, 195, 5888, 3, 2546, 1644, 181], [342, 784, 1618, 1226, 632, 645, 123, 235, 2321, 59, 50, 283, 2322, 2323, 2324, 50, 1247], [1078, 490, 36], [24, 13, 4, 2562, 29, 312, 5889, 317, 35], [57, 308, 128, 41, 42, 1993, 311, 148, 1067, 2208], [530, 11, 1200, 710, 5890, 23, 1442, 5891], [678, 14, 2724, 5892, 5893, 5894, 1055, 2725, 1773, 925, 2725, 51, 84, 667, 51, 5895], [5896, 2726, 2661, 1774, 5897], [148, 1261, 1, 551, 2560, 976, 1319, 638, 193, 1549, 2277, 646, 86], [144, 5898, 157], [5899, 691, 2312, 1182, 5900, 1582, 94, 5901, 124, 98], [84, 702, 372, 406, 172, 255, 82, 7, 5902, 1, 15, 1087, 322, 1756, 181], [1, 13, 1833, 808, 740, 107, 48, 738, 5903, 793, 1456, 5904, 5905], [657, 74, 967, 369, 3, 5906, 2261], [303], [1586, 1188, 1653, 939, 5907, 5908, 5909, 5910, 5911, 5912, 5913, 5914], [4, 54, 18, 854, 30, 598], [26, 69, 2596, 15, 5915, 5916, 39, 5917], [514, 1667, 276, 120, 15, 14, 355, 656, 2651, 5918], [26, 5919, 156, 121, 14, 123, 5920], [510, 5, 730, 38, 1775, 5921, 2114, 329, 304, 821, 5922], [2378, 1, 231, 1, 182, 119, 1547], [658, 219, 146, 294], [2727, 545, 1730, 2194, 1057, 5923, 34, 1542, 802, 1036], [499, 215, 49, 1486, 1453, 133], [1, 252, 68, 18, 165, 661], [5924, 5925, 68, 5926, 5927, 2728, 5928, 5929, 5930, 5931, 5932, 5933, 1308, 5934, 5935], [1006, 54, 426, 2729, 521, 59, 50, 1047, 346, 5936, 1644, 749, 5937], [3, 2730, 82, 5938, 63, 60, 36, 106, 370, 1, 322, 1768, 197, 5939], [26, 1, 5940, 901, 1, 1527, 572], [757, 165, 752, 35, 63, 75, 5941, 803, 5942], [66, 4, 95, 1299, 5943], [321, 1961, 1, 106, 89, 237], [3, 36, 686, 1, 41, 42, 6, 2093, 431, 252, 68, 16, 207, 1498, 150, 1, 10, 5944], [3, 5945, 1702, 1651, 1, 5946, 701, 65, 5947, 256, 5948, 61, 652], [64, 910, 1096, 202, 1776, 174, 32, 2731, 1776, 1516, 739, 2682], [37, 215, 196, 5949, 5], [30, 176, 1819, 254, 19, 1816, 1027], [1, 173, 5950, 3, 967, 901, 5951], [71, 112, 2657, 418], [108, 250, 29, 17, 16, 652, 917, 918, 261, 77, 2732, 117], [1777, 151, 79, 5952, 29, 1309, 244, 75], [1, 5953, 1, 104, 1251, 194, 1984, 1, 23, 432, 51, 1, 49, 61], [1, 13, 206, 40, 522, 173, 890, 54, 309], [395, 2733], [15, 23, 272, 247, 310, 115, 445, 2448], [2734, 2046, 5954, 21, 1, 599, 2, 1190, 466, 1, 61, 854], [30, 50, 110, 2269, 1233, 563, 117, 2270, 2271, 106, 1593, 860, 440, 119, 527, 440, 189], [928, 34, 2735, 41, 2736], [94, 361, 392, 5955, 5956, 5957, 31], [150, 5958, 5959], [66, 282, 367, 665, 117, 2737, 423, 2555, 744, 5960, 332, 1778], [977, 2, 308, 5961, 2, 36], [22, 703, 321, 1202, 18, 22, 73, 671, 22, 43, 2168, 703, 18, 22, 73, 671], [3, 706, 282, 876], [1477, 5962, 112, 250, 549, 5963, 5964, 5965, 2504, 5966, 1505, 2, 5967], [316, 546, 70, 316, 69], [994, 70, 1245, 2317, 271, 5968, 2738], [2739, 2739], [1636, 1690, 5969, 1454, 2320, 5970, 2547, 5971], [2740, 62, 5972, 5973, 2650, 2740, 1703, 1277, 2549], [66, 102, 11, 5974, 1741, 209, 12, 349, 133], [1, 171, 41, 17, 65, 356, 1002], [132], [152, 1137], [3, 623, 96, 2014, 5, 5975, 5976, 2709, 1408, 5977, 36, 5978], [2741, 64, 786, 89, 1, 135], [17, 781], [2742, 5979, 829, 2743], [8, 254, 267, 66, 886, 254, 99, 142, 1762, 127], [89, 751, 44, 36, 89, 44], [105, 19, 431, 3, 967, 5980, 920, 256, 11, 1586, 32, 2396], [43, 289, 40, 5981, 988], [352, 861, 1, 48, 861, 108, 5982, 71, 42, 5983, 558, 2329, 560], [130, 608, 229, 782, 93, 119, 5984, 5985, 35, 51, 44, 313, 291, 432, 466], [26, 5986, 196, 505, 1000, 33, 977, 5987, 2, 2528, 27, 403], [103, 169, 1, 874, 607, 384, 9], [25, 2744, 344, 1050, 686, 2, 106, 238, 43, 178, 1747, 5988, 892, 1, 1179, 484, 31], [40, 920, 1737, 45, 920, 423, 40, 8, 921, 776, 496, 1000, 5989], [368, 1742, 290, 2050, 261], [5990, 471, 2745, 350, 5991, 65, 5992, 1802], [2588, 2746, 102, 257], [555, 707, 5993, 56, 27, 346, 369], [102], [826, 374, 1235, 5994, 5995, 1424, 5996, 22, 410, 749], [156, 5997, 7, 1451, 5998, 154, 1, 5999, 166, 190, 340, 145, 6000, 86, 186, 352], [2747, 777, 6001, 6002, 2747, 147, 6003, 6004, 6005, 28, 20, 6006], [52, 1738, 28, 20, 6007, 28, 20, 6008], [1543, 1, 371, 1095, 380, 408, 60, 27, 2608, 1384, 6009, 573], [613, 1893, 407, 299, 140, 206, 40, 743, 635], [1025, 1608, 430, 1100, 55, 73, 587, 1523], [1798], [130, 6010, 57, 29, 102], [3, 48, 2622, 6011, 1295, 6012, 751, 1731, 1492, 717, 6013, 8, 230, 1510], [228, 497, 287, 309, 1844, 1539, 55, 32, 107, 40, 38, 61], [227, 248, 427, 726, 2039, 2748, 233, 299, 6014, 6015], [6016, 6017, 6018, 487, 6019, 6020, 6021, 147, 6022, 1637, 1578, 6023, 638, 6024, 6025, 147, 6026, 6027, 6028, 28, 20, 6029], [78, 301, 23, 117, 6030, 394, 838, 6031, 73], [6032, 6033, 6034, 2749, 2750, 1385, 1063, 101], [188, 5, 96, 1160, 290, 123, 6035, 1, 171, 46, 1532], [6036], [1568, 70, 36, 393, 6037, 1360, 6038, 430], [78, 1, 399, 183, 271, 166, 2751, 86, 73, 41, 80], [6039, 1835, 6040, 1, 6041, 950, 6042, 6043, 2088, 345, 6044, 6045, 6046], [25, 1606, 556, 1921, 483, 325, 6047, 49, 117, 203, 123, 6048, 394, 102], [10, 91, 2509], [776, 141, 476, 511, 137, 693, 1743, 464], [342, 1576, 163, 39, 405, 2698, 362, 168, 237, 2732, 301, 85, 6049, 2631, 6050], [209, 1869, 1773, 126, 362, 1658, 790, 362, 1658, 271], [181, 1, 13, 1, 15, 2139, 101, 51, 932, 692, 55, 154], [1, 15, 2, 991, 289, 11, 1380, 6051, 35], [26, 503, 18, 773, 887, 1140, 2019, 5, 58, 115, 98], [3, 1779, 469, 6052, 2341, 1779, 1730, 141, 6053, 6054, 6055, 498], [37, 616, 6056, 268, 1722, 2411, 14, 207, 268, 6057, 74, 1254, 176, 6058], [3, 2045, 56, 2153, 1531, 622, 658, 1206, 658, 135, 6059], [190, 7, 127, 40, 1, 7, 220, 6060, 1063], [1, 19, 1, 211, 6061, 304, 1169, 85, 1617, 298, 179, 10, 1144, 614], [994, 70, 6062, 6063, 308, 741, 953, 131, 2741], [463, 539, 424, 397, 55, 32, 26, 663, 1591], [2752, 6064, 6065, 487, 6066, 1714], [8, 353, 2490, 6067, 245, 57, 1440], [161, 1, 14], [1280, 64, 73], [850, 1070, 53, 1527, 8, 434, 801, 798, 449], [320, 128, 1663, 23, 1419, 1122, 2753], [6068, 945, 6069, 1491, 82, 2439, 27, 60, 6070, 27], [111, 49, 1364, 1761, 61, 531, 6071, 6072, 2649, 118, 6073, 6074, 6075, 1377, 1364], [153, 93, 1744, 6076, 6077, 6078, 166, 779, 1251], [1004, 2754, 760, 538, 2137, 501, 1518, 2138, 1188, 569, 832, 1189], [57, 194, 80], [236, 744, 734, 1, 6079, 403, 6080, 570, 2491, 641, 6081], [71, 644, 6082, 6083], [1, 151, 991, 1290, 982, 200], [60, 27, 35, 145, 674, 35, 545, 331, 181, 27, 27], [7, 73, 391, 438, 1, 506, 971, 2614, 1468, 319], [620], [302, 6084, 1085, 6085, 1084, 2069, 121, 1850, 206, 13, 4], [6086, 954, 6087, 6088, 2684, 6089, 6090, 6091, 6092, 6093, 6094, 6095, 6096, 145, 6097, 954, 6098, 2076, 6099, 1772, 6100, 352, 6101, 6102, 866, 6103], [24, 2263, 363, 165, 908, 381, 57, 915, 6104, 67, 165, 908, 381, 433], [1, 14, 83, 306, 150, 1, 874, 789, 414, 1, 6105, 919, 6106, 6107], [190, 716, 565, 224, 6108, 6109, 6110, 1, 82, 366, 7, 2719, 9], [569, 217, 6111, 39, 939, 6112, 6113, 788], [391, 1166, 6114, 690, 108, 1, 6115, 2452, 117, 1, 6116, 1431, 6117], [1279, 328, 1743, 6118, 7], [8, 1780, 16, 480, 6119, 5, 81, 1780, 16, 797, 19, 533], [6120, 6121, 150], [9, 2154, 6122, 6123, 824, 6124, 1971, 6125, 1781, 35, 6126, 2720, 224, 936, 139, 80], [6127, 695, 273, 31, 259, 341, 38, 2514, 2431], [3, 1853, 762, 6128, 1234, 429, 1204, 800, 1782, 6129, 592, 1583, 1204, 376, 119, 610, 382, 1232], [1104, 2755, 2667, 327, 6130, 1, 2501, 2198], [34, 12, 1, 234, 2116, 288, 331, 2756], [6131, 6132, 6133, 475, 447], [57, 109, 6134, 69, 4, 948, 2757, 556, 74, 89, 1875, 6135], [111, 165, 42, 17, 31], [1, 27, 6136, 381, 7, 70, 34, 11, 634, 9, 70, 79, 1, 49, 1783], [340, 6137, 6138], [126, 249, 302, 426, 1657, 6139, 6140, 39, 194, 367, 102, 200, 923], [342, 6141, 6142, 6143, 1124, 2609, 2037], [218, 6144, 94, 2302], [85, 53, 933, 1236, 6145, 53, 1236, 1582], [780, 1368, 106, 2758, 1685, 1726, 584], [6146, 2508, 791, 414, 3, 2666, 361, 2441, 1, 91], [8, 6147, 2, 348, 6148, 63, 53, 10, 142], [26, 313, 572, 612, 14, 44, 491, 2520, 2759, 47, 144, 794, 1806, 2759, 6149], [442, 6150, 41, 611, 1443, 1424, 2760, 2668], [1004, 588, 6151, 6152, 6153], [1388, 1934, 538, 864, 1935, 1936, 793, 732], [1, 318, 323, 15, 88, 6154, 40, 1, 1009, 450, 8, 2761, 125, 11], [1281, 61, 266, 6155, 469], [18, 100, 7, 2762, 183], [357, 2727, 620, 73, 1, 105, 19, 32, 13, 1, 443, 184], [6156, 2763, 1402, 121, 1749, 2763, 6157], [152, 10, 208, 337, 5, 88, 849, 294, 1745], [1205, 83, 1304, 73, 187, 6158, 2574, 1707, 6159, 590, 869], [1174, 23, 1160, 1061, 664, 6160, 248], [6161, 6162, 36, 160, 2507, 1916, 6163], [108, 491], [145, 255], [6164, 247, 1633, 2, 2151, 6165, 247, 6166, 6167, 6168, 6169, 6170, 6171], [1, 15, 6172, 1158, 327, 1718, 21], [1, 49, 2, 41, 729, 178, 6173, 314, 15, 72, 2, 904, 314, 1, 1152], [498, 9, 212, 6174, 793, 6175, 1838, 418, 6176, 795, 1446, 229, 284, 1081, 65], [6177, 642], [6178, 2262, 2561, 1, 435, 2764, 6179, 560, 697, 58, 705, 669, 6180], [1, 10, 200, 6181, 775, 6182, 6183, 4, 1000, 7, 12, 1, 129, 68, 6184, 47, 108, 4, 1000], [90, 334, 72, 2585, 31, 6185, 6186, 339], [2715, 6187, 257, 6188], [1, 6189, 146, 32], [1120, 6190, 2, 1390], [78, 95, 6191, 6192], [268, 722, 1149, 109, 59, 29, 949, 736, 19, 44], [150, 6193, 2765, 631], [103, 392, 2101, 121, 6, 456, 6194, 103], [66, 80, 2255, 11, 1270], [1, 361, 499, 49, 6195, 6196, 1929, 25, 38, 6197, 25, 754, 25, 102], [1352, 797, 391, 2766, 422], [8, 19, 2433, 40, 2407, 117], [494, 2765, 141, 6198, 6199], [1278, 6200, 6201, 714, 2638, 150, 46, 1156, 6202], [24, 14, 818, 576, 21, 6203, 82, 6204, 6205, 1938], [34, 1181, 343, 6206], [1107, 2767, 643, 6207, 64, 1641, 1912, 502, 6208, 758, 170, 471, 1248], [3, 2334, 1767, 6209, 222, 146, 102, 6210, 161, 22, 2554, 122, 139, 74, 459], [792, 2768, 770, 6211, 85, 272, 6212], [1, 211, 789, 5, 1043, 162, 364, 25, 215, 722, 56, 1, 129, 68, 1202], [111, 6213, 70, 122, 2, 2434, 6214, 6215], [605, 1, 92, 346, 6216, 193, 1, 13, 6217, 1, 129, 68, 17, 1635, 961, 6218], [70, 1241, 1708, 332, 1002, 6219, 1224, 760, 41, 141], [6220, 19, 472, 1, 16, 275, 564], [6221, 242, 972, 6222, 759, 242, 972, 6223, 217], [768, 999, 1175], [60, 27, 1, 2769, 98, 55, 11, 2118, 2770, 27, 353, 9, 1, 2275, 1246, 2771, 6224, 244, 484], [302, 6225, 217, 192, 32, 6226, 122, 18, 1629], [1, 240, 1007, 206, 1349, 209, 247, 1097, 1087, 13, 334, 1112], [25, 314, 750, 264, 467, 938, 6227, 2772, 34, 205, 6228, 130, 938, 732, 327, 689], [37, 2, 144, 449, 798], [424, 728, 29, 1178, 161, 971, 6229, 547, 6230], [26, 1, 41, 460, 172, 661, 36, 6231, 2752, 676, 661, 1, 23, 1062, 5, 6232, 6233], [1435, 990], [4, 32, 251, 946], [320, 119, 14, 2586, 6234, 1], [1, 1, 123, 1, 123, 950, 2673, 314], [39, 6235, 6236, 397, 6237, 6238, 5, 2571, 153, 1124, 309, 1517, 70, 1004, 2773], [1784, 377, 894, 1728, 377, 575, 1939, 1040, 331, 101, 2774, 6239], [67, 2699, 3, 2775, 440, 89, 6240, 6241, 75, 2775, 2184, 769, 46], [83, 2776, 157], [1, 231, 6242, 6243, 6244, 2052, 2539, 6245, 1779, 793], [190, 108, 879, 56, 307, 1785, 227, 787, 148, 3, 6246, 6247, 8, 67, 1554, 51, 76, 224, 360, 8], [6248, 6249, 2728, 6250, 6251], [30, 6252, 102, 979, 749, 2729, 132, 123, 6253, 1941, 212, 2299], [36, 143, 11, 444, 729, 205, 2777, 6254], [6255, 119, 119, 27, 829, 6256], [2, 6257], [21, 34, 924, 6258, 785, 55, 811, 1926, 1088, 8, 32, 2331, 1692], [9, 135, 6259, 6260, 2778, 1842, 285, 6261, 800, 1769, 6262], [1, 666, 10, 546, 81, 6263, 1206, 649, 2692, 2779, 2183, 707, 6264, 6265], [123, 703, 6266, 1230, 172, 138, 6267], [111, 281, 64, 484], [178, 612, 2, 6268, 128, 280, 446, 157, 10, 259, 33, 183, 976], [66, 1, 1209, 736, 299, 100, 9], [28, 20, 6269], [2156, 699, 132], [6270, 185, 6271, 9], [152, 1, 6, 2780, 1757, 6272, 47, 2559, 223, 2781, 2782, 1261], [2527, 6273, 8, 714], [52, 388, 6274, 1240, 415, 6, 371, 28, 20, 6275, 28, 20, 6276], [5, 6277, 2701, 397, 638, 1062, 6278, 2, 6279, 6280, 2, 137, 134], [361, 588, 1846, 1700, 509, 9, 108, 1135, 1310, 6281, 205, 1118], [2783, 2784, 6282, 62], [792, 16, 289, 276, 1239, 2297, 563, 21, 415, 1733, 63, 106, 461, 388], [400, 704, 140, 1451, 6283, 46], [1, 261, 91, 379, 1, 1619, 897, 6284, 86, 409], [6285, 1, 215, 1, 72], [4, 478, 183, 1653, 1, 92, 6, 75], [146, 6286], [1, 171, 1, 41, 1215], [1274, 160, 4, 12, 21], [78, 155, 2388, 22, 6287, 1, 41, 212, 1748], [169, 1, 19, 163], [4, 54, 26, 581, 197, 6288, 33, 205, 6289, 51, 1006, 93, 6290], [1, 10, 92, 2070, 184, 63, 1608, 573, 318, 573, 8, 1222, 1654], [6291], [169, 6292, 6293, 6294, 114], [6295, 689, 690, 132], [6296, 2236], [58, 753, 88, 6297, 1683, 2, 1848, 6298, 338, 275, 277, 70, 48, 38, 2002], [252, 68, 17, 16, 6299, 6300, 6301, 1263, 1291, 1186, 2641], [39, 6302, 53, 7, 14, 1133, 57, 631, 2426, 475, 6303], [310, 6304, 794, 278, 128, 1531, 2, 310, 6305, 794, 278, 128, 1678, 2469], [62, 221, 592, 37, 4], [126, 6306, 966, 1043, 6307, 1296, 6308, 915, 2779, 44, 172, 6309], [30, 333, 743, 119, 6310, 1334, 174, 34, 101, 913, 1418, 696, 223, 202, 500, 27, 64, 6311], [2785, 6312, 2785, 6313, 6314, 2538, 6315, 6316, 6317, 235, 1725, 6318, 1864, 739], [355, 668, 1294, 4, 848, 355, 668, 1294, 74, 848, 3, 6319, 1294, 528, 848], [3, 877, 133, 877, 254, 715, 254, 230, 64, 1114, 204, 6320, 6321], [265, 981, 1286], [46], [1, 240, 6322, 6323, 6324], [6325, 460, 6326, 763, 1300, 273, 721, 200, 974, 953, 337, 4], [6327, 147, 1303, 6328, 6329, 6330], [43, 404, 1803, 345, 689, 1431, 1786, 2035], [492, 36], [85, 318, 1, 15, 16, 11, 1, 1154, 6331, 2703, 6332, 1, 105, 7, 42, 6333, 1291, 44, 1177], [485, 166, 281, 204, 419, 1475, 79, 732, 11], [418, 59, 2557, 75, 9, 223, 6334, 6335], [6336, 490, 492, 6337, 11, 30, 6, 214, 1111, 6338, 125, 11], [522, 151, 38, 6339, 2786, 107, 55, 621, 1521, 735, 6340, 1102, 1, 10, 125, 7], [169, 1, 356, 208], [1673, 286, 1068, 6341, 133], [27, 27, 647, 6342, 6343], [935, 354, 11, 2787, 1619, 2048, 25, 221, 203, 2129, 45, 2787, 60, 936, 257], [137, 195, 654, 2788, 6344, 6345, 6346, 327, 1718, 522, 1, 112, 445], [169, 1, 420, 35, 2240, 5, 35, 801, 238, 6347, 891], [46, 646, 6348, 2607, 6349, 171, 1, 41, 1725, 6350, 294], [897, 1721, 2205, 74, 459], [126, 249, 2789, 324, 30, 565, 224, 6351, 923, 2790, 6352, 224], [1512, 82, 165], [3, 354, 956, 649, 2791, 124, 56, 155, 33, 13, 956, 649], [25, 1, 13, 6353, 1347, 6354, 1156, 2710, 1347], [108, 157, 6355, 1059], [1, 49, 441, 231, 1, 1251, 94, 72, 130, 889, 441, 6356], [46, 574, 794, 6357, 1516, 159, 2702], [79, 969, 2583, 6358, 352, 6359, 197, 27, 6360, 307, 855, 987, 62, 202], [1, 13, 262, 6361, 6362, 6363, 6364, 2380, 489, 17], [493, 31, 6365, 21, 1, 15, 488, 6366, 1, 1030], [1602, 5, 286, 591, 780, 85, 153, 88, 512, 1187, 6367], [124, 49, 6368, 983, 641, 6369], [90, 91, 383, 586, 62, 177, 2792], [66, 140, 11, 507, 166, 2793], [69, 1, 2, 6370, 1271, 6371, 6372, 476, 5, 74, 2794, 152, 202], [1, 394, 6373, 6374, 6375, 943, 138, 45, 1787, 126, 38, 15, 10, 979], [1, 598, 462, 122, 2058, 2059, 1801, 16, 134, 1033, 6376, 198, 1, 1661, 87], [8, 37, 6377, 143, 235, 1, 240, 69, 6, 319, 6, 61, 31], [2795, 176, 502, 6378, 2611], [262, 87, 100, 73, 1, 14, 5, 203, 113, 11], [1788, 21, 1788, 21, 1, 419, 937, 1, 512, 92, 6379, 6380, 6381], [43, 2516, 6382, 230, 408], [18, 22, 73], [18, 138, 11], [1, 33, 88, 890, 269, 6383], [6384, 335, 81, 1556, 2773, 730, 198, 6385, 107], [18, 100, 7, 827, 163, 1, 4, 7, 6386], [26, 1365, 2188, 6387, 2119, 6388, 411, 896, 33, 494], [453, 6389, 162, 578, 441, 893, 6390, 723, 1, 2721, 2718], [1525, 177, 167, 19, 5], [6391, 1, 1751, 390, 6392, 2683, 1573, 34, 12, 1, 98, 6393], [19, 6394, 6395, 314], [205, 1072, 1545, 84, 19, 56], [6396, 81, 1482, 1114, 6397, 2619, 35, 292, 17, 72, 35, 257], [24, 13, 37, 642, 287, 309, 120, 490, 874, 417, 1584, 157, 6398, 206, 2796], [6399], [6400, 6401, 555, 6402, 6403, 1697, 647], [6404, 151, 122, 139, 69, 21, 82, 201, 439, 1306], [186, 274, 1, 402, 1190, 21], [1930, 2, 2694, 1147, 2733, 38, 61, 17, 465, 9], [51, 146, 630, 948, 88, 144, 347, 342, 1265, 359, 656], [1777, 248, 213, 1624, 539, 6405, 6406, 733, 915, 6407, 66, 177, 331, 611, 1158], [43, 31, 1694, 1125, 968, 164, 1694, 2797, 1199, 1, 60, 5, 104, 181, 1, 6408], [111, 6, 686, 1715, 6409, 23, 625, 6410, 504, 51, 903, 47, 134], [173, 5, 23, 115, 1301, 2, 1958, 451, 1126, 239], [131, 310, 2737, 1227, 744, 6411, 989, 813, 6412, 1, 23, 828, 989, 121, 813, 104, 319], [557, 2798, 2295, 44], [24, 6, 296, 112], [6413, 6414, 6415, 1765, 1143, 6416, 6417, 6418], [137, 1289, 29, 6419, 438, 431, 1673, 12], [1, 41, 16, 835, 858, 2568, 6420, 6421, 101, 2372, 1016, 1760], [95, 351, 1061, 21, 1650], [496, 718, 117, 1158], [1541, 1448, 2799, 403, 6422, 2413, 6423, 28, 20, 6424], [25, 167, 1584, 7, 1, 14, 153], [1, 129, 68, 607, 18, 100, 1, 1661, 272, 133, 1593, 2, 295, 6425, 180, 87, 210, 196, 127], [3, 306, 550, 95, 4, 34, 1383], [321, 1, 639, 1139, 679, 1, 447, 9, 15, 2, 979], [1, 23, 1, 42, 338, 6426], [39, 6427, 63, 6428], [541, 887, 85, 155, 47, 6429, 323, 911, 762, 1349, 8, 99, 1008, 319], [18, 121, 6430, 1004, 360, 24, 2800], [51, 559, 21, 913, 92, 1180, 229], [1789, 1764, 6431, 1754, 1611, 71, 13], [6432, 6433, 35, 2144, 1308, 847, 6434, 633, 6435, 28, 20, 6436], [36, 6437, 1, 42, 58, 2, 2801, 6438, 187, 6439, 6440, 1524], [131, 265, 181, 328, 773, 983, 101, 583, 66, 143, 343, 524], [1477, 2249, 6441, 84, 18, 445, 24, 107, 6442, 158, 5, 613], [2726, 264, 16, 285, 2384, 325, 378, 21, 420, 24, 213, 378, 1174, 79, 2766], [84, 182, 526, 411, 6443], [507, 1283, 1, 6444, 6, 65, 276, 33, 16, 2802, 1309, 1462], [10, 1106, 6445, 1530, 8, 1106, 2354, 2795, 580, 310, 149, 849, 149], [25, 221, 364, 1348, 413], [8, 121, 495, 6446, 436, 158, 61, 6447, 194], [6448, 22, 660, 671, 6449, 671, 6450, 6451, 568, 1607, 6452, 6453, 1682, 1911, 948, 505], [214, 6454, 539, 787, 305, 6455, 11], [30, 2803, 382, 1005, 85, 566, 1603, 655, 583, 6456, 6457, 1314], [43, 2804, 793, 262], [30, 639, 6458, 6459, 1203, 1293, 825, 6460, 1083, 1273], [71, 13, 6461, 6462, 6463], [78, 163, 24, 112, 6464, 6465, 191, 6466, 21, 1650, 16], [235, 40, 1601, 6467, 208, 427, 40, 1601, 2731], [804, 678, 111, 931, 6468, 6469, 284, 2245, 2805, 6, 6470, 1353], [116, 388, 6471, 2201, 1618, 278, 1302, 324, 348, 2806, 2777], [6472, 77, 28, 20, 6473], [3, 56, 1, 2328, 376, 168, 992, 157, 568, 6474], [218, 24, 1299, 1047, 6475, 6476, 1003, 998, 325, 381, 192, 480, 2807], [6477, 50, 23, 6478, 603, 6479, 61, 60, 119], [7, 1268, 22, 73, 6, 280, 1790, 792, 82, 2296], [6480, 1569, 1259, 65, 1791, 11, 531, 132], [337, 6481, 72, 2362, 6482, 6483, 6484, 6485, 86, 109], [18, 100, 6486, 6487], [67, 153, 6488, 6489, 55, 109, 394, 554, 1, 124, 318, 1, 408], [19, 841, 439, 4, 11], [118, 132, 88, 637, 407, 1243, 6490], [52, 1303, 6491, 6492, 6493, 1303, 6494, 2640, 1146, 6495, 6496, 6497, 147, 1727, 1162, 6498], [115, 99, 142, 6499, 50, 2, 116, 167, 5, 6500, 6501, 390, 324, 7, 6502], [2808, 2663, 393, 287, 304, 6503, 2457, 2708, 393, 973, 126, 6504], [364, 104, 6505, 736, 31, 6506, 13, 6507, 396, 20, 6508], [52, 2548, 6509, 18, 823, 6510, 73, 6511], [779, 6512, 734, 6513, 230, 482, 6514, 1551], [43, 1489, 1, 1163, 664, 6515, 6516, 796], [905, 215], [1887, 765, 2809, 6517, 46, 2757, 6518, 253, 2335], [46, 1, 82, 7, 1181, 1, 125, 6519, 1298, 697, 6520], [1161, 1761, 2, 1161, 1161, 1298, 2392, 1540, 1741, 648, 6521], [6522, 6523, 6524, 951, 978, 2810, 1255, 153, 6525, 6526, 571, 6527, 6528, 819, 2810, 2811, 28, 20, 6529], [92, 63, 6530, 400, 6531, 57, 244], [188, 1781, 2811, 2, 106, 6532], [66, 1970, 638], [57, 91, 2025], [1, 514, 5, 582, 283, 1032, 663, 330, 198, 6533, 156, 1781, 14, 115, 582], [295, 771, 81, 272, 402, 44, 1628, 324], [1, 530, 69, 465, 6534, 877, 1, 389, 237, 1830, 388, 12, 1, 609, 1279], [57, 7, 214, 1018, 9, 2780, 1757, 7, 540, 6535], [444, 77, 6536, 304, 110, 6537, 18, 2535, 349], [6538, 6539, 2064, 839, 27, 145, 2812, 256, 132], [1, 6540, 331, 6541, 1, 318, 782, 1698, 1740, 1, 2, 211, 53, 251], [1173, 32, 6542, 102, 238, 759, 770, 363, 58, 29, 745], [493, 1, 2373, 2506, 562, 6543, 1, 240], [24, 903, 1991, 825, 1011, 6544, 770, 6545, 6546], [1, 1783, 606, 298], [290, 1, 29, 16, 6547, 273, 110], [30, 14, 2022], [1, 705, 747, 2813, 2186, 747, 2813, 2381, 2814, 6548], [26, 673, 21, 109, 122, 299, 1143, 60, 236, 221, 6549, 31, 294, 80, 6550], [94, 1423, 293, 98], [534, 2808, 1230, 164, 758, 464, 70, 329, 240, 1766, 1273, 363, 6551, 993, 27, 27], [916, 101, 21, 80, 280, 12, 804, 678, 16, 6552, 870], [88, 6553, 161, 1078, 225, 90, 1, 10], [485, 1571, 998, 21, 881, 769, 937, 138, 96, 517, 175], [269, 32, 6554, 40, 2664, 38, 88], [3, 1175, 56, 349, 2815, 2816, 2817, 2815, 2816, 201, 6555], [418, 6556, 116, 100, 2818, 104, 58, 713], [19, 11, 27, 2386, 966, 151, 1139, 6557, 803], [94, 603, 262, 611, 61, 6558, 4, 1592, 540, 6559, 2819, 6560, 6561], [120, 1, 2231, 66, 140, 473], [1, 173, 2820, 6562, 132, 6563, 710, 71], [3, 6564, 6565, 72, 182, 64, 64, 1131], [2821, 6566, 488, 6567, 2556, 393, 6568, 6569, 38, 2170, 1, 136, 393, 1225, 2274], [57, 308, 2746, 414, 259], [6570, 612, 2, 285, 2203, 155, 1, 334], [707, 2822, 162, 97, 6571, 291, 6572], [6573, 1651, 6574, 70, 430, 1345], [453, 2796, 1900], [8, 947, 11, 1321], [206, 27, 2768, 6575, 1280, 656, 43, 40, 335, 6576, 1, 37, 2, 2218], [111, 2419, 1572, 626, 2, 311, 712, 40], [193, 1, 6577, 989, 6578, 155, 519, 98, 2], [42, 213, 899, 2823, 6579, 152, 1, 107, 856, 122, 2, 6580], [3, 2313, 161, 1948, 6581, 2575, 283, 1111, 1165, 308, 56, 241], [111, 6582, 6583, 6584, 6585, 1, 6586, 6587, 6588, 968, 6589, 2824], [148, 1613, 291, 2681, 6590, 56, 1, 444, 1035, 6591], [785, 6592, 1568, 1332, 6593, 6594, 765, 2487, 1331, 121, 2658, 2713, 30, 1128], [131, 926, 2825, 144, 155, 406, 1, 23], [169, 131, 313, 55, 145, 2674, 63, 177, 66, 6595], [1091, 410, 6596, 210, 6597, 702, 5, 2316, 6598, 6599, 126, 570, 6600, 413, 6601], [654, 199, 1735, 1, 519, 385, 21], [1, 62, 59, 44, 125, 11, 2221, 366, 204, 6602, 1823, 6603], [321, 1, 435, 1210, 1, 270, 27, 89, 501, 1, 6604, 344, 686, 6605, 1645], [1, 6606, 38, 1, 84, 472, 15, 668, 413, 77, 1494, 17, 446, 198, 6607, 303, 524], [6608, 374, 2790, 6609], [126, 13, 1, 2, 22, 2826, 2827, 1832, 657, 38, 77, 1096, 976, 6610], [14, 75, 27, 110, 1500, 1426, 1328, 86, 110, 162, 45, 1502, 64, 910, 202], [6611, 139, 102, 183, 1078, 5, 1947], [2828, 214, 1289, 7, 388, 126, 17, 958], [1320, 1, 2550, 1, 29, 117, 12], [2412, 6612, 407, 1243, 543, 6613], [6614, 1752, 1910, 6615, 6616, 493, 4, 470], [8, 1214, 423, 288, 6617, 1293, 611, 708, 2366], [26, 6618, 6619, 6620, 2647, 1304, 6621, 1486, 15, 315, 143, 1672, 19, 2315], [24, 2829, 4, 90, 434, 6622, 149, 1186, 40, 6623, 6624], [126, 249, 426, 3, 6625, 1183, 1726, 584, 838, 2830, 255, 1304], [161, 2162, 16, 86, 73, 46, 19, 50, 574], [64, 628], [320, 128, 1663, 23, 1419, 1122, 2753], [6626, 373, 54, 532, 764, 1, 29, 1049, 1, 2831, 32, 1, 6627, 2573], [1, 92, 6628, 550, 229, 534], [3, 6629, 1393, 6630, 258, 590, 467, 202], [6631, 1247, 53, 375, 2832, 6632, 375, 2832, 2833, 2833], [1, 10, 624, 1507, 739, 279, 1], [297, 2783, 416, 71, 2707, 6633], [94, 1538, 6, 1425, 480, 293, 247, 6634, 6635, 21, 181, 74, 37, 37, 74], [25, 5, 195, 527, 128, 210, 559, 6636, 53, 6637, 1060, 6638, 31], [47, 6639, 141, 1414, 76, 6640], [525, 215, 331, 1016, 797], [114, 2356, 4, 2834, 2385, 1, 341], [809, 41, 322, 528, 373, 470], [1, 173, 953, 1412], [1, 173, 184, 47, 13], [2, 1, 6641, 31, 1, 834], [], [62, 357, 246, 145, 189, 1085, 9], [1, 124, 286, 6642, 236], [43, 323, 99, 14, 6643], [193, 183, 57, 2425, 7, 32, 73, 441, 2, 1305, 51, 2818, 1104, 1305], [316], [2776, 1427, 6644, 1, 37, 1139, 163, 17, 224], [1, 261, 399, 634, 2117, 390, 402, 69, 6645, 1539, 6646, 150, 132], [97, 1137, 5, 16, 2835, 1, 975, 6647, 6648, 236, 1, 23, 1, 37, 233, 6649, 127, 1, 13], [25, 439, 175, 65, 501, 6650, 225, 44, 48, 61, 1271, 6651], [111, 142, 559, 2478, 796, 1, 503, 576, 244, 104, 181, 1665, 6652, 6653, 2028, 60, 35], [3, 1, 443, 2163, 39, 194, 2, 57, 253, 2530], [8, 244, 614, 2836, 38, 8, 104, 1393, 2836, 38, 1687, 569, 2488], [1141, 4, 95, 6654], [86, 426, 672, 378, 6655, 836, 1385, 387], [2742, 219, 59, 43, 6656, 195, 6657, 734], [6658, 6659, 463, 539, 6660, 1094, 1172, 29, 1496, 684, 1, 240, 660, 924, 6661], [320, 2225, 6662, 95, 158, 279, 6663, 1566, 1567], [161, 2646, 552, 62, 6664, 1310, 552, 2686, 659, 6665], [90, 19, 787, 6666, 658, 1274, 1780, 1605, 724, 606], [1, 15, 881, 786, 443, 1097, 552, 1560, 378, 180], [92, 6667, 360, 557, 6668], [30, 231, 1629, 2764, 431, 6669, 197, 371, 17, 742, 119], [8, 6670, 82, 179, 780, 82, 6671, 167, 5, 6672], [146, 165, 783, 459, 113], [6673], [1382, 151, 1217, 329, 45, 136, 1217, 1220, 181], [295, 256, 2820, 513, 2599, 99, 6674, 1248, 724, 2171, 2798, 6675], [6676, 6677, 119, 396, 20, 6678], [1397, 63, 862, 176, 385, 6679, 627, 1129, 62, 1046, 761, 486, 1755, 4, 48, 619, 6680], [3, 1005, 2644, 6681, 584, 299, 6682, 311, 1863, 6683], [2086, 964, 297, 1256, 2598, 137, 134, 964, 4, 56, 1723, 6684, 318], [2837, 6685, 6686, 2355, 6687, 6688, 6689, 1752, 6690, 28, 20, 6691], [1, 171, 1, 6692], [25, 271, 36, 163, 384, 2838, 6693, 6694, 1776, 6695, 6696, 6697], [475, 6698, 400, 6699, 297, 452, 2839, 1050, 475, 245, 186, 347, 12, 494, 287, 437, 2839, 1423, 208], [111, 6700, 6701, 2197, 34, 12, 49, 2, 330, 254, 198, 2, 6702], [6703, 242, 6704, 1727, 454, 6705, 1029, 6706, 1712, 6707, 2799, 403, 2244, 6708, 1772, 543, 6709, 454, 6710, 403, 524, 6711], [1, 23, 187, 1237, 6712, 6713, 178, 6714, 1, 514, 113, 6715, 6716, 1572], [1807, 6717, 6718], [1987, 5, 2438, 1138, 212, 6719, 1176, 6720, 617, 6721, 428, 1579, 1195], [190, 29, 6722, 220, 2500, 1302, 1594, 220, 1550, 296, 1133], [249, 1237, 1, 23, 2762, 1709, 6723, 31], [57, 886, 2794, 164, 344, 24, 286], [6724, 955, 2829, 280, 955, 5, 942, 2771], [80], [1789, 6725, 224, 1729, 7, 22, 404, 1261, 12, 267], [240, 1, 17, 77, 6726, 1268], [3, 965, 139], [111, 1, 184, 625, 1496, 2109, 200, 2827, 6727, 275, 1, 33, 494], [365, 812, 158, 871], [1, 14, 799], [132, 142, 1503, 56, 322, 707, 6728], [1, 530, 6729, 6730, 323, 441, 1259, 1, 669, 170, 7, 6731, 1775], [8, 212, 82, 27, 168, 82, 6732, 666, 60, 6733, 434, 8, 6734], [57, 12, 6735, 6, 1141, 273], [448, 2603, 6736, 6737, 6738, 728, 132], [1606, 617, 1130, 112, 370, 6739, 632, 115, 1, 104, 1675, 407, 1891], [392, 6740, 1701, 442, 159, 2822, 608, 281, 2, 268, 1748, 305, 2446], [6741, 6742, 6743, 6744, 2840, 546], [1301, 38, 31], [6745, 213, 754, 6746, 229, 508], [546, 1, 42, 231, 306], [115, 2, 6747, 192, 929, 516, 1983, 738, 2648, 1, 44, 6748, 6749], [130, 90, 102, 484, 44], [35, 2040, 538, 63, 426, 803], [1, 13, 1193, 49, 2107, 6750, 500, 2453, 6751, 7, 41, 6752, 6753], [26, 14, 537, 529, 1201, 184, 162, 6754, 1371, 1337], [114, 22, 1737, 568, 61, 86, 6755, 175, 1266, 1136, 2266, 7], [25, 1, 6756, 98, 424, 115, 267, 411, 97, 146, 274, 170, 6757, 1105, 2043], [6758, 6759, 978, 526, 2567], [431, 2744, 1744, 2635, 511, 2492, 6760, 6761], [35, 6762, 579, 1700, 74], [125, 479, 6763, 783, 154, 944, 40], [6764, 83, 6765, 1, 121, 537, 7, 172, 1151, 93, 277, 966, 6766, 2414, 6767], [26, 494, 141, 141, 1, 33, 723, 62, 6768], [660, 473, 2, 1721], [126, 10, 6, 607, 659, 328, 464, 1547, 2835, 261, 6769], [1, 542, 5, 616, 6770], [155, 15, 253, 12, 83, 1, 14, 171, 18, 100, 660, 1660], [913, 75, 423, 6771], [980, 410, 859, 2346, 584, 2760, 980, 1740, 34, 2041, 6772, 285, 410], [651, 13, 15, 177, 26, 47, 6773, 6774, 6775, 27, 1, 15, 1597, 18, 1, 15, 35], [2660, 26, 2841, 6776, 2819, 1959, 2841, 791, 311, 1787, 1787, 2537], [1681, 39, 6777, 644, 6778, 2842, 802, 2110, 963, 1262, 6779, 234, 1785, 737, 2066], [527], [6780, 286, 1647, 6781, 658, 2830, 1229, 6782, 26, 56, 1, 1570, 9, 1, 2258, 387], [42, 211, 6783, 160, 1679, 446, 155, 2748, 56, 42, 234], [43, 1747, 70, 82, 6784, 384, 89, 2513, 38, 794, 978, 526, 1770], [6785, 232, 270, 6786], [6787, 1758, 206], [6788, 2036, 6789, 1224, 6790, 6791, 1484, 374, 6792, 6793, 1989, 6794], [1634, 4, 194, 1771, 2071], [6795, 42, 582, 23, 316, 47, 6, 6796, 28, 20, 6797], [103, 85, 29], [1945, 1391, 92, 1982, 437, 349, 873, 1264, 138, 104, 181, 306, 107], [1267, 1211, 112, 45, 196, 6798, 6799], [713, 714], [6800, 1, 10, 2840, 459, 1, 173, 6801, 6802], [1, 98, 163, 1, 281, 220, 241, 6803, 1, 6804, 6805, 672, 347, 6806], [108, 7, 42, 229, 12], [1, 2273, 456, 6807], [99, 244, 1775, 294, 6808, 6809, 489], [19, 16, 949, 461, 268, 271, 80, 2301], [1141, 250, 452, 7, 6810, 9, 1, 41, 423, 593, 59], [269, 318, 765, 2429, 1753, 1753, 66], [18, 100, 7, 3, 550, 515, 4, 7, 6811], [8, 424, 198, 12, 73, 1, 6, 4, 983, 2470, 2676, 4, 89], [1, 171, 619, 239, 1791, 293], [152, 13, 868, 6812, 70, 6813, 209, 37, 6814, 1309, 2821, 42], [169, 613, 1450, 6815], [394, 11, 6816, 130, 1, 49, 2, 1, 122, 71, 400, 311, 11], [6817, 6818, 1433, 2843, 10, 66, 6819, 1189, 6820], [6821, 27, 257, 1565, 6822, 6823, 192, 2023, 192, 579, 6824, 1759, 2512, 6825, 775, 217], [78, 6826, 163, 2801, 217, 192, 6827, 31, 467, 365, 489, 258, 265], [341, 6828], [3, 6829, 6830], [104, 914, 597, 537], [857, 1216, 977, 2834, 6831, 376, 35, 145], [170, 33, 6832, 123, 123, 2844, 1232, 8, 392, 116, 6833], [3, 303, 577, 88, 12, 516, 907, 985, 50, 233, 2755, 7], [1, 514, 137, 428, 6834, 407, 1973, 76, 6835, 2379, 21], [466, 6, 6836, 21], [6837], [1785, 664, 6838, 6839], [3, 1732, 6840, 6841, 153, 590, 869], [137, 151, 64, 736, 1, 2, 1218], [1196, 718, 6842, 739, 197, 6843, 6844, 1636, 547, 6845, 6846, 1, 2445, 1, 1, 14], [169, 579, 612, 2, 2587, 6847, 175, 784], [510, 113, 6848, 113, 1600], [94, 1, 155, 425, 167, 255, 6849, 14, 786, 806, 241, 806, 6850, 806, 6851], [9, 6852, 840, 1079, 2685, 6853, 6854, 1, 259, 359, 7, 82, 157], [79, 194, 774, 61, 48, 2621, 700], [19, 841, 46, 175, 1677, 1297, 59, 1739, 50, 576, 16, 6855, 1792], [1287, 1001, 2489, 6856, 306, 1642, 6857, 93, 6858, 36, 729, 1642], [22, 1367, 2318, 8, 131, 705, 6859, 6860, 1311, 8, 2845, 6861, 1784, 22, 1367, 6862], [30, 6863, 6864, 249, 6865, 138, 6866, 2462, 963, 6867, 34, 1542], [1116, 6868, 1759, 424, 11, 604, 30, 296, 6869, 1370, 1074, 238, 9], [771, 80, 677, 335, 6870, 513, 291, 99, 252, 68, 62, 16], [1, 171, 6871, 6872, 6873], [1, 71, 15, 1, 6874, 6875, 2774, 2326, 1, 2754, 663], [698, 1, 96, 341, 6876, 6877, 54], [488, 479, 37, 4, 401, 81, 7, 308, 6878, 6879, 2639, 209, 259, 19, 6880, 6881], [999, 1145, 22, 222, 2, 1290, 6882, 2846], [118, 1, 17, 59, 2828, 11, 1115, 1, 14, 6883, 6884, 2276], [1, 105, 137, 902, 654, 38, 1], [1, 359, 6885, 6886, 91], [120, 3, 752, 124, 326, 1069, 405, 221], [64, 6887, 48, 587, 1189, 832, 303, 62], [326, 1, 619], [405, 6888, 10, 1695, 1497, 6889, 1174, 2577, 1537, 653], [115, 61, 548, 883, 183, 1171, 11, 1766, 229, 6890], [360, 334, 1, 37, 105, 1351, 5, 58, 1275, 15, 76, 1723], [1071, 421, 711, 1549, 436, 6891], [1, 379, 109, 265], [], [6892, 2196], [1666, 1793, 6893, 6894, 122, 219, 193, 1, 408, 704, 172, 1, 65, 315], [130, 3, 1117, 227, 22, 6895, 243, 1690, 1469, 28, 20, 6896], [64, 2756, 347, 175], [1632, 1, 31], [149, 140, 6897, 6898, 6899, 643, 2847, 6900, 281, 63, 461, 6901, 31], [67, 892, 6902, 6903, 1469, 1111, 1995, 2665, 1994], [4, 6904, 21], [1, 76, 1719, 198, 21, 1, 23, 1560, 36, 655, 975, 1091], [225, 982, 6905, 139, 150, 140], [1, 2831, 55, 32, 1, 1452, 2264, 1452, 5, 6906, 1880, 120, 1007], [28, 20, 6907], [46, 2691, 59, 225, 1, 7, 2735, 2677, 2494], [1, 41, 945, 1736, 6908, 6909, 1, 41, 338, 1263, 6910, 6911, 6912, 452, 6913, 43, 6914], [6915, 6916, 559, 745], [190, 1030, 154, 684, 6917, 6918, 212, 6919, 6920], [1132, 1551, 2743, 47, 1, 570, 6921, 731, 726], [1, 542, 1195, 570, 1288, 2812, 224, 294, 1, 95, 6922], [466, 1, 2558], [6, 1735, 1992, 66, 267, 1480], [6923, 390, 1088, 931, 796, 1519, 6924, 6925, 6926, 1074, 438, 527, 6927, 6928, 2578, 138, 6929, 6930], [2580, 1483, 872, 121, 6931, 414, 2848, 491, 48, 491, 6932, 256, 6933, 303, 6934], [57, 22, 633, 337, 31], [3, 688, 540, 2645, 109, 99, 9, 49, 2, 724, 1791, 2784, 71], [455, 557, 455, 310, 236, 6935, 328, 600], [857, 16, 6, 6936, 520, 1075], [2849, 6937, 577, 1021, 6938, 826, 96, 400, 6939, 578, 2579, 376, 2220], [6940, 28, 20, 6941], [337, 1, 213, 6942, 1, 705], [3, 2592, 974, 6943, 70, 6944, 6945, 2824, 6946, 547], [26, 632, 577, 1707, 547, 136, 2789], [1, 74, 581, 116, 1103, 1, 13, 5, 96, 301, 9, 1, 61], [960, 414, 21, 99, 252, 68, 554], [1, 14, 7, 6947, 124, 1, 1585, 1113, 667, 7, 6948, 6949, 1, 6, 6950, 6951, 7], [888, 6952, 6953, 625, 203, 2130, 1745], [6954, 1515, 2589, 394, 9, 26, 1, 1292, 2688, 200, 6955, 1, 1132, 106, 197, 89, 2633, 305, 838], [1, 2543, 6956, 1, 2846, 1, 41, 312, 1, 2670, 1, 2606], [1, 1313, 105, 141, 5, 673, 450, 1011, 451, 807, 808], [43, 412, 1231, 6957, 9, 1675, 40, 1686, 6958, 613, 6959], [8, 2826, 26, 13, 47, 76, 997, 2825, 6960, 544, 788], [1009, 577, 145, 60, 60, 1432, 280, 2570, 46, 6961, 23, 153, 6962, 1325], [354, 148, 86, 255, 292, 6963, 1782, 6964, 6965, 107, 2678, 214, 650, 2778, 350, 2781, 2782], [768, 53, 523, 238, 496, 71], [188, 1, 795, 6966, 6967, 342, 1530, 193, 1535], [1439, 171, 1, 41, 6, 6968, 6, 1790, 250, 177, 1488, 1, 14, 1790, 98, 31], [323, 762, 1475, 409], [52, 6969, 28, 20, 6970], [18, 6971, 50, 357, 45, 1276, 6972, 79, 106, 1769, 898], [190, 1602, 2850, 1922, 41, 82, 6973, 1255, 6974, 6975, 6976, 346, 119], [462, 22, 720, 21, 8, 199, 6977, 362, 6978, 2805, 1789, 75, 629], [3, 735, 1082, 1, 91, 684, 1401, 1295, 106, 9, 6979], [6980, 387, 6981, 2216, 1, 107, 239, 201, 1514, 86, 101, 583, 35], [379, 14, 17, 59, 959], [4, 54, 18, 1240, 137, 2089, 56], [1, 2460, 323, 1711, 450, 1306, 6982, 1899, 2851, 2851, 1148, 7, 1681], [233, 2705], [743, 6983, 6984, 2842, 512], [3, 36, 1102, 47, 41, 42, 681, 65, 772, 556, 2251, 2653, 77, 1129], [17, 113], [480, 2724, 6985, 6986, 6987, 495, 6988, 1230, 1843, 1263, 6989, 724, 1413, 6990, 28, 20, 6991], [1008, 1008, 1008], [3, 1058, 822, 1006, 6992, 2397, 1771, 6993, 6994, 421, 5, 6995, 822, 62, 276, 55], [314, 6996, 2525, 756, 12, 9, 2146, 195, 205, 1301, 64, 472, 2332, 6997, 246], [43, 201, 6998], [1007, 128, 114, 1237, 6999, 470, 2800, 7000, 1123], [1, 14, 1273, 205, 1001, 628, 987, 71, 359, 34, 73, 1546], [1, 637, 7001, 1668, 7002, 7003, 2459, 7004, 388, 7005], [7006, 259, 55, 110, 1, 452, 4, 7007, 284, 7008, 110], [571, 7009, 27], [39, 7010, 1874], [37, 7011, 7012, 148, 2852, 219, 7013, 2484, 869, 26, 7014], [1, 180, 621, 2476, 7015, 531, 7016, 1041, 432, 797, 1, 7017, 133], [982, 1136, 7018, 233, 104, 7019, 799, 7, 422, 1, 10, 38], [1, 14, 207, 225, 161, 3, 225, 460, 1778, 7020], [169, 752, 58, 75], [25, 2722, 1289, 622, 37, 616, 7021, 7022, 7023, 7024, 64, 203], [7025, 7026, 2200, 54, 107, 7027, 549, 7028, 7029], [189, 254, 2849, 234, 892, 1017, 328, 12, 389], [52, 7030, 1712, 7031, 28, 20, 7032], [93, 73, 1, 248, 341, 818, 578], [121, 747, 7033, 675, 7034, 477, 7035, 1192, 1499, 99, 49, 674, 142], [190, 2809, 911, 7036, 7037, 7038], [984, 7039, 58, 2], [412, 62, 1131, 7040, 1, 143, 88, 399], [2853, 7041, 816, 304, 189, 369, 2853, 130, 7042, 1218, 204, 1392, 7043, 1464], [3, 7044, 69, 40, 962, 1077, 122, 2, 98, 7045, 7046], [18, 100], [7047, 175, 194, 958, 28, 20, 7048], [39, 188, 1218, 1160, 845, 7049, 2680, 775, 1, 136, 105, 1239, 7050, 2671, 7051, 7052, 7053], [22, 1552, 1276, 1312, 1763], [120, 1, 171], [46, 1267, 167, 880, 84, 356, 7054, 117, 2802, 7055, 1734, 7056], [9, 1, 36, 998, 42, 778, 27, 583, 1758, 238, 7057, 326, 62, 59, 940, 171, 1, 59, 16], [186, 1194, 7058, 17, 957, 880, 7059, 38, 7060], [52, 7061, 28, 20, 7062], [662, 1, 33, 163, 1, 84, 481], [7063, 2793, 380, 1268, 335, 1235, 1200, 179, 803, 623], [7064, 2291, 153, 7065], [3, 735, 1305, 7066, 1, 9, 1307, 7067], [192], [405, 221, 1, 105, 1, 75, 7068, 9], [1193, 1783, 7069, 1671, 709, 37, 791, 852, 5, 3, 712, 325, 1089, 1828], [151, 30, 58, 295, 7070, 7071, 854, 258, 1630, 832, 1276, 2353], [108, 1, 14, 443, 2018, 7072, 1449, 1, 252, 68, 184, 127, 1, 494, 496, 7073], [575, 1, 58, 22, 7074, 189, 1599, 1, 6, 60, 27, 1786, 59, 27, 35, 1786, 381, 7075, 491, 2209, 71, 134], [19, 48, 5, 13, 179, 481], [1, 84, 10, 148, 2852, 7076, 10, 7077, 177, 710], [1193, 1, 2736, 212, 1258, 1639, 53, 1762, 1, 359, 104, 785], [1, 25, 14, 143, 22, 659, 31, 1, 23, 1, 33, 44, 166, 34], [1, 249, 609], [840, 1194, 7078, 854, 576, 1094, 1357, 7079, 201, 1296], [18, 22, 73, 137], [218, 62, 325, 381, 6, 50, 1003, 998, 371, 423, 480, 2807], [30, 1264, 3, 10, 30, 23, 30, 492], [2311, 16, 7080, 927, 7081, 11, 1670, 670, 7082, 2191, 1033, 2844, 208], [7083, 648, 2854, 7084, 1, 435, 156, 55, 32, 575, 1372, 2349, 2854, 7085, 7086], [1, 664, 22, 675, 814, 1399, 823, 2700, 7087, 7088, 288, 1, 224], [1, 15, 941, 75, 106, 189, 1202], [682, 168, 237, 1, 14, 1310, 39, 73, 237, 1, 2293, 130, 1, 151, 2582, 148, 7089, 168], [9, 1, 639, 114, 83, 2260, 427, 1, 29, 17, 333, 1793, 1793], [6, 7090, 482, 862, 7091, 138, 637, 7092, 256, 9, 93, 27, 145, 21, 7093, 1257, 2338, 79], [31, 53, 2804, 7094], [131, 71, 37, 818, 213, 180], [7, 56, 1, 10, 821, 177, 216, 1, 6, 5, 1, 44, 2524, 2534, 24, 80], [169, 1138, 7095, 144, 774, 1, 29, 35, 5, 826, 7096, 7097], [18, 138, 11, 1426, 839, 532, 7098, 7099], [71, 7100, 208, 481], [79, 174, 1, 420, 7101, 25, 1429, 174, 7102], [567, 7103, 7104, 788, 7105, 1498, 1455, 1645, 7106, 7107, 7108, 7109, 7110, 7111, 7112], [226, 50, 7113, 10], [936, 572, 7114, 529, 287, 2750, 287, 2749, 186, 16, 234], [274, 63, 523, 1163, 51, 84, 113, 7115], [55, 12, 7116, 7117, 394, 230, 75, 63, 501, 138, 1009, 2675, 2011, 75, 7118, 495], [24, 252, 68, 702, 212, 7119, 7120, 7121, 1114, 1652, 458, 957, 2711, 934], [7122, 630, 922], [7123, 7124, 503, 179, 101, 185, 7125, 1, 23, 980, 730, 2169], [30, 10, 196, 192, 19, 5, 2838, 7126, 1270, 7127], [7128, 7129, 7130, 373, 1649, 1774, 113], [207, 7131, 21, 91], [7132, 7133, 967, 7134, 178, 177], [228, 158, 10, 176, 385, 7135, 374, 130, 7, 1181, 1505, 7136, 174, 32], [9, 607, 7137, 7138, 7139, 322, 60, 7140, 7141, 7142], [3, 7143, 7144, 811, 2369, 42, 1750, 170, 1, 616, 38], [36, 1788, 42], [2770, 1090, 7145, 1625, 350, 1919, 2689, 2761, 7146, 627, 1637, 7147, 1478, 7148], [1149, 9, 2360, 2428, 7149, 2, 1007, 734, 737, 130, 253], [27, 5, 1773, 27, 5, 2519, 2569, 1751, 28, 20, 7150], [40, 2521, 125, 687, 149, 834, 248, 481, 7151, 912, 1, 31, 5], [218, 75], [964, 22, 314, 316], [930, 1794], [25, 2734, 21, 1, 17, 312, 1, 29, 741, 7152, 79, 1, 6, 37, 373], [209, 1, 1152, 417, 316, 7153, 7154, 7155, 7156, 38, 2017, 358, 7157], [1, 7158, 22, 480, 847, 28, 20, 7159], [240, 1470, 199, 269, 92, 883, 1355, 7160, 7161, 14, 330, 981], [7162], [297, 499, 41, 2612, 7163, 7164, 61], [81, 1, 1573, 2786, 1055, 7, 36, 1329, 443, 2147], [226, 116, 96, 2463, 459, 1075], [354, 26, 6, 7165, 682, 238, 75, 6, 191, 22, 7166, 370], [19, 16, 2817, 7167], [2855, 2856, 2855, 2856, 118, 180, 396, 20, 7168, 1, 15, 10, 8, 278, 7169, 1836], [1307, 773, 7170, 7171, 676, 50, 930, 2268, 210, 94], [30, 2629, 1343, 2823, 7172, 3, 7173, 589, 678, 159, 140, 339, 7174, 7175], [522, 23, 1, 1792, 353, 2758, 298, 7176, 1, 58, 27, 361, 1794], [152, 113, 9, 2769, 113], [28, 20, 7177, 22, 7178, 7179, 1121, 84, 2, 7180, 28, 20, 7181], [7182, 7183, 1113, 648, 217, 7184, 7185, 573, 31], [2772, 1359], [59, 421, 2503, 704, 916, 1180, 363, 176, 385, 82, 2730, 21, 63, 189, 1768], [1, 173, 7186, 391, 1, 13, 5, 697, 1, 173, 185, 621, 300], [1280, 69, 592, 179, 803, 8, 7187, 491, 104, 545, 37, 190, 60, 376, 1693, 1310, 106, 60, 27], [7188, 560, 45, 8, 45, 1495, 7189, 460, 1244, 2850, 934], [7190, 1262, 2845, 7191, 430, 7192, 27, 1782], [51, 1, 305, 246, 7193, 178, 36, 89, 9], [30, 1051, 198, 2522, 51, 1142, 688, 17, 1634, 397, 15, 164, 17], [1, 23, 5, 359, 124, 2, 135, 450, 323], [778, 369, 815, 1213, 448, 1, 326, 435, 101, 48, 44], [21, 1, 795, 7194, 62], [471, 2106, 7195, 320, 456, 277, 120, 64, 2745], [1, 1434, 282, 427, 2791, 996, 7196, 69, 447, 422, 138, 688, 1722, 7197, 4], [1379, 712, 907, 7198, 7199, 7200, 551, 255, 279, 671, 7201, 110, 7202, 55, 89], [7203, 1763, 337, 247, 318, 1373, 126, 582, 7204, 7205, 1746], [8, 60, 51, 7206, 1, 295, 7207], [222, 2, 996, 547, 7208, 41, 528, 7209, 73, 7210, 528, 447, 1639], [24, 114, 1323, 1795, 2857, 729, 39, 1795, 2857, 7211, 1350, 7212, 1350, 1795], [8, 2526, 40], [315, 1604, 870, 103], [850, 1070, 7213, 71, 329, 40, 798], [9, 102, 101, 404, 69, 229, 1362, 374, 985, 50, 1778, 2751], [399, 7214, 156, 34, 1, 506, 1767, 259, 61, 347, 71, 55, 2806], [67, 829, 1692, 258, 214, 80, 5], [10, 7215, 7216, 7217, 1770, 758, 1283, 7218, 7219, 2738, 3, 7220, 1967, 28, 20, 7221], [8, 2, 7222, 353, 7223, 1, 663, 2290, 810, 1, 53, 392, 933], [137, 443, 900, 634, 10, 130], [78, 183, 1, 153, 7224, 2847], [1, 58, 753, 464, 22, 584, 284, 139, 1794], [21, 7225, 775, 709, 7226, 415, 7227, 1792, 7228, 415, 2047], [691, 143, 229, 157, 1490, 7229, 94, 90, 219, 2697, 263, 149], [575, 725, 1344, 86, 109, 7230, 1226, 7231, 226, 50, 7232, 132], [148, 2164, 767, 755, 767, 84, 561, 2165, 2166, 569, 2167, 929], [18, 2502, 258, 7233], [24, 85, 13, 38, 263, 2, 2843, 25, 295, 46, 576], [1352, 7234, 2792, 185, 73, 1, 155, 40, 7235, 7236, 873, 1, 49, 7237], [834, 192, 40, 2343], [2499, 167, 7238], [2, 48, 1, 129, 68, 663, 1509, 2285, 1760, 2623, 287, 1, 14, 7239], [46, 569, 174, 7240], [46, 8, 84, 7241, 2136, 1, 6, 891], [120, 172, 7242, 7243, 7244, 505, 622, 668], [517, 15, 444, 6, 7245, 2365, 7246, 156, 15, 72, 474, 244], [214, 2837, 2493, 45, 1680, 22, 7247, 1093], [152, 114, 479, 42, 182, 210, 87, 142, 715, 417, 149, 2797, 210, 2115, 7248, 183], [1, 85, 74, 12, 307, 38, 1, 789, 2157, 7249, 490, 13, 53, 136, 455, 18], [2250, 7250, 11], [466, 235, 532, 73, 19, 2858, 19, 1829], [982, 2132, 277, 1, 1009, 34, 2706, 798, 7251], [95, 351, 19, 246, 79, 263, 1754, 1755, 610, 226], [95, 1980, 1, 6, 2404, 1, 598, 250, 1270, 131, 6, 325, 7252], [7253, 153, 7254, 353, 7255], [24, 13, 1024, 665, 117, 1764, 1197, 7256, 4, 1227, 989, 398, 665, 7257, 884, 2656], [342, 134, 2858, 7258, 1488, 142, 884, 1852, 1687, 7259], [26, 1, 16, 71, 7260, 1506, 77, 1, 29, 220, 474, 77, 6, 7261], [1, 16, 1583, 220, 1157, 325, 1670, 348, 655, 7262, 7263, 132, 2859, 1, 7264], [680, 292, 761, 486, 7265, 176, 385, 7266, 7267, 2618, 7268, 7269, 7270, 7271], [2601, 24, 422, 1, 96, 700, 36, 35], [80, 1990, 186, 274, 1, 213, 568, 2704, 1, 17, 44], [1, 83, 1, 1053, 49, 2860, 7272, 7273, 1140, 483, 7274, 2541, 275, 6, 2860, 392], [26, 123, 45, 801, 1191, 61, 1071, 1524], [24, 23, 168, 344, 15, 88, 144, 7275, 2859, 7276, 348, 2723, 7277, 125, 12, 1, 2325], [1, 722, 1, 1138, 18, 1580], [3, 156, 2443, 301, 1, 408, 149, 7278, 2861, 560, 7279, 1738, 846, 1221, 7280], [46, 2564, 165, 1, 462, 774, 11], [880, 7281, 1466, 953, 7282, 7, 196, 661], [9, 1774, 364, 465], [1750, 319, 5, 557, 2788, 603, 7283, 5, 557, 7284], [653, 124, 7285, 1005, 924, 7286, 3, 311, 986, 7287, 2652], [8, 73, 2803, 90, 73, 1, 23, 1, 107, 4, 737, 393, 1459, 633, 73, 7288, 2848], [865, 420, 9, 930, 151, 1287, 69, 7289, 118, 232], [307, 1159, 2814, 500, 1176, 7290, 2767, 412, 1231, 17, 367, 477, 7291, 1191, 442, 9], [7292], [3, 448, 7293, 121, 6, 93, 600], [178, 695, 110, 10, 444, 180, 7294, 809, 596], [57, 94, 599, 370, 115, 1563, 7295, 57, 630, 668, 2531], [1, 13, 274, 951, 677, 1, 173, 118, 1501, 378, 7296, 537, 22, 5, 7297], [97, 137, 100, 1559], [35, 60, 7298, 27, 4, 128, 7299, 7300, 454, 1327, 7301, 197, 60, 176, 385, 1433, 696, 2013, 1366, 1438, 2012], [3, 82, 27, 257, 976, 1600, 440, 106, 75, 2123, 63, 35, 79], [52, 1, 173, 178, 1015, 945, 2, 27, 35, 48, 1, 37, 16, 220, 2, 7302], [90, 630, 218], [939, 1, 7303, 1, 175, 1, 7304, 7305], [115, 2, 486, 7306, 1368, 1447], [227, 345, 15, 219, 116, 1130, 15, 6, 661, 124, 951, 7307], [2717, 2358, 327, 7308], [186, 7309, 7310, 88, 534, 329, 1, 105, 7311, 438, 1034, 278], [7312, 127, 7313, 179, 1244, 7314, 434, 2417, 1254, 195, 451, 7315, 216, 1025], [25, 1777, 18, 1680, 1, 7316, 199, 7317, 142, 199, 1624, 7318], [111, 1184, 469, 216, 2078, 7319, 7320, 7321, 7322, 1614, 33, 494], [2862, 2863, 222, 2, 7323, 7324, 2862, 2863, 777, 533, 7325, 7326, 1784, 952], [115, 70, 719, 11, 2, 7327, 1010, 7328, 2861], [520, 222, 2, 608, 294, 7329]]'"
            ]
          },
          "metadata": {},
          "execution_count": 49
        }
      ]
    },
    {
      "cell_type": "code",
      "metadata": {
        "colab": {
          "base_uri": "https://localhost:8080/"
        },
        "id": "r8GGfAc7pb_r",
        "outputId": "f67e82a5-c14e-401a-ddad-05de4102f83e"
      },
      "source": [
        "#Pad sequences all to the same length of 140 words.\n",
        "data_60 = pad_sequences(sequences_60, maxlen=140)\n",
        "y=final_data.iloc[:,6]\n",
        "y=np.asarray(y_train)\n",
        "print(data_60)\n",
        "print('Shape of data_d tensor:', data_60.shape)\n",
        "print('shape of label sensor', y.shape)"
      ],
      "execution_count": null,
      "outputs": [
        {
          "output_type": "stream",
          "name": "stdout",
          "text": [
            "[[   0    0    0 ...    0  226  501]\n",
            " [   0    0    0 ...  330  502  103]\n",
            " [   0    0    0 ...  585    1   10]\n",
            " ...\n",
            " [   0    0    0 ... 7326 1784  952]\n",
            " [   0    0    0 ... 1010 7328 2861]\n",
            " [   0    0    0 ...  608  294 7329]]\n",
            "Shape of data_d tensor: (2762, 140)\n",
            "shape of label sensor (2762,)\n"
          ]
        }
      ]
    },
    {
      "cell_type": "code",
      "source": [
        "data_train"
      ],
      "metadata": {
        "colab": {
          "base_uri": "https://localhost:8080/"
        },
        "id": "9u4fMK19UQsI",
        "outputId": "9bace4e8-e31d-49a3-e50c-7c63f2fb76cc"
      },
      "execution_count": null,
      "outputs": [
        {
          "output_type": "execute_result",
          "data": {
            "text/plain": [
              "array([ 211, 2419,  179, ..., 1972, 1816, 1917])"
            ]
          },
          "metadata": {},
          "execution_count": 29
        }
      ]
    },
    {
      "cell_type": "code",
      "source": [],
      "metadata": {
        "id": "iy02LFDgMpWp"
      },
      "execution_count": null,
      "outputs": []
    },
    {
      "cell_type": "code",
      "source": [
        "data_train[0]"
      ],
      "metadata": {
        "colab": {
          "base_uri": "https://localhost:8080/"
        },
        "id": "d-GeGaSoRWEg",
        "outputId": "cbb1defd-c064-4b4b-bb51-5c0d362513b5"
      },
      "execution_count": null,
      "outputs": [
        {
          "output_type": "execute_result",
          "data": {
            "text/plain": [
              "280"
            ]
          },
          "metadata": {},
          "execution_count": 93
        }
      ]
    },
    {
      "cell_type": "markdown",
      "metadata": {
        "id": "KI7ojBlev4_1"
      },
      "source": [
        "Embedding Matrix\n",
        "The embedding matrix is a n x m matrix where n is the number of words and m is the dimension of the embedding. In this case, m=300 and n=11096. We take the min between the number of unique words in our tokenizer and max words in case there are less unique words than the max we specified. Length 100–300 dimensions. This range of vector sizes for the embeddings were shown in the glove paper to be the range with the most useful results."
      ]
    },
    {
      "cell_type": "code",
      "metadata": {
        "id": "nC7VBhNxq4RA"
      },
      "source": [
        "#Load Pretrained Word2Vec Model\n",
        "EMBEDDING_FILE= '/content/drive/MyDrive/GoogleNews-vectors-negative300.bin'\n",
        "word2vec = KeyedVectors.load_word2vec_format(EMBEDDING_FILE, binary=True)"
      ],
      "execution_count": null,
      "outputs": []
    },
    {
      "cell_type": "code",
      "metadata": {
        "id": "CmF4nLDj5bFt",
        "colab": {
          "base_uri": "https://localhost:8080/"
        },
        "outputId": "2ce7b5d3-c527-4fca-945a-dbff9bb5b5cb"
      },
      "source": [
        "#Embedding matrix\n",
        "nb_words = min(MAX_NB_WORDS, len(word_index))\n",
        "nb_words=nb_words+1\n",
        "skipped_words=0\n",
        "\n",
        "\n",
        "embedding_matrix = np.zeros((nb_words, EMBEDDING_DIM))\n",
        "\n",
        "for word, idx in word_index.items():\n",
        "  try:\n",
        "    embedding_vector=word2vec [word]\n",
        "  except:\n",
        "    skipped_words=skipped_words+1\n",
        "    pass\n",
        "    #if word in word2vec.vocab and idx < nb_words :\n",
        "        #embedding_matrix[idx] = word2vec.word_vec(word)\n",
        "  if embedding_vector is not None:\n",
        "    embedding_matrix[idx]=embedding_vector\n",
        "print(embedding_matrix.shape)"
      ],
      "execution_count": null,
      "outputs": [
        {
          "output_type": "stream",
          "name": "stdout",
          "text": [
            "(7330, 300)\n"
          ]
        }
      ]
    },
    {
      "cell_type": "code",
      "metadata": {
        "id": "CMTntcyB6Kia",
        "colab": {
          "base_uri": "https://localhost:8080/"
        },
        "outputId": "77b89a95-b252-4a4a-8244-75a3be170570"
      },
      "source": [
        "print(embedding_matrix)\n",
        "print(\"shape\",embedding_matrix.shape)"
      ],
      "execution_count": null,
      "outputs": [
        {
          "output_type": "stream",
          "name": "stdout",
          "text": [
            "[[ 0.          0.          0.         ...  0.          0.\n",
            "   0.        ]\n",
            " [-0.22558594 -0.01953125  0.09082031 ...  0.02819824 -0.17773438\n",
            "  -0.00604248]\n",
            " [ 0.10351562  0.13769531 -0.00297546 ...  0.04394531 -0.14550781\n",
            "   0.07128906]\n",
            " ...\n",
            " [-0.05712891  0.37304688  0.09570312 ...  0.0534668  -0.06445312\n",
            "   0.33398438]\n",
            " [-0.24414062  0.19238281  0.08935547 ...  0.17480469 -0.08789062\n",
            "  -0.27734375]\n",
            " [ 0.18652344  0.12597656 -0.03491211 ... -0.10107422  0.14257812\n",
            "  -0.37890625]]\n",
            "shape (7330, 300)\n"
          ]
        }
      ]
    },
    {
      "cell_type": "code",
      "source": [
        "embedding_matrix[3]-word2vec.wv['the']"
      ],
      "metadata": {
        "colab": {
          "base_uri": "https://localhost:8080/"
        },
        "id": "RTL9d06DQ2w-",
        "outputId": "025ebd59-1578-413b-8501-eb7cf4ece788"
      },
      "execution_count": null,
      "outputs": [
        {
          "output_type": "stream",
          "name": "stderr",
          "text": [
            "/usr/local/lib/python3.7/dist-packages/ipykernel_launcher.py:1: DeprecationWarning: Call to deprecated `wv` (Attribute will be removed in 4.0.0, use self instead).\n",
            "  \"\"\"Entry point for launching an IPython kernel.\n"
          ]
        },
        {
          "output_type": "execute_result",
          "data": {
            "text/plain": [
              "array([0., 0., 0., 0., 0., 0., 0., 0., 0., 0., 0., 0., 0., 0., 0., 0., 0.,\n",
              "       0., 0., 0., 0., 0., 0., 0., 0., 0., 0., 0., 0., 0., 0., 0., 0., 0.,\n",
              "       0., 0., 0., 0., 0., 0., 0., 0., 0., 0., 0., 0., 0., 0., 0., 0., 0.,\n",
              "       0., 0., 0., 0., 0., 0., 0., 0., 0., 0., 0., 0., 0., 0., 0., 0., 0.,\n",
              "       0., 0., 0., 0., 0., 0., 0., 0., 0., 0., 0., 0., 0., 0., 0., 0., 0.,\n",
              "       0., 0., 0., 0., 0., 0., 0., 0., 0., 0., 0., 0., 0., 0., 0., 0., 0.,\n",
              "       0., 0., 0., 0., 0., 0., 0., 0., 0., 0., 0., 0., 0., 0., 0., 0., 0.,\n",
              "       0., 0., 0., 0., 0., 0., 0., 0., 0., 0., 0., 0., 0., 0., 0., 0., 0.,\n",
              "       0., 0., 0., 0., 0., 0., 0., 0., 0., 0., 0., 0., 0., 0., 0., 0., 0.,\n",
              "       0., 0., 0., 0., 0., 0., 0., 0., 0., 0., 0., 0., 0., 0., 0., 0., 0.,\n",
              "       0., 0., 0., 0., 0., 0., 0., 0., 0., 0., 0., 0., 0., 0., 0., 0., 0.,\n",
              "       0., 0., 0., 0., 0., 0., 0., 0., 0., 0., 0., 0., 0., 0., 0., 0., 0.,\n",
              "       0., 0., 0., 0., 0., 0., 0., 0., 0., 0., 0., 0., 0., 0., 0., 0., 0.,\n",
              "       0., 0., 0., 0., 0., 0., 0., 0., 0., 0., 0., 0., 0., 0., 0., 0., 0.,\n",
              "       0., 0., 0., 0., 0., 0., 0., 0., 0., 0., 0., 0., 0., 0., 0., 0., 0.,\n",
              "       0., 0., 0., 0., 0., 0., 0., 0., 0., 0., 0., 0., 0., 0., 0., 0., 0.,\n",
              "       0., 0., 0., 0., 0., 0., 0., 0., 0., 0., 0., 0., 0., 0., 0., 0., 0.,\n",
              "       0., 0., 0., 0., 0., 0., 0., 0., 0., 0., 0.])"
            ]
          },
          "metadata": {},
          "execution_count": 56
        }
      ]
    },
    {
      "cell_type": "markdown",
      "metadata": {
        "id": "1kM-8kbJfUC-"
      },
      "source": [
        "Splitting and Formatting Data.\n",
        "60 users is spilt into both testing and traing in a ranfom format"
      ]
    },
    {
      "cell_type": "code",
      "metadata": {
        "id": "N8q6-JVqliTn"
      },
      "source": [
        "final_label= final_data.iloc[0:,6].values\n",
        "count=0\n",
        "for i in final_label:\n",
        "  if i==1:\n",
        "    count=count+1\n",
        ""
      ],
      "execution_count": null,
      "outputs": []
    },
    {
      "cell_type": "code",
      "metadata": {
        "colab": {
          "base_uri": "https://localhost:8080/"
        },
        "id": "FJMFuDMEp9CC",
        "outputId": "d5e267da-9328-4a48-e763-efbfcb9d5a6b"
      },
      "source": [
        "count"
      ],
      "execution_count": null,
      "outputs": [
        {
          "output_type": "execute_result",
          "data": {
            "text/plain": [
              "520"
            ]
          },
          "metadata": {},
          "execution_count": 28
        }
      ]
    },
    {
      "cell_type": "code",
      "source": [
        "X= final_data['Tweets']\n",
        "y=final_data['final label']\n"
      ],
      "metadata": {
        "id": "ORhmJEmUgwfc"
      },
      "execution_count": null,
      "outputs": []
    },
    {
      "cell_type": "code",
      "metadata": {
        "id": "lZPP8VRFtlTf"
      },
      "source": [
        "# create dataset\n",
        "#X, y = make_classification(n_samples=5522, weights=[0.906], flip_y=0, random_state=1)\n",
        "#print(Counter(y))\n"
      ],
      "execution_count": null,
      "outputs": []
    },
    {
      "cell_type": "code",
      "source": [
        "count1=0\n",
        "for i in y:\n",
        "  if y[i]==0:\n",
        "    count1=count1+1"
      ],
      "metadata": {
        "id": "9qebcZMJgvEI"
      },
      "execution_count": null,
      "outputs": []
    },
    {
      "cell_type": "code",
      "source": [
        "count1"
      ],
      "metadata": {
        "colab": {
          "base_uri": "https://localhost:8080/"
        },
        "id": "yZXzxF1zjL7l",
        "outputId": "679c6159-1c62-4fa4-fd53-0918ab764967"
      },
      "execution_count": null,
      "outputs": [
        {
          "output_type": "execute_result",
          "data": {
            "text/plain": [
              "520"
            ]
          },
          "metadata": {},
          "execution_count": 44
        }
      ]
    },
    {
      "cell_type": "code",
      "metadata": {
        "id": "bIaiytpttnla",
        "colab": {
          "base_uri": "https://localhost:8080/"
        },
        "outputId": "ef1bd78b-4be8-41ce-cc5f-6628cbdce7b5"
      },
      "source": [
        "# split into train test sets\n",
        "X1, X2, y1, y2 = train_test_split(X, y, test_size=0.50, random_state=1)\n",
        "print(Counter(y1))\n",
        "print(Counter(y2))"
      ],
      "execution_count": null,
      "outputs": [
        {
          "output_type": "stream",
          "name": "stdout",
          "text": [
            "Counter({0: 2479, 1: 283})\n",
            "Counter({0: 2525, 1: 237})\n"
          ]
        }
      ]
    },
    {
      "cell_type": "code",
      "source": [],
      "metadata": {
        "id": "ueHwUimeiJaq"
      },
      "execution_count": null,
      "outputs": []
    },
    {
      "cell_type": "code",
      "source": [
        "print(len(X1))\n",
        "print(len(y1))"
      ],
      "metadata": {
        "colab": {
          "base_uri": "https://localhost:8080/"
        },
        "id": "x5eojeGUD_gG",
        "outputId": "073c4b8d-c2ef-48d7-a56f-a6395f42ec19"
      },
      "execution_count": null,
      "outputs": [
        {
          "output_type": "stream",
          "name": "stdout",
          "text": [
            "2762\n",
            "2762\n"
          ]
        }
      ]
    },
    {
      "cell_type": "code",
      "source": [
        "X_train=np.array(X1)\n",
        "y_train=np.array(y1)\n"
      ],
      "metadata": {
        "id": "puR4bma_EcSl"
      },
      "execution_count": null,
      "outputs": []
    },
    {
      "cell_type": "code",
      "source": [
        "X_test=np.array(X2)\n",
        "y_test=np.array(y2)"
      ],
      "metadata": {
        "id": "ME9bL5dgEZWG"
      },
      "execution_count": null,
      "outputs": []
    },
    {
      "cell_type": "code",
      "source": [
        "count=0\n",
        "for i in y_test:\n",
        "  if y_test[i]==1:\n",
        "   count=count+1"
      ],
      "metadata": {
        "id": "EvJYv-RthyzT"
      },
      "execution_count": null,
      "outputs": []
    },
    {
      "cell_type": "code",
      "source": [
        "count"
      ],
      "metadata": {
        "colab": {
          "base_uri": "https://localhost:8080/"
        },
        "id": "7_ZuR84dh9Lv",
        "outputId": "2e09682b-cb7a-483b-c881-e7c062840b87"
      },
      "execution_count": null,
      "outputs": [
        {
          "output_type": "execute_result",
          "data": {
            "text/plain": [
              "0"
            ]
          },
          "metadata": {},
          "execution_count": 37
        }
      ]
    },
    {
      "cell_type": "markdown",
      "source": [
        "Building RNN Model"
      ],
      "metadata": {
        "id": "d9Av3uAk6iY9"
      }
    },
    {
      "cell_type": "code",
      "source": [
        "#create the embedding layer\n",
        "embedding_layer=Embedding(nb_words,EMBEDDING_DIM,weights=[embedding_matrix],input_length=MAX_SEQUENCE_LENGTH,trainable=False)\n",
        "\n"
      ],
      "metadata": {
        "id": "tvFAwrFA6ezE"
      },
      "execution_count": null,
      "outputs": []
    },
    {
      "cell_type": "markdown",
      "source": [],
      "metadata": {
        "id": "BdNLQTmYHgzH"
      }
    },
    {
      "cell_type": "markdown",
      "source": [],
      "metadata": {
        "id": "2GcUrue8RdCi"
      }
    },
    {
      "cell_type": "markdown",
      "source": [],
      "metadata": {
        "id": "rqLf1z7hRc8t"
      }
    },
    {
      "cell_type": "code",
      "source": [
        "from tensorflow.keras.models import *\n",
        "from tensorflow.keras.layers import *\n",
        "#define model\n",
        "model=Sequential()\n",
        "model.add(embedding_layer)\n",
        "model.add(SimpleRNN(128,activation='relu',return_sequences=True))\n",
        "model.add(SimpleRNN(256,activation='relu'))\n",
        "model.add(Dense(1,activation='sigmoid'))\n",
        "print(model.summary())\n"
      ],
      "metadata": {
        "colab": {
          "base_uri": "https://localhost:8080/"
        },
        "id": "_I3eePmO6e4l",
        "outputId": "276b7856-d127-4827-d3f2-af1b87d4b5a0"
      },
      "execution_count": null,
      "outputs": [
        {
          "output_type": "stream",
          "name": "stdout",
          "text": [
            "Model: \"sequential_1\"\n",
            "_________________________________________________________________\n",
            " Layer (type)                Output Shape              Param #   \n",
            "=================================================================\n",
            " embedding_1 (Embedding)     (None, 140, 300)          2199000   \n",
            "                                                                 \n",
            " simple_rnn_2 (SimpleRNN)    (None, 140, 128)          54912     \n",
            "                                                                 \n",
            " simple_rnn_3 (SimpleRNN)    (None, 256)               98560     \n",
            "                                                                 \n",
            " dense_1 (Dense)             (None, 1)                 257       \n",
            "                                                                 \n",
            "=================================================================\n",
            "Total params: 2,352,729\n",
            "Trainable params: 153,729\n",
            "Non-trainable params: 2,199,000\n",
            "_________________________________________________________________\n",
            "None\n"
          ]
        }
      ]
    },
    {
      "cell_type": "markdown",
      "source": [
        "Compiling"
      ],
      "metadata": {
        "id": "X-iihEHC9rat"
      }
    },
    {
      "cell_type": "code",
      "source": [
        "from keras.optimizers import *\n",
        "#compile network\n",
        "# = SGD(lr=0.001, decay=1e-6)\n",
        "model.compile(loss=\"binary_crossentropy\",metrics=['accuracy'])\n"
      ],
      "metadata": {
        "id": "kE0mz5uX6e7Y"
      },
      "execution_count": null,
      "outputs": []
    },
    {
      "cell_type": "code",
      "source": [
        "data_60.shape"
      ],
      "metadata": {
        "colab": {
          "base_uri": "https://localhost:8080/"
        },
        "id": "lMMp9wtNrlPS",
        "outputId": "f6eebfb0-f741-47a7-ba47-f0be68e68943"
      },
      "execution_count": null,
      "outputs": [
        {
          "output_type": "execute_result",
          "data": {
            "text/plain": [
              "(2762, 140)"
            ]
          },
          "metadata": {},
          "execution_count": 40
        }
      ]
    },
    {
      "cell_type": "code",
      "source": [
        "y_train"
      ],
      "metadata": {
        "colab": {
          "base_uri": "https://localhost:8080/"
        },
        "id": "-BbkAaJELj4x",
        "outputId": "2f99f71a-5e00-4861-e04e-bf089b516f1a"
      },
      "execution_count": null,
      "outputs": [
        {
          "output_type": "execute_result",
          "data": {
            "text/plain": [
              "array([0, 0, 0, ..., 0, 0, 0])"
            ]
          },
          "metadata": {},
          "execution_count": 122
        }
      ]
    },
    {
      "cell_type": "code",
      "source": [],
      "metadata": {
        "id": "z52vmEIVVhWF"
      },
      "execution_count": null,
      "outputs": []
    },
    {
      "cell_type": "code",
      "source": [
        "y_train[3565]"
      ],
      "metadata": {
        "colab": {
          "base_uri": "https://localhost:8080/"
        },
        "id": "hO4VEUULTwU3",
        "outputId": "ce97f6ff-d1aa-45a3-a2d5-4140bdba74ca"
      },
      "execution_count": null,
      "outputs": [
        {
          "output_type": "execute_result",
          "data": {
            "text/plain": [
              "1"
            ]
          },
          "metadata": {},
          "execution_count": 98
        }
      ]
    },
    {
      "cell_type": "code",
      "source": [
        "X_train[3225]"
      ],
      "metadata": {
        "colab": {
          "base_uri": "https://localhost:8080/",
          "height": 35
        },
        "id": "FNwQyq0FVBu-",
        "outputId": "95bec042-d775-4607-bb4b-e63ccca9b3ec"
      },
      "execution_count": null,
      "outputs": [
        {
          "output_type": "execute_result",
          "data": {
            "application/vnd.google.colaboratory.intrinsic+json": {
              "type": "string"
            },
            "text/plain": [
              "'Welcome to Vancouver @conhockey19 !!'"
            ]
          },
          "metadata": {},
          "execution_count": 100
        }
      ]
    },
    {
      "cell_type": "code",
      "source": [
        "y_train.shape"
      ],
      "metadata": {
        "colab": {
          "base_uri": "https://localhost:8080/"
        },
        "id": "0o8_f-GvrksA",
        "outputId": "e6b23865-c4e5-4286-e800-824fac194a9d"
      },
      "execution_count": null,
      "outputs": [
        {
          "output_type": "execute_result",
          "data": {
            "text/plain": [
              "(2762,)"
            ]
          },
          "metadata": {},
          "execution_count": 84
        }
      ]
    },
    {
      "cell_type": "code",
      "source": [
        "#fit model\n",
        "\n",
        "model.fit(data_60,y_train,epochs=1,verbose=1)"
      ],
      "metadata": {
        "colab": {
          "base_uri": "https://localhost:8080/",
          "height": 200
        },
        "id": "fnoFuegv6fAS",
        "outputId": "9295ee3c-16ba-49c6-8658-a92b9c748f01"
      },
      "execution_count": null,
      "outputs": [
        {
          "output_type": "error",
          "ename": "NameError",
          "evalue": "ignored",
          "traceback": [
            "\u001b[0;31m---------------------------------------------------------------------------\u001b[0m",
            "\u001b[0;31mNameError\u001b[0m                                 Traceback (most recent call last)",
            "\u001b[0;32m<ipython-input-1-3c185ca63f36>\u001b[0m in \u001b[0;36m<module>\u001b[0;34m()\u001b[0m\n\u001b[1;32m      1\u001b[0m \u001b[0;31m#fit model\u001b[0m\u001b[0;34m\u001b[0m\u001b[0;34m\u001b[0m\u001b[0;34m\u001b[0m\u001b[0m\n\u001b[1;32m      2\u001b[0m \u001b[0;34m\u001b[0m\u001b[0m\n\u001b[0;32m----> 3\u001b[0;31m \u001b[0mmodel\u001b[0m\u001b[0;34m.\u001b[0m\u001b[0mfit\u001b[0m\u001b[0;34m(\u001b[0m\u001b[0mdata_60\u001b[0m\u001b[0;34m,\u001b[0m\u001b[0my_train\u001b[0m\u001b[0;34m,\u001b[0m\u001b[0mepochs\u001b[0m\u001b[0;34m=\u001b[0m\u001b[0;36m1\u001b[0m\u001b[0;34m,\u001b[0m\u001b[0mverbose\u001b[0m\u001b[0;34m=\u001b[0m\u001b[0;36m1\u001b[0m\u001b[0;34m)\u001b[0m\u001b[0;34m\u001b[0m\u001b[0;34m\u001b[0m\u001b[0m\n\u001b[0m",
            "\u001b[0;31mNameError\u001b[0m: name 'model' is not defined"
          ]
        }
      ]
    },
    {
      "cell_type": "markdown",
      "source": [
        "Preprocessing testing dataset"
      ],
      "metadata": {
        "id": "SydmCZq3JJ5L"
      }
    },
    {
      "cell_type": "code",
      "source": [
        "test_set =clean_tweets(X_test)"
      ],
      "metadata": {
        "id": "xee9RVwI6fDM"
      },
      "execution_count": null,
      "outputs": []
    },
    {
      "cell_type": "code",
      "source": [
        "tokenizer = Tokenizer(num_words=MAX_NB_WORDS)\n",
        "tokenizer.fit_on_texts(test_set)\n",
        "#Applying the tokenizer to 60 users tweets.\n",
        "sequences_test = tokenizer.texts_to_sequences(test_set)\n",
        "test_60 = pad_sequences(sequences_60, maxlen=MAX_SEQUENCE_LENGTH)\n",
        "\n"
      ],
      "metadata": {
        "id": "zdOYn52wKQBD"
      },
      "execution_count": null,
      "outputs": []
    },
    {
      "cell_type": "code",
      "source": [
        "X_test"
      ],
      "metadata": {
        "id": "x5toIM4ULFwe",
        "colab": {
          "base_uri": "https://localhost:8080/"
        },
        "outputId": "69956215-d31c-413a-e7b5-e8509aa8b4e5"
      },
      "execution_count": null,
      "outputs": [
        {
          "output_type": "execute_result",
          "data": {
            "text/plain": [
              "array(['WCS Stars Choir with a stellar performance at @Telemiracle this morning. Making Weyburn proud.',\n",
              "       'My wildflowers are blooming 😍',\n",
              "       'Dear @Shedoesthecity, I LOVE ALL THESE SHOWS! Help me hibernate this winter with @HBOCanada gift set. #HBOHoliday2015',\n",
              "       ..., 'Wanderlust- the desire to travel',\n",
              "       '\"Leadership is the art of getting someone else to do something you want done because he wants to do it.\" ~ Dwight D. Eisenhower',\n",
              "       'Phew! I am on week 2 of #PiYo and loving it! I cannot wait to see the results in 6 weeks time~ #workinghard #beachbody'],\n",
              "      dtype=object)"
            ]
          },
          "metadata": {},
          "execution_count": 47
        }
      ]
    },
    {
      "cell_type": "code",
      "source": [],
      "metadata": {
        "id": "jtqFshn6Mmvf"
      },
      "execution_count": null,
      "outputs": []
    },
    {
      "cell_type": "code",
      "source": [
        "pred=model.predict(test_60, batch_size=40)"
      ],
      "metadata": {
        "id": "sWLR1ktx6fGk"
      },
      "execution_count": null,
      "outputs": []
    },
    {
      "cell_type": "markdown",
      "source": [],
      "metadata": {
        "id": "H7XewYXrdZPq"
      }
    },
    {
      "cell_type": "code",
      "source": [
        "from sklearn.metrics import  classification_report, confusion_matrix, accuracy_score\n",
        "labels_pred = np.round(pred.flatten())\n",
        "accuracy = accuracy_score(y_test, labels_pred)\n",
        "print(\"Accuracy: %.2f%%\" % (accuracy*100))"
      ],
      "metadata": {
        "id": "iDFq8vJ16fKS",
        "colab": {
          "base_uri": "https://localhost:8080/"
        },
        "outputId": "5ac73c90-669a-42c7-d86d-5a0c62aa1bbc"
      },
      "execution_count": null,
      "outputs": [
        {
          "output_type": "stream",
          "name": "stdout",
          "text": [
            "Accuracy: 91.42%\n"
          ]
        }
      ]
    },
    {
      "cell_type": "code",
      "source": [],
      "metadata": {
        "id": "8u9u9w1-6fM6"
      },
      "execution_count": null,
      "outputs": []
    },
    {
      "cell_type": "code",
      "source": [],
      "metadata": {
        "id": "GEBOLoOx6fPj"
      },
      "execution_count": null,
      "outputs": []
    },
    {
      "cell_type": "markdown",
      "source": [
        "Building Model (LSTM + CNN)\n",
        "The model takes in an input and then outputs a single number representing the probability that the tweet indicates depression. The model takes in each input sentence, replace it with it's embeddings, then run the new embedding vector through a convolutional layer. CNNs are excellent at learning spatial structure from data, the convolutional layer takes advantage of that and learn some structure from the sequential data then pass into a standard LSTM layer. Last but not least, the output of the LSTM layer is fed into a standard Dense model for prediction."
      ],
      "metadata": {
        "id": "4frA7xgo0ud8"
      }
    },
    {
      "cell_type": "code",
      "source": [
        "model1 = Sequential()\n",
        "# Embedded layer\n",
        "model1.add(Embedding(len(embedding_matrix), EMBEDDING_DIM, weights=[embedding_matrix],\n",
        "                            input_length=MAX_SEQUENCE_LENGTH, trainable=False))\n",
        "# Convolutional Layer\n",
        "model1.add(Conv1D(filters=32, kernel_size=3, padding='same', activation='relu'))\n",
        "model1.add(MaxPooling1D(pool_size=2,strides=None, padding=\"valid\", data_format=\"channels_last\"))\n",
        "model1.add(Dropout(0.2))\n",
        "# LSTM Layer\n",
        "model1.add(LSTM(300))\n",
        "model1.add(Dropout(0.2))\n",
        "model1.add(Dense(1, activation='sigmoid'))"
      ],
      "metadata": {
        "id": "zLKJkXZ70KoN"
      },
      "execution_count": null,
      "outputs": []
    },
    {
      "cell_type": "code",
      "source": [
        "model1.compile(loss='binary_crossentropy', optimizer='nadam', metrics=['acc'])\n",
        "print(model.summary())"
      ],
      "metadata": {
        "colab": {
          "base_uri": "https://localhost:8080/"
        },
        "id": "Y7qbafUK1mhu",
        "outputId": "ed8d998b-d73c-4b36-cf1e-5cdc30caeb51"
      },
      "execution_count": null,
      "outputs": [
        {
          "output_type": "stream",
          "name": "stdout",
          "text": [
            "Model: \"sequential_2\"\n",
            "_________________________________________________________________\n",
            " Layer (type)                Output Shape              Param #   \n",
            "=================================================================\n",
            " embedding_2 (Embedding)     (None, 140, 300)          2199000   \n",
            "                                                                 \n",
            " conv1d (Conv1D)             (None, 140, 32)           28832     \n",
            "                                                                 \n",
            " max_pooling1d (MaxPooling1D  (None, 70, 32)           0         \n",
            " )                                                               \n",
            "                                                                 \n",
            " dropout (Dropout)           (None, 70, 32)            0         \n",
            "                                                                 \n",
            " lstm (LSTM)                 (None, 300)               399600    \n",
            "                                                                 \n",
            " dropout_1 (Dropout)         (None, 300)               0         \n",
            "                                                                 \n",
            " dense_2 (Dense)             (None, 1)                 301       \n",
            "                                                                 \n",
            "=================================================================\n",
            "Total params: 2,627,733\n",
            "Trainable params: 428,733\n",
            "Non-trainable params: 2,199,000\n",
            "_________________________________________________________________\n",
            "None\n"
          ]
        }
      ]
    },
    {
      "cell_type": "markdown",
      "source": [
        "Training the Model\n",
        "The model is trained EPOCHS time, and Early Stopping argument is used to end training if the loss or accuracy don't improve within 3 epochs."
      ],
      "metadata": {
        "id": "m3oE5CPX2Beh"
      }
    },
    {
      "cell_type": "code",
      "source": [
        "#early_stop = EarlyStopping(monitor='val_loss', patience=3)\n",
        "\n",
        "model1.fit(data_60, y_train ,epochs=1)\n",
        ""
      ],
      "metadata": {
        "colab": {
          "base_uri": "https://localhost:8080/"
        },
        "id": "NUZz0lv31y28",
        "outputId": "45b05c46-b82c-41c1-d044-7a77140239e6"
      },
      "execution_count": null,
      "outputs": [
        {
          "output_type": "stream",
          "name": "stdout",
          "text": [
            "87/87 [==============================] - 27s 277ms/step - loss: 0.3476 - acc: 0.8921\n"
          ]
        },
        {
          "output_type": "execute_result",
          "data": {
            "text/plain": [
              "<keras.callbacks.History at 0x7fc5db10dc10>"
            ]
          },
          "metadata": {},
          "execution_count": 78
        }
      ]
    },
    {
      "cell_type": "code",
      "source": [
        "pred1=model1.predict(test_60 , batch_size=40)"
      ],
      "metadata": {
        "id": "OKfIOFnhHuVv"
      },
      "execution_count": null,
      "outputs": []
    },
    {
      "cell_type": "code",
      "source": [
        "from sklearn.metrics import  classification_report, confusion_matrix, accuracy_score\n",
        "labels_pred1 = np.round(pred1.flatten())\n",
        "accuracy = accuracy_score(y_test, labels_pred1)\n",
        "print(\"Accuracy: %.2f%%\" % (accuracy*100))"
      ],
      "metadata": {
        "colab": {
          "base_uri": "https://localhost:8080/"
        },
        "id": "epkFEvA2faDF",
        "outputId": "b840c3f3-e8ac-469f-e5ff-f1fbbbe0390d"
      },
      "execution_count": null,
      "outputs": [
        {
          "output_type": "stream",
          "name": "stdout",
          "text": [
            "Accuracy: 91.42%\n"
          ]
        }
      ]
    }
  ]
}